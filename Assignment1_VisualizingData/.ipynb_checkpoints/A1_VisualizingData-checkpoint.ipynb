{
 "cells": [
  {
   "cell_type": "markdown",
   "metadata": {},
   "source": [
    "**Course**: Data Visualization (Prof. Dr. Heike Leitte, Luisa Vollmer, RPTU Kaiserslautern),   **Name**: XXX XXX,   **Date**: DD.MM.YYYY"
   ]
  },
  {
   "cell_type": "markdown",
   "metadata": {},
   "source": [
    "<div class=\"alert alert-info\">\n",
    "    \n",
    "# Assignment 1 - Visualizing Data\n",
    "</div>\n",
    "\n",
    "The **goals** of the first assignment are:\n",
    "- Get familiar with python programming in the jupyter notebook;\n",
    "- Be able to create a data visualization using bokeh;\n",
    "- Recreate an existing visualization and develop an eye for key features;\n",
    "- Start critical thinking about design options;\n",
    "\n",
    "\n",
    "\n",
    "To achieve these goals, your task is to create a visualization of the weather in Kaiserslautern in 2018. The visualization should be similar to the following chart from the New York Times (Jan. 11, 1981, p. 32; Tufte (1983), p. 30) and needs to be implemented in bokeh+pandas:\n",
    "\n",
    "![New York city's weather for 1980 from the New York Times](http://euclid.psych.yorku.ca/SCS/Gallery/images/NYweather.jpg)\n",
    "\n",
    "\n",
    "<div class=\"alert alert-danger\">\n",
    "\n",
    "**Important**: While no points will be awarded for typing the correct answers in the notebooks, it is highly advised to solve the tasks thoroughly. They are designed to be encouraging and provide you with valuable learnings for the exam, understanding of the methods and practical coding. It is mandatory to upload a jupyter notebook with your best attempt in the questionnaire. Uploading the notebook without any changes to the code is not sufficient. \n",
    "</div>\n",
    "\n",
    "<div class=\"alert alert-success\">\n",
    "    \n",
    "All tasks in this notebook are marked in green.\n",
    "</div>"
   ]
  },
  {
   "cell_type": "markdown",
   "metadata": {},
   "source": [
    "<div class=\"alert alert-info\">\n",
    "    \n",
    "## 1. Starter Code - Minimal working example\n",
    "</div>\n",
    "\n",
    "The following pieces of code load the data for this assignment and generate a minimal chart for the temperature data. More details can be found in the [bokeh documentation](https://docs.bokeh.org/en/latest/docs/user_guide/quickstart.html).\n",
    "\n",
    "First load all necessary python modules:"
   ]
  },
  {
   "cell_type": "code",
   "execution_count": null,
   "metadata": {},
   "outputs": [],
   "source": [
    "import pandas as pd\n",
    "\n",
    "from bokeh.plotting import figure, output_notebook, show\n",
    "from bokeh.models import Band, ColumnDataSource, PrintfTickFormatter, DatetimeTickFormatter, Label\n",
    "from bokeh.layouts import column\n",
    "from bokeh.models.tickers import MonthsTicker\n",
    "\n",
    "output_notebook()"
   ]
  },
  {
   "cell_type": "markdown",
   "metadata": {},
   "source": [
    "Load the data given in csv-file format using the pandas library and display the first lines of the data table."
   ]
  },
  {
   "cell_type": "code",
   "execution_count": null,
   "metadata": {},
   "outputs": [],
   "source": [
    "df_kl = pd.read_csv('KLweather2018.csv', parse_dates=['Timestamp'], index_col='Timestamp')\n",
    "df_kl_prec = pd.read_csv('KLweather2018_monthlyPrecipitation.csv', parse_dates=['Timestamp'], index_col='Timestamp')\n",
    "\n",
    "df_kl.head()"
   ]
  },
  {
   "cell_type": "markdown",
   "metadata": {},
   "source": [
    "Plot the temperature minimum as a line chart with bokeh using default settings. "
   ]
  },
  {
   "cell_type": "code",
   "execution_count": null,
   "metadata": {},
   "outputs": [],
   "source": [
    "# create a figure\n",
    "p = figure(height=400, x_axis_type=\"datetime\")\n",
    "\n",
    "# define the type of glyph that is rendered and its data. here: a polyline\n",
    "p.line(source=df_kl, x='Timestamp', y='temp_min')\n",
    "\n",
    "# render the chart\n",
    "show(p)"
   ]
  },
  {
   "cell_type": "markdown",
   "metadata": {},
   "source": [
    "<div class=\"alert alert-info\">\n",
    "    \n",
    "## 2. Customizing the temperature chart\n",
    "</div>\n",
    "\n",
    "As detailed above, your visualization should look like a modern version of the one from the New York Times. This can be achieved by changing the graphical elements and styling visual properties. In the function below some elements are already changed. Update the code to make the temperature chart even more similar:\n",
    "\n",
    "<div class=\"alert alert-success\">\n",
    "    \n",
    "- Depict the normal high and low temperatures as polylines.\n",
    "- Label the two polylines. You may use the legend functionality.\n",
    "- Depict the daily temperature range as an area.\n",
    "- Label the x-axis.\n",
    "- Style visual attributes (color, line style) to your liking.\n",
    "    \n",
    "</div>\n",
    "\n",
    "Helpful ressources:\n",
    "- [Plotting with basic glyphs](https://docs.bokeh.org/en/latest/docs/user_guide/plotting.html) - Overview of glyph types that are implemented in bokeh; see the examples for all the graphical primitives that can be plotted directly.\n",
    "- [Styling visual attributes](https://docs.bokeh.org/en/latest/docs/user_guide/styling.html) - See styling options for chart elements"
   ]
  },
  {
   "cell_type": "code",
   "execution_count": null,
   "metadata": {},
   "outputs": [],
   "source": [
    "def create_temperature_chart(df, width=900):\n",
    "    '''Create a bokeh figure for temperature range and normal values.'''\n",
    "    \n",
    "    # create figure and data source\n",
    "    p = figure(width=width, height=400, title='Kaiserslautern\\'s Weather for 2018', tools=['xwheel_zoom'], \n",
    "           x_axis_type=\"datetime\", x_axis_location=\"above\", y_range=(-15,40))\n",
    "\n",
    "    source = ColumnDataSource(df)\n",
    "\n",
    "    # add graphical items\n",
    "    p.line(source=source, x='Timestamp', y='temp_max')\n",
    "\n",
    "    # mark min/max temperature\n",
    "\n",
    "    \n",
    "    # style visual attributes\n",
    "    p.xaxis.ticker = MonthsTicker(months=list(range(12))) \n",
    "    p.xgrid.ticker = MonthsTicker(months=list(range(12))) \n",
    "    p.xaxis.formatter=DatetimeTickFormatter(months=\"               %b\")\n",
    "    p.xaxis.major_label_text_align = 'right'\n",
    "    p.yaxis[0].formatter = PrintfTickFormatter(format=\"%2i°\")\n",
    "    p.yaxis.axis_label = \"Temperature [°C]\"\n",
    "    p.title.text_font_size = \"15pt\"\n",
    "    p.title.align = \"center\"\n",
    "    \n",
    "    return p\n",
    "\n",
    "p = create_temperature_chart(df_kl)\n",
    "show(p)"
   ]
  },
  {
   "cell_type": "markdown",
   "metadata": {},
   "source": [
    "<div class=\"alert alert-info\">\n",
    "    \n",
    "## 3. Filtering data and making annotations\n",
    "</div>\n",
    "\n",
    "The following piece of code demonstrates how to find maxima in a data column. Use this code to automatically find the highest and lowest temperature values in 2018 and place a mark in the chart above at these positions (e.g. circle the respective data points).\n",
    "\n",
    "<div class=\"alert alert-success\">\n",
    "    \n",
    "- Automatically filter the highest and lowest temperatures in Kaiserslautern in 2018.\n",
    "- Integrate the code in the chart computation method above and mark the two detected positions.\n",
    "- Add text labels to the positions. [Label documentation](https://docs.bokeh.org/en/latest/docs/user_guide/annotations.html#labels) for bokeh.\n",
    "    \n",
    "</div>"
   ]
  },
  {
   "cell_type": "code",
   "execution_count": null,
   "metadata": {},
   "outputs": [],
   "source": [
    "tmax_id = df_kl['temp_max'].idxmax()\n",
    "print(\"KL temperature maximum:\", tmax_id, df_kl.at[tmax_id,'temp_max'])"
   ]
  },
  {
   "cell_type": "markdown",
   "metadata": {},
   "source": [
    "<div class=\"alert alert-info\">\n",
    "\n",
    "## 4. Designing additional charts\n",
    "</div>\n",
    "\n",
    "Now design the charts for precipitation and relative humidity.\n",
    "\n",
    "<div class=\"alert alert-success\">\n",
    "    \n",
    "- Create the chart for precipitation. Design a bar chart using the hints below.\n",
    "- Create the chart for humidity.\n",
    "    \n",
    "</div>\n",
    "\n",
    "Hints for temporal x-axis:\n",
    "- **Width of bars**: The width is given milliseconds. In order to get the required scaling, you will need to specify the width like: `widthInDays = ndays*24*60*60*1000` (24 hours * 60 minutes * 60 seconds * 1000 milliseconds)\n",
    "- **Position of bars**: You can shift the bars using the dodge function `x=dodge('prec', value, range=p.x_range)`. Keep in mind that you need to define an appropriate `value` by which to shift the bar."
   ]
  },
  {
   "cell_type": "code",
   "execution_count": null,
   "metadata": {},
   "outputs": [],
   "source": [
    "def create_precipitation_chart(df, width=900):\n",
    "    '''Create a bokeh figure for monthly precipitation (2018 vs normal values).'''\n",
    "    \n",
    "    p = figure(width=width, height=200, tools=['xwheel_zoom'], x_axis_type=\"datetime\")\n",
    "    p.line(source=df, x='Timestamp', y='prec')\n",
    "\n",
    "    return p\n",
    "\n",
    "show(create_precipitation_chart(df_kl_prec))"
   ]
  },
  {
   "cell_type": "code",
   "execution_count": null,
   "metadata": {},
   "outputs": [],
   "source": [
    "def create_humidity_chart(df, width=900):\n",
    "    '''Create a bokeh figure for relative humidity.'''\n",
    "    \n",
    "    p = figure(width=width, height=200, tools=['xwheel_zoom'], x_axis_type=\"datetime\")\n",
    "    p.line(source=df_kl, x='Timestamp', y='rel_humidity')\n",
    "    \n",
    "    return p\n",
    "\n",
    "show(create_humidity_chart(df_kl))"
   ]
  },
  {
   "cell_type": "markdown",
   "metadata": {},
   "source": [
    "<div class=\"alert alert-info\">\n",
    "    \n",
    "## 5. Combining multiple charts\n",
    "</div>\n",
    "\n",
    "In this last part, we combine the three charts you designed above.\n",
    "\n",
    "<div class=\"alert alert-success\">\n",
    "    \n",
    "- Create the combined weather chart for Kaiserslautern.\n",
    "- Save a jpg/png-version or screenshot of this chart that can be uploaded in OLAT.\n",
    "    \n",
    "</div>"
   ]
  },
  {
   "cell_type": "code",
   "execution_count": null,
   "metadata": {},
   "outputs": [],
   "source": [
    "show(column(create_temperature_chart(df_kl), create_precipitation_chart(df_kl_prec),create_humidity_chart(df_kl)))"
   ]
  },
  {
   "cell_type": "code",
   "execution_count": null,
   "metadata": {},
   "outputs": [],
   "source": []
  }
 ],
 "metadata": {
  "kernelspec": {
   "display_name": "Python 3",
   "language": "python",
   "name": "python3"
  },
  "language_info": {
   "codemirror_mode": {
    "name": "ipython",
    "version": 3
   },
   "file_extension": ".py",
   "mimetype": "text/x-python",
   "name": "python",
   "nbconvert_exporter": "python",
   "pygments_lexer": "ipython3",
   "version": "3.10.13"
  }
 },
 "nbformat": 4,
 "nbformat_minor": 4
}
