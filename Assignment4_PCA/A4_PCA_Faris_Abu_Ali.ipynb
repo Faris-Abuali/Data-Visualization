{
  "cells": [
    {
      "cell_type": "markdown",
      "metadata": {
        "id": "vfzmaN9_Ad15"
      },
      "source": [
        "**Course**: Data Visualization (Prof. Dr. Heike Leitte, Luisa Vollmer, RPTU Kaiserslautern),   **Name**: Faris Abu Ali,   **Date**: 08.01.2025"
      ]
    },
    {
      "cell_type": "markdown",
      "metadata": {
        "id": "nrX1sGW8Ad16"
      },
      "source": [
        "<div class=\"alert alert-info\">\n",
        "\n",
        "    \n",
        "# Assignment 4 - Principal Component Analysis (PCA)\n",
        "</div>\n",
        "\n",
        "\n",
        "### Outline and goals\n",
        "\n",
        "In the fourth assignment, we will explore a cars dataset using principal component analysis. Each car is described by 25 variables. The dataset contains six types of cars and we would like to understand how they are different. The goal of this assignment is that you are able to:\n",
        "- explore high-dimensional data with many variables\n",
        "- compute and interpret PCA\n",
        "- charactize groups in the PCA plot\n",
        "- find patterns and outliers in data with many variables\n",
        "\n",
        "<div class=\"alert alert-danger\">\n",
        "\n",
        "**Important**: While no points will be awarded for typing the correct answers in the notebooks, it is highly advised to solve the tasks thoroughly. They are designed to be encouraging and provide you with valuable learnings for the exam, understanding of the methods and practical coding.\n",
        "</div>\n",
        "\n",
        "<div class=\"alert alert-success\">\n",
        "    \n",
        "All tasks in this notebook are marked in green.\n",
        "</div>"
      ]
    },
    {
      "cell_type": "code",
      "execution_count": 254,
      "metadata": {
        "id": "XOBGaidqAd17"
      },
      "outputs": [],
      "source": [
        "import pandas as pd\n",
        "import numpy as np\n",
        "\n",
        "from sklearn.decomposition import PCA\n",
        "from sklearn.preprocessing import StandardScaler\n",
        "\n",
        "from bokeh.models import ColumnDataSource, ColorBar, LinearColorMapper, CategoricalColorMapper\n",
        "from bokeh.models import Arrow, NormalHead, LabelSet, Label\n",
        "from bokeh.plotting import figure, output_notebook, show\n",
        "from bokeh.palettes import Category10, Category20, Viridis\n",
        "from bokeh.transform import factor_cmap, linear_cmap\n",
        "from bokeh.io import export_png\n",
        "from bokeh.layouts import gridplot, row\n",
        "from bokeh.core.properties import value\n",
        "from bokeh.models.tickers import FixedTicker\n",
        "\n",
        "from math import pi\n",
        "\n",
        "output_notebook()"
      ]
    },
    {
      "cell_type": "markdown",
      "metadata": {
        "id": "wiDoDOjIAd18"
      },
      "source": [
        "<div class=\"alert alert-info\">\n",
        "    \n",
        "## 1. Load the 1993 cars dataset\n",
        "</div>\n",
        "\n",
        "First, we load the data and handle missing values. We ignore the variable LUGGAGE CAPACITY which has no information for vans and some missing values. We also drop two cars with missing values.\n",
        "\n",
        "Description of variables:\n",
        "- Manufacturer\n",
        "- Model\n",
        "- Type: Small, Sporty, Compact, Midsize, Large, Van\n",
        "- Minimum Price (in \\$1,000) - Price for basic version of this model\n",
        "- Midrange Price (in \\$1,000) - Average of Min and Max prices\n",
        "- Maximum Price (in \\$1,000) - Price for a premium version\n",
        "- City MPG (miles per gallon by EPA rating)\n",
        "- Highway MPG\n",
        "- Air Bags standard 0 = none, 1 = driver only, 2 = driver & passenger\n",
        "- Drive train type 0 = rear wheel drive 1 = front wheel drive 2 = all wheel drive\n",
        "- Number of cylinders\n",
        "- Engine size (liters)\n",
        "- Horsepower (maximum)\n",
        "- RPM (revs per minute at maximum horsepower)\n",
        "- Engine revolutions per mile (in highest gear)\n",
        "- Manual transmission available 0 = No, 1 = Yes\n",
        "- Fuel tank capacity (gallons)\n",
        "- Passenger capacity (persons)\n",
        "- Length (inches)\n",
        "- Wheelbase (inches)\n",
        "- Width (inches)\n",
        "- U-turn space (feet)\n",
        "- Rear seat room (inches)\n",
        "- Luggage capacity (cu. ft.)\n",
        "- Weight (pounds)\n",
        "- Domestic? 0 = non-U.S. manufacturer 1 = U.S. manufacturer"
      ]
    },
    {
      "cell_type": "code",
      "execution_count": 255,
      "metadata": {
        "colab": {
          "base_uri": "https://localhost:8080/"
        },
        "id": "phhNY1WBAd19",
        "outputId": "4d51f60e-da91-42a7-d134-17e759594e6a"
      },
      "outputs": [
        {
          "name": "stdout",
          "output_type": "stream",
          "text": [
            "size of input dataframe (93, 26)\n",
            "size after removing NaN (91, 25)\n",
            "variables in dataframe: ['Manufacturer', 'Model', 'Type', 'MinPrice', 'MidPrice', 'MaxPrice', 'CityMpg', 'HighwayMpg', 'AirBags', 'DriveTrainType', 'Cylinders', 'Engine', 'Horsepower', 'RPM', 'EngineRev', 'ManTrans', 'Tank', 'Passenger', 'Length', 'Wheelbase', 'Width', 'UTurn', 'RearSeatRoom', 'Weight', 'Domestic']\n"
          ]
        }
      ],
      "source": [
        "# load the data\n",
        "cars = pd.read_csv( '93cars.dat.csv', sep='\\s+', na_values='*')\n",
        "print(\"size of input dataframe\", cars.shape)\n",
        "\n",
        "\n",
        "# substitute missing values\n",
        "cars.drop(['LuggageCapacity'], axis=1, inplace=True)\n",
        "cars.dropna(inplace=True)\n",
        "cars.reset_index(inplace=True, drop=True)\n",
        "\n",
        "print(\"size after removing NaN\", cars.shape)\n",
        "print(\"variables in dataframe:\", list(cars))"
      ]
    },
    {
      "cell_type": "markdown",
      "metadata": {
        "id": "qB33BBPPAd19"
      },
      "source": [
        "First render the entire data using seaborn and its scatterplot matrix function. This may take very long and you have a pdf-export in your folder. No need to run this code, unless you would like to see it in the notebook and try."
      ]
    },
    {
      "cell_type": "code",
      "execution_count": 256,
      "metadata": {
        "id": "LEMhzvPYAd19"
      },
      "outputs": [],
      "source": [
        "import seaborn as sns\n",
        "\n",
        "# This could take a while\n",
        "# sns_plot = sns.pairplot(cars, hue=\"Type\")\n",
        "\n",
        "# uncomment to export plot\n",
        "#sns_plot.savefig(\"cars93_SPLOM.pdf\") # SPLOM = Scatter Plot Matrix"
      ]
    },
    {
      "cell_type": "markdown",
      "metadata": {
        "id": "7pLdiaCRAd1-"
      },
      "source": [
        "<div class=\"alert alert-info\">\n",
        "    \n",
        "## 2. Understand the variables\n",
        "</div>\n",
        "\n",
        "Each car is described by a long list of variables and analyzing them individually and pair-wise will take a long time. In this assignment we will first reduce the dimensionality of the dataset and then analyze it.\n",
        "\n",
        "### Explore scatterplot matrix\n",
        "\n",
        "<div class=\"alert alert-success\">\n",
        "    \n",
        "To understand the problem take a look at the scatterplot matrix provided in your data folder ([cars93_SPLOM.pdf](cars93_SPLOM.pdf)). What can you tell about small cars? (blue points, color legend is on the right) (no answer required and don't spend more than a few minutes)\n",
        "</div>\n",
        "\n",
        "### Explore correlation matrix\n",
        "\n",
        "Your first task is to find groups of variables that belong together and understand their connection.\n",
        "Therefore, we compute [linear correlation](https://pandas.pydata.org/pandas-docs/stable/reference/api/pandas.DataFrame.corr.html) as provided by pandas. As bokeh requires the input as a linear array, we also linearize the matrix."
      ]
    },
    {
      "cell_type": "code",
      "execution_count": 257,
      "metadata": {
        "colab": {
          "base_uri": "https://localhost:8080/",
          "height": 424
        },
        "id": "W8Z3i-tOAd1-",
        "outputId": "b7000f9f-07a1-4a33-c190-fee57ae58110"
      },
      "outputs": [
        {
          "data": {
            "application/vnd.google.colaboratory.intrinsic+json": {
              "summary": "{\n  \"name\": \"lin_corr\",\n  \"rows\": 484,\n  \"fields\": [\n    {\n      \"column\": \"index\",\n      \"properties\": {\n        \"dtype\": \"category\",\n        \"num_unique_values\": 22,\n        \"samples\": [\n          \"MinPrice\",\n          \"Tank\",\n          \"Engine\"\n        ],\n        \"semantic_type\": \"\",\n        \"description\": \"\"\n      }\n    },\n    {\n      \"column\": \"variable\",\n      \"properties\": {\n        \"dtype\": \"category\",\n        \"num_unique_values\": 22,\n        \"samples\": [\n          \"MinPrice\",\n          \"Tank\",\n          \"Engine\"\n        ],\n        \"semantic_type\": \"\",\n        \"description\": \"\"\n      }\n    },\n    {\n      \"column\": \"value\",\n      \"properties\": {\n        \"dtype\": \"number\",\n        \"std\": 0.5642341719202716,\n        \"min\": -0.8511400131721849,\n        \"max\": 1.0,\n        \"num_unique_values\": 232,\n        \"samples\": [\n          0.6672586006621597,\n          -0.6772485665067591,\n          0.7845889685883939\n        ],\n        \"semantic_type\": \"\",\n        \"description\": \"\"\n      }\n    },\n    {\n      \"column\": \"size\",\n      \"properties\": {\n        \"dtype\": \"number\",\n        \"std\": 4.205590831209568,\n        \"min\": 0.07226920591166901,\n        \"max\": 17.0,\n        \"num_unique_values\": 232,\n        \"samples\": [\n          11.343396211256715,\n          11.513225630614905,\n          13.338012466002697\n        ],\n        \"semantic_type\": \"\",\n        \"description\": \"\"\n      }\n    }\n  ]\n}",
              "type": "dataframe",
              "variable_name": "lin_corr"
            },
            "text/html": [
              "\n",
              "  <div id=\"df-4e5358d9-437b-42c0-805a-f86e4ef0842e\" class=\"colab-df-container\">\n",
              "    <div>\n",
              "<style scoped>\n",
              "    .dataframe tbody tr th:only-of-type {\n",
              "        vertical-align: middle;\n",
              "    }\n",
              "\n",
              "    .dataframe tbody tr th {\n",
              "        vertical-align: top;\n",
              "    }\n",
              "\n",
              "    .dataframe thead th {\n",
              "        text-align: right;\n",
              "    }\n",
              "</style>\n",
              "<table border=\"1\" class=\"dataframe\">\n",
              "  <thead>\n",
              "    <tr style=\"text-align: right;\">\n",
              "      <th></th>\n",
              "      <th>index</th>\n",
              "      <th>variable</th>\n",
              "      <th>value</th>\n",
              "      <th>size</th>\n",
              "    </tr>\n",
              "  </thead>\n",
              "  <tbody>\n",
              "    <tr>\n",
              "      <th>0</th>\n",
              "      <td>MinPrice</td>\n",
              "      <td>MinPrice</td>\n",
              "      <td>1.000000</td>\n",
              "      <td>17.000000</td>\n",
              "    </tr>\n",
              "    <tr>\n",
              "      <th>1</th>\n",
              "      <td>MidPrice</td>\n",
              "      <td>MinPrice</td>\n",
              "      <td>0.969497</td>\n",
              "      <td>16.481444</td>\n",
              "    </tr>\n",
              "    <tr>\n",
              "      <th>2</th>\n",
              "      <td>MaxPrice</td>\n",
              "      <td>MinPrice</td>\n",
              "      <td>0.904767</td>\n",
              "      <td>15.381047</td>\n",
              "    </tr>\n",
              "    <tr>\n",
              "      <th>3</th>\n",
              "      <td>CityMpg</td>\n",
              "      <td>MinPrice</td>\n",
              "      <td>-0.613667</td>\n",
              "      <td>10.432340</td>\n",
              "    </tr>\n",
              "    <tr>\n",
              "      <th>4</th>\n",
              "      <td>HighwayMpg</td>\n",
              "      <td>MinPrice</td>\n",
              "      <td>-0.574668</td>\n",
              "      <td>9.769355</td>\n",
              "    </tr>\n",
              "    <tr>\n",
              "      <th>...</th>\n",
              "      <td>...</td>\n",
              "      <td>...</td>\n",
              "      <td>...</td>\n",
              "      <td>...</td>\n",
              "    </tr>\n",
              "    <tr>\n",
              "      <th>479</th>\n",
              "      <td>Width</td>\n",
              "      <td>Domestic</td>\n",
              "      <td>0.428959</td>\n",
              "      <td>7.292298</td>\n",
              "    </tr>\n",
              "    <tr>\n",
              "      <th>480</th>\n",
              "      <td>UTurn</td>\n",
              "      <td>Domestic</td>\n",
              "      <td>0.480740</td>\n",
              "      <td>8.172585</td>\n",
              "    </tr>\n",
              "    <tr>\n",
              "      <th>481</th>\n",
              "      <td>RearSeatRoom</td>\n",
              "      <td>Domestic</td>\n",
              "      <td>0.103606</td>\n",
              "      <td>1.761307</td>\n",
              "    </tr>\n",
              "    <tr>\n",
              "      <th>482</th>\n",
              "      <td>Weight</td>\n",
              "      <td>Domestic</td>\n",
              "      <td>0.209338</td>\n",
              "      <td>3.558746</td>\n",
              "    </tr>\n",
              "    <tr>\n",
              "      <th>483</th>\n",
              "      <td>Domestic</td>\n",
              "      <td>Domestic</td>\n",
              "      <td>1.000000</td>\n",
              "      <td>17.000000</td>\n",
              "    </tr>\n",
              "  </tbody>\n",
              "</table>\n",
              "<p>484 rows × 4 columns</p>\n",
              "</div>\n",
              "    <div class=\"colab-df-buttons\">\n",
              "\n",
              "  <div class=\"colab-df-container\">\n",
              "    <button class=\"colab-df-convert\" onclick=\"convertToInteractive('df-4e5358d9-437b-42c0-805a-f86e4ef0842e')\"\n",
              "            title=\"Convert this dataframe to an interactive table.\"\n",
              "            style=\"display:none;\">\n",
              "\n",
              "  <svg xmlns=\"http://www.w3.org/2000/svg\" height=\"24px\" viewBox=\"0 -960 960 960\">\n",
              "    <path d=\"M120-120v-720h720v720H120Zm60-500h600v-160H180v160Zm220 220h160v-160H400v160Zm0 220h160v-160H400v160ZM180-400h160v-160H180v160Zm440 0h160v-160H620v160ZM180-180h160v-160H180v160Zm440 0h160v-160H620v160Z\"/>\n",
              "  </svg>\n",
              "    </button>\n",
              "\n",
              "  <style>\n",
              "    .colab-df-container {\n",
              "      display:flex;\n",
              "      gap: 12px;\n",
              "    }\n",
              "\n",
              "    .colab-df-convert {\n",
              "      background-color: #E8F0FE;\n",
              "      border: none;\n",
              "      border-radius: 50%;\n",
              "      cursor: pointer;\n",
              "      display: none;\n",
              "      fill: #1967D2;\n",
              "      height: 32px;\n",
              "      padding: 0 0 0 0;\n",
              "      width: 32px;\n",
              "    }\n",
              "\n",
              "    .colab-df-convert:hover {\n",
              "      background-color: #E2EBFA;\n",
              "      box-shadow: 0px 1px 2px rgba(60, 64, 67, 0.3), 0px 1px 3px 1px rgba(60, 64, 67, 0.15);\n",
              "      fill: #174EA6;\n",
              "    }\n",
              "\n",
              "    .colab-df-buttons div {\n",
              "      margin-bottom: 4px;\n",
              "    }\n",
              "\n",
              "    [theme=dark] .colab-df-convert {\n",
              "      background-color: #3B4455;\n",
              "      fill: #D2E3FC;\n",
              "    }\n",
              "\n",
              "    [theme=dark] .colab-df-convert:hover {\n",
              "      background-color: #434B5C;\n",
              "      box-shadow: 0px 1px 3px 1px rgba(0, 0, 0, 0.15);\n",
              "      filter: drop-shadow(0px 1px 2px rgba(0, 0, 0, 0.3));\n",
              "      fill: #FFFFFF;\n",
              "    }\n",
              "  </style>\n",
              "\n",
              "    <script>\n",
              "      const buttonEl =\n",
              "        document.querySelector('#df-4e5358d9-437b-42c0-805a-f86e4ef0842e button.colab-df-convert');\n",
              "      buttonEl.style.display =\n",
              "        google.colab.kernel.accessAllowed ? 'block' : 'none';\n",
              "\n",
              "      async function convertToInteractive(key) {\n",
              "        const element = document.querySelector('#df-4e5358d9-437b-42c0-805a-f86e4ef0842e');\n",
              "        const dataTable =\n",
              "          await google.colab.kernel.invokeFunction('convertToInteractive',\n",
              "                                                    [key], {});\n",
              "        if (!dataTable) return;\n",
              "\n",
              "        const docLinkHtml = 'Like what you see? Visit the ' +\n",
              "          '<a target=\"_blank\" href=https://colab.research.google.com/notebooks/data_table.ipynb>data table notebook</a>'\n",
              "          + ' to learn more about interactive tables.';\n",
              "        element.innerHTML = '';\n",
              "        dataTable['output_type'] = 'display_data';\n",
              "        await google.colab.output.renderOutput(dataTable, element);\n",
              "        const docLink = document.createElement('div');\n",
              "        docLink.innerHTML = docLinkHtml;\n",
              "        element.appendChild(docLink);\n",
              "      }\n",
              "    </script>\n",
              "  </div>\n",
              "\n",
              "\n",
              "<div id=\"df-7ac5f2a6-23b1-47d4-a511-2988fd99275d\">\n",
              "  <button class=\"colab-df-quickchart\" onclick=\"quickchart('df-7ac5f2a6-23b1-47d4-a511-2988fd99275d')\"\n",
              "            title=\"Suggest charts\"\n",
              "            style=\"display:none;\">\n",
              "\n",
              "<svg xmlns=\"http://www.w3.org/2000/svg\" height=\"24px\"viewBox=\"0 0 24 24\"\n",
              "     width=\"24px\">\n",
              "    <g>\n",
              "        <path d=\"M19 3H5c-1.1 0-2 .9-2 2v14c0 1.1.9 2 2 2h14c1.1 0 2-.9 2-2V5c0-1.1-.9-2-2-2zM9 17H7v-7h2v7zm4 0h-2V7h2v10zm4 0h-2v-4h2v4z\"/>\n",
              "    </g>\n",
              "</svg>\n",
              "  </button>\n",
              "\n",
              "<style>\n",
              "  .colab-df-quickchart {\n",
              "      --bg-color: #E8F0FE;\n",
              "      --fill-color: #1967D2;\n",
              "      --hover-bg-color: #E2EBFA;\n",
              "      --hover-fill-color: #174EA6;\n",
              "      --disabled-fill-color: #AAA;\n",
              "      --disabled-bg-color: #DDD;\n",
              "  }\n",
              "\n",
              "  [theme=dark] .colab-df-quickchart {\n",
              "      --bg-color: #3B4455;\n",
              "      --fill-color: #D2E3FC;\n",
              "      --hover-bg-color: #434B5C;\n",
              "      --hover-fill-color: #FFFFFF;\n",
              "      --disabled-bg-color: #3B4455;\n",
              "      --disabled-fill-color: #666;\n",
              "  }\n",
              "\n",
              "  .colab-df-quickchart {\n",
              "    background-color: var(--bg-color);\n",
              "    border: none;\n",
              "    border-radius: 50%;\n",
              "    cursor: pointer;\n",
              "    display: none;\n",
              "    fill: var(--fill-color);\n",
              "    height: 32px;\n",
              "    padding: 0;\n",
              "    width: 32px;\n",
              "  }\n",
              "\n",
              "  .colab-df-quickchart:hover {\n",
              "    background-color: var(--hover-bg-color);\n",
              "    box-shadow: 0 1px 2px rgba(60, 64, 67, 0.3), 0 1px 3px 1px rgba(60, 64, 67, 0.15);\n",
              "    fill: var(--button-hover-fill-color);\n",
              "  }\n",
              "\n",
              "  .colab-df-quickchart-complete:disabled,\n",
              "  .colab-df-quickchart-complete:disabled:hover {\n",
              "    background-color: var(--disabled-bg-color);\n",
              "    fill: var(--disabled-fill-color);\n",
              "    box-shadow: none;\n",
              "  }\n",
              "\n",
              "  .colab-df-spinner {\n",
              "    border: 2px solid var(--fill-color);\n",
              "    border-color: transparent;\n",
              "    border-bottom-color: var(--fill-color);\n",
              "    animation:\n",
              "      spin 1s steps(1) infinite;\n",
              "  }\n",
              "\n",
              "  @keyframes spin {\n",
              "    0% {\n",
              "      border-color: transparent;\n",
              "      border-bottom-color: var(--fill-color);\n",
              "      border-left-color: var(--fill-color);\n",
              "    }\n",
              "    20% {\n",
              "      border-color: transparent;\n",
              "      border-left-color: var(--fill-color);\n",
              "      border-top-color: var(--fill-color);\n",
              "    }\n",
              "    30% {\n",
              "      border-color: transparent;\n",
              "      border-left-color: var(--fill-color);\n",
              "      border-top-color: var(--fill-color);\n",
              "      border-right-color: var(--fill-color);\n",
              "    }\n",
              "    40% {\n",
              "      border-color: transparent;\n",
              "      border-right-color: var(--fill-color);\n",
              "      border-top-color: var(--fill-color);\n",
              "    }\n",
              "    60% {\n",
              "      border-color: transparent;\n",
              "      border-right-color: var(--fill-color);\n",
              "    }\n",
              "    80% {\n",
              "      border-color: transparent;\n",
              "      border-right-color: var(--fill-color);\n",
              "      border-bottom-color: var(--fill-color);\n",
              "    }\n",
              "    90% {\n",
              "      border-color: transparent;\n",
              "      border-bottom-color: var(--fill-color);\n",
              "    }\n",
              "  }\n",
              "</style>\n",
              "\n",
              "  <script>\n",
              "    async function quickchart(key) {\n",
              "      const quickchartButtonEl =\n",
              "        document.querySelector('#' + key + ' button');\n",
              "      quickchartButtonEl.disabled = true;  // To prevent multiple clicks.\n",
              "      quickchartButtonEl.classList.add('colab-df-spinner');\n",
              "      try {\n",
              "        const charts = await google.colab.kernel.invokeFunction(\n",
              "            'suggestCharts', [key], {});\n",
              "      } catch (error) {\n",
              "        console.error('Error during call to suggestCharts:', error);\n",
              "      }\n",
              "      quickchartButtonEl.classList.remove('colab-df-spinner');\n",
              "      quickchartButtonEl.classList.add('colab-df-quickchart-complete');\n",
              "    }\n",
              "    (() => {\n",
              "      let quickchartButtonEl =\n",
              "        document.querySelector('#df-7ac5f2a6-23b1-47d4-a511-2988fd99275d button');\n",
              "      quickchartButtonEl.style.display =\n",
              "        google.colab.kernel.accessAllowed ? 'block' : 'none';\n",
              "    })();\n",
              "  </script>\n",
              "</div>\n",
              "\n",
              "  <div id=\"id_1965ebc7-ebf3-4272-9bfc-d430607b9ff6\">\n",
              "    <style>\n",
              "      .colab-df-generate {\n",
              "        background-color: #E8F0FE;\n",
              "        border: none;\n",
              "        border-radius: 50%;\n",
              "        cursor: pointer;\n",
              "        display: none;\n",
              "        fill: #1967D2;\n",
              "        height: 32px;\n",
              "        padding: 0 0 0 0;\n",
              "        width: 32px;\n",
              "      }\n",
              "\n",
              "      .colab-df-generate:hover {\n",
              "        background-color: #E2EBFA;\n",
              "        box-shadow: 0px 1px 2px rgba(60, 64, 67, 0.3), 0px 1px 3px 1px rgba(60, 64, 67, 0.15);\n",
              "        fill: #174EA6;\n",
              "      }\n",
              "\n",
              "      [theme=dark] .colab-df-generate {\n",
              "        background-color: #3B4455;\n",
              "        fill: #D2E3FC;\n",
              "      }\n",
              "\n",
              "      [theme=dark] .colab-df-generate:hover {\n",
              "        background-color: #434B5C;\n",
              "        box-shadow: 0px 1px 3px 1px rgba(0, 0, 0, 0.15);\n",
              "        filter: drop-shadow(0px 1px 2px rgba(0, 0, 0, 0.3));\n",
              "        fill: #FFFFFF;\n",
              "      }\n",
              "    </style>\n",
              "    <button class=\"colab-df-generate\" onclick=\"generateWithVariable('lin_corr')\"\n",
              "            title=\"Generate code using this dataframe.\"\n",
              "            style=\"display:none;\">\n",
              "\n",
              "  <svg xmlns=\"http://www.w3.org/2000/svg\" height=\"24px\"viewBox=\"0 0 24 24\"\n",
              "       width=\"24px\">\n",
              "    <path d=\"M7,19H8.4L18.45,9,17,7.55,7,17.6ZM5,21V16.75L18.45,3.32a2,2,0,0,1,2.83,0l1.4,1.43a1.91,1.91,0,0,1,.58,1.4,1.91,1.91,0,0,1-.58,1.4L9.25,21ZM18.45,9,17,7.55Zm-12,3A5.31,5.31,0,0,0,4.9,8.1,5.31,5.31,0,0,0,1,6.5,5.31,5.31,0,0,0,4.9,4.9,5.31,5.31,0,0,0,6.5,1,5.31,5.31,0,0,0,8.1,4.9,5.31,5.31,0,0,0,12,6.5,5.46,5.46,0,0,0,6.5,12Z\"/>\n",
              "  </svg>\n",
              "    </button>\n",
              "    <script>\n",
              "      (() => {\n",
              "      const buttonEl =\n",
              "        document.querySelector('#id_1965ebc7-ebf3-4272-9bfc-d430607b9ff6 button.colab-df-generate');\n",
              "      buttonEl.style.display =\n",
              "        google.colab.kernel.accessAllowed ? 'block' : 'none';\n",
              "\n",
              "      buttonEl.onclick = () => {\n",
              "        google.colab.notebook.generateWithVariable('lin_corr');\n",
              "      }\n",
              "      })();\n",
              "    </script>\n",
              "  </div>\n",
              "\n",
              "    </div>\n",
              "  </div>\n"
            ],
            "text/plain": [
              "            index  variable     value       size\n",
              "0        MinPrice  MinPrice  1.000000  17.000000\n",
              "1        MidPrice  MinPrice  0.969497  16.481444\n",
              "2        MaxPrice  MinPrice  0.904767  15.381047\n",
              "3         CityMpg  MinPrice -0.613667  10.432340\n",
              "4      HighwayMpg  MinPrice -0.574668   9.769355\n",
              "..            ...       ...       ...        ...\n",
              "479         Width  Domestic  0.428959   7.292298\n",
              "480         UTurn  Domestic  0.480740   8.172585\n",
              "481  RearSeatRoom  Domestic  0.103606   1.761307\n",
              "482        Weight  Domestic  0.209338   3.558746\n",
              "483      Domestic  Domestic  1.000000  17.000000\n",
              "\n",
              "[484 rows x 4 columns]"
            ]
          },
          "execution_count": 257,
          "metadata": {},
          "output_type": "execute_result"
        }
      ],
      "source": [
        "# compute Pearson correlation\n",
        "corr = cars.corr(method='pearson', numeric_only=True)\n",
        "# print(\"correlation matrix:\\n\", corr)\n",
        "variables = list(corr)\n",
        "# print(\"variables in correlation matrix:\", variables)\n",
        "\n",
        "# linearize the correlation matrix\n",
        "lin_corr = pd.melt(corr.assign(index=corr.index), id_vars=['index'])\n",
        "# print(lin_corr)\n",
        "lin_corr['size'] = [abs(val)*17 for val in lin_corr.value] # multiply by 17 only for plotting purpose below. This makes the squares larger\n",
        "\n",
        "corr\n",
        "lin_corr\n",
        "# lin_corr[lin_corr['index'] == 'MinPrice']"
      ]
    },
    {
      "cell_type": "markdown",
      "metadata": {
        "id": "E3BivDPSAd1-"
      },
      "source": [
        "The following code renders a correlation matrix using bokeh. For each pair of variables, the correlation is represented by a colored square. Size and color encode the amount of linear correlation. Large red squares indicate strong positive correlation, large blue squares strong negative correlation."
      ]
    },
    {
      "cell_type": "code",
      "execution_count": 258,
      "metadata": {
        "colab": {
          "base_uri": "https://localhost:8080/",
          "height": 717
        },
        "id": "ozc_K9ZiAd1_",
        "outputId": "a2730fc2-c70f-4dcd-f45d-561bd275e53d"
      },
      "outputs": [
        {
          "data": {
            "application/javascript": "'use strict';\n(function(root) {\n  function now() {\n    return new Date();\n  }\n\n  const force = true;\n\n  if (typeof root._bokeh_onload_callbacks === \"undefined\" || force === true) {\n    root._bokeh_onload_callbacks = [];\n    root._bokeh_is_loading = undefined;\n  }\n\nconst JS_MIME_TYPE = 'application/javascript';\n  const HTML_MIME_TYPE = 'text/html';\n  const EXEC_MIME_TYPE = 'application/vnd.bokehjs_exec.v0+json';\n  const CLASS_NAME = 'output_bokeh rendered_html';\n\n  /**\n   * Render data to the DOM node\n   */\n  function render(props, node) {\n    const script = document.createElement(\"script\");\n    node.appendChild(script);\n  }\n\n  /**\n   * Handle when an output is cleared or removed\n   */\n  function handleClearOutput(event, handle) {\n    function drop(id) {\n      const view = Bokeh.index.get_by_id(id)\n      if (view != null) {\n        view.model.document.clear()\n        Bokeh.index.delete(view)\n      }\n    }\n\n    const cell = handle.cell;\n\n    const id = cell.output_area._bokeh_element_id;\n    const server_id = cell.output_area._bokeh_server_id;\n\n    // Clean up Bokeh references\n    if (id != null) {\n      drop(id)\n    }\n\n    if (server_id !== undefined) {\n      // Clean up Bokeh references\n      const cmd_clean = \"from bokeh.io.state import curstate; print(curstate().uuid_to_server['\" + server_id + \"'].get_sessions()[0].document.roots[0]._id)\";\n      cell.notebook.kernel.execute(cmd_clean, {\n        iopub: {\n          output: function(msg) {\n            const id = msg.content.text.trim()\n            drop(id)\n          }\n        }\n      });\n      // Destroy server and session\n      const cmd_destroy = \"import bokeh.io.notebook as ion; ion.destroy_server('\" + server_id + \"')\";\n      cell.notebook.kernel.execute(cmd_destroy);\n    }\n  }\n\n  /**\n   * Handle when a new output is added\n   */\n  function handleAddOutput(event, handle) {\n    const output_area = handle.output_area;\n    const output = handle.output;\n\n    // limit handleAddOutput to display_data with EXEC_MIME_TYPE content only\n    if ((output.output_type != \"display_data\") || (!Object.prototype.hasOwnProperty.call(output.data, EXEC_MIME_TYPE))) {\n      return\n    }\n\n    const toinsert = output_area.element.find(\".\" + CLASS_NAME.split(' ')[0]);\n\n    if (output.metadata[EXEC_MIME_TYPE][\"id\"] !== undefined) {\n      toinsert[toinsert.length - 1].firstChild.textContent = output.data[JS_MIME_TYPE];\n      // store reference to embed id on output_area\n      output_area._bokeh_element_id = output.metadata[EXEC_MIME_TYPE][\"id\"];\n    }\n    if (output.metadata[EXEC_MIME_TYPE][\"server_id\"] !== undefined) {\n      const bk_div = document.createElement(\"div\");\n      bk_div.innerHTML = output.data[HTML_MIME_TYPE];\n      const script_attrs = bk_div.children[0].attributes;\n      for (let i = 0; i < script_attrs.length; i++) {\n        toinsert[toinsert.length - 1].firstChild.setAttribute(script_attrs[i].name, script_attrs[i].value);\n        toinsert[toinsert.length - 1].firstChild.textContent = bk_div.children[0].textContent\n      }\n      // store reference to server id on output_area\n      output_area._bokeh_server_id = output.metadata[EXEC_MIME_TYPE][\"server_id\"];\n    }\n  }\n\n  function register_renderer(events, OutputArea) {\n\n    function append_mime(data, metadata, element) {\n      // create a DOM node to render to\n      const toinsert = this.create_output_subarea(\n        metadata,\n        CLASS_NAME,\n        EXEC_MIME_TYPE\n      );\n      this.keyboard_manager.register_events(toinsert);\n      // Render to node\n      const props = {data: data, metadata: metadata[EXEC_MIME_TYPE]};\n      render(props, toinsert[toinsert.length - 1]);\n      element.append(toinsert);\n      return toinsert\n    }\n\n    /* Handle when an output is cleared or removed */\n    events.on('clear_output.CodeCell', handleClearOutput);\n    events.on('delete.Cell', handleClearOutput);\n\n    /* Handle when a new output is added */\n    events.on('output_added.OutputArea', handleAddOutput);\n\n    /**\n     * Register the mime type and append_mime function with output_area\n     */\n    OutputArea.prototype.register_mime_type(EXEC_MIME_TYPE, append_mime, {\n      /* Is output safe? */\n      safe: true,\n      /* Index of renderer in `output_area.display_order` */\n      index: 0\n    });\n  }\n\n  // register the mime type if in Jupyter Notebook environment and previously unregistered\n  if (root.Jupyter !== undefined) {\n    const events = require('base/js/events');\n    const OutputArea = require('notebook/js/outputarea').OutputArea;\n\n    if (OutputArea.prototype.mime_types().indexOf(EXEC_MIME_TYPE) == -1) {\n      register_renderer(events, OutputArea);\n    }\n  }\n  if (typeof (root._bokeh_timeout) === \"undefined\" || force === true) {\n    root._bokeh_timeout = Date.now() + 5000;\n    root._bokeh_failed_load = false;\n  }\n\n  const NB_LOAD_WARNING = {'data': {'text/html':\n     \"<div style='background-color: #fdd'>\\n\"+\n     \"<p>\\n\"+\n     \"BokehJS does not appear to have successfully loaded. If loading BokehJS from CDN, this \\n\"+\n     \"may be due to a slow or bad network connection. Possible fixes:\\n\"+\n     \"</p>\\n\"+\n     \"<ul>\\n\"+\n     \"<li>re-rerun `output_notebook()` to attempt to load from CDN again, or</li>\\n\"+\n     \"<li>use INLINE resources instead, as so:</li>\\n\"+\n     \"</ul>\\n\"+\n     \"<code>\\n\"+\n     \"from bokeh.resources import INLINE\\n\"+\n     \"output_notebook(resources=INLINE)\\n\"+\n     \"</code>\\n\"+\n     \"</div>\"}};\n\n  function display_loaded(error = null) {\n    const el = document.getElementById(null);\n    if (el != null) {\n      const html = (() => {\n        if (typeof root.Bokeh === \"undefined\") {\n          if (error == null) {\n            return \"BokehJS is loading ...\";\n          } else {\n            return \"BokehJS failed to load.\";\n          }\n        } else {\n          const prefix = `BokehJS ${root.Bokeh.version}`;\n          if (error == null) {\n            return `${prefix} successfully loaded.`;\n          } else {\n            return `${prefix} <b>encountered errors</b> while loading and may not function as expected.`;\n          }\n        }\n      })();\n      el.innerHTML = html;\n\n      if (error != null) {\n        const wrapper = document.createElement(\"div\");\n        wrapper.style.overflow = \"auto\";\n        wrapper.style.height = \"5em\";\n        wrapper.style.resize = \"vertical\";\n        const content = document.createElement(\"div\");\n        content.style.fontFamily = \"monospace\";\n        content.style.whiteSpace = \"pre-wrap\";\n        content.style.backgroundColor = \"rgb(255, 221, 221)\";\n        content.textContent = error.stack ?? error.toString();\n        wrapper.append(content);\n        el.append(wrapper);\n      }\n    } else if (Date.now() < root._bokeh_timeout) {\n      setTimeout(() => display_loaded(error), 100);\n    }\n  }\n\n  function run_callbacks() {\n    try {\n      root._bokeh_onload_callbacks.forEach(function(callback) {\n        if (callback != null)\n          callback();\n      });\n    } finally {\n      delete root._bokeh_onload_callbacks\n    }\n    console.debug(\"Bokeh: all callbacks have finished\");\n  }\n\n  function load_libs(css_urls, js_urls, callback) {\n    if (css_urls == null) css_urls = [];\n    if (js_urls == null) js_urls = [];\n\n    root._bokeh_onload_callbacks.push(callback);\n    if (root._bokeh_is_loading > 0) {\n      console.debug(\"Bokeh: BokehJS is being loaded, scheduling callback at\", now());\n      return null;\n    }\n    if (js_urls == null || js_urls.length === 0) {\n      run_callbacks();\n      return null;\n    }\n    console.debug(\"Bokeh: BokehJS not loaded, scheduling load and callback at\", now());\n    root._bokeh_is_loading = css_urls.length + js_urls.length;\n\n    function on_load() {\n      root._bokeh_is_loading--;\n      if (root._bokeh_is_loading === 0) {\n        console.debug(\"Bokeh: all BokehJS libraries/stylesheets loaded\");\n        run_callbacks()\n      }\n    }\n\n    function on_error(url) {\n      console.error(\"failed to load \" + url);\n    }\n\n    for (let i = 0; i < css_urls.length; i++) {\n      const url = css_urls[i];\n      const element = document.createElement(\"link\");\n      element.onload = on_load;\n      element.onerror = on_error.bind(null, url);\n      element.rel = \"stylesheet\";\n      element.type = \"text/css\";\n      element.href = url;\n      console.debug(\"Bokeh: injecting link tag for BokehJS stylesheet: \", url);\n      document.body.appendChild(element);\n    }\n\n    for (let i = 0; i < js_urls.length; i++) {\n      const url = js_urls[i];\n      const element = document.createElement('script');\n      element.onload = on_load;\n      element.onerror = on_error.bind(null, url);\n      element.async = false;\n      element.src = url;\n      console.debug(\"Bokeh: injecting script tag for BokehJS library: \", url);\n      document.head.appendChild(element);\n    }\n  };\n\n  function inject_raw_css(css) {\n    const element = document.createElement(\"style\");\n    element.appendChild(document.createTextNode(css));\n    document.body.appendChild(element);\n  }\n\n  const js_urls = [\"https://cdn.bokeh.org/bokeh/release/bokeh-3.6.2.min.js\", \"https://cdn.bokeh.org/bokeh/release/bokeh-gl-3.6.2.min.js\", \"https://cdn.bokeh.org/bokeh/release/bokeh-widgets-3.6.2.min.js\", \"https://cdn.bokeh.org/bokeh/release/bokeh-tables-3.6.2.min.js\", \"https://cdn.bokeh.org/bokeh/release/bokeh-mathjax-3.6.2.min.js\"];\n  const css_urls = [];\n\n  const inline_js = [    function(Bokeh) {\n      Bokeh.set_log_level(\"info\");\n    },\nfunction(Bokeh) {\n    }\n  ];\n\n  function run_inline_js() {\n    if (root.Bokeh !== undefined || force === true) {\n      try {\n            for (let i = 0; i < inline_js.length; i++) {\n      inline_js[i].call(root, root.Bokeh);\n    }\n\n      } catch (error) {throw error;\n      }} else if (Date.now() < root._bokeh_timeout) {\n      setTimeout(run_inline_js, 100);\n    } else if (!root._bokeh_failed_load) {\n      console.log(\"Bokeh: BokehJS failed to load within specified timeout.\");\n      root._bokeh_failed_load = true;\n    } else if (force !== true) {\n      const cell = $(document.getElementById(null)).parents('.cell').data().cell;\n      cell.output_area.append_execute_result(NB_LOAD_WARNING)\n    }\n  }\n\n  if (root._bokeh_is_loading === 0) {\n    console.debug(\"Bokeh: BokehJS loaded, going straight to plotting\");\n    run_inline_js();\n  } else {\n    load_libs(css_urls, js_urls, function() {\n      console.debug(\"Bokeh: BokehJS plotting callback run at\", now());\n      run_inline_js();\n    });\n  }\n}(window));",
            "application/vnd.bokehjs_load.v0+json": ""
          },
          "metadata": {},
          "output_type": "display_data"
        },
        {
          "data": {
            "text/html": [
              "\n",
              "  <div id=\"c5187d43-fb81-405c-9124-fd54b2f0aa3f\" data-root-id=\"p17623\" style=\"display: contents;\"></div>\n"
            ]
          },
          "metadata": {},
          "output_type": "display_data"
        },
        {
          "data": {
            "application/javascript": "(function(root) {\n  function embed_document(root) {\n  const docs_json = {\"8eaaa174-314b-4cdc-bc15-e259b45c429d\":{\"version\":\"3.6.2\",\"title\":\"Bokeh Application\",\"roots\":[{\"type\":\"object\",\"name\":\"Figure\",\"id\":\"p17623\",\"attributes\":{\"width\":800,\"height\":700,\"x_range\":{\"type\":\"object\",\"name\":\"FactorRange\",\"id\":\"p17633\",\"attributes\":{\"factors\":[\"MinPrice\",\"MidPrice\",\"MaxPrice\",\"CityMpg\",\"HighwayMpg\",\"AirBags\",\"DriveTrainType\",\"Cylinders\",\"Engine\",\"Horsepower\",\"RPM\",\"EngineRev\",\"ManTrans\",\"Tank\",\"Passenger\",\"Length\",\"Wheelbase\",\"Width\",\"UTurn\",\"RearSeatRoom\",\"Weight\",\"Domestic\"]}},\"y_range\":{\"type\":\"object\",\"name\":\"FactorRange\",\"id\":\"p17634\",\"attributes\":{\"factors\":[\"MinPrice\",\"MidPrice\",\"MaxPrice\",\"CityMpg\",\"HighwayMpg\",\"AirBags\",\"DriveTrainType\",\"Cylinders\",\"Engine\",\"Horsepower\",\"RPM\",\"EngineRev\",\"ManTrans\",\"Tank\",\"Passenger\",\"Length\",\"Wheelbase\",\"Width\",\"UTurn\",\"RearSeatRoom\",\"Weight\",\"Domestic\"]}},\"x_scale\":{\"type\":\"object\",\"name\":\"CategoricalScale\",\"id\":\"p17635\"},\"y_scale\":{\"type\":\"object\",\"name\":\"CategoricalScale\",\"id\":\"p17636\"},\"title\":{\"type\":\"object\",\"name\":\"Title\",\"id\":\"p17626\",\"attributes\":{\"text\":\"Correlation matrix\"}},\"renderers\":[{\"type\":\"object\",\"name\":\"GlyphRenderer\",\"id\":\"p17670\",\"attributes\":{\"data_source\":{\"type\":\"object\",\"name\":\"ColumnDataSource\",\"id\":\"p17661\",\"attributes\":{\"selected\":{\"type\":\"object\",\"name\":\"Selection\",\"id\":\"p17662\",\"attributes\":{\"indices\":[],\"line_indices\":[]}},\"selection_policy\":{\"type\":\"object\",\"name\":\"UnionRenderers\",\"id\":\"p17663\"},\"data\":{\"type\":\"map\",\"entries\":[[\"level_0\",{\"type\":\"ndarray\",\"array\":{\"type\":\"bytes\",\"data\":\"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\"},\"shape\":[484],\"dtype\":\"int32\",\"order\":\"little\"}],[\"index\",{\"type\":\"ndarray\",\"array\":[\"MinPrice\",\"MidPrice\",\"MaxPrice\",\"CityMpg\",\"HighwayMpg\",\"AirBags\",\"DriveTrainType\",\"Cylinders\",\"Engine\",\"Horsepower\",\"RPM\",\"EngineRev\",\"ManTrans\",\"Tank\",\"Passenger\",\"Length\",\"Wheelbase\",\"Width\",\"UTurn\",\"RearSeatRoom\",\"Weight\",\"Domestic\",\"MinPrice\",\"MidPrice\",\"MaxPrice\",\"CityMpg\",\"HighwayMpg\",\"AirBags\",\"DriveTrainType\",\"Cylinders\",\"Engine\",\"Horsepower\",\"RPM\",\"EngineRev\",\"ManTrans\",\"Tank\",\"Passenger\",\"Length\",\"Wheelbase\",\"Width\",\"UTurn\",\"RearSeatRoom\",\"Weight\",\"Domestic\",\"MinPrice\",\"MidPrice\",\"MaxPrice\",\"CityMpg\",\"HighwayMpg\",\"AirBags\",\"DriveTrainType\",\"Cylinders\",\"Engine\",\"Horsepower\",\"RPM\",\"EngineRev\",\"ManTrans\",\"Tank\",\"Passenger\",\"Length\",\"Wheelbase\",\"Width\",\"UTurn\",\"RearSeatRoom\",\"Weight\",\"Domestic\",\"MinPrice\",\"MidPrice\",\"MaxPrice\",\"CityMpg\",\"HighwayMpg\",\"AirBags\",\"DriveTrainType\",\"Cylinders\",\"Engine\",\"Horsepower\",\"RPM\",\"EngineRev\",\"ManTrans\",\"Tank\",\"Passenger\",\"Length\",\"Wheelbase\",\"Width\",\"UTurn\",\"RearSeatRoom\",\"Weight\",\"Domestic\",\"MinPrice\",\"MidPrice\",\"MaxPrice\",\"CityMpg\",\"HighwayMpg\",\"AirBags\",\"DriveTrainType\",\"Cylinders\",\"Engine\",\"Horsepower\",\"RPM\",\"EngineRev\",\"ManTrans\",\"Tank\",\"Passenger\",\"Length\",\"Wheelbase\",\"Width\",\"UTurn\",\"RearSeatRoom\",\"Weight\",\"Domestic\",\"MinPrice\",\"MidPrice\",\"MaxPrice\",\"CityMpg\",\"HighwayMpg\",\"AirBags\",\"DriveTrainType\",\"Cylinders\",\"Engine\",\"Horsepower\",\"RPM\",\"EngineRev\",\"ManTrans\",\"Tank\",\"Passenger\",\"Length\",\"Wheelbase\",\"Width\",\"UTurn\",\"RearSeatRoom\",\"Weight\",\"Domestic\",\"MinPrice\",\"MidPrice\",\"MaxPrice\",\"CityMpg\",\"HighwayMpg\",\"AirBags\",\"DriveTrainType\",\"Cylinders\",\"Engine\",\"Horsepower\",\"RPM\",\"EngineRev\",\"ManTrans\",\"Tank\",\"Passenger\",\"Length\",\"Wheelbase\",\"Width\",\"UTurn\",\"RearSeatRoom\",\"Weight\",\"Domestic\",\"MinPrice\",\"MidPrice\",\"MaxPrice\",\"CityMpg\",\"HighwayMpg\",\"AirBags\",\"DriveTrainType\",\"Cylinders\",\"Engine\",\"Horsepower\",\"RPM\",\"EngineRev\",\"ManTrans\",\"Tank\",\"Passenger\",\"Length\",\"Wheelbase\",\"Width\",\"UTurn\",\"RearSeatRoom\",\"Weight\",\"Domestic\",\"MinPrice\",\"MidPrice\",\"MaxPrice\",\"CityMpg\",\"HighwayMpg\",\"AirBags\",\"DriveTrainType\",\"Cylinders\",\"Engine\",\"Horsepower\",\"RPM\",\"EngineRev\",\"ManTrans\",\"Tank\",\"Passenger\",\"Length\",\"Wheelbase\",\"Width\",\"UTurn\",\"RearSeatRoom\",\"Weight\",\"Domestic\",\"MinPrice\",\"MidPrice\",\"MaxPrice\",\"CityMpg\",\"HighwayMpg\",\"AirBags\",\"DriveTrainType\",\"Cylinders\",\"Engine\",\"Horsepower\",\"RPM\",\"EngineRev\",\"ManTrans\",\"Tank\",\"Passenger\",\"Length\",\"Wheelbase\",\"Width\",\"UTurn\",\"RearSeatRoom\",\"Weight\",\"Domestic\",\"MinPrice\",\"MidPrice\",\"MaxPrice\",\"CityMpg\",\"HighwayMpg\",\"AirBags\",\"DriveTrainType\",\"Cylinders\",\"Engine\",\"Horsepower\",\"RPM\",\"EngineRev\",\"ManTrans\",\"Tank\",\"Passenger\",\"Length\",\"Wheelbase\",\"Width\",\"UTurn\",\"RearSeatRoom\",\"Weight\",\"Domestic\",\"MinPrice\",\"MidPrice\",\"MaxPrice\",\"CityMpg\",\"HighwayMpg\",\"AirBags\",\"DriveTrainType\",\"Cylinders\",\"Engine\",\"Horsepower\",\"RPM\",\"EngineRev\",\"ManTrans\",\"Tank\",\"Passenger\",\"Length\",\"Wheelbase\",\"Width\",\"UTurn\",\"RearSeatRoom\",\"Weight\",\"Domestic\",\"MinPrice\",\"MidPrice\",\"MaxPrice\",\"CityMpg\",\"HighwayMpg\",\"AirBags\",\"DriveTrainType\",\"Cylinders\",\"Engine\",\"Horsepower\",\"RPM\",\"EngineRev\",\"ManTrans\",\"Tank\",\"Passenger\",\"Length\",\"Wheelbase\",\"Width\",\"UTurn\",\"RearSeatRoom\",\"Weight\",\"Domestic\",\"MinPrice\",\"MidPrice\",\"MaxPrice\",\"CityMpg\",\"HighwayMpg\",\"AirBags\",\"DriveTrainType\",\"Cylinders\",\"Engine\",\"Horsepower\",\"RPM\",\"EngineRev\",\"ManTrans\",\"Tank\",\"Passenger\",\"Length\",\"Wheelbase\",\"Width\",\"UTurn\",\"RearSeatRoom\",\"Weight\",\"Domestic\",\"MinPrice\",\"MidPrice\",\"MaxPrice\",\"CityMpg\",\"HighwayMpg\",\"AirBags\",\"DriveTrainType\",\"Cylinders\",\"Engine\",\"Horsepower\",\"RPM\",\"EngineRev\",\"ManTrans\",\"Tank\",\"Passenger\",\"Length\",\"Wheelbase\",\"Width\",\"UTurn\",\"RearSeatRoom\",\"Weight\",\"Domestic\",\"MinPrice\",\"MidPrice\",\"MaxPrice\",\"CityMpg\",\"HighwayMpg\",\"AirBags\",\"DriveTrainType\",\"Cylinders\",\"Engine\",\"Horsepower\",\"RPM\",\"EngineRev\",\"ManTrans\",\"Tank\",\"Passenger\",\"Length\",\"Wheelbase\",\"Width\",\"UTurn\",\"RearSeatRoom\",\"Weight\",\"Domestic\",\"MinPrice\",\"MidPrice\",\"MaxPrice\",\"CityMpg\",\"HighwayMpg\",\"AirBags\",\"DriveTrainType\",\"Cylinders\",\"Engine\",\"Horsepower\",\"RPM\",\"EngineRev\",\"ManTrans\",\"Tank\",\"Passenger\",\"Length\",\"Wheelbase\",\"Width\",\"UTurn\",\"RearSeatRoom\",\"Weight\",\"Domestic\",\"MinPrice\",\"MidPrice\",\"MaxPrice\",\"CityMpg\",\"HighwayMpg\",\"AirBags\",\"DriveTrainType\",\"Cylinders\",\"Engine\",\"Horsepower\",\"RPM\",\"EngineRev\",\"ManTrans\",\"Tank\",\"Passenger\",\"Length\",\"Wheelbase\",\"Width\",\"UTurn\",\"RearSeatRoom\",\"Weight\",\"Domestic\",\"MinPrice\",\"MidPrice\",\"MaxPrice\",\"CityMpg\",\"HighwayMpg\",\"AirBags\",\"DriveTrainType\",\"Cylinders\",\"Engine\",\"Horsepower\",\"RPM\",\"EngineRev\",\"ManTrans\",\"Tank\",\"Passenger\",\"Length\",\"Wheelbase\",\"Width\",\"UTurn\",\"RearSeatRoom\",\"Weight\",\"Domestic\",\"MinPrice\",\"MidPrice\",\"MaxPrice\",\"CityMpg\",\"HighwayMpg\",\"AirBags\",\"DriveTrainType\",\"Cylinders\",\"Engine\",\"Horsepower\",\"RPM\",\"EngineRev\",\"ManTrans\",\"Tank\",\"Passenger\",\"Length\",\"Wheelbase\",\"Width\",\"UTurn\",\"RearSeatRoom\",\"Weight\",\"Domestic\",\"MinPrice\",\"MidPrice\",\"MaxPrice\",\"CityMpg\",\"HighwayMpg\",\"AirBags\",\"DriveTrainType\",\"Cylinders\",\"Engine\",\"Horsepower\",\"RPM\",\"EngineRev\",\"ManTrans\",\"Tank\",\"Passenger\",\"Length\",\"Wheelbase\",\"Width\",\"UTurn\",\"RearSeatRoom\",\"Weight\",\"Domestic\",\"MinPrice\",\"MidPrice\",\"MaxPrice\",\"CityMpg\",\"HighwayMpg\",\"AirBags\",\"DriveTrainType\",\"Cylinders\",\"Engine\",\"Horsepower\",\"RPM\",\"EngineRev\",\"ManTrans\",\"Tank\",\"Passenger\",\"Length\",\"Wheelbase\",\"Width\",\"UTurn\",\"RearSeatRoom\",\"Weight\",\"Domestic\"],\"shape\":[484],\"dtype\":\"object\",\"order\":\"little\"}],[\"variable\",{\"type\":\"ndarray\",\"array\":[\"MinPrice\",\"MinPrice\",\"MinPrice\",\"MinPrice\",\"MinPrice\",\"MinPrice\",\"MinPrice\",\"MinPrice\",\"MinPrice\",\"MinPrice\",\"MinPrice\",\"MinPrice\",\"MinPrice\",\"MinPrice\",\"MinPrice\",\"MinPrice\",\"MinPrice\",\"MinPrice\",\"MinPrice\",\"MinPrice\",\"MinPrice\",\"MinPrice\",\"MidPrice\",\"MidPrice\",\"MidPrice\",\"MidPrice\",\"MidPrice\",\"MidPrice\",\"MidPrice\",\"MidPrice\",\"MidPrice\",\"MidPrice\",\"MidPrice\",\"MidPrice\",\"MidPrice\",\"MidPrice\",\"MidPrice\",\"MidPrice\",\"MidPrice\",\"MidPrice\",\"MidPrice\",\"MidPrice\",\"MidPrice\",\"MidPrice\",\"MaxPrice\",\"MaxPrice\",\"MaxPrice\",\"MaxPrice\",\"MaxPrice\",\"MaxPrice\",\"MaxPrice\",\"MaxPrice\",\"MaxPrice\",\"MaxPrice\",\"MaxPrice\",\"MaxPrice\",\"MaxPrice\",\"MaxPrice\",\"MaxPrice\",\"MaxPrice\",\"MaxPrice\",\"MaxPrice\",\"MaxPrice\",\"MaxPrice\",\"MaxPrice\",\"MaxPrice\",\"CityMpg\",\"CityMpg\",\"CityMpg\",\"CityMpg\",\"CityMpg\",\"CityMpg\",\"CityMpg\",\"CityMpg\",\"CityMpg\",\"CityMpg\",\"CityMpg\",\"CityMpg\",\"CityMpg\",\"CityMpg\",\"CityMpg\",\"CityMpg\",\"CityMpg\",\"CityMpg\",\"CityMpg\",\"CityMpg\",\"CityMpg\",\"CityMpg\",\"HighwayMpg\",\"HighwayMpg\",\"HighwayMpg\",\"HighwayMpg\",\"HighwayMpg\",\"HighwayMpg\",\"HighwayMpg\",\"HighwayMpg\",\"HighwayMpg\",\"HighwayMpg\",\"HighwayMpg\",\"HighwayMpg\",\"HighwayMpg\",\"HighwayMpg\",\"HighwayMpg\",\"HighwayMpg\",\"HighwayMpg\",\"HighwayMpg\",\"HighwayMpg\",\"HighwayMpg\",\"HighwayMpg\",\"HighwayMpg\",\"AirBags\",\"AirBags\",\"AirBags\",\"AirBags\",\"AirBags\",\"AirBags\",\"AirBags\",\"AirBags\",\"AirBags\",\"AirBags\",\"AirBags\",\"AirBags\",\"AirBags\",\"AirBags\",\"AirBags\",\"AirBags\",\"AirBags\",\"AirBags\",\"AirBags\",\"AirBags\",\"AirBags\",\"AirBags\",\"DriveTrainType\",\"DriveTrainType\",\"DriveTrainType\",\"DriveTrainType\",\"DriveTrainType\",\"DriveTrainType\",\"DriveTrainType\",\"DriveTrainType\",\"DriveTrainType\",\"DriveTrainType\",\"DriveTrainType\",\"DriveTrainType\",\"DriveTrainType\",\"DriveTrainType\",\"DriveTrainType\",\"DriveTrainType\",\"DriveTrainType\",\"DriveTrainType\",\"DriveTrainType\",\"DriveTrainType\",\"DriveTrainType\",\"DriveTrainType\",\"Cylinders\",\"Cylinders\",\"Cylinders\",\"Cylinders\",\"Cylinders\",\"Cylinders\",\"Cylinders\",\"Cylinders\",\"Cylinders\",\"Cylinders\",\"Cylinders\",\"Cylinders\",\"Cylinders\",\"Cylinders\",\"Cylinders\",\"Cylinders\",\"Cylinders\",\"Cylinders\",\"Cylinders\",\"Cylinders\",\"Cylinders\",\"Cylinders\",\"Engine\",\"Engine\",\"Engine\",\"Engine\",\"Engine\",\"Engine\",\"Engine\",\"Engine\",\"Engine\",\"Engine\",\"Engine\",\"Engine\",\"Engine\",\"Engine\",\"Engine\",\"Engine\",\"Engine\",\"Engine\",\"Engine\",\"Engine\",\"Engine\",\"Engine\",\"Horsepower\",\"Horsepower\",\"Horsepower\",\"Horsepower\",\"Horsepower\",\"Horsepower\",\"Horsepower\",\"Horsepower\",\"Horsepower\",\"Horsepower\",\"Horsepower\",\"Horsepower\",\"Horsepower\",\"Horsepower\",\"Horsepower\",\"Horsepower\",\"Horsepower\",\"Horsepower\",\"Horsepower\",\"Horsepower\",\"Horsepower\",\"Horsepower\",\"RPM\",\"RPM\",\"RPM\",\"RPM\",\"RPM\",\"RPM\",\"RPM\",\"RPM\",\"RPM\",\"RPM\",\"RPM\",\"RPM\",\"RPM\",\"RPM\",\"RPM\",\"RPM\",\"RPM\",\"RPM\",\"RPM\",\"RPM\",\"RPM\",\"RPM\",\"EngineRev\",\"EngineRev\",\"EngineRev\",\"EngineRev\",\"EngineRev\",\"EngineRev\",\"EngineRev\",\"EngineRev\",\"EngineRev\",\"EngineRev\",\"EngineRev\",\"EngineRev\",\"EngineRev\",\"EngineRev\",\"EngineRev\",\"EngineRev\",\"EngineRev\",\"EngineRev\",\"EngineRev\",\"EngineRev\",\"EngineRev\",\"EngineRev\",\"ManTrans\",\"ManTrans\",\"ManTrans\",\"ManTrans\",\"ManTrans\",\"ManTrans\",\"ManTrans\",\"ManTrans\",\"ManTrans\",\"ManTrans\",\"ManTrans\",\"ManTrans\",\"ManTrans\",\"ManTrans\",\"ManTrans\",\"ManTrans\",\"ManTrans\",\"ManTrans\",\"ManTrans\",\"ManTrans\",\"ManTrans\",\"ManTrans\",\"Tank\",\"Tank\",\"Tank\",\"Tank\",\"Tank\",\"Tank\",\"Tank\",\"Tank\",\"Tank\",\"Tank\",\"Tank\",\"Tank\",\"Tank\",\"Tank\",\"Tank\",\"Tank\",\"Tank\",\"Tank\",\"Tank\",\"Tank\",\"Tank\",\"Tank\",\"Passenger\",\"Passenger\",\"Passenger\",\"Passenger\",\"Passenger\",\"Passenger\",\"Passenger\",\"Passenger\",\"Passenger\",\"Passenger\",\"Passenger\",\"Passenger\",\"Passenger\",\"Passenger\",\"Passenger\",\"Passenger\",\"Passenger\",\"Passenger\",\"Passenger\",\"Passenger\",\"Passenger\",\"Passenger\",\"Length\",\"Length\",\"Length\",\"Length\",\"Length\",\"Length\",\"Length\",\"Length\",\"Length\",\"Length\",\"Length\",\"Length\",\"Length\",\"Length\",\"Length\",\"Length\",\"Length\",\"Length\",\"Length\",\"Length\",\"Length\",\"Length\",\"Wheelbase\",\"Wheelbase\",\"Wheelbase\",\"Wheelbase\",\"Wheelbase\",\"Wheelbase\",\"Wheelbase\",\"Wheelbase\",\"Wheelbase\",\"Wheelbase\",\"Wheelbase\",\"Wheelbase\",\"Wheelbase\",\"Wheelbase\",\"Wheelbase\",\"Wheelbase\",\"Wheelbase\",\"Wheelbase\",\"Wheelbase\",\"Wheelbase\",\"Wheelbase\",\"Wheelbase\",\"Width\",\"Width\",\"Width\",\"Width\",\"Width\",\"Width\",\"Width\",\"Width\",\"Width\",\"Width\",\"Width\",\"Width\",\"Width\",\"Width\",\"Width\",\"Width\",\"Width\",\"Width\",\"Width\",\"Width\",\"Width\",\"Width\",\"UTurn\",\"UTurn\",\"UTurn\",\"UTurn\",\"UTurn\",\"UTurn\",\"UTurn\",\"UTurn\",\"UTurn\",\"UTurn\",\"UTurn\",\"UTurn\",\"UTurn\",\"UTurn\",\"UTurn\",\"UTurn\",\"UTurn\",\"UTurn\",\"UTurn\",\"UTurn\",\"UTurn\",\"UTurn\",\"RearSeatRoom\",\"RearSeatRoom\",\"RearSeatRoom\",\"RearSeatRoom\",\"RearSeatRoom\",\"RearSeatRoom\",\"RearSeatRoom\",\"RearSeatRoom\",\"RearSeatRoom\",\"RearSeatRoom\",\"RearSeatRoom\",\"RearSeatRoom\",\"RearSeatRoom\",\"RearSeatRoom\",\"RearSeatRoom\",\"RearSeatRoom\",\"RearSeatRoom\",\"RearSeatRoom\",\"RearSeatRoom\",\"RearSeatRoom\",\"RearSeatRoom\",\"RearSeatRoom\",\"Weight\",\"Weight\",\"Weight\",\"Weight\",\"Weight\",\"Weight\",\"Weight\",\"Weight\",\"Weight\",\"Weight\",\"Weight\",\"Weight\",\"Weight\",\"Weight\",\"Weight\",\"Weight\",\"Weight\",\"Weight\",\"Weight\",\"Weight\",\"Weight\",\"Weight\",\"Domestic\",\"Domestic\",\"Domestic\",\"Domestic\",\"Domestic\",\"Domestic\",\"Domestic\",\"Domestic\",\"Domestic\",\"Domestic\",\"Domestic\",\"Domestic\",\"Domestic\",\"Domestic\",\"Domestic\",\"Domestic\",\"Domestic\",\"Domestic\",\"Domestic\",\"Domestic\",\"Domestic\",\"Domestic\"],\"shape\":[484],\"dtype\":\"object\",\"order\":\"little\"}],[\"value\",{\"type\":\"ndarray\",\"array\":{\"type\":\"bytes\",\"data\":\"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\"},\"shape\":[484],\"dtype\":\"float64\",\"order\":\"little\"}],[\"size\",{\"type\":\"ndarray\",\"array\":{\"type\":\"bytes\",\"data\":\"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\"},\"shape\":[484],\"dtype\":\"float64\",\"order\":\"little\"}]]}}},\"view\":{\"type\":\"object\",\"name\":\"CDSView\",\"id\":\"p17671\",\"attributes\":{\"filter\":{\"type\":\"object\",\"name\":\"AllIndices\",\"id\":\"p17672\"}}},\"glyph\":{\"type\":\"object\",\"name\":\"Scatter\",\"id\":\"p17667\",\"attributes\":{\"x\":{\"type\":\"field\",\"field\":\"index\"},\"y\":{\"type\":\"field\",\"field\":\"variable\"},\"size\":{\"type\":\"field\",\"field\":\"size\"},\"line_color\":{\"type\":\"field\",\"field\":\"value\",\"transform\":{\"type\":\"object\",\"name\":\"LinearColorMapper\",\"id\":\"p17660\",\"attributes\":{\"palette\":[\"#4575b4\",\"#91bfdb\",\"#e0f3f8\",\"#ffffbf\",\"#fee090\",\"#fc8d59\",\"#d73027\"],\"low\":-1,\"high\":1}}},\"fill_color\":{\"type\":\"field\",\"field\":\"value\",\"transform\":{\"id\":\"p17660\"}},\"hatch_color\":{\"type\":\"field\",\"field\":\"value\",\"transform\":{\"id\":\"p17660\"}},\"marker\":{\"type\":\"value\",\"value\":\"square\"}}},\"nonselection_glyph\":{\"type\":\"object\",\"name\":\"Scatter\",\"id\":\"p17668\",\"attributes\":{\"x\":{\"type\":\"field\",\"field\":\"index\"},\"y\":{\"type\":\"field\",\"field\":\"variable\"},\"size\":{\"type\":\"field\",\"field\":\"size\"},\"line_color\":{\"type\":\"field\",\"field\":\"value\",\"transform\":{\"id\":\"p17660\"}},\"line_alpha\":{\"type\":\"value\",\"value\":0.1},\"fill_color\":{\"type\":\"field\",\"field\":\"value\",\"transform\":{\"id\":\"p17660\"}},\"fill_alpha\":{\"type\":\"value\",\"value\":0.1},\"hatch_color\":{\"type\":\"field\",\"field\":\"value\",\"transform\":{\"id\":\"p17660\"}},\"hatch_alpha\":{\"type\":\"value\",\"value\":0.1},\"marker\":{\"type\":\"value\",\"value\":\"square\"}}},\"muted_glyph\":{\"type\":\"object\",\"name\":\"Scatter\",\"id\":\"p17669\",\"attributes\":{\"x\":{\"type\":\"field\",\"field\":\"index\"},\"y\":{\"type\":\"field\",\"field\":\"variable\"},\"size\":{\"type\":\"field\",\"field\":\"size\"},\"line_color\":{\"type\":\"field\",\"field\":\"value\",\"transform\":{\"id\":\"p17660\"}},\"line_alpha\":{\"type\":\"value\",\"value\":0.2},\"fill_color\":{\"type\":\"field\",\"field\":\"value\",\"transform\":{\"id\":\"p17660\"}},\"fill_alpha\":{\"type\":\"value\",\"value\":0.2},\"hatch_color\":{\"type\":\"field\",\"field\":\"value\",\"transform\":{\"id\":\"p17660\"}},\"hatch_alpha\":{\"type\":\"value\",\"value\":0.2},\"marker\":{\"type\":\"value\",\"value\":\"square\"}}}}}],\"toolbar\":{\"type\":\"object\",\"name\":\"Toolbar\",\"id\":\"p17632\",\"attributes\":{\"tools\":[{\"type\":\"object\",\"name\":\"PanTool\",\"id\":\"p17647\"},{\"type\":\"object\",\"name\":\"WheelZoomTool\",\"id\":\"p17648\",\"attributes\":{\"renderers\":\"auto\"}},{\"type\":\"object\",\"name\":\"BoxZoomTool\",\"id\":\"p17649\",\"attributes\":{\"overlay\":{\"type\":\"object\",\"name\":\"BoxAnnotation\",\"id\":\"p17650\",\"attributes\":{\"syncable\":false,\"line_color\":\"black\",\"line_alpha\":1.0,\"line_width\":2,\"line_dash\":[4,4],\"fill_color\":\"lightgrey\",\"fill_alpha\":0.5,\"level\":\"overlay\",\"visible\":false,\"left\":{\"type\":\"number\",\"value\":\"nan\"},\"right\":{\"type\":\"number\",\"value\":\"nan\"},\"top\":{\"type\":\"number\",\"value\":\"nan\"},\"bottom\":{\"type\":\"number\",\"value\":\"nan\"},\"left_units\":\"canvas\",\"right_units\":\"canvas\",\"top_units\":\"canvas\",\"bottom_units\":\"canvas\",\"handles\":{\"type\":\"object\",\"name\":\"BoxInteractionHandles\",\"id\":\"p17656\",\"attributes\":{\"all\":{\"type\":\"object\",\"name\":\"AreaVisuals\",\"id\":\"p17655\",\"attributes\":{\"fill_color\":\"white\",\"hover_fill_color\":\"lightgray\"}}}}}}}},{\"type\":\"object\",\"name\":\"SaveTool\",\"id\":\"p17657\"},{\"type\":\"object\",\"name\":\"ResetTool\",\"id\":\"p17658\"},{\"type\":\"object\",\"name\":\"HelpTool\",\"id\":\"p17659\"}]}},\"left\":[{\"type\":\"object\",\"name\":\"CategoricalAxis\",\"id\":\"p17642\",\"attributes\":{\"ticker\":{\"type\":\"object\",\"name\":\"CategoricalTicker\",\"id\":\"p17643\"},\"formatter\":{\"type\":\"object\",\"name\":\"CategoricalTickFormatter\",\"id\":\"p17644\"},\"major_label_policy\":{\"type\":\"object\",\"name\":\"AllLabels\",\"id\":\"p17645\"}}}],\"right\":[{\"type\":\"object\",\"name\":\"ColorBar\",\"id\":\"p17674\",\"attributes\":{\"location\":[0,0],\"major_label_policy\":{\"type\":\"object\",\"name\":\"NoOverlap\",\"id\":\"p17675\"},\"label_standoff\":12,\"color_mapper\":{\"type\":\"object\",\"name\":\"LinearColorMapper\",\"id\":\"p17673\",\"attributes\":{\"palette\":[\"#2c7bb6\",\"#abd9e9\",\"#ffffbf\",\"#fdae61\",\"#d7191c\"],\"low\":-1,\"high\":1}}}}],\"below\":[{\"type\":\"object\",\"name\":\"CategoricalAxis\",\"id\":\"p17637\",\"attributes\":{\"ticker\":{\"type\":\"object\",\"name\":\"CategoricalTicker\",\"id\":\"p17638\"},\"formatter\":{\"type\":\"object\",\"name\":\"CategoricalTickFormatter\",\"id\":\"p17639\"},\"major_label_orientation\":-0.7853981633974483,\"major_label_policy\":{\"type\":\"object\",\"name\":\"AllLabels\",\"id\":\"p17640\"}}}],\"center\":[{\"type\":\"object\",\"name\":\"Grid\",\"id\":\"p17641\",\"attributes\":{\"axis\":{\"id\":\"p17637\"},\"ticker\":{\"type\":\"object\",\"name\":\"FixedTicker\",\"id\":\"p17676\",\"attributes\":{\"ticks\":[1,2,3,4,5,6,7,8,9,10,11,12,13,14,15,16,17,18,19,20,21],\"minor_ticks\":[]}}}},{\"type\":\"object\",\"name\":\"Grid\",\"id\":\"p17646\",\"attributes\":{\"dimension\":1,\"axis\":{\"id\":\"p17642\"},\"ticker\":{\"type\":\"object\",\"name\":\"FixedTicker\",\"id\":\"p17677\",\"attributes\":{\"ticks\":[1,2,3,4,5,6,7,8,9,10,11,12,13,14,15,16,17,18,19,20,21],\"minor_ticks\":[]}}}}]}}]}};\n  const render_items = [{\"docid\":\"8eaaa174-314b-4cdc-bc15-e259b45c429d\",\"roots\":{\"p17623\":\"c5187d43-fb81-405c-9124-fd54b2f0aa3f\"},\"root_ids\":[\"p17623\"]}];\n  void root.Bokeh.embed.embed_items_notebook(docs_json, render_items);\n  }\n  if (root.Bokeh !== undefined) {\n    embed_document(root);\n  } else {\n    let attempts = 0;\n    const timer = setInterval(function(root) {\n      if (root.Bokeh !== undefined) {\n        clearInterval(timer);\n        embed_document(root);\n      } else {\n        attempts++;\n        if (attempts > 100) {\n          clearInterval(timer);\n          console.log(\"Bokeh: ERROR: Unable to run BokehJS code because BokehJS library is missing\");\n        }\n      }\n    }, 10, root)\n  }\n})(window);",
            "application/vnd.bokehjs_exec.v0+json": ""
          },
          "metadata": {
            "application/vnd.bokehjs_exec.v0+json": {
              "id": "p17623"
            }
          },
          "output_type": "display_data"
        }
      ],
      "source": [
        "p = figure(x_range=variables, y_range=variables, width=800, height=700,\n",
        "           title=\"Correlation matrix\")\n",
        "\n",
        "p.scatter(marker='square', source=lin_corr, x='index', y='variable', size='size', color=linear_cmap(field_name='value', palette='RdYlBu7', low=-1, high=1))\n",
        "\n",
        "color_bar = ColorBar(color_mapper=LinearColorMapper('RdYlBu5', low=-1, high=1), # because Pearson correlation factor has the range [-1, 1]\n",
        "                    #  -1 ==> strongly Negativly Correlated.\n",
        "                    #  +1 ==> strongly Positively Correlated.\n",
        "                    #  0  ==> No Correlation\n",
        "                     label_standoff=12, border_line_color=None, location=(0,0))\n",
        "p.add_layout(color_bar, 'right')\n",
        "\n",
        "p.xgrid.ticker = FixedTicker(ticks=list(range(1,len(corr))))\n",
        "p.ygrid.ticker = FixedTicker(ticks=list(range(1,len(corr))))\n",
        "p.xaxis.major_label_orientation = -pi/4 # to rotate the label instead of being horizontal\n",
        "show(p)"
      ]
    },
    {
      "cell_type": "markdown",
      "metadata": {
        "id": "MwB66BHBAd1_"
      },
      "source": [
        "<div class=\"alert alert-success\">\n",
        "    \n",
        "**Find groups of variables that are strongly correlated** (positive or negative). Each group consists of variables that are pair-wise strongly correlated. The example below shows the group \"Properties of the engine\" which consists of horsepower, engine, cylinders.\n",
        "    \n",
        "**Tasks**\n",
        "- Find three additional groups, name them, and list the variables that belong to them.\n",
        "- Analyze if these high-level groups are correlated: Locate the positions in the matrix that encode the correlations between elements from two groups. Can you detect patterns?\n",
        "- Validate your findings using the scatterplot matrix.\n",
        "</div>\n",
        "\n",
        "![](cars_corrMatrix.png)"
      ]
    },
    {
      "cell_type": "markdown",
      "metadata": {
        "id": "FGtAfWdkAd1_"
      },
      "source": [
        "<div class=\"alert alert-warning\">\n",
        "\n",
        "### Groups:\n",
        "- **Engine properties:** horsepower, engine, cylinders\n",
        "  - strongly positively correlated, reflecting the engine's properties.\n",
        "\n",
        "<br/>\n",
        "\n",
        "- **Vehicle Size:** Length, Width, Wheelbase, Weight.\n",
        "  - strongly positively correlated, reflecting vehicle dimensions and mass.\n",
        "\n",
        "<br/>\n",
        "\n",
        "- **Fuel Efficiency:** CityMpg, HighwayMpg\n",
        "  - strongly positively correlated, as they both measure fuel efficiency under different conditions.\n",
        "\n",
        "<br/>\n",
        "\n",
        "- **Price Metrics:** MinPrice, MidPrice, MaxPrice.\n",
        "  - strongly positively correlated as they represent price ranges for the same vehicle.\n",
        "\n",
        "<br/>\n",
        "\n",
        "- **EngineRev & Cylinders:**\n",
        "  - strongly negatively correlated.\n",
        "\n",
        "<br/>\n",
        "\n",
        "### Additional correlations between groups:\n",
        "- **(Engine properties) + (Vehicle Size) --> POSITIVELY correlated**\n",
        "  - Looking at the correlation matrix, we can notice that the two groups are also positively correlated to each other.\n",
        "  👉 [engine-properties-and-vehicle-size](https://drive.google.com/file/d/1F4v2QO8fyaIbBGpXlauV00QDgmPzy5fZ/view?usp=sharing)\n",
        "\n",
        "<br/>\n",
        "\n",
        "- **(Fuel Efficiency) + (Price Metrics) --> NEGATIVELY correlated**\n",
        "  - From the correlation matrix, I have noticed that these two groups have light blue squares in the areas of cross-intersection, which means they have negative correlation with each other with Pearson correlation coefficient of approximately 0.5.\n",
        "  - Looking at the pdf file SPLOM (Scatter Plot Matrix) also verifies the finding:\n",
        "  👉 [fuel-efficiency-and-price-metrics](https://drive.google.com/file/d/16DauCcD4TBmAf32lTuJqUL-F3f0DYTDf/view?usp=sharing)\n",
        "\n",
        "<br/>\n",
        "\n",
        "- **(Fuel Efficiency) + (Vehicle Size) --> NEGATIVELY correlated**\n",
        "  - 👉 [fuel-efficiency-and-vehicle-size](https://drive.google.com/file/d/12n86LkjlZau2p4M5mff7pm4cpTcdhs8K/view?usp=drive_link)\n",
        "\n",
        "<br/>\n",
        "\n",
        "- **(Engine properties) + (Price Metrics) --> POSITIVELY correlated**\n",
        "    - Better motorization (properties of the engine), means higher price.\n",
        "</div>"
      ]
    },
    {
      "cell_type": "markdown",
      "metadata": {
        "id": "olO52jIiAd1_"
      },
      "source": [
        "<div class=\"alert alert-info\">\n",
        "    \n",
        "## 3. Explained variance of PCA\n",
        "</div>\n",
        "\n",
        "Compute the [PCA](http://scikit-learn.org/stable/modules/generated/sklearn.decomposition.PCA.html) for the cars dataset"
      ]
    },
    {
      "cell_type": "code",
      "execution_count": 259,
      "metadata": {
        "id": "lus1Ar6-Ad1_"
      },
      "outputs": [],
      "source": [
        "# only use numeric attributes and exclude the type which we would like to predict\n",
        "var = ['MinPrice', 'MidPrice','MaxPrice', 'CityMpg', 'HighwayMpg', 'Cylinders',\n",
        "       'Engine', 'Horsepower', 'RPM', 'EngineRev',\n",
        "       'Tank', 'Passenger', 'Length', 'Width', 'UTurn', 'Weight']\n",
        "\n",
        "# store standardized data in cars_std\n",
        "cars_std = StandardScaler().fit_transform(cars[var]) # shape: (91, 16) -- 91 rows, 16 variables\n",
        "\n",
        "# store PCA in variable pca\n",
        "pca = PCA(n_components=len(var)).fit(cars_std)"
      ]
    },
    {
      "cell_type": "code",
      "execution_count": 260,
      "metadata": {
        "colab": {
          "base_uri": "https://localhost:8080/",
          "height": 417
        },
        "id": "nMoN2DiRAd1_",
        "outputId": "6c4898ab-d57c-499a-91f3-23d4073e4f57"
      },
      "outputs": [
        {
          "data": {
            "application/javascript": "'use strict';\n(function(root) {\n  function now() {\n    return new Date();\n  }\n\n  const force = true;\n\n  if (typeof root._bokeh_onload_callbacks === \"undefined\" || force === true) {\n    root._bokeh_onload_callbacks = [];\n    root._bokeh_is_loading = undefined;\n  }\n\nconst JS_MIME_TYPE = 'application/javascript';\n  const HTML_MIME_TYPE = 'text/html';\n  const EXEC_MIME_TYPE = 'application/vnd.bokehjs_exec.v0+json';\n  const CLASS_NAME = 'output_bokeh rendered_html';\n\n  /**\n   * Render data to the DOM node\n   */\n  function render(props, node) {\n    const script = document.createElement(\"script\");\n    node.appendChild(script);\n  }\n\n  /**\n   * Handle when an output is cleared or removed\n   */\n  function handleClearOutput(event, handle) {\n    function drop(id) {\n      const view = Bokeh.index.get_by_id(id)\n      if (view != null) {\n        view.model.document.clear()\n        Bokeh.index.delete(view)\n      }\n    }\n\n    const cell = handle.cell;\n\n    const id = cell.output_area._bokeh_element_id;\n    const server_id = cell.output_area._bokeh_server_id;\n\n    // Clean up Bokeh references\n    if (id != null) {\n      drop(id)\n    }\n\n    if (server_id !== undefined) {\n      // Clean up Bokeh references\n      const cmd_clean = \"from bokeh.io.state import curstate; print(curstate().uuid_to_server['\" + server_id + \"'].get_sessions()[0].document.roots[0]._id)\";\n      cell.notebook.kernel.execute(cmd_clean, {\n        iopub: {\n          output: function(msg) {\n            const id = msg.content.text.trim()\n            drop(id)\n          }\n        }\n      });\n      // Destroy server and session\n      const cmd_destroy = \"import bokeh.io.notebook as ion; ion.destroy_server('\" + server_id + \"')\";\n      cell.notebook.kernel.execute(cmd_destroy);\n    }\n  }\n\n  /**\n   * Handle when a new output is added\n   */\n  function handleAddOutput(event, handle) {\n    const output_area = handle.output_area;\n    const output = handle.output;\n\n    // limit handleAddOutput to display_data with EXEC_MIME_TYPE content only\n    if ((output.output_type != \"display_data\") || (!Object.prototype.hasOwnProperty.call(output.data, EXEC_MIME_TYPE))) {\n      return\n    }\n\n    const toinsert = output_area.element.find(\".\" + CLASS_NAME.split(' ')[0]);\n\n    if (output.metadata[EXEC_MIME_TYPE][\"id\"] !== undefined) {\n      toinsert[toinsert.length - 1].firstChild.textContent = output.data[JS_MIME_TYPE];\n      // store reference to embed id on output_area\n      output_area._bokeh_element_id = output.metadata[EXEC_MIME_TYPE][\"id\"];\n    }\n    if (output.metadata[EXEC_MIME_TYPE][\"server_id\"] !== undefined) {\n      const bk_div = document.createElement(\"div\");\n      bk_div.innerHTML = output.data[HTML_MIME_TYPE];\n      const script_attrs = bk_div.children[0].attributes;\n      for (let i = 0; i < script_attrs.length; i++) {\n        toinsert[toinsert.length - 1].firstChild.setAttribute(script_attrs[i].name, script_attrs[i].value);\n        toinsert[toinsert.length - 1].firstChild.textContent = bk_div.children[0].textContent\n      }\n      // store reference to server id on output_area\n      output_area._bokeh_server_id = output.metadata[EXEC_MIME_TYPE][\"server_id\"];\n    }\n  }\n\n  function register_renderer(events, OutputArea) {\n\n    function append_mime(data, metadata, element) {\n      // create a DOM node to render to\n      const toinsert = this.create_output_subarea(\n        metadata,\n        CLASS_NAME,\n        EXEC_MIME_TYPE\n      );\n      this.keyboard_manager.register_events(toinsert);\n      // Render to node\n      const props = {data: data, metadata: metadata[EXEC_MIME_TYPE]};\n      render(props, toinsert[toinsert.length - 1]);\n      element.append(toinsert);\n      return toinsert\n    }\n\n    /* Handle when an output is cleared or removed */\n    events.on('clear_output.CodeCell', handleClearOutput);\n    events.on('delete.Cell', handleClearOutput);\n\n    /* Handle when a new output is added */\n    events.on('output_added.OutputArea', handleAddOutput);\n\n    /**\n     * Register the mime type and append_mime function with output_area\n     */\n    OutputArea.prototype.register_mime_type(EXEC_MIME_TYPE, append_mime, {\n      /* Is output safe? */\n      safe: true,\n      /* Index of renderer in `output_area.display_order` */\n      index: 0\n    });\n  }\n\n  // register the mime type if in Jupyter Notebook environment and previously unregistered\n  if (root.Jupyter !== undefined) {\n    const events = require('base/js/events');\n    const OutputArea = require('notebook/js/outputarea').OutputArea;\n\n    if (OutputArea.prototype.mime_types().indexOf(EXEC_MIME_TYPE) == -1) {\n      register_renderer(events, OutputArea);\n    }\n  }\n  if (typeof (root._bokeh_timeout) === \"undefined\" || force === true) {\n    root._bokeh_timeout = Date.now() + 5000;\n    root._bokeh_failed_load = false;\n  }\n\n  const NB_LOAD_WARNING = {'data': {'text/html':\n     \"<div style='background-color: #fdd'>\\n\"+\n     \"<p>\\n\"+\n     \"BokehJS does not appear to have successfully loaded. If loading BokehJS from CDN, this \\n\"+\n     \"may be due to a slow or bad network connection. Possible fixes:\\n\"+\n     \"</p>\\n\"+\n     \"<ul>\\n\"+\n     \"<li>re-rerun `output_notebook()` to attempt to load from CDN again, or</li>\\n\"+\n     \"<li>use INLINE resources instead, as so:</li>\\n\"+\n     \"</ul>\\n\"+\n     \"<code>\\n\"+\n     \"from bokeh.resources import INLINE\\n\"+\n     \"output_notebook(resources=INLINE)\\n\"+\n     \"</code>\\n\"+\n     \"</div>\"}};\n\n  function display_loaded(error = null) {\n    const el = document.getElementById(null);\n    if (el != null) {\n      const html = (() => {\n        if (typeof root.Bokeh === \"undefined\") {\n          if (error == null) {\n            return \"BokehJS is loading ...\";\n          } else {\n            return \"BokehJS failed to load.\";\n          }\n        } else {\n          const prefix = `BokehJS ${root.Bokeh.version}`;\n          if (error == null) {\n            return `${prefix} successfully loaded.`;\n          } else {\n            return `${prefix} <b>encountered errors</b> while loading and may not function as expected.`;\n          }\n        }\n      })();\n      el.innerHTML = html;\n\n      if (error != null) {\n        const wrapper = document.createElement(\"div\");\n        wrapper.style.overflow = \"auto\";\n        wrapper.style.height = \"5em\";\n        wrapper.style.resize = \"vertical\";\n        const content = document.createElement(\"div\");\n        content.style.fontFamily = \"monospace\";\n        content.style.whiteSpace = \"pre-wrap\";\n        content.style.backgroundColor = \"rgb(255, 221, 221)\";\n        content.textContent = error.stack ?? error.toString();\n        wrapper.append(content);\n        el.append(wrapper);\n      }\n    } else if (Date.now() < root._bokeh_timeout) {\n      setTimeout(() => display_loaded(error), 100);\n    }\n  }\n\n  function run_callbacks() {\n    try {\n      root._bokeh_onload_callbacks.forEach(function(callback) {\n        if (callback != null)\n          callback();\n      });\n    } finally {\n      delete root._bokeh_onload_callbacks\n    }\n    console.debug(\"Bokeh: all callbacks have finished\");\n  }\n\n  function load_libs(css_urls, js_urls, callback) {\n    if (css_urls == null) css_urls = [];\n    if (js_urls == null) js_urls = [];\n\n    root._bokeh_onload_callbacks.push(callback);\n    if (root._bokeh_is_loading > 0) {\n      console.debug(\"Bokeh: BokehJS is being loaded, scheduling callback at\", now());\n      return null;\n    }\n    if (js_urls == null || js_urls.length === 0) {\n      run_callbacks();\n      return null;\n    }\n    console.debug(\"Bokeh: BokehJS not loaded, scheduling load and callback at\", now());\n    root._bokeh_is_loading = css_urls.length + js_urls.length;\n\n    function on_load() {\n      root._bokeh_is_loading--;\n      if (root._bokeh_is_loading === 0) {\n        console.debug(\"Bokeh: all BokehJS libraries/stylesheets loaded\");\n        run_callbacks()\n      }\n    }\n\n    function on_error(url) {\n      console.error(\"failed to load \" + url);\n    }\n\n    for (let i = 0; i < css_urls.length; i++) {\n      const url = css_urls[i];\n      const element = document.createElement(\"link\");\n      element.onload = on_load;\n      element.onerror = on_error.bind(null, url);\n      element.rel = \"stylesheet\";\n      element.type = \"text/css\";\n      element.href = url;\n      console.debug(\"Bokeh: injecting link tag for BokehJS stylesheet: \", url);\n      document.body.appendChild(element);\n    }\n\n    for (let i = 0; i < js_urls.length; i++) {\n      const url = js_urls[i];\n      const element = document.createElement('script');\n      element.onload = on_load;\n      element.onerror = on_error.bind(null, url);\n      element.async = false;\n      element.src = url;\n      console.debug(\"Bokeh: injecting script tag for BokehJS library: \", url);\n      document.head.appendChild(element);\n    }\n  };\n\n  function inject_raw_css(css) {\n    const element = document.createElement(\"style\");\n    element.appendChild(document.createTextNode(css));\n    document.body.appendChild(element);\n  }\n\n  const js_urls = [\"https://cdn.bokeh.org/bokeh/release/bokeh-3.6.2.min.js\", \"https://cdn.bokeh.org/bokeh/release/bokeh-gl-3.6.2.min.js\", \"https://cdn.bokeh.org/bokeh/release/bokeh-widgets-3.6.2.min.js\", \"https://cdn.bokeh.org/bokeh/release/bokeh-tables-3.6.2.min.js\", \"https://cdn.bokeh.org/bokeh/release/bokeh-mathjax-3.6.2.min.js\"];\n  const css_urls = [];\n\n  const inline_js = [    function(Bokeh) {\n      Bokeh.set_log_level(\"info\");\n    },\nfunction(Bokeh) {\n    }\n  ];\n\n  function run_inline_js() {\n    if (root.Bokeh !== undefined || force === true) {\n      try {\n            for (let i = 0; i < inline_js.length; i++) {\n      inline_js[i].call(root, root.Bokeh);\n    }\n\n      } catch (error) {throw error;\n      }} else if (Date.now() < root._bokeh_timeout) {\n      setTimeout(run_inline_js, 100);\n    } else if (!root._bokeh_failed_load) {\n      console.log(\"Bokeh: BokehJS failed to load within specified timeout.\");\n      root._bokeh_failed_load = true;\n    } else if (force !== true) {\n      const cell = $(document.getElementById(null)).parents('.cell').data().cell;\n      cell.output_area.append_execute_result(NB_LOAD_WARNING)\n    }\n  }\n\n  if (root._bokeh_is_loading === 0) {\n    console.debug(\"Bokeh: BokehJS loaded, going straight to plotting\");\n    run_inline_js();\n  } else {\n    load_libs(css_urls, js_urls, function() {\n      console.debug(\"Bokeh: BokehJS plotting callback run at\", now());\n      run_inline_js();\n    });\n  }\n}(window));",
            "application/vnd.bokehjs_load.v0+json": ""
          },
          "metadata": {},
          "output_type": "display_data"
        },
        {
          "data": {
            "text/html": [
              "\n",
              "  <div id=\"eb011ee4-8f56-4fe8-9b57-4b6e595db3b1\" data-root-id=\"p17684\" style=\"display: contents;\"></div>\n"
            ]
          },
          "metadata": {},
          "output_type": "display_data"
        },
        {
          "data": {
            "application/javascript": "(function(root) {\n  function embed_document(root) {\n  const docs_json = {\"c6aba6b0-789e-4775-9142-84e26cf93f99\":{\"version\":\"3.6.2\",\"title\":\"Bokeh Application\",\"roots\":[{\"type\":\"object\",\"name\":\"Figure\",\"id\":\"p17684\",\"attributes\":{\"width\":520,\"height\":400,\"x_range\":{\"type\":\"object\",\"name\":\"FactorRange\",\"id\":\"p17694\",\"attributes\":{\"factors\":[\"PC1\",\"PC2\",\"PC3\",\"PC4\",\"PC5\",\"PC6\",\"PC7\",\"PC8\",\"PC9\",\"PC10\",\"PC11\",\"PC12\",\"PC13\",\"PC14\",\"PC15\",\"PC16\"]}},\"y_range\":{\"type\":\"object\",\"name\":\"Range1d\",\"id\":\"p17695\",\"attributes\":{\"start\":-2,\"end\":105}},\"x_scale\":{\"type\":\"object\",\"name\":\"CategoricalScale\",\"id\":\"p17696\"},\"y_scale\":{\"type\":\"object\",\"name\":\"LinearScale\",\"id\":\"p17697\"},\"title\":{\"type\":\"object\",\"name\":\"Title\",\"id\":\"p17687\",\"attributes\":{\"text\":\"Explained variance of PCA of cars dataset\"}},\"renderers\":[{\"type\":\"object\",\"name\":\"GlyphRenderer\",\"id\":\"p17727\",\"attributes\":{\"data_source\":{\"type\":\"object\",\"name\":\"ColumnDataSource\",\"id\":\"p17681\",\"attributes\":{\"selected\":{\"type\":\"object\",\"name\":\"Selection\",\"id\":\"p17682\",\"attributes\":{\"indices\":[],\"line_indices\":[]}},\"selection_policy\":{\"type\":\"object\",\"name\":\"UnionRenderers\",\"id\":\"p17683\"},\"data\":{\"type\":\"map\",\"entries\":[[\"x\",[\"PC1\",\"PC2\",\"PC3\",\"PC4\",\"PC5\",\"PC6\",\"PC7\",\"PC8\",\"PC9\",\"PC10\",\"PC11\",\"PC12\",\"PC13\",\"PC14\",\"PC15\",\"PC16\"]],[\"var_exp\",{\"type\":\"ndarray\",\"array\":{\"type\":\"bytes\",\"data\":\"vN0ylE1FUEAooxnuhOMrQI6CSZHw5BVAbpNZLd+HDkCFsBULDQ0IQAjY3AGggABAvRztTDtp/D9x6lj8nOv3P4Kox2E3B/I/rhTSM5f95D8Td3kNm27gP3sWl/WZhdY/K4QQAfzK1T+bZswb0c/JP9z0VCl3icM/wcnx1l27AD8=\"},\"shape\":[16],\"dtype\":\"float64\",\"order\":\"little\"}],[\"cum_var_exp\",{\"type\":\"ndarray\",\"array\":{\"type\":\"bytes\",\"data\":\"vN0ylE1FUEAhEvYxvsFTQEqqCjsNIFVA5XZ1NEwUVkBpJM6ctNRWQCkL3Zy5WFdAnL8Qil7KV0BGIwL+DCpYQOhBidspclhAEebwCSWcWED/2AtAAr1YQBVwAdqH01hAmYAC1lLpWEDMZpC+OvZYQEYRJXr//1hA/v//////WEA=\"},\"shape\":[16],\"dtype\":\"float64\",\"order\":\"little\"}]]}}},\"view\":{\"type\":\"object\",\"name\":\"CDSView\",\"id\":\"p17728\",\"attributes\":{\"filter\":{\"type\":\"object\",\"name\":\"AllIndices\",\"id\":\"p17729\"}}},\"glyph\":{\"type\":\"object\",\"name\":\"VBar\",\"id\":\"p17724\",\"attributes\":{\"x\":{\"type\":\"field\",\"field\":\"x\"},\"width\":{\"type\":\"value\",\"value\":0.9},\"top\":{\"type\":\"field\",\"field\":\"var_exp\"},\"line_color\":{\"type\":\"value\",\"value\":\"#1f77b4\"},\"fill_color\":{\"type\":\"value\",\"value\":\"#1f77b4\"}}},\"nonselection_glyph\":{\"type\":\"object\",\"name\":\"VBar\",\"id\":\"p17725\",\"attributes\":{\"x\":{\"type\":\"field\",\"field\":\"x\"},\"width\":{\"type\":\"value\",\"value\":0.9},\"top\":{\"type\":\"field\",\"field\":\"var_exp\"},\"line_color\":{\"type\":\"value\",\"value\":\"#1f77b4\"},\"line_alpha\":{\"type\":\"value\",\"value\":0.1},\"fill_color\":{\"type\":\"value\",\"value\":\"#1f77b4\"},\"fill_alpha\":{\"type\":\"value\",\"value\":0.1},\"hatch_alpha\":{\"type\":\"value\",\"value\":0.1}}},\"muted_glyph\":{\"type\":\"object\",\"name\":\"VBar\",\"id\":\"p17726\",\"attributes\":{\"x\":{\"type\":\"field\",\"field\":\"x\"},\"width\":{\"type\":\"value\",\"value\":0.9},\"top\":{\"type\":\"field\",\"field\":\"var_exp\"},\"line_color\":{\"type\":\"value\",\"value\":\"#1f77b4\"},\"line_alpha\":{\"type\":\"value\",\"value\":0.2},\"fill_color\":{\"type\":\"value\",\"value\":\"#1f77b4\"},\"fill_alpha\":{\"type\":\"value\",\"value\":0.2},\"hatch_alpha\":{\"type\":\"value\",\"value\":0.2}}}}},{\"type\":\"object\",\"name\":\"GlyphRenderer\",\"id\":\"p17738\",\"attributes\":{\"data_source\":{\"type\":\"object\",\"name\":\"ColumnDataSource\",\"id\":\"p17732\",\"attributes\":{\"selected\":{\"type\":\"object\",\"name\":\"Selection\",\"id\":\"p17733\",\"attributes\":{\"indices\":[],\"line_indices\":[]}},\"selection_policy\":{\"type\":\"object\",\"name\":\"UnionRenderers\",\"id\":\"p17734\"},\"data\":{\"type\":\"map\",\"entries\":[[\"x\",[\"PC1\",\"PC2\",\"PC3\",\"PC4\",\"PC5\",\"PC6\",\"PC7\",\"PC8\",\"PC9\",\"PC10\",\"PC11\",\"PC12\",\"PC13\",\"PC14\",\"PC15\",\"PC16\"]],[\"y\",{\"type\":\"ndarray\",\"array\":{\"type\":\"bytes\",\"data\":\"vN0ylE1FUEAhEvYxvsFTQEqqCjsNIFVA5XZ1NEwUVkBpJM6ctNRWQCkL3Zy5WFdAnL8Qil7KV0BGIwL+DCpYQOhBidspclhAEebwCSWcWED/2AtAAr1YQBVwAdqH01hAmYAC1lLpWEDMZpC+OvZYQEYRJXr//1hA/v//////WEA=\"},\"shape\":[16],\"dtype\":\"float64\",\"order\":\"little\"}]]}}},\"view\":{\"type\":\"object\",\"name\":\"CDSView\",\"id\":\"p17739\",\"attributes\":{\"filter\":{\"type\":\"object\",\"name\":\"AllIndices\",\"id\":\"p17740\"}}},\"glyph\":{\"type\":\"object\",\"name\":\"Scatter\",\"id\":\"p17735\",\"attributes\":{\"x\":{\"type\":\"field\",\"field\":\"x\"},\"y\":{\"type\":\"field\",\"field\":\"y\"},\"size\":{\"type\":\"value\",\"value\":5},\"line_color\":{\"type\":\"value\",\"value\":\"orange\"},\"fill_color\":{\"type\":\"value\",\"value\":\"orange\"},\"hatch_color\":{\"type\":\"value\",\"value\":\"orange\"}}},\"nonselection_glyph\":{\"type\":\"object\",\"name\":\"Scatter\",\"id\":\"p17736\",\"attributes\":{\"x\":{\"type\":\"field\",\"field\":\"x\"},\"y\":{\"type\":\"field\",\"field\":\"y\"},\"size\":{\"type\":\"value\",\"value\":5},\"line_color\":{\"type\":\"value\",\"value\":\"orange\"},\"line_alpha\":{\"type\":\"value\",\"value\":0.1},\"fill_color\":{\"type\":\"value\",\"value\":\"orange\"},\"fill_alpha\":{\"type\":\"value\",\"value\":0.1},\"hatch_color\":{\"type\":\"value\",\"value\":\"orange\"},\"hatch_alpha\":{\"type\":\"value\",\"value\":0.1}}},\"muted_glyph\":{\"type\":\"object\",\"name\":\"Scatter\",\"id\":\"p17737\",\"attributes\":{\"x\":{\"type\":\"field\",\"field\":\"x\"},\"y\":{\"type\":\"field\",\"field\":\"y\"},\"size\":{\"type\":\"value\",\"value\":5},\"line_color\":{\"type\":\"value\",\"value\":\"orange\"},\"line_alpha\":{\"type\":\"value\",\"value\":0.2},\"fill_color\":{\"type\":\"value\",\"value\":\"orange\"},\"fill_alpha\":{\"type\":\"value\",\"value\":0.2},\"hatch_color\":{\"type\":\"value\",\"value\":\"orange\"},\"hatch_alpha\":{\"type\":\"value\",\"value\":0.2}}}}},{\"type\":\"object\",\"name\":\"GlyphRenderer\",\"id\":\"p17748\",\"attributes\":{\"data_source\":{\"type\":\"object\",\"name\":\"ColumnDataSource\",\"id\":\"p17742\",\"attributes\":{\"selected\":{\"type\":\"object\",\"name\":\"Selection\",\"id\":\"p17743\",\"attributes\":{\"indices\":[],\"line_indices\":[]}},\"selection_policy\":{\"type\":\"object\",\"name\":\"UnionRenderers\",\"id\":\"p17744\"},\"data\":{\"type\":\"map\",\"entries\":[[\"x\",[\"PC1\",\"PC2\",\"PC3\",\"PC4\",\"PC5\",\"PC6\",\"PC7\",\"PC8\",\"PC9\",\"PC10\",\"PC11\",\"PC12\",\"PC13\",\"PC14\",\"PC15\",\"PC16\"]],[\"y\",{\"type\":\"ndarray\",\"array\":{\"type\":\"bytes\",\"data\":\"vN0ylE1FUEAhEvYxvsFTQEqqCjsNIFVA5XZ1NEwUVkBpJM6ctNRWQCkL3Zy5WFdAnL8Qil7KV0BGIwL+DCpYQOhBidspclhAEebwCSWcWED/2AtAAr1YQBVwAdqH01hAmYAC1lLpWEDMZpC+OvZYQEYRJXr//1hA/v//////WEA=\"},\"shape\":[16],\"dtype\":\"float64\",\"order\":\"little\"}]]}}},\"view\":{\"type\":\"object\",\"name\":\"CDSView\",\"id\":\"p17749\",\"attributes\":{\"filter\":{\"type\":\"object\",\"name\":\"AllIndices\",\"id\":\"p17750\"}}},\"glyph\":{\"type\":\"object\",\"name\":\"Line\",\"id\":\"p17745\",\"attributes\":{\"x\":{\"type\":\"field\",\"field\":\"x\"},\"y\":{\"type\":\"field\",\"field\":\"y\"},\"line_color\":\"orange\",\"line_width\":2}},\"nonselection_glyph\":{\"type\":\"object\",\"name\":\"Line\",\"id\":\"p17746\",\"attributes\":{\"x\":{\"type\":\"field\",\"field\":\"x\"},\"y\":{\"type\":\"field\",\"field\":\"y\"},\"line_color\":\"orange\",\"line_alpha\":0.1,\"line_width\":2}},\"muted_glyph\":{\"type\":\"object\",\"name\":\"Line\",\"id\":\"p17747\",\"attributes\":{\"x\":{\"type\":\"field\",\"field\":\"x\"},\"y\":{\"type\":\"field\",\"field\":\"y\"},\"line_color\":\"orange\",\"line_alpha\":0.2,\"line_width\":2}}}}],\"toolbar\":{\"type\":\"object\",\"name\":\"Toolbar\",\"id\":\"p17693\",\"attributes\":{\"tools\":[{\"type\":\"object\",\"name\":\"PanTool\",\"id\":\"p17708\"},{\"type\":\"object\",\"name\":\"WheelZoomTool\",\"id\":\"p17709\",\"attributes\":{\"renderers\":\"auto\"}},{\"type\":\"object\",\"name\":\"BoxZoomTool\",\"id\":\"p17710\",\"attributes\":{\"overlay\":{\"type\":\"object\",\"name\":\"BoxAnnotation\",\"id\":\"p17711\",\"attributes\":{\"syncable\":false,\"line_color\":\"black\",\"line_alpha\":1.0,\"line_width\":2,\"line_dash\":[4,4],\"fill_color\":\"lightgrey\",\"fill_alpha\":0.5,\"level\":\"overlay\",\"visible\":false,\"left\":{\"type\":\"number\",\"value\":\"nan\"},\"right\":{\"type\":\"number\",\"value\":\"nan\"},\"top\":{\"type\":\"number\",\"value\":\"nan\"},\"bottom\":{\"type\":\"number\",\"value\":\"nan\"},\"left_units\":\"canvas\",\"right_units\":\"canvas\",\"top_units\":\"canvas\",\"bottom_units\":\"canvas\",\"handles\":{\"type\":\"object\",\"name\":\"BoxInteractionHandles\",\"id\":\"p17717\",\"attributes\":{\"all\":{\"type\":\"object\",\"name\":\"AreaVisuals\",\"id\":\"p17716\",\"attributes\":{\"fill_color\":\"white\",\"hover_fill_color\":\"lightgray\"}}}}}}}},{\"type\":\"object\",\"name\":\"SaveTool\",\"id\":\"p17718\"},{\"type\":\"object\",\"name\":\"ResetTool\",\"id\":\"p17719\"},{\"type\":\"object\",\"name\":\"HelpTool\",\"id\":\"p17720\"}]}},\"toolbar_location\":null,\"left\":[{\"type\":\"object\",\"name\":\"LinearAxis\",\"id\":\"p17703\",\"attributes\":{\"ticker\":{\"type\":\"object\",\"name\":\"BasicTicker\",\"id\":\"p17704\",\"attributes\":{\"mantissas\":[1,2,5]}},\"formatter\":{\"type\":\"object\",\"name\":\"BasicTickFormatter\",\"id\":\"p17705\"},\"axis_label\":\"Explained variance in percent\",\"major_label_policy\":{\"type\":\"object\",\"name\":\"AllLabels\",\"id\":\"p17706\"}}}],\"below\":[{\"type\":\"object\",\"name\":\"CategoricalAxis\",\"id\":\"p17698\",\"attributes\":{\"ticker\":{\"type\":\"object\",\"name\":\"CategoricalTicker\",\"id\":\"p17699\"},\"formatter\":{\"type\":\"object\",\"name\":\"CategoricalTickFormatter\",\"id\":\"p17700\"},\"major_label_policy\":{\"type\":\"object\",\"name\":\"AllLabels\",\"id\":\"p17701\"}}}],\"center\":[{\"type\":\"object\",\"name\":\"Grid\",\"id\":\"p17702\",\"attributes\":{\"visible\":false,\"axis\":{\"id\":\"p17698\"}}},{\"type\":\"object\",\"name\":\"Grid\",\"id\":\"p17707\",\"attributes\":{\"dimension\":1,\"axis\":{\"id\":\"p17703\"}}},{\"type\":\"object\",\"name\":\"Legend\",\"id\":\"p17730\",\"attributes\":{\"location\":[235,155],\"border_line_color\":null,\"items\":[{\"type\":\"object\",\"name\":\"LegendItem\",\"id\":\"p17731\",\"attributes\":{\"label\":{\"type\":\"value\",\"value\":\"Explained variance\"},\"renderers\":[{\"id\":\"p17727\"}]}},{\"type\":\"object\",\"name\":\"LegendItem\",\"id\":\"p17741\",\"attributes\":{\"label\":{\"type\":\"value\",\"value\":\"Cumulative explained variance\"},\"renderers\":[{\"id\":\"p17738\"}]}}]}}]}}]}};\n  const render_items = [{\"docid\":\"c6aba6b0-789e-4775-9142-84e26cf93f99\",\"roots\":{\"p17684\":\"eb011ee4-8f56-4fe8-9b57-4b6e595db3b1\"},\"root_ids\":[\"p17684\"]}];\n  void root.Bokeh.embed.embed_items_notebook(docs_json, render_items);\n  }\n  if (root.Bokeh !== undefined) {\n    embed_document(root);\n  } else {\n    let attempts = 0;\n    const timer = setInterval(function(root) {\n      if (root.Bokeh !== undefined) {\n        clearInterval(timer);\n        embed_document(root);\n      } else {\n        attempts++;\n        if (attempts > 100) {\n          clearInterval(timer);\n          console.log(\"Bokeh: ERROR: Unable to run BokehJS code because BokehJS library is missing\");\n        }\n      }\n    }, 10, root)\n  }\n})(window);",
            "application/vnd.bokehjs_exec.v0+json": ""
          },
          "metadata": {
            "application/vnd.bokehjs_exec.v0+json": {
              "id": "p17684"
            }
          },
          "output_type": "display_data"
        }
      ],
      "source": [
        "var_exp = pca.explained_variance_ratio_*100 # a list of the variances for each variable (column) multiplied by 100 to be represented as percentage\n",
        "# print(var_exp)\n",
        "cum_var_exp = np.cumsum(var_exp) # cumulative sum of the variances. i.e. cum_var_exp[n] = \\sum_{i=0}^{n} var_exp[i]\n",
        "# print(cum_var_exp)\n",
        "x = [f'PC{i+1}' for i in range(len(var))]\n",
        "\n",
        "source = ColumnDataSource( dict(x=x, var_exp=var_exp, cum_var_exp=cum_var_exp) )\n",
        "\n",
        "p = figure( width=520, height=400, toolbar_location=None, x_range=x, y_range=(-2,105),\n",
        "            title=\"Explained variance of PCA of cars dataset\")\n",
        "\n",
        "p.vbar( source=source, x='x', top='var_exp', width=0.9, bottom=0, legend_label='Explained variance' )\n",
        "\n",
        "p.scatter( x, cum_var_exp, color='orange', size=5, legend_label=\"Cumulative explained variance\")\n",
        "p.line( x, cum_var_exp, color='orange', line_width=2 )\n",
        "\n",
        "p.legend.location = (235,155)\n",
        "p.legend.border_line_color = None\n",
        "p.xgrid.visible = False\n",
        "p.yaxis.axis_label = \"Explained variance in percent\"\n",
        "\n",
        "show(p)"
      ]
    },
    {
      "cell_type": "markdown",
      "metadata": {
        "id": "6WoJVAgzAd1_"
      },
      "source": [
        "<div class=\"alert alert-success\">\n",
        "\n",
        "**Questions**\n",
        "- How much variance is explained by the first two principal component(s) roughly?\n",
        "- How many components do you need to explain 90% of the variance in the data (roughly, use figure estimate)?\n",
        "</div>"
      ]
    },
    {
      "cell_type": "markdown",
      "metadata": {
        "id": "wCDZe1-gAd2A"
      },
      "source": [
        "<div class=\"alert alert-warning\">\n",
        "<b>Answers</b>\n",
        "\n",
        "- PC1 (≈ 64%) + PC2 (≈ 15%) ≈ 79% of the variance is explained by the first two principal components.\n",
        "\n",
        "- We need the first 5 components to explain 90% of the variance in the data.  \n",
        "\n",
        "</div>"
      ]
    },
    {
      "cell_type": "markdown",
      "metadata": {
        "id": "UVkSle8XAd2A"
      },
      "source": [
        "<div class=\"alert alert-info\">\n",
        "    \n",
        "## 4. Interpret the projection\n",
        "</div>"
      ]
    },
    {
      "cell_type": "code",
      "execution_count": 261,
      "metadata": {
        "id": "iBLrNbbRAd2A"
      },
      "outputs": [],
      "source": [
        "# project the data and add the labels using the cars' type\n",
        "pca_cars = pd.DataFrame( pca.transform(cars_std), columns=[f'PC{i+1}' for i in range(pca.n_components_)])\n",
        "pca_cars['label'] = cars.Type # Small, Midsize, Compact, Van, Sporty\n",
        "\n",
        "# Again, why did we do this? WHy not from the beginning include the `Type` column in the cars_std?\n",
        "# Answer: Because `Type` is categorial (non-numeric) feature, and we wanted to include only numeric columns in the poc all PCA components\n",
        "# to be numeric when we instantiated the PCA instance:\n",
        "# > pca = PCA(n_components=len(var)).fit(cars_std)\n",
        "\n",
        "# get the different classes in the Type variable\n",
        "factors = sorted(pca_cars.label.unique()) # ['Compact', 'Large', 'Midsize', 'Small', 'Sporty', 'Van']"
      ]
    },
    {
      "cell_type": "code",
      "execution_count": 262,
      "metadata": {
        "colab": {
          "base_uri": "https://localhost:8080/",
          "height": 617
        },
        "id": "dT3Maq24Ad2A",
        "outputId": "3a2404e7-28bd-4194-efe3-a23b9b0f1baf"
      },
      "outputs": [
        {
          "data": {
            "application/javascript": "'use strict';\n(function(root) {\n  function now() {\n    return new Date();\n  }\n\n  const force = true;\n\n  if (typeof root._bokeh_onload_callbacks === \"undefined\" || force === true) {\n    root._bokeh_onload_callbacks = [];\n    root._bokeh_is_loading = undefined;\n  }\n\nconst JS_MIME_TYPE = 'application/javascript';\n  const HTML_MIME_TYPE = 'text/html';\n  const EXEC_MIME_TYPE = 'application/vnd.bokehjs_exec.v0+json';\n  const CLASS_NAME = 'output_bokeh rendered_html';\n\n  /**\n   * Render data to the DOM node\n   */\n  function render(props, node) {\n    const script = document.createElement(\"script\");\n    node.appendChild(script);\n  }\n\n  /**\n   * Handle when an output is cleared or removed\n   */\n  function handleClearOutput(event, handle) {\n    function drop(id) {\n      const view = Bokeh.index.get_by_id(id)\n      if (view != null) {\n        view.model.document.clear()\n        Bokeh.index.delete(view)\n      }\n    }\n\n    const cell = handle.cell;\n\n    const id = cell.output_area._bokeh_element_id;\n    const server_id = cell.output_area._bokeh_server_id;\n\n    // Clean up Bokeh references\n    if (id != null) {\n      drop(id)\n    }\n\n    if (server_id !== undefined) {\n      // Clean up Bokeh references\n      const cmd_clean = \"from bokeh.io.state import curstate; print(curstate().uuid_to_server['\" + server_id + \"'].get_sessions()[0].document.roots[0]._id)\";\n      cell.notebook.kernel.execute(cmd_clean, {\n        iopub: {\n          output: function(msg) {\n            const id = msg.content.text.trim()\n            drop(id)\n          }\n        }\n      });\n      // Destroy server and session\n      const cmd_destroy = \"import bokeh.io.notebook as ion; ion.destroy_server('\" + server_id + \"')\";\n      cell.notebook.kernel.execute(cmd_destroy);\n    }\n  }\n\n  /**\n   * Handle when a new output is added\n   */\n  function handleAddOutput(event, handle) {\n    const output_area = handle.output_area;\n    const output = handle.output;\n\n    // limit handleAddOutput to display_data with EXEC_MIME_TYPE content only\n    if ((output.output_type != \"display_data\") || (!Object.prototype.hasOwnProperty.call(output.data, EXEC_MIME_TYPE))) {\n      return\n    }\n\n    const toinsert = output_area.element.find(\".\" + CLASS_NAME.split(' ')[0]);\n\n    if (output.metadata[EXEC_MIME_TYPE][\"id\"] !== undefined) {\n      toinsert[toinsert.length - 1].firstChild.textContent = output.data[JS_MIME_TYPE];\n      // store reference to embed id on output_area\n      output_area._bokeh_element_id = output.metadata[EXEC_MIME_TYPE][\"id\"];\n    }\n    if (output.metadata[EXEC_MIME_TYPE][\"server_id\"] !== undefined) {\n      const bk_div = document.createElement(\"div\");\n      bk_div.innerHTML = output.data[HTML_MIME_TYPE];\n      const script_attrs = bk_div.children[0].attributes;\n      for (let i = 0; i < script_attrs.length; i++) {\n        toinsert[toinsert.length - 1].firstChild.setAttribute(script_attrs[i].name, script_attrs[i].value);\n        toinsert[toinsert.length - 1].firstChild.textContent = bk_div.children[0].textContent\n      }\n      // store reference to server id on output_area\n      output_area._bokeh_server_id = output.metadata[EXEC_MIME_TYPE][\"server_id\"];\n    }\n  }\n\n  function register_renderer(events, OutputArea) {\n\n    function append_mime(data, metadata, element) {\n      // create a DOM node to render to\n      const toinsert = this.create_output_subarea(\n        metadata,\n        CLASS_NAME,\n        EXEC_MIME_TYPE\n      );\n      this.keyboard_manager.register_events(toinsert);\n      // Render to node\n      const props = {data: data, metadata: metadata[EXEC_MIME_TYPE]};\n      render(props, toinsert[toinsert.length - 1]);\n      element.append(toinsert);\n      return toinsert\n    }\n\n    /* Handle when an output is cleared or removed */\n    events.on('clear_output.CodeCell', handleClearOutput);\n    events.on('delete.Cell', handleClearOutput);\n\n    /* Handle when a new output is added */\n    events.on('output_added.OutputArea', handleAddOutput);\n\n    /**\n     * Register the mime type and append_mime function with output_area\n     */\n    OutputArea.prototype.register_mime_type(EXEC_MIME_TYPE, append_mime, {\n      /* Is output safe? */\n      safe: true,\n      /* Index of renderer in `output_area.display_order` */\n      index: 0\n    });\n  }\n\n  // register the mime type if in Jupyter Notebook environment and previously unregistered\n  if (root.Jupyter !== undefined) {\n    const events = require('base/js/events');\n    const OutputArea = require('notebook/js/outputarea').OutputArea;\n\n    if (OutputArea.prototype.mime_types().indexOf(EXEC_MIME_TYPE) == -1) {\n      register_renderer(events, OutputArea);\n    }\n  }\n  if (typeof (root._bokeh_timeout) === \"undefined\" || force === true) {\n    root._bokeh_timeout = Date.now() + 5000;\n    root._bokeh_failed_load = false;\n  }\n\n  const NB_LOAD_WARNING = {'data': {'text/html':\n     \"<div style='background-color: #fdd'>\\n\"+\n     \"<p>\\n\"+\n     \"BokehJS does not appear to have successfully loaded. If loading BokehJS from CDN, this \\n\"+\n     \"may be due to a slow or bad network connection. Possible fixes:\\n\"+\n     \"</p>\\n\"+\n     \"<ul>\\n\"+\n     \"<li>re-rerun `output_notebook()` to attempt to load from CDN again, or</li>\\n\"+\n     \"<li>use INLINE resources instead, as so:</li>\\n\"+\n     \"</ul>\\n\"+\n     \"<code>\\n\"+\n     \"from bokeh.resources import INLINE\\n\"+\n     \"output_notebook(resources=INLINE)\\n\"+\n     \"</code>\\n\"+\n     \"</div>\"}};\n\n  function display_loaded(error = null) {\n    const el = document.getElementById(null);\n    if (el != null) {\n      const html = (() => {\n        if (typeof root.Bokeh === \"undefined\") {\n          if (error == null) {\n            return \"BokehJS is loading ...\";\n          } else {\n            return \"BokehJS failed to load.\";\n          }\n        } else {\n          const prefix = `BokehJS ${root.Bokeh.version}`;\n          if (error == null) {\n            return `${prefix} successfully loaded.`;\n          } else {\n            return `${prefix} <b>encountered errors</b> while loading and may not function as expected.`;\n          }\n        }\n      })();\n      el.innerHTML = html;\n\n      if (error != null) {\n        const wrapper = document.createElement(\"div\");\n        wrapper.style.overflow = \"auto\";\n        wrapper.style.height = \"5em\";\n        wrapper.style.resize = \"vertical\";\n        const content = document.createElement(\"div\");\n        content.style.fontFamily = \"monospace\";\n        content.style.whiteSpace = \"pre-wrap\";\n        content.style.backgroundColor = \"rgb(255, 221, 221)\";\n        content.textContent = error.stack ?? error.toString();\n        wrapper.append(content);\n        el.append(wrapper);\n      }\n    } else if (Date.now() < root._bokeh_timeout) {\n      setTimeout(() => display_loaded(error), 100);\n    }\n  }\n\n  function run_callbacks() {\n    try {\n      root._bokeh_onload_callbacks.forEach(function(callback) {\n        if (callback != null)\n          callback();\n      });\n    } finally {\n      delete root._bokeh_onload_callbacks\n    }\n    console.debug(\"Bokeh: all callbacks have finished\");\n  }\n\n  function load_libs(css_urls, js_urls, callback) {\n    if (css_urls == null) css_urls = [];\n    if (js_urls == null) js_urls = [];\n\n    root._bokeh_onload_callbacks.push(callback);\n    if (root._bokeh_is_loading > 0) {\n      console.debug(\"Bokeh: BokehJS is being loaded, scheduling callback at\", now());\n      return null;\n    }\n    if (js_urls == null || js_urls.length === 0) {\n      run_callbacks();\n      return null;\n    }\n    console.debug(\"Bokeh: BokehJS not loaded, scheduling load and callback at\", now());\n    root._bokeh_is_loading = css_urls.length + js_urls.length;\n\n    function on_load() {\n      root._bokeh_is_loading--;\n      if (root._bokeh_is_loading === 0) {\n        console.debug(\"Bokeh: all BokehJS libraries/stylesheets loaded\");\n        run_callbacks()\n      }\n    }\n\n    function on_error(url) {\n      console.error(\"failed to load \" + url);\n    }\n\n    for (let i = 0; i < css_urls.length; i++) {\n      const url = css_urls[i];\n      const element = document.createElement(\"link\");\n      element.onload = on_load;\n      element.onerror = on_error.bind(null, url);\n      element.rel = \"stylesheet\";\n      element.type = \"text/css\";\n      element.href = url;\n      console.debug(\"Bokeh: injecting link tag for BokehJS stylesheet: \", url);\n      document.body.appendChild(element);\n    }\n\n    for (let i = 0; i < js_urls.length; i++) {\n      const url = js_urls[i];\n      const element = document.createElement('script');\n      element.onload = on_load;\n      element.onerror = on_error.bind(null, url);\n      element.async = false;\n      element.src = url;\n      console.debug(\"Bokeh: injecting script tag for BokehJS library: \", url);\n      document.head.appendChild(element);\n    }\n  };\n\n  function inject_raw_css(css) {\n    const element = document.createElement(\"style\");\n    element.appendChild(document.createTextNode(css));\n    document.body.appendChild(element);\n  }\n\n  const js_urls = [\"https://cdn.bokeh.org/bokeh/release/bokeh-3.6.2.min.js\", \"https://cdn.bokeh.org/bokeh/release/bokeh-gl-3.6.2.min.js\", \"https://cdn.bokeh.org/bokeh/release/bokeh-widgets-3.6.2.min.js\", \"https://cdn.bokeh.org/bokeh/release/bokeh-tables-3.6.2.min.js\", \"https://cdn.bokeh.org/bokeh/release/bokeh-mathjax-3.6.2.min.js\"];\n  const css_urls = [];\n\n  const inline_js = [    function(Bokeh) {\n      Bokeh.set_log_level(\"info\");\n    },\nfunction(Bokeh) {\n    }\n  ];\n\n  function run_inline_js() {\n    if (root.Bokeh !== undefined || force === true) {\n      try {\n            for (let i = 0; i < inline_js.length; i++) {\n      inline_js[i].call(root, root.Bokeh);\n    }\n\n      } catch (error) {throw error;\n      }} else if (Date.now() < root._bokeh_timeout) {\n      setTimeout(run_inline_js, 100);\n    } else if (!root._bokeh_failed_load) {\n      console.log(\"Bokeh: BokehJS failed to load within specified timeout.\");\n      root._bokeh_failed_load = true;\n    } else if (force !== true) {\n      const cell = $(document.getElementById(null)).parents('.cell').data().cell;\n      cell.output_area.append_execute_result(NB_LOAD_WARNING)\n    }\n  }\n\n  if (root._bokeh_is_loading === 0) {\n    console.debug(\"Bokeh: BokehJS loaded, going straight to plotting\");\n    run_inline_js();\n  } else {\n    load_libs(css_urls, js_urls, function() {\n      console.debug(\"Bokeh: BokehJS plotting callback run at\", now());\n      run_inline_js();\n    });\n  }\n}(window));",
            "application/vnd.bokehjs_load.v0+json": ""
          },
          "metadata": {},
          "output_type": "display_data"
        },
        {
          "data": {
            "text/html": [
              "\n",
              "  <div id=\"c6fe6fdf-f460-4c72-94f0-b41599425c21\" data-root-id=\"p17758\" style=\"display: contents;\"></div>\n"
            ]
          },
          "metadata": {},
          "output_type": "display_data"
        },
        {
          "data": {
            "application/javascript": "(function(root) {\n  function embed_document(root) {\n  const docs_json = {\"d78ca60c-4379-481e-aa40-82cdce987abd\":{\"version\":\"3.6.2\",\"title\":\"Bokeh Application\",\"roots\":[{\"type\":\"object\",\"name\":\"Figure\",\"id\":\"p17758\",\"attributes\":{\"x_range\":{\"type\":\"object\",\"name\":\"DataRange1d\",\"id\":\"p17760\"},\"y_range\":{\"type\":\"object\",\"name\":\"Range1d\",\"id\":\"p17768\",\"attributes\":{\"start\":-4.5,\"end\":4.8}},\"x_scale\":{\"type\":\"object\",\"name\":\"LinearScale\",\"id\":\"p17769\"},\"y_scale\":{\"type\":\"object\",\"name\":\"LinearScale\",\"id\":\"p17770\"},\"title\":{\"type\":\"object\",\"name\":\"Title\",\"id\":\"p17761\",\"attributes\":{\"text\":\"Projection onto first two principal components\"}},\"renderers\":[{\"type\":\"object\",\"name\":\"GlyphRenderer\",\"id\":\"p17801\",\"attributes\":{\"data_source\":{\"type\":\"object\",\"name\":\"ColumnDataSource\",\"id\":\"p17755\",\"attributes\":{\"selected\":{\"type\":\"object\",\"name\":\"Selection\",\"id\":\"p17756\",\"attributes\":{\"indices\":[],\"line_indices\":[]}},\"selection_policy\":{\"type\":\"object\",\"name\":\"UnionRenderers\",\"id\":\"p17757\"},\"data\":{\"type\":\"map\",\"entries\":[[\"index\",{\"type\":\"ndarray\",\"array\":{\"type\":\"bytes\",\"data\":\"AAAAAAEAAAACAAAAAwAAAAQAAAAFAAAABgAAAAcAAAAIAAAACQAAAAoAAAALAAAADAAAAA0AAAAOAAAADwAAABAAAAARAAAAEgAAABMAAAAUAAAAFQAAABYAAAAXAAAAGAAAABkAAAAaAAAAGwAAABwAAAAdAAAAHgAAAB8AAAAgAAAAIQAAACIAAAAjAAAAJAAAACUAAAAmAAAAJwAAACgAAAApAAAAKgAAACsAAAAsAAAALQAAAC4AAAAvAAAAMAAAADEAAAAyAAAAMwAAADQAAAA1AAAANgAAADcAAAA4AAAAOQAAADoAAAA7AAAAPAAAAD0AAAA+AAAAPwAAAEAAAABBAAAAQgAAAEMAAABEAAAARQAAAEYAAABHAAAASAAAAEkAAABKAAAASwAAAEwAAABNAAAATgAAAE8AAABQAAAAUQAAAFIAAABTAAAAVAAAAFUAAABWAAAAVwAAAFgAAABZAAAAWgAAAA==\"},\"shape\":[91],\"dtype\":\"int32\",\"order\":\"little\"}],[\"PC1\",{\"type\":\"ndarray\",\"array\":{\"type\":\"bytes\",\"data\":\"/GMU35VVAsDfr7F9tagFQCMp4OZEoPI/6KySFoV/BUDSzhN7qnH2P3mR0AstdeO/WS8QrVSDB0DLsqeSuq4XQMEcRXBgQghAVaKpUCYTFkD+PJNoqn4XQAALqnrWTwHAyCrr89Ly/b8tGNOjgEr4P6MmjPVLArS/VE7Rh0GhCEAb82BsawsUQAJcCQvJjhRAtfAYz12iAED3+FkOVGKxPztjnGGrxAdAq2U+extKEcBnO1Uq6bYAwI26/FE21Om/TyvZmn2YA0BogZvyNnd+P8cYIeaKJgVABI0BSulXC8BVl7vBdO4CQDkohp83dBfAS6TVTpArBsCvebhuJ/b2v8LeaCCxrvC/6RQ/y6eB+r/U0K0l/CIIQI0fWmaYpvI/GWAvu4NQFEA+SULG7bEfwLluswysxQ/Ak3DJg7P48r848wvr7okTwMtgiOrlcPC/RuboZZXmEMBVeTz/FbEFwMagwVIdcBDAismcu3iS5r8DzPXdyzEZQFvR5oMvMAJAqR5J8PhwBkBIym1QhLYQQOyoku7d5hhARJVY/qFdEMBnrRL1GL0HwJdGKAVZR++/NaFswmj1AUBm26U25mLTv9pLdkcgdRFA3q5e4RjkB8Ar26wDSbwAQAQSu8WTBgzA6GOJCD7uA0D/qmeE4qMLwIgIcD+laum/JNV/4mjJB0DyLKqFacX2PyB5gk9jjfS/3bdiZ64x5L9xsRtFUOIMQMDnMjIElAdAEauSlgeu/r+jD+uPk0QSwKaMSZYZigDANM2zJssK/T8LtbE4P9b/P58Yok62uQZAaNzBKS2N0r+DM5uUStwEwIZmLhlpzhnAHHRuevbwCMBml308Uq/vv/ggkAlJeBrAchwA2d8sE8C0J6m2zoz0v9JT1TplydK/QxNM3Tou/T98V6i2tpUQwDOIr8x2CPw/i3EKAEpR8b9nwTlS7EKpv8DubMOB8da/t+qjGeSv6T8=\"},\"shape\":[91],\"dtype\":\"float64\",\"order\":\"little\"}],[\"PC2\",{\"type\":\"ndarray\",\"array\":{\"type\":\"bytes\",\"data\":\"Vr8bFd697j8gM5L8Vb0BQF5U1PA67P0/c0owhBKSA0BJwx9zQd0CQJTVsssc/+6/lAXxohzA878/uCfuMjQCwLbcMAiOopy/CzNVZZrvjD8VAFIqQFMIQJlyX/TDceG/dXqE0kif7L+P29Jx5if2v5BODYq7KvG/5JVFoadDAcBA+y96oAYLwFMU/Xn1bQPAOdQqi4tC7r8WXnCwRL3xv++DUcdkqYs/aELkJUC40z94chg+kpTyv4H13yUqY/e/6CltgUG89r+R/b5ArUX4vxpXNNEwtgFAueYeHFxOwT/vpwuOzAbCv87x6CTE/sW/XkTERTbW0T+xAQ6xLz/7vxoBUjdL2Oa/1TePsI4MvL91Q1Ml8hD6vwsbHxpV3uK/Olx+CT6OAMBgY0pp1w7nP7rKx187sdE/+JsfCMp88z8F964GfhTjP6LP1Yk6rOA/2Xv3TWRJ379J1QAzx9aSP4z7GV9QiMM/1/6RUkg40L8nEz7w77wQQORr1c28F/I/3/7xRIH9CUBoI1E/ObnNPz8zT6Va89Q/PqCOO8Xv5b8sOPHSHgfYv+3rGhoQNsI/RqOEBP6a8b+aEEp3xnoAQBES9GvdNRhAvLlwXl894z+W/Dsec74BwA4bDZjybcK/xZAVWJbr9D9lDVFAirTWP3d0bWArELa/0q36uGDQ+b9F2EE7dcG4P4AQZjGwXLw/tbeaWuPq5b8Kgkd8L3P9v46FL2k5E/S/6/xavOqv2r/QYHUTHLCQvzJurVuA6+m/xTwxGoMM8r8TjAKVEDbhv4kbppXQy+a/gy2/Ww0YAkBemuo+mUL1v90UTKGRSOI/FC9KKy+A0786mNatRMfiP+RB0qXxhuc/E/kw02Im0b+qHZKeTQ7gPyhXPj/VPaK/+lCWOo/65b9hz958ytGZv14sYxZLm/W/mSceyvsS8T/siZO6dxYAQLvS/dLEVeQ/L2j9CYhc/j8=\"},\"shape\":[91],\"dtype\":\"float64\",\"order\":\"little\"}],[\"PC3\",{\"type\":\"ndarray\",\"array\":{\"type\":\"bytes\",\"data\":\"cf04Ixja37/BI0VlYaDBv4sWya6JMti/zXhlfyyV8r/ElkEXRaPJPyr+iyOSNuK/3nmsJlou6j8gnOM6x2b0P5moL9J6+e8/taVPKOzR9T81NP5Jh/LyP3NqEQc8Ld0/tmcyM9dZzT/kPX9B4A79P/j9FUrPeue/XzyNVAsa57/uTlp37r37v7CLzS/huvU/ekD9eekr0j9objRS4WDTv3ll2qGOIdw/q9WtTMJQ57/FsyowC2Hav4UNUXfEP/C/EPIsKbCE+7++gVnRrVfmv7lehBnHv88/DLqR7V9uu785ILMQXyfXP8ga1C4NMsK/RibjPPI/5L/hoGEsHTfiv/koi7B+F9w/v/Y29AFI2D8F416M+L39v/BloUHYC+8/SbS5dhiz+T9OmMVA3z76P3kgq8iyVd4/R/p/zI2Jyj8cgDC52JgDQKUpMIqHc9Q/DGVvMDTn0b/GB8BgM0DuvzV5fy3ZqdA/CP5/hq/b5r/vJJOAIsbdP5fRE0m0u9G/w9lyF22oxL9SVSt/4DLYP/GrND//7PY/boHteBhu7D+wpPt+4uzYP1OwlZSUquE/imR8Amgc9r9eN1jAipblv56IKIvdgdm/DARYY3973L/dGsftBJPuPxTJNeZWyLO/ZRBJ6Dr/0b8pYGVkL+zMv0F63cL/gKo/Nw7uloTe9L/5TYaNVCfPPzSGCriHsKY/pKjYYjcruj9zIpX13kzev/a+qYgVkOo/O6ZfX7gLvT8kelttW83vP9wO18d1mNK/rqZWlYEV/j/mQ3xe6VTsP/cNylae/d4/X86JotzJ97+EQnxKRX/yP/ha0eOd2rg/bajv87xS8r+PQltJutTav0l2X+3hTO8/i4YSx7hxq7/hUal+qlThPzdoctNuCtq/bRSynma3AsCM9dlq/sOrP5E6rUc5jwXAb25bC11e8b9Xb3dUBx7iv/IHI9OOjdq/b8ktbrM85L8=\"},\"shape\":[91],\"dtype\":\"float64\",\"order\":\"little\"}],[\"PC4\",{\"type\":\"ndarray\",\"array\":{\"type\":\"bytes\",\"data\":\"jpo7cbTN7j/cSuc+I6LQv8lEN+66dNW/2+mDUXUp8r99riRmbZzYP8QOVcYiJ8m/9Ui1EYnJtT/DpV2e7VDVvwdpJEIdMtK/ENpaSZ7J+L8xsFQhhiLyP175w6Uni9C/ahjMtCgTpT9UMaPxU0njP5qSyq5KGba/8RKthWC24j/bglPrfEjMv9B4u1TOKpE/DbD3ATco4D/JAGL0Uf+mv60CzkjRBPC/oLfCdbpXyT9VbCQ68FHfv4128THixOG/wgP0pvR5yj/TOMwUNDjgv49r+Ybg6gJANtgBakoy2D9S9zIDbpX3P999ig33RPC/Ls6NC+Va+z+bCs6oGdXvv5qVCt9QXOC/Sm+agLFy4z8Tn16dzK7EP9TEp480G9W/+7DaVfaVp78fGjjHSpf0v6Ifk1Gwbdm/oADeuWO45T+BaI3SkOXCv1D8P115LOU/d98uiXtAwr8nftEfW0PxP1soAWtwUbY/8oxxcOuZ9z9sqaHl0l/QP8UYwUB91rK/dnqMe2Xb5j9O5wo+hEv6v/w6kV129+q/m2h9JNqj3b+H4aJ0+vyRP++t5t1NoeI/NHdK8UfPpr/IwBPsaoj8v0xPjp5t8AXA2qrxN7Sc2z8svHsFJ8zov6TyIY/dYuI/1KsaZfkw9j8wYz4/d/zbP0ci7S22oOg/jd3heQoEmD83wpYk2WzQP+gjHGaDbvQ/qq0gho06lT8vgJVfCX/TP5WfBvl+lrg/4LCpl/Tkx78BSzUCtsTLvzu7gIwqjrs/g0+RXRTU2T+3obLQuzfoP8CxNgn4y8i/86FLOzgBxr9dkYBIQhTcv9P40s4GwOG/XDvUovAO4L8a9r4WAp6zP3CWDdYhcNa/0zuqSWgO77/XIoQWgjzMPxbEo/DfK84/C+/LIeaq278IA6g5BoqkP1uO0KzGePG/QGU47OGmyT/4fB2xXWvmP+kl3guTxNy/CX6miVSa6D8=\"},\"shape\":[91],\"dtype\":\"float64\",\"order\":\"little\"}],[\"PC5\",{\"type\":\"ndarray\",\"array\":{\"type\":\"bytes\",\"data\":\"MoX/8IbJ5D9yuQ6AIvm1v3hLhvUiM+O/1nsV+wXr6D9qlfKrlqzSP9L/FGoH7+o/YDgR0jYxyT+rrdf+2JHIP7WXvmoKpdm/HIs70LTG4L//Hdc6Gn/gP/s5pPrOa80/S0JNA4F23T+wqwCL1UPzv+Kcja9KGO4/kffjNtIrrj85UdQAQq/kP0BaaLPKwaY/dxkoLf0V6D/m0QGOu7K+P6p5PEgKfME/CeA3pK7h5D9MI5gUcyTpv/BLPgb556m/kBNaY7rau7+aTNpKdz7SPzqWkm3K0+W/FOS1wwt62T/eJHBU3E7wP/w3jwb6J/e/1Z79axyqsb/OtSkfDIHtvxocRYMP6fO/2wfAo6hk4b/KBncXC1LFvx9TbaQp7di/zveXA4betz+W0iXUr6YAQK98FCkgwcA/s5m5/ZQusz8iw6cBJFv9P6JT3n+Gopk/e9NNpLepx78IaStaq07Sv62mBMajNu+/fwQ0w1YzpT89j9HET9XRPwxItfjvOuC/L3a2DslK1b+2Qqfyngi1P+nQJXV0lO0/PY/+BAvK6b+xUyFfo0/DP39iGuGO4+o/NjHq8+lW4T/kiiZm+2Tov81MtGLdC6i/RKlJdKOK+b9IbMx0Puvzv3aS1ve9bdg/X/iBG4Ktsz9J400Luj/HP/5TjCDYAIg/tG4UkgcE3D+UvNKsWTXbv+9kdrHQv94/XBZqe+Fb3z+JmtVAm57bP5m8oFDj6ss/FbdG+mGa8b8RXI5oIF3oP7BhAwL7x8G/EcREBvjn8L/sHb/wei3ev0dzTbetmsq/h8XX9AvRzT+mAOq56cHQP91jA9K8z+q//xOlfX0VlD9FV3/Sn0yxv/o2sPpALvM/biE0WbLZ5D/DQP8sQyLVvwRytz7yW8Y/AkwaRLWx5j9CPC2rUzv0v0OQloHy2Ns/GBNmhv4BxT+liiy87GD8v+7FCRyz/dO/Gur5vJy71D8=\"},\"shape\":[91],\"dtype\":\"float64\",\"order\":\"little\"}],[\"PC6\",{\"type\":\"ndarray\",\"array\":{\"type\":\"bytes\",\"data\":\"9BMp6yd4f79WbFAmE8S3P4O6K9/I6eU/oWYSbRG/1z+UFBuT2BXtv/ljvTRNuei/r8VtSDCUzD+erPq7N2Hiv5qA/rnVyrm/UA78zNLj4z961BpWjlHWPyOVXIL8adC/9piv5Ahr4L/wKyBgRFviv3HLIW0xHO2/yKtdOE5I6T9QQcrmH3HpPytexS2yTuw/+C+3JlvF1T+qJHJnwpzOv40hIQeLYOG/fv2HetjZ6D/f8y8mFCfNv7aL9TYNGtC/CGLETped6D+EVwgW7Pnwv8T/aGeCXNQ/XkRc76KH1T9F+Pl3zCjkPw6bhZadK/A/eM9mpt6A4D+60vp3V3PmvzlpDUhoTfK/ajvRNp8G4r9zfLbCVpi6P1WhI8IFbr4/WOJAGrCx6D9zaXJn9X7gP66rtV79hcq/Ju22ryxu5r/9K164IdvePzy5F6NUe/S/Af75gs904j/wCSFgQZjPP3RFK74W6dg/BA/1sxB167+4U3TniVbhP3Zz9D+3tKG/IV31a01f1L+DONGbB2jcv9+0r0rCt7G/2XvTXiKe4T/Ghj6YzBLgP1rtMyC/Pdu/QORr+Gcc7D8OU/tZEU+qP/nvcLqTALG/nv8heaU2rL+eRPoHUdzUP3/4k8PKHNw/jBD3rlp31r+z4UpKOWTwP42ObeovPNe/z7eSy2gs4T/wFlurlzyyP/mn6mj21dW/m7gC4X/19L98kuKyRxLVP0NE9rBcTck/I9dSIlEs6r9s0bKH3Nuyv2wlKh9p0OG/1h2CIILF5r95tEOn68m8P8AMvak4xuE/5YpMIvE8579Jfs3G60TSv46OxMbX/eo/dlSKxi+0p78JNCVa9jq8vxnRICuchNA/GFJtVv7X1T/69m+i9Zzjv5D2yx8yAOK/AdpdFvQp5L9q04DhuqvcP4iIrOYpraE/slzNxDDEn7/MKCk4imPxPxIntkGkD+G/cQdOehrTnD8=\"},\"shape\":[91],\"dtype\":\"float64\",\"order\":\"little\"}],[\"PC7\",{\"type\":\"ndarray\",\"array\":{\"type\":\"bytes\",\"data\":\"UcOORLLQ0b9x2XJ8xF7GPxuOifrfIsS/a+C3utSFzD8uz6ddu5/yP+3I4LOS3tm/JCzp85A34b+HRJ/xOsffP2GobQopSKW/W5sa3bwP4b/S3HTbG1m0P/wBLJ90s9W/WJRTDfIOzz+Nf+rs/3TRPzOlQiah3cS/5gWur/cw1L+dyUJLRafyPzncOhTLb+g/lHUxvsTWwr9Tug/7Ybjnv5r5TMBjt/a/zl4oVWzA4D8X4AmUXg+pP8feXNRFU7+/BqzYay4t1b8FvtqcsVTdvxm0jHXobe8/owbAPSGk6L/uYa7H3W3Iv8G/eJITHuA/Ce66t86Y6r8Cu34b747qP19pyfA8dcc//IWdqHhpxz/2eeO+ZRPJv1wZFErPUdC/IU0la0Bq1z+OLCFbjensPzA831uZueg//lPLZIYQ5z++YQo5ksWwvwTXRJ3OMdY/jveyfEOV3r9unwRqLoPJv1uhi2PUItC/YM0Rsto727+41NM8FIDCP4CV1AfYtNQ/o+VYpP8o7T/J1sE9s53gv5A3CfEhjbI//Yhw75A3yT+w0bxptHPiv71na4vBF6m/t5+qHzSFuz9URoxxYZLfvy1Cn3wXPui/Tg103MHR5r9aWeED883pP/nWrJIpVuS/JWwq/s82wL9zxvCLEiLgv3+BjZXeAeO/eK8syjFQuD+FkGC1d2ulv/2IKAtP4d+/gkmPL+7Mf7/7lrjIOi3gv3HCaMi+SOG/KYERxV2MwD8mv+Pa0s/mP5Fhvf7rOJC/CNzHJUIHzj8cokxf5KKIP5R9WFwWBOO/btIx0SX7sD+HU9PEuNnrv/VOdhO0Pti/fxKXcY+T8T+qbJy0ajrXv4OwgAswE9I/zdALLy825D9fvzQ8t+HRP6+w7Gjlwss/oSMolk4nur+fh+L6DAfHv+yKmeDP2fI/QVA+boL/2j+hxuIXSarkP+GgYRNMyuW/DhaaDfPkvL8=\"},\"shape\":[91],\"dtype\":\"float64\",\"order\":\"little\"}],[\"PC8\",{\"type\":\"ndarray\",\"array\":{\"type\":\"bytes\",\"data\":\"/V79aVlEvz/OPkaOKPHfPyKDQCueVrY/NVVCCPYi3j99o0EhglLIv6rVrCVAh6e/cBGvW7l2yj9k902qcaPUP9zQjk17XNQ/OPX+wQ9grb+sUYac8bPdv4gkeTXJe8E/FL1M0pYHvz9/elyBmv/Fv2JZKO142OI//GWsrra6878EKa9detvCv6fGpRDT0Oo/yUMwRNH66T8+3y2bMSnbvyFY4TlcfcW/REczIvL87j9930W1qGDLv+XS3h3qMJe/+SuJN1Nr7793AQzBSQ6wv4rhXbA10+a/M4QTWX98zD/iNjGLbcXiP0E1HQjC+ei/CR09FMY42D9adCXokAHNv/SRruR9386/jLlQ0cBg0T83/J2chGj4v7GTUQaiFMU/qsUfA2RF2j+StAPBbqjxv+y0BiDdj+K/Y5Humvl1278gZdenG1HWv2JuYCJzxNO/7c0wJak2wj8u7NJhrIvVP7G7P2FRrts/xS7T306hkT8YNl3VCuzTv4/yBJ5VHq6/6uDqWmzkzz+f4KEzu9vRP4ZQQBU5eq4/R311EJLezT9UpABx8iDHPyx8EUDV7tO/GfuZiZatzT+G608AijDiP2eCdcglPte/diDDVtLmwj9DEqE1rh3wP4lAwvNNZ8k/+PU4YcQy4b+pKq/wWGPjP7VJlqAD+dC/Vpf5lqGUur+dG0vFUpfFvxGeTSi2YtU/t7zlLVmmxr/fb/3YAP/ev0BVQtn0os8/XkCOpH36zr9s84WYXI/gP4B4Jze/QJc/3jRWXN/EuL+tX/yDD9GxPxEypc2uF/O/IDtAxHt/1T/sL0j0N9jcv5O93P7iI9a/e4fvngpa2z8SZxDPllvQP3RG77hNedK/xERtA9uF5b92IoaWHQncv55RTTMtJeE/SeEbj1PF0r9JdJ4dz/vXP+Xye7/PQ9M/OwL9W9Ub6D9BsURaMaPYv4hD9QF3aO0/Q+EuvMhZ1D8=\"},\"shape\":[91],\"dtype\":\"float64\",\"order\":\"little\"}],[\"PC9\",{\"type\":\"ndarray\",\"array\":{\"type\":\"bytes\",\"data\":\"gC6ApLGP3z8rqBT3AUTNP1b6oGbcicY/yGaMFFdNwr/se4b5IKXyvxHGsrufPdA/wlh5IByKw7+tsly/P8rpvzvctrTUScy/o74yUbXK5j+MeZbBCGHrP5NQa+nveNu/zlC5x7aQwD+hygf6A0DWP0K6yQ31BNI/yR4+18Fz0b+a6W8CbMbwvyZhnO1losq/WBGySiMX0D/5C2Q26eDNvxcQEsMs7uc/FIoetZDE4T8Oyy8Wax/FP0B8XC6fOsQ/m2p9TrB1xL9Ywx2ZA8XePzSzWXMGqN+/fxjmta+Kub+PdZ5/mRvCPzjk20wWFOA/aeEFgwBDqD9rRBbd2dbZPyndJ8zbhdO/7iviExuj0r8GwR8vxcm/Pw8NJfv2yJe/LYpeCxmi0T8lsT2ynnquv+W9Zv1ZVOI/GInl6tHjnj+8NuIzFXjkv/+GE2ByOrG/cm35vzQw1D+3MYkhsbfaP9ayM9YgR5S/rQucZswxnz+VxNHEU2rYP3CbbBBh6d4/Wxtmar9u1D/TgQbblfbFP9DJ+gDO8+w/4I2QQTxO5b9ve29olhjkv83oUsaYgsO/bkH/WabSwj9JeaJf3FXbvxDSSze34uq/ZVDfliNW4D+nkCZ5PzbRv9MdFc0x5rG/qcqPV65D2j/ts147mXzev1toHg7PBtu/1+z6xmZSYD/y/XmgE13PP4V0i8a1IbU/8F5QGX/yyj8xNRKlI0eiP8a4dJgQPcO/0nJfDHhV1b8kFl91QAnOP+17auDPp9Q/u/h0vjNm0T8R97l9WJPJP8D3dPNQXeS/hZERk9R8rL+y8AdPUcXTv0R3kVezn82/oKup5uPi5T/IxtfGHmnfv/ZgalaEC7A/l4HkGeG96z+EKGbtcX7iv43llK7u0uO/uhznmW3dx79P5hMRdgGMv2ewZpVt3Mw/9M5aQBR04L/FcCGJNHCKv9LyFJeTx8m/NUsY/IEg1r8=\"},\"shape\":[91],\"dtype\":\"float64\",\"order\":\"little\"}],[\"PC10\",{\"type\":\"ndarray\",\"array\":{\"type\":\"bytes\",\"data\":\"BTr7orVr3z+vx9x3AeXUP20aQuM9Qcm/beED4UZtsT8U4pnHMKDgv684tr9M8MC/Ku7txn+/hD+PZ1pvEtXgv49g1bW7IMu/Ro+SnV3F178+nDn6z4vKv6d7TCNWcdG/E46NgfYZ0b/vq3UVdg3iP7gZbIYQXtk/PjDQrSr5uL/GAn0VPejMv6IK91wfzdO/2sHgljdqzj/g3WzENujgv/8H2RM0u+C/0htmDTmv0D9BtfLoefW6P4JJn2nZl8i/9fZX3Mnt0T939yoxUKzHv+brM1dp6uE/NqwdMRAAzz8JVHNox5vRP5bKxtdwWb0/+2hFbkrMzD8KtvTOBR26v7vUkC6bK8k/xT7bedxE1j/nWXolXly4P913Cq0Kw9k/VzivdTvH1D9jzog0TIjLv9yO5IicpNQ/q4ACkaNZ1T+6M5B14QbTP4zd/vR/YNK/P5VVihUj0L+40djc6LibP4wE8M+wlae/QxLUvo8ntL9moZG3jgvmv/WrkdAiecm/DlOoh05gyb+oXVM5W+C4vwK8j6BcH8U/HbQZU8wJpj8WPscuFI3Uv77FpnrMzLS/KiA5dJQHxz+iNXvKcgnGP6gLTLwGgu0/6Rgkr7B40D+WHI9ni8K1Pw5R1h33oNI/hIiRLa+uvr955mKwjazRP+Ohxo2D3NW/VE00oIzZ3T/IgXBCLSfhv+qT0q5SfNi/yaUSgwfEsD+10Z9mo1LQv7VeGStP8p8/w7/t9BfQlb+uuRwapL+Uv3H9RbnegtW/UOlWOgcc7D/TzErori7SP5a7vhYqpNQ/xm9WWJ1XxT/Ckj+Pgie5P2vaiFpSGNW/DDtDSGVg2L/vU6APEJeyv/LyFtOHqcq/2XIg1orrsz+jTUlZcMnQP6SSDIPCB7Y/SZBBTjHdyT/TqEIN5aDZv7ev/0DybNo/H/9YP+fO0L/5PQVNC/zmv+CNakvMuNG/h8j62ABF0L8=\"},\"shape\":[91],\"dtype\":\"float64\",\"order\":\"little\"}],[\"PC11\",{\"type\":\"ndarray\",\"array\":{\"type\":\"bytes\",\"data\":\"AOkNV03e0T97oBa0zU7NP7DdmvnJW6c/gTjgj24u3b+0wpjo3f/hP1BZWPq55K+/JuXGzHTEuz8sfYgxeUfVPzfU0UfnDb+/eCXb1t5ZzD8I+vYUUZ3NP+Dy5m3hXZG/xdITWjgWqz8yFohXKCOzv6PHEuCKqrM/esYQ3gAVsz/OVmlErmzAvzaXUN9Wr+G/vAE4XTHxwb+2s9qiECjlP0lQWNsIdZO/u025BeCntT8uwgrb40rMP2uZPuGWDdQ/1Z9ykP2w17+R3DnQprbAP1WDWtqzs+g/lPUJ0uTM2L/nfCOpXVPcP4nz/pD+qrU/IffTVyN0Uj+zruTOTiPQP3W80JC0Gri/1PZRaTlb2L8hUkonb83gv8cPUGYaZca/wPRtIGMRv79NypWKZhG0vx7D3h0UmbC/TGi4xiZOwj+0zzv/fY7Mv+6rCxZXw8O/xLPHfGbDvD98ssLv8AzQP0K2+n9xFqS/ZJjCJVtH4L/0RbBcppnQv6/pJ+MosXs/VVjGx56c0b/ATGZpjuy2P7AUiXzx/cO/nQHxhy0Lx7+0XMMMpDbIv1Db/iP29OA/SuwzsywqvD8JmUVZmm/ePxLSrYZdKnU/ac2m0PV6eL8fytLKpRjZPwXABQy9WNm/CGDcvSwQzL/PmE6vlpi5P4Nnisg7T9I/jNamRIt3hj+jCICBdjTbv4/5yg1u7dc/XyVRTW0f1b8IKxeaXzSvP6JFTvXJy7w/HB8OXr/n4r+veP8KkF7Uv5UXbVquOJ8/jaQsjtGhwb/2IzII/hnhPx7ST6xPyqS/p263ZnF60L/+sJHTBCrOv1Xwy3MQCOE/wHGGN/5iqT/dGOQRLLrDP3ZIFOyvNb0/wbUc4shDxj+Guc96c7e1v3nSNVQebs+/N79waG9x1T/6tqGqAzS6vx8hQZbUHq0/cSfUFxuZvr9M3UtUT7bcv+mmyjFd24+/1Rlqy9pm378=\"},\"shape\":[91],\"dtype\":\"float64\",\"order\":\"little\"}],[\"PC12\",{\"type\":\"ndarray\",\"array\":{\"type\":\"bytes\",\"data\":\"XeK2nu7l0T+Uy+f1tVqfvywDSYOUTNi/wlz9dralvL8jDgu+xp+4v6X+Wiyq5L4/qjiD8KcHzT/aD2TokJLgP4y5kfZ/7tA/brcJayLxrj+/yIQsKWDEP+paDHvcuNG/Lirld5Mvlb+tJhQ4FvWxP1lRLdZennS/5gqOEF0U0j+4/0++tVDYPx5tzybPw8q/KNMChiCXvj/N2x/qeOewP9GTikr9Etm/+4WnNkMgxz/Q4cYVAaeQP0e57ReRea0/czyuqgfAx79WzCgffh6aP7YkoiywEOG/ucXhmCzNo78KK4BZ1LLCP92U1KoSfNQ/b8+c7e/p1j92eG4pvFq1PyrF7qGZn9C/YkIWJgv81j/cQIVTii/NvybK2Bqg4dy/lN3C5fexw78H4vy2xxy3P0ZDx6nFgsk/qlwklIkg4D+eRKAbhsfXv49uasobH92/0hlOr8HG2L/oJoEkz+i9P/W2cFkp0rq/8VHx1zf8xz/MeJYgo7i2Pxln///cv7W/QP0jFEQz0D+a7z79O+rOP0KAYhlJnRU/Em3l7xaktL8KE3N+YB6Fvy1pyD92F6c/KHpZe8Oc0r+3u6Mj+UjgP2UGpg4C38G/Ic3ySe/iyz89tqlIVeHTv1Mo/zdGXcY/QPQ8QqmM3L85Uac0NZy5v0WnRZ79WNK/Y9yTiR2B1r/TnhMnxCHQv+2Y0VPm8MG/9eX22babvj9LACP9ZXfLP0JEYtAgU8g/Cn8FbPTMwL/IciZofynCv0Dw07zDi8e/PhjFoboXwD9PpoBuGSnTv8bDBWfVcdw/KcQtJJcjwz+2kbM/MzONP/SjMpBnAsC/Sb49IsvPsb+o9pRnM1PEvyUSqv8ncq4/vEdxJqtrwj8gl0CzWHWdP+3S0m8x+K0/VHHeF46+ub8D1a+FHH2Ov+6Mla9Qz9S/W8wp8l0Ujr/Dkt8+kVnTPxe6t9oOtKo/31RImCnavz8=\"},\"shape\":[91],\"dtype\":\"float64\",\"order\":\"little\"}],[\"PC13\",{\"type\":\"ndarray\",\"array\":{\"type\":\"bytes\",\"data\":\"3xh7n7c7o7846auoU3yRP3kMriG6HMU/8HhmwVtC07823xdLLleQv2rRdIUuJsq/G7W2tpEWo79BNGX0Aoq8v3LaTa0829E/OTsZ9m2b2L/4i96CXj7Iv5MQloB/8Oe/4Bvj7rHDnL9JbB7euwaQv4Cc4ZXHhZE/K2H0pNS5tD+yT3UL1KDJvyZPNj056NO/I7ZCX9eMxz9iGGVFheOnv5IJKORHLtk/3TOgSnbOyb+bkiONkgfKv5ssPxZNWK2/6ywkW3M+gb87drRshUWgP7kSvuWwo8G/SO/+F+qjzr+HhLcmVcrLv68dOBnxt7A/uQysSe4nwL9NKK27Z1HJv7nvOhO7bsO/0/iypUtA0j8HLwAQHVXDv1yI/eodHbe/ltb6WFZ5Sr8HJyr1W2TDPyLLdRZKxdM/f81dSSeStz8uZZyBht7XP2FPN1Q7T5m/VHFp5zXbrr/69DGRRorEv3S28X3n4oy/O/7IeI8bmb980vXdHUXFP4shZ8+9Y9Q/8P4pz6ju3D8ngGWaVwfTP8qGS8GfLLs/8666uuYLxT9sacmLz52IP6uYgQzW/qa/hJpE4Bo+qj8h2qjjblvSPwgI5uIx9uG/VQ/YulWY0z+EfJdDmqXNP5fE2wQ2NLC/exIILIZxwD8E7GAEVre7P7H4NbnAo6c/24g7UZUR4D+3O7KDbVqoPyRQtIboDKS/MoKD7pzRo7+KUOXaQjbCP63+oNWD4bO/LDp5dwRWkT+dGUF04UCjv5gEynxTlNu/OMTlMdMRv79Spdo4/yfMvwbggKtv0rG/uKK8fQY95b/Sq8eBP3RsP4UUnXmFYNA/BpxKIx900r+FriGKH+jJP1HNt0h0KcE/K+q/knu517+jL7T0Ek7KP4oNrPfYXKU/2D3B9+d72D94QsOiILvAvwcSGbVuRtw/bw/1VhmRlL+MyKmllIPBv4VhTyilttE/9KyiFA6/zj8=\"},\"shape\":[91],\"dtype\":\"float64\",\"order\":\"little\"}],[\"PC14\",{\"type\":\"ndarray\",\"array\":{\"type\":\"bytes\",\"data\":\"biHJ5c4gpL9AZ/n8G4qDv/Zupyk8qqI/lLFvbJI0wD8x05kAGQfHv17wllktpdM/0sTNzwDrvT9RmrJClgTfv/Pl2UcmC42/m7RbQtVKsD/TtlZcei/FP/X/0yVBkNM/qjOaBvZp0T/AZ7mU6eaNPzHy9oCUQLg/Lr51KGfTpr+lV71qSNCuv4ghZ+mv5Mu/7ZPksBlTkz+Pr0G227jKv0SFwhZUDLa/0JaP7Bp20L9eduY/v+e4v8OjjIZ4UsW/NgoDXW0kwL8+dU/rIqK8vwZJXcuDiss/V9xQur3e1r+jHZw7SKCuP+qHQcCTCcO/WH+F/42Smr823DQniFWpv/UHvMAIIMO/df8KFwlkwL9n7uP3jC2lP1B0UuagN7c/P+5NQQu3pb/k7klXBVORvxgAnMzum7g/VHZHoPYIrD/4cViLaEPPv3rOzyd05ru/GQlYpZbGx7/CRUQ7i9q2P+YrrBNigsk/cYWVXj8Gnr+qqciTlnHKv7XZzfAkJME/IZKEpBlynb8H1yBN4E/KPyOO7hHQVoG/xqtSNEL/0j/9s8i4efHRP9RVW5LHesc/oI0rReYMwT+5xSlFM/PZPyrcHBLdc9C/fKfP91Dk2L+uEWgOALvCv0EQC2bKCNK/CEaTI6csu7/0yHTZqJ3Nv5x9N7eKerm/7Mo9LDQGyD9ozf3Jn23CvzasrAnIp5e/tItmWeozsz+Sl7k/dQa8v9Wbh2M6cbg/5rYc2RGMnj8lgip2zZDRP+CLT4/+BMQ/V9zRU8Dirr+etXkuFS+yP7T+6oXkB8s/LNMPAo6U0b/t3nQttqDaP2QPBqhSuLi/z1Gr45IpsL+OzWn7nbaRP33W5loKC9K/0oM0pvOFuD+1atj1FUR+Pwu/jRGKHoY/1UvC4EQHh79iIFLfVcCwP2qIx+K+thc/PneFvp6o1D9kZx4LeZrLPy/DIkMGYrK/ffAsjPx1zD8=\"},\"shape\":[91],\"dtype\":\"float64\",\"order\":\"little\"}],[\"PC15\",{\"type\":\"ndarray\",\"array\":{\"type\":\"bytes\",\"data\":\"CrTS5Ps0wD/sMt65IVeiP+h3hYmcI8E/GBFUEZbuwb+JCsaSZEDZPxmRiINnKK2/ihhNxGqAsL97SnHtijrZP2/BE5mSeq+/sDkRp3kBoL8koPH9NqG7P0Kk88T13qI/nElnyQY5pD9fdS8dxLyqP94Yhs1idKQ/XrzX13rvsT8d7hrZDcvVv49jj7Up+cg/CvokbmNsuz8HhH/KWJrAv4R7p/o9TLC/yCT6qSmEgL8E8AdKeqS1P5/4NMDCA2S/JSpZBKF7yD8TZi/esBujv3tyU07rGtu/AXtSEa9wwr9+tBduLvi4v8AdBGEh78G/WAjXT5zvyz8aE/KU8VbVvwsNa23kbZC/+iByu+f2xL9hN+IpAUnCP4akVC3B3sc/Xflz5j9Zr7+txHHuDH2ivzir3HKr6co/f+iy48hFpz82+nGIgLTKvwqt/1haH7k/pVhGHFkLpb84nerFFn3FP1O06Ve+97E/Rj0C0Cl8mL+S6LlsvFm0v4MpDVn8+cO/03CyNBi00796EDu/MbCjv7Aitvlvro2/v93G6W1Bwr8KDffZVkXLv5bTHWq60LW/M8bR1aZ2pj9mfEjlmciSP1JiBbo8AYg/ZcoGnUAqdD/7ktyYbmqsv+9pCsKHgMa/4i4T+nM+zj98Qerf3Y22v0nW2HVedrK/dFp2DBMQxj82i65tSPDPv8U1gs8OJq+/Igu0vFvjq78tc4liYgTFv1IhnJh8pLC/BSfy5ccsvL9WWnH3Fs7XP94gi2rYc7y/obm/PAQLpT95XrzANbK7v6OL9uH9rNE/Uv07Bh0ckz/BqM9PGkyjv701HB/j/MI/pv6POQXAr79q9z3p9XzDP7IeRuaBjMM/0GwA8x06vL9HeeytdFurP7ea3v85Rc2/UlbYTdmNuL+8hazHy7fSP+PnTP+n6sk/uOsqfJpNtD/Iljb4x66yP+UPW642k5q/XC+fLqBIpD8=\"},\"shape\":[91],\"dtype\":\"float64\",\"order\":\"little\"}],[\"PC16\",{\"type\":\"ndarray\",\"array\":{\"type\":\"bytes\",\"data\":\"CyIBi5LMej86g8ZnRCluv66QeLM/wUC/vk3944XfQL/Du+NkdL9xP11p7WyioHG/x6MidgA4Rz+EyU1cKyRhv7jYRMEDLEG/GI5y/OkNcj/Ny6Pb2bU5PyABjewIMTO/OpDr2ISsNr+wP/DKV5AzP4VFuKsxjU8/zGUtY1iHZr8QoHSy7Dlov3l0McX160c/4ul7ftvtVT/U6sriUpVDP20geuqadV6/BYq+wPJjXr8YJjswFd9QPwdj/bMGR1E/4kKsmUOIVD+rngitIOgrP68hGEI+j0O/hNMcS8jaSD/BfVgKKn5hv97p90Y1KUQ/c89nKFSsW79CLbaUbbQwv5tLGlBfzky/eh8KIRzpHr9zp3+a31swP9UbEM82ryC/yk2jqe50Qz918fTcjb9qPywiC4xZ+y0/d9iyfHjjbL8RS/M6jQdZv6qtT0HDTFi/fL3PqFzxIj/K+NFnGw1fPzi9RzEqA3K/jTpxnEDacT+VgSdwNLtUv4cTWtS+amk/DZ3WacZwZj+LSN8ke9BEv3zf621quTC/nFXs8utoaT+/zWku+OVQv7hjmomBhx4/yF6f9tfDab/TzGEwsidwvxM6fMz/mPq+31pPsdkQa7/v59LKOQwoP3kBEBgLDk4/aCdAr5h/c7+QcPivpwlTP2cqUW47yW4/R99VS3FbRz8VWjueDfVbvw8H0NvH0C4/THlXKHp+Q7+RUb56yj1HP32l2COGpUg/1hseJgYbXb8Mn1pAN9lxvx6WxeCcpjm/9OFdv6VxRj8iVXiz2adCP16LC947YVY/N7qFGtcpUz9yVcTAroxqP+vexJLPBC8/X++8DmYZPD+VhpPYcRsTPy/J1tAr02+/xQfU8gCiRz+f9zxGHcxCv+thqW9To0C/HwqFF2zkb79tO8CcsDg9P0uyvgj47nU//Mt8KP2cKb/RrogRgMA/v/oS1flSwG8/t0SxYy3kbD8=\"},\"shape\":[91],\"dtype\":\"float64\",\"order\":\"little\"}],[\"label\",{\"type\":\"ndarray\",\"array\":[\"Small\",\"Midsize\",\"Compact\",\"Midsize\",\"Midsize\",\"Midsize\",\"Large\",\"Large\",\"Midsize\",\"Large\",\"Midsize\",\"Compact\",\"Compact\",\"Sporty\",\"Midsize\",\"Van\",\"Van\",\"Large\",\"Large\",\"Compact\",\"Large\",\"Small\",\"Small\",\"Compact\",\"Van\",\"Midsize\",\"Sporty\",\"Small\",\"Large\",\"Small\",\"Small\",\"Compact\",\"Sporty\",\"Sporty\",\"Van\",\"Midsize\",\"Large\",\"Small\",\"Sporty\",\"Sporty\",\"Small\",\"Compact\",\"Small\",\"Small\",\"Sporty\",\"Midsize\",\"Midsize\",\"Midsize\",\"Midsize\",\"Midsize\",\"Large\",\"Small\",\"Small\",\"Compact\",\"Van\",\"Compact\",\"Midsize\",\"Sporty\",\"Midsize\",\"Small\",\"Midsize\",\"Small\",\"Compact\",\"Van\",\"Midsize\",\"Compact\",\"Midsize\",\"Van\",\"Large\",\"Sporty\",\"Small\",\"Compact\",\"Sporty\",\"Midsize\",\"Large\",\"Compact\",\"Small\",\"Small\",\"Small\",\"Compact\",\"Small\",\"Small\",\"Sporty\",\"Midsize\",\"Van\",\"Small\",\"Van\",\"Compact\",\"Sporty\",\"Compact\",\"Midsize\"],\"shape\":[91],\"dtype\":\"object\",\"order\":\"little\"}]]}}},\"view\":{\"type\":\"object\",\"name\":\"CDSView\",\"id\":\"p17802\",\"attributes\":{\"filter\":{\"type\":\"object\",\"name\":\"AllIndices\",\"id\":\"p17803\"}}},\"glyph\":{\"type\":\"object\",\"name\":\"Scatter\",\"id\":\"p17798\",\"attributes\":{\"x\":{\"type\":\"field\",\"field\":\"PC1\"},\"y\":{\"type\":\"field\",\"field\":\"PC2\"},\"size\":{\"type\":\"value\",\"value\":9},\"line_color\":{\"type\":\"field\",\"field\":\"label\",\"transform\":{\"type\":\"object\",\"name\":\"CategoricalColorMapper\",\"id\":\"p17794\",\"attributes\":{\"palette\":[\"#1f77b4\",\"#ff7f0e\",\"#2ca02c\",\"#d62728\",\"#9467bd\",\"#8c564b\",\"#e377c2\",\"#7f7f7f\",\"#bcbd22\",\"#17becf\"],\"factors\":[\"Compact\",\"Large\",\"Midsize\",\"Small\",\"Sporty\",\"Van\"]}}},\"fill_color\":{\"type\":\"field\",\"field\":\"label\",\"transform\":{\"id\":\"p17794\"}},\"hatch_color\":{\"type\":\"field\",\"field\":\"label\",\"transform\":{\"id\":\"p17794\"}}}},\"nonselection_glyph\":{\"type\":\"object\",\"name\":\"Scatter\",\"id\":\"p17799\",\"attributes\":{\"x\":{\"type\":\"field\",\"field\":\"PC1\"},\"y\":{\"type\":\"field\",\"field\":\"PC2\"},\"size\":{\"type\":\"value\",\"value\":9},\"line_color\":{\"type\":\"field\",\"field\":\"label\",\"transform\":{\"id\":\"p17794\"}},\"line_alpha\":{\"type\":\"value\",\"value\":0.1},\"fill_color\":{\"type\":\"field\",\"field\":\"label\",\"transform\":{\"id\":\"p17794\"}},\"fill_alpha\":{\"type\":\"value\",\"value\":0.1},\"hatch_color\":{\"type\":\"field\",\"field\":\"label\",\"transform\":{\"id\":\"p17794\"}},\"hatch_alpha\":{\"type\":\"value\",\"value\":0.1}}},\"muted_glyph\":{\"type\":\"object\",\"name\":\"Scatter\",\"id\":\"p17800\",\"attributes\":{\"x\":{\"type\":\"field\",\"field\":\"PC1\"},\"y\":{\"type\":\"field\",\"field\":\"PC2\"},\"size\":{\"type\":\"value\",\"value\":9},\"line_color\":{\"type\":\"field\",\"field\":\"label\",\"transform\":{\"id\":\"p17794\"}},\"line_alpha\":{\"type\":\"value\",\"value\":0.2},\"fill_color\":{\"type\":\"field\",\"field\":\"label\",\"transform\":{\"id\":\"p17794\"}},\"fill_alpha\":{\"type\":\"value\",\"value\":0.2},\"hatch_color\":{\"type\":\"field\",\"field\":\"label\",\"transform\":{\"id\":\"p17794\"}},\"hatch_alpha\":{\"type\":\"value\",\"value\":0.2}}}}}],\"toolbar\":{\"type\":\"object\",\"name\":\"Toolbar\",\"id\":\"p17767\",\"attributes\":{\"tools\":[{\"type\":\"object\",\"name\":\"PanTool\",\"id\":\"p17781\"},{\"type\":\"object\",\"name\":\"WheelZoomTool\",\"id\":\"p17782\",\"attributes\":{\"renderers\":\"auto\"}},{\"type\":\"object\",\"name\":\"BoxZoomTool\",\"id\":\"p17783\",\"attributes\":{\"overlay\":{\"type\":\"object\",\"name\":\"BoxAnnotation\",\"id\":\"p17784\",\"attributes\":{\"syncable\":false,\"line_color\":\"black\",\"line_alpha\":1.0,\"line_width\":2,\"line_dash\":[4,4],\"fill_color\":\"lightgrey\",\"fill_alpha\":0.5,\"level\":\"overlay\",\"visible\":false,\"left\":{\"type\":\"number\",\"value\":\"nan\"},\"right\":{\"type\":\"number\",\"value\":\"nan\"},\"top\":{\"type\":\"number\",\"value\":\"nan\"},\"bottom\":{\"type\":\"number\",\"value\":\"nan\"},\"left_units\":\"canvas\",\"right_units\":\"canvas\",\"top_units\":\"canvas\",\"bottom_units\":\"canvas\",\"handles\":{\"type\":\"object\",\"name\":\"BoxInteractionHandles\",\"id\":\"p17790\",\"attributes\":{\"all\":{\"type\":\"object\",\"name\":\"AreaVisuals\",\"id\":\"p17789\",\"attributes\":{\"fill_color\":\"white\",\"hover_fill_color\":\"lightgray\"}}}}}}}},{\"type\":\"object\",\"name\":\"SaveTool\",\"id\":\"p17791\"},{\"type\":\"object\",\"name\":\"ResetTool\",\"id\":\"p17792\"},{\"type\":\"object\",\"name\":\"HelpTool\",\"id\":\"p17793\"}]}},\"left\":[{\"type\":\"object\",\"name\":\"LinearAxis\",\"id\":\"p17776\",\"attributes\":{\"ticker\":{\"type\":\"object\",\"name\":\"BasicTicker\",\"id\":\"p17777\",\"attributes\":{\"mantissas\":[1,2,5]}},\"formatter\":{\"type\":\"object\",\"name\":\"BasicTickFormatter\",\"id\":\"p17778\"},\"axis_label\":\"PC2\",\"major_label_policy\":{\"type\":\"object\",\"name\":\"AllLabels\",\"id\":\"p17779\"}}}],\"below\":[{\"type\":\"object\",\"name\":\"LinearAxis\",\"id\":\"p17771\",\"attributes\":{\"ticker\":{\"type\":\"object\",\"name\":\"BasicTicker\",\"id\":\"p17772\",\"attributes\":{\"mantissas\":[1,2,5]}},\"formatter\":{\"type\":\"object\",\"name\":\"BasicTickFormatter\",\"id\":\"p17773\"},\"axis_label\":\"PC1\",\"major_label_policy\":{\"type\":\"object\",\"name\":\"AllLabels\",\"id\":\"p17774\"}}}],\"center\":[{\"type\":\"object\",\"name\":\"Grid\",\"id\":\"p17775\",\"attributes\":{\"axis\":{\"id\":\"p17771\"}}},{\"type\":\"object\",\"name\":\"Grid\",\"id\":\"p17780\",\"attributes\":{\"dimension\":1,\"axis\":{\"id\":\"p17776\"}}},{\"type\":\"object\",\"name\":\"Legend\",\"id\":\"p17804\",\"attributes\":{\"items\":[{\"type\":\"object\",\"name\":\"LegendItem\",\"id\":\"p17805\",\"attributes\":{\"label\":{\"type\":\"value\",\"value\":\"Compact\"},\"renderers\":[{\"id\":\"p17801\"}],\"index\":2}},{\"type\":\"object\",\"name\":\"LegendItem\",\"id\":\"p17806\",\"attributes\":{\"label\":{\"type\":\"value\",\"value\":\"Large\"},\"renderers\":[{\"id\":\"p17801\"}],\"index\":6}},{\"type\":\"object\",\"name\":\"LegendItem\",\"id\":\"p17807\",\"attributes\":{\"label\":{\"type\":\"value\",\"value\":\"Midsize\"},\"renderers\":[{\"id\":\"p17801\"}],\"index\":1}},{\"type\":\"object\",\"name\":\"LegendItem\",\"id\":\"p17808\",\"attributes\":{\"label\":{\"type\":\"value\",\"value\":\"Small\"},\"renderers\":[{\"id\":\"p17801\"}],\"index\":0}},{\"type\":\"object\",\"name\":\"LegendItem\",\"id\":\"p17809\",\"attributes\":{\"label\":{\"type\":\"value\",\"value\":\"Sporty\"},\"renderers\":[{\"id\":\"p17801\"}],\"index\":13}},{\"type\":\"object\",\"name\":\"LegendItem\",\"id\":\"p17810\",\"attributes\":{\"label\":{\"type\":\"value\",\"value\":\"Van\"},\"renderers\":[{\"id\":\"p17801\"}],\"index\":15}}]}}]}}]}};\n  const render_items = [{\"docid\":\"d78ca60c-4379-481e-aa40-82cdce987abd\",\"roots\":{\"p17758\":\"c6fe6fdf-f460-4c72-94f0-b41599425c21\"},\"root_ids\":[\"p17758\"]}];\n  void root.Bokeh.embed.embed_items_notebook(docs_json, render_items);\n  }\n  if (root.Bokeh !== undefined) {\n    embed_document(root);\n  } else {\n    let attempts = 0;\n    const timer = setInterval(function(root) {\n      if (root.Bokeh !== undefined) {\n        clearInterval(timer);\n        embed_document(root);\n      } else {\n        attempts++;\n        if (attempts > 100) {\n          clearInterval(timer);\n          console.log(\"Bokeh: ERROR: Unable to run BokehJS code because BokehJS library is missing\");\n        }\n      }\n    }, 10, root)\n  }\n})(window);",
            "application/vnd.bokehjs_exec.v0+json": ""
          },
          "metadata": {
            "application/vnd.bokehjs_exec.v0+json": {
              "id": "p17758"
            }
          },
          "output_type": "display_data"
        }
      ],
      "source": [
        "source = ColumnDataSource(pca_cars)\n",
        "\n",
        "p = figure( width=600, height=600, y_range=(-4.5,4.8),\n",
        "            title=\"Projection onto first two principal components\")\n",
        "\n",
        "p.scatter( source=source, x='PC1', y='PC2', size=9, legend_group='label',\n",
        "          color=factor_cmap(field_name='label', palette=Category10[10], factors=factors))\n",
        "p.xaxis.axis_label = 'PC1'\n",
        "p.yaxis.axis_label = 'PC2'\n",
        "\n",
        "show(p)"
      ]
    },
    {
      "cell_type": "markdown",
      "metadata": {
        "id": "1UXfnQL7Ad2A"
      },
      "source": [
        "<div class=\"alert alert-success\">\n",
        "\n",
        "**Explain the axes**\n",
        "\n",
        "The figure above shows the projected cars data. Explain the x- and y-axis. What can you tell about cars that are located on the left/right and what about cars at the top/bottom?\n",
        "</div>\n",
        "\n",
        "Hints:\n",
        "- You cannot solve the problem using the current chart only. You need some additional technique as explained in lecture.\n",
        "- The eigenvectors can be obtained through `pca.components_`\n",
        "- A biplot is most helpful for the upcoming questions."
      ]
    },
    {
      "cell_type": "code",
      "execution_count": 263,
      "metadata": {
        "colab": {
          "base_uri": "https://localhost:8080/"
        },
        "id": "tN015zPS-msp",
        "outputId": "7ef365a0-9d7f-4e14-a3a4-91befce3ec35"
      },
      "outputs": [
        {
          "name": "stdout",
          "output_type": "stream",
          "text": [
            "\n",
            "Top features for PC1: ['Weight', 'Engine', 'Tank', 'Width', 'Cylinders', 'CityMpg', 'Length', 'Horsepower', 'HighwayMpg', 'UTurn', 'EngineRev', 'MinPrice', 'MidPrice', 'MaxPrice', 'Passenger', 'RPM']\n",
            "Top features for PC2: ['RPM', 'MaxPrice', 'MidPrice', 'MinPrice', 'Passenger', 'Horsepower', 'UTurn', 'Width', 'EngineRev', 'Length', 'Engine', 'CityMpg', 'Weight', 'Tank', 'HighwayMpg', 'Cylinders']\n",
            "\n",
            "PC1 contributions:\n",
            "----------------------------------------\n",
            "Weight: 0.2987\n",
            "Engine: 0.2895\n",
            "Tank: 0.2752\n",
            "Width: 0.2746\n",
            "Cylinders: 0.2716\n",
            "CityMpg: -0.2716\n",
            "Length: 0.2632\n",
            "Horsepower: 0.2562\n",
            "HighwayMpg: -0.2529\n",
            "UTurn: 0.2486\n",
            "EngineRev: -0.2475\n",
            "MinPrice: 0.2395\n",
            "MidPrice: 0.2290\n",
            "MaxPrice: 0.2113\n",
            "Passenger: 0.1803\n",
            "RPM: -0.1391\n",
            "\n",
            "PC2 contributions:\n",
            "----------------------------------------\n",
            "RPM: 0.4413\n",
            "MaxPrice: 0.4369\n",
            "MidPrice: 0.4196\n",
            "MinPrice: 0.3743\n",
            "Passenger: -0.3100\n",
            "Horsepower: 0.2607\n",
            "UTurn: -0.2084\n",
            "Width: -0.1990\n",
            "EngineRev: 0.1780\n",
            "Length: -0.0899\n",
            "Engine: -0.0818\n",
            "CityMpg: 0.0393\n",
            "Weight: -0.0379\n",
            "Tank: -0.0268\n",
            "HighwayMpg: 0.0237\n",
            "Cylinders: 0.0206\n"
          ]
        }
      ],
      "source": [
        "components = pca.components_ # 2D matrix of shape: (16, 16)\n",
        "\n",
        "feature_names = var\n",
        "# Rows represent principal components (PC1, PC2, ..., PC16).\n",
        "# Columns represent the original features in the dataset.\n",
        "\n",
        "# - The first row (components[0]) corresponds to PC1.\n",
        "# - The second row (components[1]) corresponds to PC2.\n",
        "# - The values in each row indicate the contribution (or \"weight\") of each original feature to the respective principal component.\n",
        "\n",
        "pc1 = components[0]\n",
        "pc2 = components[1]\n",
        "\n",
        "# np.argsort returns the indices that would sort an array.\n",
        "# np.abs(pc1)\n",
        "# [::-1] reverses the array so that the indices are indices of the array sorted descending\n",
        "\n",
        "pc1_idxs = np.argsort(np.abs(components[0]))[::-1]  # Sorted by magnitude descending\n",
        "pc2_idxs = np.argsort(np.abs(components[1]))[::-1]\n",
        "\n",
        "pc1_features = [feature_names[i] for i in pc1_idxs]\n",
        "pc2_features = [feature_names[i] for i in pc2_idxs]\n",
        "\n",
        "print(\"\\nTop features for PC1:\", pc1_features)\n",
        "print(\"Top features for PC2:\", pc2_features)\n",
        "\n",
        "# Print PC contributions sorted:\n",
        "print(\"\\nPC1 contributions:\")\n",
        "print('----------------------------------------')\n",
        "for feature, weight in zip(pc1_features, pc1[pc1_idxs]):\n",
        "    print(f\"{feature}: {weight:.4f}\")\n",
        "\n",
        "print(\"\\nPC2 contributions:\")\n",
        "print('----------------------------------------')\n",
        "for feature, weight in zip(pc2_features, pc2[pc2_idxs]):\n",
        "    print(f\"{feature}: {weight:.4f}\")"
      ]
    },
    {
      "cell_type": "markdown",
      "metadata": {
        "id": "5_obn4A5Uq7_"
      },
      "source": [
        "**Principal Components (PCs):**\n",
        "\n",
        "- PC1 and PC2 are not individual features; they are linear combinations of all original features.\n",
        "- Each feature (e.g., RM, Weight) contributes to both PC1 and PC2, but the magnitude of their contributions (loadings) determines which PC they influence more."
      ]
    },
    {
      "cell_type": "code",
      "execution_count": 264,
      "metadata": {
        "colab": {
          "base_uri": "https://localhost:8080/",
          "height": 617
        },
        "id": "n3VBd5ExMSZe",
        "outputId": "f2f1f904-8c25-4f40-c855-f1820253c600"
      },
      "outputs": [
        {
          "data": {
            "application/javascript": "'use strict';\n(function(root) {\n  function now() {\n    return new Date();\n  }\n\n  const force = true;\n\n  if (typeof root._bokeh_onload_callbacks === \"undefined\" || force === true) {\n    root._bokeh_onload_callbacks = [];\n    root._bokeh_is_loading = undefined;\n  }\n\nconst JS_MIME_TYPE = 'application/javascript';\n  const HTML_MIME_TYPE = 'text/html';\n  const EXEC_MIME_TYPE = 'application/vnd.bokehjs_exec.v0+json';\n  const CLASS_NAME = 'output_bokeh rendered_html';\n\n  /**\n   * Render data to the DOM node\n   */\n  function render(props, node) {\n    const script = document.createElement(\"script\");\n    node.appendChild(script);\n  }\n\n  /**\n   * Handle when an output is cleared or removed\n   */\n  function handleClearOutput(event, handle) {\n    function drop(id) {\n      const view = Bokeh.index.get_by_id(id)\n      if (view != null) {\n        view.model.document.clear()\n        Bokeh.index.delete(view)\n      }\n    }\n\n    const cell = handle.cell;\n\n    const id = cell.output_area._bokeh_element_id;\n    const server_id = cell.output_area._bokeh_server_id;\n\n    // Clean up Bokeh references\n    if (id != null) {\n      drop(id)\n    }\n\n    if (server_id !== undefined) {\n      // Clean up Bokeh references\n      const cmd_clean = \"from bokeh.io.state import curstate; print(curstate().uuid_to_server['\" + server_id + \"'].get_sessions()[0].document.roots[0]._id)\";\n      cell.notebook.kernel.execute(cmd_clean, {\n        iopub: {\n          output: function(msg) {\n            const id = msg.content.text.trim()\n            drop(id)\n          }\n        }\n      });\n      // Destroy server and session\n      const cmd_destroy = \"import bokeh.io.notebook as ion; ion.destroy_server('\" + server_id + \"')\";\n      cell.notebook.kernel.execute(cmd_destroy);\n    }\n  }\n\n  /**\n   * Handle when a new output is added\n   */\n  function handleAddOutput(event, handle) {\n    const output_area = handle.output_area;\n    const output = handle.output;\n\n    // limit handleAddOutput to display_data with EXEC_MIME_TYPE content only\n    if ((output.output_type != \"display_data\") || (!Object.prototype.hasOwnProperty.call(output.data, EXEC_MIME_TYPE))) {\n      return\n    }\n\n    const toinsert = output_area.element.find(\".\" + CLASS_NAME.split(' ')[0]);\n\n    if (output.metadata[EXEC_MIME_TYPE][\"id\"] !== undefined) {\n      toinsert[toinsert.length - 1].firstChild.textContent = output.data[JS_MIME_TYPE];\n      // store reference to embed id on output_area\n      output_area._bokeh_element_id = output.metadata[EXEC_MIME_TYPE][\"id\"];\n    }\n    if (output.metadata[EXEC_MIME_TYPE][\"server_id\"] !== undefined) {\n      const bk_div = document.createElement(\"div\");\n      bk_div.innerHTML = output.data[HTML_MIME_TYPE];\n      const script_attrs = bk_div.children[0].attributes;\n      for (let i = 0; i < script_attrs.length; i++) {\n        toinsert[toinsert.length - 1].firstChild.setAttribute(script_attrs[i].name, script_attrs[i].value);\n        toinsert[toinsert.length - 1].firstChild.textContent = bk_div.children[0].textContent\n      }\n      // store reference to server id on output_area\n      output_area._bokeh_server_id = output.metadata[EXEC_MIME_TYPE][\"server_id\"];\n    }\n  }\n\n  function register_renderer(events, OutputArea) {\n\n    function append_mime(data, metadata, element) {\n      // create a DOM node to render to\n      const toinsert = this.create_output_subarea(\n        metadata,\n        CLASS_NAME,\n        EXEC_MIME_TYPE\n      );\n      this.keyboard_manager.register_events(toinsert);\n      // Render to node\n      const props = {data: data, metadata: metadata[EXEC_MIME_TYPE]};\n      render(props, toinsert[toinsert.length - 1]);\n      element.append(toinsert);\n      return toinsert\n    }\n\n    /* Handle when an output is cleared or removed */\n    events.on('clear_output.CodeCell', handleClearOutput);\n    events.on('delete.Cell', handleClearOutput);\n\n    /* Handle when a new output is added */\n    events.on('output_added.OutputArea', handleAddOutput);\n\n    /**\n     * Register the mime type and append_mime function with output_area\n     */\n    OutputArea.prototype.register_mime_type(EXEC_MIME_TYPE, append_mime, {\n      /* Is output safe? */\n      safe: true,\n      /* Index of renderer in `output_area.display_order` */\n      index: 0\n    });\n  }\n\n  // register the mime type if in Jupyter Notebook environment and previously unregistered\n  if (root.Jupyter !== undefined) {\n    const events = require('base/js/events');\n    const OutputArea = require('notebook/js/outputarea').OutputArea;\n\n    if (OutputArea.prototype.mime_types().indexOf(EXEC_MIME_TYPE) == -1) {\n      register_renderer(events, OutputArea);\n    }\n  }\n  if (typeof (root._bokeh_timeout) === \"undefined\" || force === true) {\n    root._bokeh_timeout = Date.now() + 5000;\n    root._bokeh_failed_load = false;\n  }\n\n  const NB_LOAD_WARNING = {'data': {'text/html':\n     \"<div style='background-color: #fdd'>\\n\"+\n     \"<p>\\n\"+\n     \"BokehJS does not appear to have successfully loaded. If loading BokehJS from CDN, this \\n\"+\n     \"may be due to a slow or bad network connection. Possible fixes:\\n\"+\n     \"</p>\\n\"+\n     \"<ul>\\n\"+\n     \"<li>re-rerun `output_notebook()` to attempt to load from CDN again, or</li>\\n\"+\n     \"<li>use INLINE resources instead, as so:</li>\\n\"+\n     \"</ul>\\n\"+\n     \"<code>\\n\"+\n     \"from bokeh.resources import INLINE\\n\"+\n     \"output_notebook(resources=INLINE)\\n\"+\n     \"</code>\\n\"+\n     \"</div>\"}};\n\n  function display_loaded(error = null) {\n    const el = document.getElementById(null);\n    if (el != null) {\n      const html = (() => {\n        if (typeof root.Bokeh === \"undefined\") {\n          if (error == null) {\n            return \"BokehJS is loading ...\";\n          } else {\n            return \"BokehJS failed to load.\";\n          }\n        } else {\n          const prefix = `BokehJS ${root.Bokeh.version}`;\n          if (error == null) {\n            return `${prefix} successfully loaded.`;\n          } else {\n            return `${prefix} <b>encountered errors</b> while loading and may not function as expected.`;\n          }\n        }\n      })();\n      el.innerHTML = html;\n\n      if (error != null) {\n        const wrapper = document.createElement(\"div\");\n        wrapper.style.overflow = \"auto\";\n        wrapper.style.height = \"5em\";\n        wrapper.style.resize = \"vertical\";\n        const content = document.createElement(\"div\");\n        content.style.fontFamily = \"monospace\";\n        content.style.whiteSpace = \"pre-wrap\";\n        content.style.backgroundColor = \"rgb(255, 221, 221)\";\n        content.textContent = error.stack ?? error.toString();\n        wrapper.append(content);\n        el.append(wrapper);\n      }\n    } else if (Date.now() < root._bokeh_timeout) {\n      setTimeout(() => display_loaded(error), 100);\n    }\n  }\n\n  function run_callbacks() {\n    try {\n      root._bokeh_onload_callbacks.forEach(function(callback) {\n        if (callback != null)\n          callback();\n      });\n    } finally {\n      delete root._bokeh_onload_callbacks\n    }\n    console.debug(\"Bokeh: all callbacks have finished\");\n  }\n\n  function load_libs(css_urls, js_urls, callback) {\n    if (css_urls == null) css_urls = [];\n    if (js_urls == null) js_urls = [];\n\n    root._bokeh_onload_callbacks.push(callback);\n    if (root._bokeh_is_loading > 0) {\n      console.debug(\"Bokeh: BokehJS is being loaded, scheduling callback at\", now());\n      return null;\n    }\n    if (js_urls == null || js_urls.length === 0) {\n      run_callbacks();\n      return null;\n    }\n    console.debug(\"Bokeh: BokehJS not loaded, scheduling load and callback at\", now());\n    root._bokeh_is_loading = css_urls.length + js_urls.length;\n\n    function on_load() {\n      root._bokeh_is_loading--;\n      if (root._bokeh_is_loading === 0) {\n        console.debug(\"Bokeh: all BokehJS libraries/stylesheets loaded\");\n        run_callbacks()\n      }\n    }\n\n    function on_error(url) {\n      console.error(\"failed to load \" + url);\n    }\n\n    for (let i = 0; i < css_urls.length; i++) {\n      const url = css_urls[i];\n      const element = document.createElement(\"link\");\n      element.onload = on_load;\n      element.onerror = on_error.bind(null, url);\n      element.rel = \"stylesheet\";\n      element.type = \"text/css\";\n      element.href = url;\n      console.debug(\"Bokeh: injecting link tag for BokehJS stylesheet: \", url);\n      document.body.appendChild(element);\n    }\n\n    for (let i = 0; i < js_urls.length; i++) {\n      const url = js_urls[i];\n      const element = document.createElement('script');\n      element.onload = on_load;\n      element.onerror = on_error.bind(null, url);\n      element.async = false;\n      element.src = url;\n      console.debug(\"Bokeh: injecting script tag for BokehJS library: \", url);\n      document.head.appendChild(element);\n    }\n  };\n\n  function inject_raw_css(css) {\n    const element = document.createElement(\"style\");\n    element.appendChild(document.createTextNode(css));\n    document.body.appendChild(element);\n  }\n\n  const js_urls = [\"https://cdn.bokeh.org/bokeh/release/bokeh-3.6.2.min.js\", \"https://cdn.bokeh.org/bokeh/release/bokeh-gl-3.6.2.min.js\", \"https://cdn.bokeh.org/bokeh/release/bokeh-widgets-3.6.2.min.js\", \"https://cdn.bokeh.org/bokeh/release/bokeh-tables-3.6.2.min.js\", \"https://cdn.bokeh.org/bokeh/release/bokeh-mathjax-3.6.2.min.js\"];\n  const css_urls = [];\n\n  const inline_js = [    function(Bokeh) {\n      Bokeh.set_log_level(\"info\");\n    },\nfunction(Bokeh) {\n    }\n  ];\n\n  function run_inline_js() {\n    if (root.Bokeh !== undefined || force === true) {\n      try {\n            for (let i = 0; i < inline_js.length; i++) {\n      inline_js[i].call(root, root.Bokeh);\n    }\n\n      } catch (error) {throw error;\n      }} else if (Date.now() < root._bokeh_timeout) {\n      setTimeout(run_inline_js, 100);\n    } else if (!root._bokeh_failed_load) {\n      console.log(\"Bokeh: BokehJS failed to load within specified timeout.\");\n      root._bokeh_failed_load = true;\n    } else if (force !== true) {\n      const cell = $(document.getElementById(null)).parents('.cell').data().cell;\n      cell.output_area.append_execute_result(NB_LOAD_WARNING)\n    }\n  }\n\n  if (root._bokeh_is_loading === 0) {\n    console.debug(\"Bokeh: BokehJS loaded, going straight to plotting\");\n    run_inline_js();\n  } else {\n    load_libs(css_urls, js_urls, function() {\n      console.debug(\"Bokeh: BokehJS plotting callback run at\", now());\n      run_inline_js();\n    });\n  }\n}(window));",
            "application/vnd.bokehjs_load.v0+json": ""
          },
          "metadata": {},
          "output_type": "display_data"
        },
        {
          "data": {
            "text/html": [
              "\n",
              "  <div id=\"bf8d46f0-4132-4c52-a24c-aeff7cdce96b\" data-root-id=\"p17925\" style=\"display: contents;\"></div>\n"
            ]
          },
          "metadata": {},
          "output_type": "display_data"
        },
        {
          "data": {
            "application/javascript": "(function(root) {\n  function embed_document(root) {\n  const docs_json = {\"4b46de44-9dcd-4a2f-a09b-75ab1840153e\":{\"version\":\"3.6.2\",\"title\":\"Bokeh Application\",\"roots\":[{\"type\":\"object\",\"name\":\"Row\",\"id\":\"p17925\",\"attributes\":{\"children\":[{\"type\":\"object\",\"name\":\"Figure\",\"id\":\"p17831\",\"attributes\":{\"x_range\":{\"type\":\"object\",\"name\":\"DataRange1d\",\"id\":\"p17833\"},\"y_range\":{\"type\":\"object\",\"name\":\"FactorRange\",\"id\":\"p17841\",\"attributes\":{\"factors\":[\"Weight\",\"Engine\",\"Tank\",\"Width\",\"Cylinders\",\"CityMpg\",\"Length\",\"Horsepower\",\"HighwayMpg\",\"UTurn\",\"EngineRev\",\"MinPrice\",\"MidPrice\",\"MaxPrice\",\"Passenger\",\"RPM\"]}},\"x_scale\":{\"type\":\"object\",\"name\":\"LinearScale\",\"id\":\"p17842\"},\"y_scale\":{\"type\":\"object\",\"name\":\"CategoricalScale\",\"id\":\"p17843\"},\"title\":{\"type\":\"object\",\"name\":\"Title\",\"id\":\"p17834\",\"attributes\":{\"text\":\"PC1 features contribution\"}},\"renderers\":[{\"type\":\"object\",\"name\":\"GlyphRenderer\",\"id\":\"p17873\",\"attributes\":{\"data_source\":{\"type\":\"object\",\"name\":\"ColumnDataSource\",\"id\":\"p17828\",\"attributes\":{\"selected\":{\"type\":\"object\",\"name\":\"Selection\",\"id\":\"p17829\",\"attributes\":{\"indices\":[],\"line_indices\":[]}},\"selection_policy\":{\"type\":\"object\",\"name\":\"UnionRenderers\",\"id\":\"p17830\"},\"data\":{\"type\":\"map\",\"entries\":[[\"pc1_features\",[\"Weight\",\"Engine\",\"Tank\",\"Width\",\"Cylinders\",\"CityMpg\",\"Length\",\"Horsepower\",\"HighwayMpg\",\"UTurn\",\"EngineRev\",\"MinPrice\",\"MidPrice\",\"MaxPrice\",\"Passenger\",\"RPM\"]],[\"pc2_features\",[\"RPM\",\"MaxPrice\",\"MidPrice\",\"MinPrice\",\"Passenger\",\"Horsepower\",\"UTurn\",\"Width\",\"EngineRev\",\"Length\",\"Engine\",\"CityMpg\",\"Weight\",\"Tank\",\"HighwayMpg\",\"Cylinders\"]],[\"pc1_scores\",{\"type\":\"ndarray\",\"array\":{\"type\":\"bytes\",\"data\":\"92aF8TMe0z9OFQ6oSIfSP3cgOPwWnNE/Bt5lASCT0T8P8WVyXWLRP9ANgGiqYdG/uDjo7lfY0D8xU9xEMGbQPw4o/Vj0L9C/ZN3oLbzSzz8ThhzHLa/Pv7uCZ2Kqp84/L4WAbX5QzT/iU9DJhQzLPzhUROuIEsc/A+OyE2nOwb8=\"},\"shape\":[16],\"dtype\":\"float64\",\"order\":\"little\"}],[\"pc2_scores\",{\"type\":\"ndarray\",\"array\":{\"type\":\"bytes\",\"data\":\"CCU1LvQ93D+57OFydPbbP0e7Dn532to/HA0qW4n01z8ppxR31NfTv48oVj9ar9A/d/6r7l2ryr+brvHJOXfJv6QwNBZSx8Y/LkWyTScFt78uWWQSH/K0vzl6SgtjH6Q/RW6tzjxoo7+6AaMl5Wibv/PYHzaRQJg/78CRXxQdlT8=\"},\"shape\":[16],\"dtype\":\"float64\",\"order\":\"little\"}]]}}},\"view\":{\"type\":\"object\",\"name\":\"CDSView\",\"id\":\"p17874\",\"attributes\":{\"filter\":{\"type\":\"object\",\"name\":\"AllIndices\",\"id\":\"p17875\"}}},\"glyph\":{\"type\":\"object\",\"name\":\"HBar\",\"id\":\"p17870\",\"attributes\":{\"y\":{\"type\":\"field\",\"field\":\"pc1_features\"},\"height\":{\"type\":\"value\",\"value\":0.5},\"right\":{\"type\":\"field\",\"field\":\"pc1_scores\"},\"line_color\":{\"type\":\"value\",\"value\":\"#1f77b4\"},\"fill_color\":{\"type\":\"value\",\"value\":\"#1f77b4\"}}},\"nonselection_glyph\":{\"type\":\"object\",\"name\":\"HBar\",\"id\":\"p17871\",\"attributes\":{\"y\":{\"type\":\"field\",\"field\":\"pc1_features\"},\"height\":{\"type\":\"value\",\"value\":0.5},\"right\":{\"type\":\"field\",\"field\":\"pc1_scores\"},\"line_color\":{\"type\":\"value\",\"value\":\"#1f77b4\"},\"line_alpha\":{\"type\":\"value\",\"value\":0.1},\"fill_color\":{\"type\":\"value\",\"value\":\"#1f77b4\"},\"fill_alpha\":{\"type\":\"value\",\"value\":0.1},\"hatch_alpha\":{\"type\":\"value\",\"value\":0.1}}},\"muted_glyph\":{\"type\":\"object\",\"name\":\"HBar\",\"id\":\"p17872\",\"attributes\":{\"y\":{\"type\":\"field\",\"field\":\"pc1_features\"},\"height\":{\"type\":\"value\",\"value\":0.5},\"right\":{\"type\":\"field\",\"field\":\"pc1_scores\"},\"line_color\":{\"type\":\"value\",\"value\":\"#1f77b4\"},\"line_alpha\":{\"type\":\"value\",\"value\":0.2},\"fill_color\":{\"type\":\"value\",\"value\":\"#1f77b4\"},\"fill_alpha\":{\"type\":\"value\",\"value\":0.2},\"hatch_alpha\":{\"type\":\"value\",\"value\":0.2}}}}}],\"toolbar\":{\"type\":\"object\",\"name\":\"Toolbar\",\"id\":\"p17840\",\"attributes\":{\"tools\":[{\"type\":\"object\",\"name\":\"PanTool\",\"id\":\"p17854\"},{\"type\":\"object\",\"name\":\"WheelZoomTool\",\"id\":\"p17855\",\"attributes\":{\"renderers\":\"auto\"}},{\"type\":\"object\",\"name\":\"BoxZoomTool\",\"id\":\"p17856\",\"attributes\":{\"overlay\":{\"type\":\"object\",\"name\":\"BoxAnnotation\",\"id\":\"p17857\",\"attributes\":{\"syncable\":false,\"line_color\":\"black\",\"line_alpha\":1.0,\"line_width\":2,\"line_dash\":[4,4],\"fill_color\":\"lightgrey\",\"fill_alpha\":0.5,\"level\":\"overlay\",\"visible\":false,\"left\":{\"type\":\"number\",\"value\":\"nan\"},\"right\":{\"type\":\"number\",\"value\":\"nan\"},\"top\":{\"type\":\"number\",\"value\":\"nan\"},\"bottom\":{\"type\":\"number\",\"value\":\"nan\"},\"left_units\":\"canvas\",\"right_units\":\"canvas\",\"top_units\":\"canvas\",\"bottom_units\":\"canvas\",\"handles\":{\"type\":\"object\",\"name\":\"BoxInteractionHandles\",\"id\":\"p17863\",\"attributes\":{\"all\":{\"type\":\"object\",\"name\":\"AreaVisuals\",\"id\":\"p17862\",\"attributes\":{\"fill_color\":\"white\",\"hover_fill_color\":\"lightgray\"}}}}}}}},{\"type\":\"object\",\"name\":\"SaveTool\",\"id\":\"p17864\"},{\"type\":\"object\",\"name\":\"ResetTool\",\"id\":\"p17865\"},{\"type\":\"object\",\"name\":\"HelpTool\",\"id\":\"p17866\"}]}},\"toolbar_location\":null,\"left\":[{\"type\":\"object\",\"name\":\"CategoricalAxis\",\"id\":\"p17849\",\"attributes\":{\"ticker\":{\"type\":\"object\",\"name\":\"CategoricalTicker\",\"id\":\"p17850\"},\"formatter\":{\"type\":\"object\",\"name\":\"CategoricalTickFormatter\",\"id\":\"p17851\"},\"major_label_policy\":{\"type\":\"object\",\"name\":\"AllLabels\",\"id\":\"p17852\"}}}],\"below\":[{\"type\":\"object\",\"name\":\"LinearAxis\",\"id\":\"p17844\",\"attributes\":{\"ticker\":{\"type\":\"object\",\"name\":\"BasicTicker\",\"id\":\"p17845\",\"attributes\":{\"mantissas\":[1,2,5]}},\"formatter\":{\"type\":\"object\",\"name\":\"BasicTickFormatter\",\"id\":\"p17846\"},\"major_label_policy\":{\"type\":\"object\",\"name\":\"AllLabels\",\"id\":\"p17847\"}}}],\"center\":[{\"type\":\"object\",\"name\":\"Grid\",\"id\":\"p17848\",\"attributes\":{\"axis\":{\"id\":\"p17844\"}}},{\"type\":\"object\",\"name\":\"Grid\",\"id\":\"p17853\",\"attributes\":{\"dimension\":1,\"axis\":{\"id\":\"p17849\"}}},{\"type\":\"object\",\"name\":\"Legend\",\"id\":\"p17876\",\"attributes\":{\"items\":[{\"type\":\"object\",\"name\":\"LegendItem\",\"id\":\"p17877\",\"attributes\":{\"label\":{\"type\":\"value\",\"value\":\"PC1\"},\"renderers\":[{\"id\":\"p17873\"}]}}]}}]}},{\"type\":\"object\",\"name\":\"Figure\",\"id\":\"p17878\",\"attributes\":{\"x_range\":{\"type\":\"object\",\"name\":\"DataRange1d\",\"id\":\"p17880\"},\"y_range\":{\"type\":\"object\",\"name\":\"FactorRange\",\"id\":\"p17888\",\"attributes\":{\"factors\":[\"RPM\",\"MaxPrice\",\"MidPrice\",\"MinPrice\",\"Passenger\",\"Horsepower\",\"UTurn\",\"Width\",\"EngineRev\",\"Length\",\"Engine\",\"CityMpg\",\"Weight\",\"Tank\",\"HighwayMpg\",\"Cylinders\"]}},\"x_scale\":{\"type\":\"object\",\"name\":\"LinearScale\",\"id\":\"p17889\"},\"y_scale\":{\"type\":\"object\",\"name\":\"CategoricalScale\",\"id\":\"p17890\"},\"title\":{\"type\":\"object\",\"name\":\"Title\",\"id\":\"p17881\",\"attributes\":{\"text\":\"PC2 features contribution\"}},\"renderers\":[{\"type\":\"object\",\"name\":\"GlyphRenderer\",\"id\":\"p17920\",\"attributes\":{\"data_source\":{\"id\":\"p17828\"},\"view\":{\"type\":\"object\",\"name\":\"CDSView\",\"id\":\"p17921\",\"attributes\":{\"filter\":{\"type\":\"object\",\"name\":\"AllIndices\",\"id\":\"p17922\"}}},\"glyph\":{\"type\":\"object\",\"name\":\"HBar\",\"id\":\"p17917\",\"attributes\":{\"y\":{\"type\":\"field\",\"field\":\"pc2_features\"},\"height\":{\"type\":\"value\",\"value\":0.5},\"right\":{\"type\":\"field\",\"field\":\"pc2_scores\"},\"line_color\":{\"type\":\"value\",\"value\":\"#1f77b4\"},\"fill_color\":{\"type\":\"value\",\"value\":\"#1f77b4\"}}},\"nonselection_glyph\":{\"type\":\"object\",\"name\":\"HBar\",\"id\":\"p17918\",\"attributes\":{\"y\":{\"type\":\"field\",\"field\":\"pc2_features\"},\"height\":{\"type\":\"value\",\"value\":0.5},\"right\":{\"type\":\"field\",\"field\":\"pc2_scores\"},\"line_color\":{\"type\":\"value\",\"value\":\"#1f77b4\"},\"line_alpha\":{\"type\":\"value\",\"value\":0.1},\"fill_color\":{\"type\":\"value\",\"value\":\"#1f77b4\"},\"fill_alpha\":{\"type\":\"value\",\"value\":0.1},\"hatch_alpha\":{\"type\":\"value\",\"value\":0.1}}},\"muted_glyph\":{\"type\":\"object\",\"name\":\"HBar\",\"id\":\"p17919\",\"attributes\":{\"y\":{\"type\":\"field\",\"field\":\"pc2_features\"},\"height\":{\"type\":\"value\",\"value\":0.5},\"right\":{\"type\":\"field\",\"field\":\"pc2_scores\"},\"line_color\":{\"type\":\"value\",\"value\":\"#1f77b4\"},\"line_alpha\":{\"type\":\"value\",\"value\":0.2},\"fill_color\":{\"type\":\"value\",\"value\":\"#1f77b4\"},\"fill_alpha\":{\"type\":\"value\",\"value\":0.2},\"hatch_alpha\":{\"type\":\"value\",\"value\":0.2}}}}}],\"toolbar\":{\"type\":\"object\",\"name\":\"Toolbar\",\"id\":\"p17887\",\"attributes\":{\"tools\":[{\"type\":\"object\",\"name\":\"PanTool\",\"id\":\"p17901\"},{\"type\":\"object\",\"name\":\"WheelZoomTool\",\"id\":\"p17902\",\"attributes\":{\"renderers\":\"auto\"}},{\"type\":\"object\",\"name\":\"BoxZoomTool\",\"id\":\"p17903\",\"attributes\":{\"overlay\":{\"type\":\"object\",\"name\":\"BoxAnnotation\",\"id\":\"p17904\",\"attributes\":{\"syncable\":false,\"line_color\":\"black\",\"line_alpha\":1.0,\"line_width\":2,\"line_dash\":[4,4],\"fill_color\":\"lightgrey\",\"fill_alpha\":0.5,\"level\":\"overlay\",\"visible\":false,\"left\":{\"type\":\"number\",\"value\":\"nan\"},\"right\":{\"type\":\"number\",\"value\":\"nan\"},\"top\":{\"type\":\"number\",\"value\":\"nan\"},\"bottom\":{\"type\":\"number\",\"value\":\"nan\"},\"left_units\":\"canvas\",\"right_units\":\"canvas\",\"top_units\":\"canvas\",\"bottom_units\":\"canvas\",\"handles\":{\"type\":\"object\",\"name\":\"BoxInteractionHandles\",\"id\":\"p17910\",\"attributes\":{\"all\":{\"type\":\"object\",\"name\":\"AreaVisuals\",\"id\":\"p17909\",\"attributes\":{\"fill_color\":\"white\",\"hover_fill_color\":\"lightgray\"}}}}}}}},{\"type\":\"object\",\"name\":\"SaveTool\",\"id\":\"p17911\"},{\"type\":\"object\",\"name\":\"ResetTool\",\"id\":\"p17912\"},{\"type\":\"object\",\"name\":\"HelpTool\",\"id\":\"p17913\"}]}},\"toolbar_location\":null,\"left\":[{\"type\":\"object\",\"name\":\"CategoricalAxis\",\"id\":\"p17896\",\"attributes\":{\"ticker\":{\"type\":\"object\",\"name\":\"CategoricalTicker\",\"id\":\"p17897\"},\"formatter\":{\"type\":\"object\",\"name\":\"CategoricalTickFormatter\",\"id\":\"p17898\"},\"major_label_policy\":{\"type\":\"object\",\"name\":\"AllLabels\",\"id\":\"p17899\"}}}],\"below\":[{\"type\":\"object\",\"name\":\"LinearAxis\",\"id\":\"p17891\",\"attributes\":{\"ticker\":{\"type\":\"object\",\"name\":\"BasicTicker\",\"id\":\"p17892\",\"attributes\":{\"mantissas\":[1,2,5]}},\"formatter\":{\"type\":\"object\",\"name\":\"BasicTickFormatter\",\"id\":\"p17893\"},\"major_label_policy\":{\"type\":\"object\",\"name\":\"AllLabels\",\"id\":\"p17894\"}}}],\"center\":[{\"type\":\"object\",\"name\":\"Grid\",\"id\":\"p17895\",\"attributes\":{\"axis\":{\"id\":\"p17891\"}}},{\"type\":\"object\",\"name\":\"Grid\",\"id\":\"p17900\",\"attributes\":{\"dimension\":1,\"axis\":{\"id\":\"p17896\"}}},{\"type\":\"object\",\"name\":\"Legend\",\"id\":\"p17923\",\"attributes\":{\"items\":[{\"type\":\"object\",\"name\":\"LegendItem\",\"id\":\"p17924\",\"attributes\":{\"label\":{\"type\":\"value\",\"value\":\"PC2\"},\"renderers\":[{\"id\":\"p17920\"}]}}]}}]}}]}}]}};\n  const render_items = [{\"docid\":\"4b46de44-9dcd-4a2f-a09b-75ab1840153e\",\"roots\":{\"p17925\":\"bf8d46f0-4132-4c52-a24c-aeff7cdce96b\"},\"root_ids\":[\"p17925\"]}];\n  void root.Bokeh.embed.embed_items_notebook(docs_json, render_items);\n  }\n  if (root.Bokeh !== undefined) {\n    embed_document(root);\n  } else {\n    let attempts = 0;\n    const timer = setInterval(function(root) {\n      if (root.Bokeh !== undefined) {\n        clearInterval(timer);\n        embed_document(root);\n      } else {\n        attempts++;\n        if (attempts > 100) {\n          clearInterval(timer);\n          console.log(\"Bokeh: ERROR: Unable to run BokehJS code because BokehJS library is missing\");\n        }\n      }\n    }, 10, root)\n  }\n})(window);",
            "application/vnd.bokehjs_exec.v0+json": ""
          },
          "metadata": {
            "application/vnd.bokehjs_exec.v0+json": {
              "id": "p17925"
            }
          },
          "output_type": "display_data"
        }
      ],
      "source": [
        "from bokeh.layouts import row\n",
        "\n",
        "source = ColumnDataSource(dict(\n",
        "    pc1_features=pc1_features,\n",
        "    pc2_features=pc2_features,\n",
        "\n",
        "    pc1_scores=pc1[pc1_idxs],\n",
        "    pc2_scores=pc2[pc2_idxs]\n",
        "))\n",
        "\n",
        "pc1_figure = figure(\n",
        "    width=600,\n",
        "    height=600,\n",
        "    title=\"PC1 features contribution\",\n",
        "    toolbar_location=None,\n",
        "    y_range=pc1_features,\n",
        ")\n",
        "\n",
        "\n",
        "pc1_figure.hbar(\n",
        "    left=0,\n",
        "    right='pc1_scores',\n",
        "    y='pc1_features',\n",
        "    source=source,\n",
        "    height=0.5,\n",
        "    legend_label='PC1'\n",
        ")\n",
        "\n",
        "pc2_figure = figure(\n",
        "    width=600,\n",
        "    height=600,\n",
        "    title=\"PC2 features contribution\",\n",
        "    toolbar_location=None,\n",
        "    y_range=pc2_features,\n",
        ")\n",
        "\n",
        "pc2_figure.hbar(\n",
        "    left=0,\n",
        "    right='pc2_scores',\n",
        "    y='pc2_features',\n",
        "    source=source,\n",
        "    height=0.5,\n",
        "    legend_label='PC2'\n",
        ")\n",
        "\n",
        "\n",
        "\n",
        "show(row(pc1_figure, pc2_figure))\n"
      ]
    },
    {
      "cell_type": "markdown",
      "metadata": {
        "id": "LzLZcCY7ZOR1"
      },
      "source": [
        "**Magnitude:**\n",
        "- The size of the loading indicates how much a feature contributes to that principal component (PC).\n",
        "- Larger values (positive or negative) imply stronger influence.\n",
        "\n",
        "**Sign:**\n",
        "- The sign (positive or negative) shows the direction of the relationship between the feature and the principal component.\n",
        "- A negative loading suggests the feature contributes in the opposite direction compared to features with positive loadings for that component."
      ]
    },
    {
      "cell_type": "code",
      "execution_count": 265,
      "metadata": {
        "colab": {
          "base_uri": "https://localhost:8080/",
          "height": 617
        },
        "id": "Rx6ofFgGt8C3",
        "outputId": "75af474f-50da-4ee3-98e7-7ca401d96bdb"
      },
      "outputs": [
        {
          "data": {
            "application/javascript": "'use strict';\n(function(root) {\n  function now() {\n    return new Date();\n  }\n\n  const force = true;\n\n  if (typeof root._bokeh_onload_callbacks === \"undefined\" || force === true) {\n    root._bokeh_onload_callbacks = [];\n    root._bokeh_is_loading = undefined;\n  }\n\nconst JS_MIME_TYPE = 'application/javascript';\n  const HTML_MIME_TYPE = 'text/html';\n  const EXEC_MIME_TYPE = 'application/vnd.bokehjs_exec.v0+json';\n  const CLASS_NAME = 'output_bokeh rendered_html';\n\n  /**\n   * Render data to the DOM node\n   */\n  function render(props, node) {\n    const script = document.createElement(\"script\");\n    node.appendChild(script);\n  }\n\n  /**\n   * Handle when an output is cleared or removed\n   */\n  function handleClearOutput(event, handle) {\n    function drop(id) {\n      const view = Bokeh.index.get_by_id(id)\n      if (view != null) {\n        view.model.document.clear()\n        Bokeh.index.delete(view)\n      }\n    }\n\n    const cell = handle.cell;\n\n    const id = cell.output_area._bokeh_element_id;\n    const server_id = cell.output_area._bokeh_server_id;\n\n    // Clean up Bokeh references\n    if (id != null) {\n      drop(id)\n    }\n\n    if (server_id !== undefined) {\n      // Clean up Bokeh references\n      const cmd_clean = \"from bokeh.io.state import curstate; print(curstate().uuid_to_server['\" + server_id + \"'].get_sessions()[0].document.roots[0]._id)\";\n      cell.notebook.kernel.execute(cmd_clean, {\n        iopub: {\n          output: function(msg) {\n            const id = msg.content.text.trim()\n            drop(id)\n          }\n        }\n      });\n      // Destroy server and session\n      const cmd_destroy = \"import bokeh.io.notebook as ion; ion.destroy_server('\" + server_id + \"')\";\n      cell.notebook.kernel.execute(cmd_destroy);\n    }\n  }\n\n  /**\n   * Handle when a new output is added\n   */\n  function handleAddOutput(event, handle) {\n    const output_area = handle.output_area;\n    const output = handle.output;\n\n    // limit handleAddOutput to display_data with EXEC_MIME_TYPE content only\n    if ((output.output_type != \"display_data\") || (!Object.prototype.hasOwnProperty.call(output.data, EXEC_MIME_TYPE))) {\n      return\n    }\n\n    const toinsert = output_area.element.find(\".\" + CLASS_NAME.split(' ')[0]);\n\n    if (output.metadata[EXEC_MIME_TYPE][\"id\"] !== undefined) {\n      toinsert[toinsert.length - 1].firstChild.textContent = output.data[JS_MIME_TYPE];\n      // store reference to embed id on output_area\n      output_area._bokeh_element_id = output.metadata[EXEC_MIME_TYPE][\"id\"];\n    }\n    if (output.metadata[EXEC_MIME_TYPE][\"server_id\"] !== undefined) {\n      const bk_div = document.createElement(\"div\");\n      bk_div.innerHTML = output.data[HTML_MIME_TYPE];\n      const script_attrs = bk_div.children[0].attributes;\n      for (let i = 0; i < script_attrs.length; i++) {\n        toinsert[toinsert.length - 1].firstChild.setAttribute(script_attrs[i].name, script_attrs[i].value);\n        toinsert[toinsert.length - 1].firstChild.textContent = bk_div.children[0].textContent\n      }\n      // store reference to server id on output_area\n      output_area._bokeh_server_id = output.metadata[EXEC_MIME_TYPE][\"server_id\"];\n    }\n  }\n\n  function register_renderer(events, OutputArea) {\n\n    function append_mime(data, metadata, element) {\n      // create a DOM node to render to\n      const toinsert = this.create_output_subarea(\n        metadata,\n        CLASS_NAME,\n        EXEC_MIME_TYPE\n      );\n      this.keyboard_manager.register_events(toinsert);\n      // Render to node\n      const props = {data: data, metadata: metadata[EXEC_MIME_TYPE]};\n      render(props, toinsert[toinsert.length - 1]);\n      element.append(toinsert);\n      return toinsert\n    }\n\n    /* Handle when an output is cleared or removed */\n    events.on('clear_output.CodeCell', handleClearOutput);\n    events.on('delete.Cell', handleClearOutput);\n\n    /* Handle when a new output is added */\n    events.on('output_added.OutputArea', handleAddOutput);\n\n    /**\n     * Register the mime type and append_mime function with output_area\n     */\n    OutputArea.prototype.register_mime_type(EXEC_MIME_TYPE, append_mime, {\n      /* Is output safe? */\n      safe: true,\n      /* Index of renderer in `output_area.display_order` */\n      index: 0\n    });\n  }\n\n  // register the mime type if in Jupyter Notebook environment and previously unregistered\n  if (root.Jupyter !== undefined) {\n    const events = require('base/js/events');\n    const OutputArea = require('notebook/js/outputarea').OutputArea;\n\n    if (OutputArea.prototype.mime_types().indexOf(EXEC_MIME_TYPE) == -1) {\n      register_renderer(events, OutputArea);\n    }\n  }\n  if (typeof (root._bokeh_timeout) === \"undefined\" || force === true) {\n    root._bokeh_timeout = Date.now() + 5000;\n    root._bokeh_failed_load = false;\n  }\n\n  const NB_LOAD_WARNING = {'data': {'text/html':\n     \"<div style='background-color: #fdd'>\\n\"+\n     \"<p>\\n\"+\n     \"BokehJS does not appear to have successfully loaded. If loading BokehJS from CDN, this \\n\"+\n     \"may be due to a slow or bad network connection. Possible fixes:\\n\"+\n     \"</p>\\n\"+\n     \"<ul>\\n\"+\n     \"<li>re-rerun `output_notebook()` to attempt to load from CDN again, or</li>\\n\"+\n     \"<li>use INLINE resources instead, as so:</li>\\n\"+\n     \"</ul>\\n\"+\n     \"<code>\\n\"+\n     \"from bokeh.resources import INLINE\\n\"+\n     \"output_notebook(resources=INLINE)\\n\"+\n     \"</code>\\n\"+\n     \"</div>\"}};\n\n  function display_loaded(error = null) {\n    const el = document.getElementById(null);\n    if (el != null) {\n      const html = (() => {\n        if (typeof root.Bokeh === \"undefined\") {\n          if (error == null) {\n            return \"BokehJS is loading ...\";\n          } else {\n            return \"BokehJS failed to load.\";\n          }\n        } else {\n          const prefix = `BokehJS ${root.Bokeh.version}`;\n          if (error == null) {\n            return `${prefix} successfully loaded.`;\n          } else {\n            return `${prefix} <b>encountered errors</b> while loading and may not function as expected.`;\n          }\n        }\n      })();\n      el.innerHTML = html;\n\n      if (error != null) {\n        const wrapper = document.createElement(\"div\");\n        wrapper.style.overflow = \"auto\";\n        wrapper.style.height = \"5em\";\n        wrapper.style.resize = \"vertical\";\n        const content = document.createElement(\"div\");\n        content.style.fontFamily = \"monospace\";\n        content.style.whiteSpace = \"pre-wrap\";\n        content.style.backgroundColor = \"rgb(255, 221, 221)\";\n        content.textContent = error.stack ?? error.toString();\n        wrapper.append(content);\n        el.append(wrapper);\n      }\n    } else if (Date.now() < root._bokeh_timeout) {\n      setTimeout(() => display_loaded(error), 100);\n    }\n  }\n\n  function run_callbacks() {\n    try {\n      root._bokeh_onload_callbacks.forEach(function(callback) {\n        if (callback != null)\n          callback();\n      });\n    } finally {\n      delete root._bokeh_onload_callbacks\n    }\n    console.debug(\"Bokeh: all callbacks have finished\");\n  }\n\n  function load_libs(css_urls, js_urls, callback) {\n    if (css_urls == null) css_urls = [];\n    if (js_urls == null) js_urls = [];\n\n    root._bokeh_onload_callbacks.push(callback);\n    if (root._bokeh_is_loading > 0) {\n      console.debug(\"Bokeh: BokehJS is being loaded, scheduling callback at\", now());\n      return null;\n    }\n    if (js_urls == null || js_urls.length === 0) {\n      run_callbacks();\n      return null;\n    }\n    console.debug(\"Bokeh: BokehJS not loaded, scheduling load and callback at\", now());\n    root._bokeh_is_loading = css_urls.length + js_urls.length;\n\n    function on_load() {\n      root._bokeh_is_loading--;\n      if (root._bokeh_is_loading === 0) {\n        console.debug(\"Bokeh: all BokehJS libraries/stylesheets loaded\");\n        run_callbacks()\n      }\n    }\n\n    function on_error(url) {\n      console.error(\"failed to load \" + url);\n    }\n\n    for (let i = 0; i < css_urls.length; i++) {\n      const url = css_urls[i];\n      const element = document.createElement(\"link\");\n      element.onload = on_load;\n      element.onerror = on_error.bind(null, url);\n      element.rel = \"stylesheet\";\n      element.type = \"text/css\";\n      element.href = url;\n      console.debug(\"Bokeh: injecting link tag for BokehJS stylesheet: \", url);\n      document.body.appendChild(element);\n    }\n\n    for (let i = 0; i < js_urls.length; i++) {\n      const url = js_urls[i];\n      const element = document.createElement('script');\n      element.onload = on_load;\n      element.onerror = on_error.bind(null, url);\n      element.async = false;\n      element.src = url;\n      console.debug(\"Bokeh: injecting script tag for BokehJS library: \", url);\n      document.head.appendChild(element);\n    }\n  };\n\n  function inject_raw_css(css) {\n    const element = document.createElement(\"style\");\n    element.appendChild(document.createTextNode(css));\n    document.body.appendChild(element);\n  }\n\n  const js_urls = [\"https://cdn.bokeh.org/bokeh/release/bokeh-3.6.2.min.js\", \"https://cdn.bokeh.org/bokeh/release/bokeh-gl-3.6.2.min.js\", \"https://cdn.bokeh.org/bokeh/release/bokeh-widgets-3.6.2.min.js\", \"https://cdn.bokeh.org/bokeh/release/bokeh-tables-3.6.2.min.js\", \"https://cdn.bokeh.org/bokeh/release/bokeh-mathjax-3.6.2.min.js\"];\n  const css_urls = [];\n\n  const inline_js = [    function(Bokeh) {\n      Bokeh.set_log_level(\"info\");\n    },\nfunction(Bokeh) {\n    }\n  ];\n\n  function run_inline_js() {\n    if (root.Bokeh !== undefined || force === true) {\n      try {\n            for (let i = 0; i < inline_js.length; i++) {\n      inline_js[i].call(root, root.Bokeh);\n    }\n\n      } catch (error) {throw error;\n      }} else if (Date.now() < root._bokeh_timeout) {\n      setTimeout(run_inline_js, 100);\n    } else if (!root._bokeh_failed_load) {\n      console.log(\"Bokeh: BokehJS failed to load within specified timeout.\");\n      root._bokeh_failed_load = true;\n    } else if (force !== true) {\n      const cell = $(document.getElementById(null)).parents('.cell').data().cell;\n      cell.output_area.append_execute_result(NB_LOAD_WARNING)\n    }\n  }\n\n  if (root._bokeh_is_loading === 0) {\n    console.debug(\"Bokeh: BokehJS loaded, going straight to plotting\");\n    run_inline_js();\n  } else {\n    load_libs(css_urls, js_urls, function() {\n      console.debug(\"Bokeh: BokehJS plotting callback run at\", now());\n      run_inline_js();\n    });\n  }\n}(window));",
            "application/vnd.bokehjs_load.v0+json": ""
          },
          "metadata": {},
          "output_type": "display_data"
        },
        {
          "data": {
            "text/html": [
              "\n",
              "  <div id=\"d5260508-5c66-4636-8a0e-e29e85029f4f\" data-root-id=\"p17928\" style=\"display: contents;\"></div>\n"
            ]
          },
          "metadata": {},
          "output_type": "display_data"
        },
        {
          "data": {
            "application/javascript": "(function(root) {\n  function embed_document(root) {\n  const docs_json = {\"7b6f7e25-c8bc-45ec-8450-1104e5ae8780\":{\"version\":\"3.6.2\",\"title\":\"Bokeh Application\",\"roots\":[{\"type\":\"object\",\"name\":\"Figure\",\"id\":\"p17928\",\"attributes\":{\"x_range\":{\"type\":\"object\",\"name\":\"DataRange1d\",\"id\":\"p17929\"},\"y_range\":{\"type\":\"object\",\"name\":\"DataRange1d\",\"id\":\"p17930\"},\"x_scale\":{\"type\":\"object\",\"name\":\"LinearScale\",\"id\":\"p17938\"},\"y_scale\":{\"type\":\"object\",\"name\":\"LinearScale\",\"id\":\"p17939\"},\"title\":{\"type\":\"object\",\"name\":\"Title\",\"id\":\"p17931\",\"attributes\":{\"text\":\"Biplot: Projection with Top Features\"}},\"renderers\":[{\"type\":\"object\",\"name\":\"GlyphRenderer\",\"id\":\"p17973\",\"attributes\":{\"data_source\":{\"type\":\"object\",\"name\":\"ColumnDataSource\",\"id\":\"p17964\",\"attributes\":{\"selected\":{\"type\":\"object\",\"name\":\"Selection\",\"id\":\"p17965\",\"attributes\":{\"indices\":[],\"line_indices\":[]}},\"selection_policy\":{\"type\":\"object\",\"name\":\"UnionRenderers\",\"id\":\"p17966\"},\"data\":{\"type\":\"map\",\"entries\":[[\"index\",{\"type\":\"ndarray\",\"array\":{\"type\":\"bytes\",\"data\":\"AAAAAAEAAAACAAAAAwAAAAQAAAAFAAAABgAAAAcAAAAIAAAACQAAAAoAAAALAAAADAAAAA0AAAAOAAAADwAAABAAAAARAAAAEgAAABMAAAAUAAAAFQAAABYAAAAXAAAAGAAAABkAAAAaAAAAGwAAABwAAAAdAAAAHgAAAB8AAAAgAAAAIQAAACIAAAAjAAAAJAAAACUAAAAmAAAAJwAAACgAAAApAAAAKgAAACsAAAAsAAAALQAAAC4AAAAvAAAAMAAAADEAAAAyAAAAMwAAADQAAAA1AAAANgAAADcAAAA4AAAAOQAAADoAAAA7AAAAPAAAAD0AAAA+AAAAPwAAAEAAAABBAAAAQgAAAEMAAABEAAAARQAAAEYAAABHAAAASAAAAEkAAABKAAAASwAAAEwAAABNAAAATgAAAE8AAABQAAAAUQAAAFIAAABTAAAAVAAAAFUAAABWAAAAVwAAAFgAAABZAAAAWgAAAA==\"},\"shape\":[91],\"dtype\":\"int32\",\"order\":\"little\"}],[\"PC1\",{\"type\":\"ndarray\",\"array\":{\"type\":\"bytes\",\"data\":\"/GMU35VVAsDfr7F9tagFQCMp4OZEoPI/6KySFoV/BUDSzhN7qnH2P3mR0AstdeO/WS8QrVSDB0DLsqeSuq4XQMEcRXBgQghAVaKpUCYTFkD+PJNoqn4XQAALqnrWTwHAyCrr89Ly/b8tGNOjgEr4P6MmjPVLArS/VE7Rh0GhCEAb82BsawsUQAJcCQvJjhRAtfAYz12iAED3+FkOVGKxPztjnGGrxAdAq2U+extKEcBnO1Uq6bYAwI26/FE21Om/TyvZmn2YA0BogZvyNnd+P8cYIeaKJgVABI0BSulXC8BVl7vBdO4CQDkohp83dBfAS6TVTpArBsCvebhuJ/b2v8LeaCCxrvC/6RQ/y6eB+r/U0K0l/CIIQI0fWmaYpvI/GWAvu4NQFEA+SULG7bEfwLluswysxQ/Ak3DJg7P48r848wvr7okTwMtgiOrlcPC/RuboZZXmEMBVeTz/FbEFwMagwVIdcBDAismcu3iS5r8DzPXdyzEZQFvR5oMvMAJAqR5J8PhwBkBIym1QhLYQQOyoku7d5hhARJVY/qFdEMBnrRL1GL0HwJdGKAVZR++/NaFswmj1AUBm26U25mLTv9pLdkcgdRFA3q5e4RjkB8Ar26wDSbwAQAQSu8WTBgzA6GOJCD7uA0D/qmeE4qMLwIgIcD+laum/JNV/4mjJB0DyLKqFacX2PyB5gk9jjfS/3bdiZ64x5L9xsRtFUOIMQMDnMjIElAdAEauSlgeu/r+jD+uPk0QSwKaMSZYZigDANM2zJssK/T8LtbE4P9b/P58Yok62uQZAaNzBKS2N0r+DM5uUStwEwIZmLhlpzhnAHHRuevbwCMBml308Uq/vv/ggkAlJeBrAchwA2d8sE8C0J6m2zoz0v9JT1TplydK/QxNM3Tou/T98V6i2tpUQwDOIr8x2CPw/i3EKAEpR8b9nwTlS7EKpv8DubMOB8da/t+qjGeSv6T8=\"},\"shape\":[91],\"dtype\":\"float64\",\"order\":\"little\"}],[\"PC2\",{\"type\":\"ndarray\",\"array\":{\"type\":\"bytes\",\"data\":\"Vr8bFd697j8gM5L8Vb0BQF5U1PA67P0/c0owhBKSA0BJwx9zQd0CQJTVsssc/+6/lAXxohzA878/uCfuMjQCwLbcMAiOopy/CzNVZZrvjD8VAFIqQFMIQJlyX/TDceG/dXqE0kif7L+P29Jx5if2v5BODYq7KvG/5JVFoadDAcBA+y96oAYLwFMU/Xn1bQPAOdQqi4tC7r8WXnCwRL3xv++DUcdkqYs/aELkJUC40z94chg+kpTyv4H13yUqY/e/6CltgUG89r+R/b5ArUX4vxpXNNEwtgFAueYeHFxOwT/vpwuOzAbCv87x6CTE/sW/XkTERTbW0T+xAQ6xLz/7vxoBUjdL2Oa/1TePsI4MvL91Q1Ml8hD6vwsbHxpV3uK/Olx+CT6OAMBgY0pp1w7nP7rKx187sdE/+JsfCMp88z8F964GfhTjP6LP1Yk6rOA/2Xv3TWRJ379J1QAzx9aSP4z7GV9QiMM/1/6RUkg40L8nEz7w77wQQORr1c28F/I/3/7xRIH9CUBoI1E/ObnNPz8zT6Va89Q/PqCOO8Xv5b8sOPHSHgfYv+3rGhoQNsI/RqOEBP6a8b+aEEp3xnoAQBES9GvdNRhAvLlwXl894z+W/Dsec74BwA4bDZjybcK/xZAVWJbr9D9lDVFAirTWP3d0bWArELa/0q36uGDQ+b9F2EE7dcG4P4AQZjGwXLw/tbeaWuPq5b8Kgkd8L3P9v46FL2k5E/S/6/xavOqv2r/QYHUTHLCQvzJurVuA6+m/xTwxGoMM8r8TjAKVEDbhv4kbppXQy+a/gy2/Ww0YAkBemuo+mUL1v90UTKGRSOI/FC9KKy+A0786mNatRMfiP+RB0qXxhuc/E/kw02Im0b+qHZKeTQ7gPyhXPj/VPaK/+lCWOo/65b9hz958ytGZv14sYxZLm/W/mSceyvsS8T/siZO6dxYAQLvS/dLEVeQ/L2j9CYhc/j8=\"},\"shape\":[91],\"dtype\":\"float64\",\"order\":\"little\"}],[\"PC3\",{\"type\":\"ndarray\",\"array\":{\"type\":\"bytes\",\"data\":\"cf04Ixja37/BI0VlYaDBv4sWya6JMti/zXhlfyyV8r/ElkEXRaPJPyr+iyOSNuK/3nmsJlou6j8gnOM6x2b0P5moL9J6+e8/taVPKOzR9T81NP5Jh/LyP3NqEQc8Ld0/tmcyM9dZzT/kPX9B4A79P/j9FUrPeue/XzyNVAsa57/uTlp37r37v7CLzS/huvU/ekD9eekr0j9objRS4WDTv3ll2qGOIdw/q9WtTMJQ57/FsyowC2Hav4UNUXfEP/C/EPIsKbCE+7++gVnRrVfmv7lehBnHv88/DLqR7V9uu785ILMQXyfXP8ga1C4NMsK/RibjPPI/5L/hoGEsHTfiv/koi7B+F9w/v/Y29AFI2D8F416M+L39v/BloUHYC+8/SbS5dhiz+T9OmMVA3z76P3kgq8iyVd4/R/p/zI2Jyj8cgDC52JgDQKUpMIqHc9Q/DGVvMDTn0b/GB8BgM0DuvzV5fy3ZqdA/CP5/hq/b5r/vJJOAIsbdP5fRE0m0u9G/w9lyF22oxL9SVSt/4DLYP/GrND//7PY/boHteBhu7D+wpPt+4uzYP1OwlZSUquE/imR8Amgc9r9eN1jAipblv56IKIvdgdm/DARYY3973L/dGsftBJPuPxTJNeZWyLO/ZRBJ6Dr/0b8pYGVkL+zMv0F63cL/gKo/Nw7uloTe9L/5TYaNVCfPPzSGCriHsKY/pKjYYjcruj9zIpX13kzev/a+qYgVkOo/O6ZfX7gLvT8kelttW83vP9wO18d1mNK/rqZWlYEV/j/mQ3xe6VTsP/cNylae/d4/X86JotzJ97+EQnxKRX/yP/ha0eOd2rg/bajv87xS8r+PQltJutTav0l2X+3hTO8/i4YSx7hxq7/hUal+qlThPzdoctNuCtq/bRSynma3AsCM9dlq/sOrP5E6rUc5jwXAb25bC11e8b9Xb3dUBx7iv/IHI9OOjdq/b8ktbrM85L8=\"},\"shape\":[91],\"dtype\":\"float64\",\"order\":\"little\"}],[\"PC4\",{\"type\":\"ndarray\",\"array\":{\"type\":\"bytes\",\"data\":\"jpo7cbTN7j/cSuc+I6LQv8lEN+66dNW/2+mDUXUp8r99riRmbZzYP8QOVcYiJ8m/9Ui1EYnJtT/DpV2e7VDVvwdpJEIdMtK/ENpaSZ7J+L8xsFQhhiLyP175w6Uni9C/ahjMtCgTpT9UMaPxU0njP5qSyq5KGba/8RKthWC24j/bglPrfEjMv9B4u1TOKpE/DbD3ATco4D/JAGL0Uf+mv60CzkjRBPC/oLfCdbpXyT9VbCQ68FHfv4128THixOG/wgP0pvR5yj/TOMwUNDjgv49r+Ybg6gJANtgBakoy2D9S9zIDbpX3P999ig33RPC/Ls6NC+Va+z+bCs6oGdXvv5qVCt9QXOC/Sm+agLFy4z8Tn16dzK7EP9TEp480G9W/+7DaVfaVp78fGjjHSpf0v6Ifk1Gwbdm/oADeuWO45T+BaI3SkOXCv1D8P115LOU/d98uiXtAwr8nftEfW0PxP1soAWtwUbY/8oxxcOuZ9z9sqaHl0l/QP8UYwUB91rK/dnqMe2Xb5j9O5wo+hEv6v/w6kV129+q/m2h9JNqj3b+H4aJ0+vyRP++t5t1NoeI/NHdK8UfPpr/IwBPsaoj8v0xPjp5t8AXA2qrxN7Sc2z8svHsFJ8zov6TyIY/dYuI/1KsaZfkw9j8wYz4/d/zbP0ci7S22oOg/jd3heQoEmD83wpYk2WzQP+gjHGaDbvQ/qq0gho06lT8vgJVfCX/TP5WfBvl+lrg/4LCpl/Tkx78BSzUCtsTLvzu7gIwqjrs/g0+RXRTU2T+3obLQuzfoP8CxNgn4y8i/86FLOzgBxr9dkYBIQhTcv9P40s4GwOG/XDvUovAO4L8a9r4WAp6zP3CWDdYhcNa/0zuqSWgO77/XIoQWgjzMPxbEo/DfK84/C+/LIeaq278IA6g5BoqkP1uO0KzGePG/QGU47OGmyT/4fB2xXWvmP+kl3guTxNy/CX6miVSa6D8=\"},\"shape\":[91],\"dtype\":\"float64\",\"order\":\"little\"}],[\"PC5\",{\"type\":\"ndarray\",\"array\":{\"type\":\"bytes\",\"data\":\"MoX/8IbJ5D9yuQ6AIvm1v3hLhvUiM+O/1nsV+wXr6D9qlfKrlqzSP9L/FGoH7+o/YDgR0jYxyT+rrdf+2JHIP7WXvmoKpdm/HIs70LTG4L//Hdc6Gn/gP/s5pPrOa80/S0JNA4F23T+wqwCL1UPzv+Kcja9KGO4/kffjNtIrrj85UdQAQq/kP0BaaLPKwaY/dxkoLf0V6D/m0QGOu7K+P6p5PEgKfME/CeA3pK7h5D9MI5gUcyTpv/BLPgb556m/kBNaY7rau7+aTNpKdz7SPzqWkm3K0+W/FOS1wwt62T/eJHBU3E7wP/w3jwb6J/e/1Z79axyqsb/OtSkfDIHtvxocRYMP6fO/2wfAo6hk4b/KBncXC1LFvx9TbaQp7di/zveXA4betz+W0iXUr6YAQK98FCkgwcA/s5m5/ZQusz8iw6cBJFv9P6JT3n+Gopk/e9NNpLepx78IaStaq07Sv62mBMajNu+/fwQ0w1YzpT89j9HET9XRPwxItfjvOuC/L3a2DslK1b+2Qqfyngi1P+nQJXV0lO0/PY/+BAvK6b+xUyFfo0/DP39iGuGO4+o/NjHq8+lW4T/kiiZm+2Tov81MtGLdC6i/RKlJdKOK+b9IbMx0Puvzv3aS1ve9bdg/X/iBG4Ktsz9J400Luj/HP/5TjCDYAIg/tG4UkgcE3D+UvNKsWTXbv+9kdrHQv94/XBZqe+Fb3z+JmtVAm57bP5m8oFDj6ss/FbdG+mGa8b8RXI5oIF3oP7BhAwL7x8G/EcREBvjn8L/sHb/wei3ev0dzTbetmsq/h8XX9AvRzT+mAOq56cHQP91jA9K8z+q//xOlfX0VlD9FV3/Sn0yxv/o2sPpALvM/biE0WbLZ5D/DQP8sQyLVvwRytz7yW8Y/AkwaRLWx5j9CPC2rUzv0v0OQloHy2Ns/GBNmhv4BxT+liiy87GD8v+7FCRyz/dO/Gur5vJy71D8=\"},\"shape\":[91],\"dtype\":\"float64\",\"order\":\"little\"}],[\"PC6\",{\"type\":\"ndarray\",\"array\":{\"type\":\"bytes\",\"data\":\"9BMp6yd4f79WbFAmE8S3P4O6K9/I6eU/oWYSbRG/1z+UFBuT2BXtv/ljvTRNuei/r8VtSDCUzD+erPq7N2Hiv5qA/rnVyrm/UA78zNLj4z961BpWjlHWPyOVXIL8adC/9piv5Ahr4L/wKyBgRFviv3HLIW0xHO2/yKtdOE5I6T9QQcrmH3HpPytexS2yTuw/+C+3JlvF1T+qJHJnwpzOv40hIQeLYOG/fv2HetjZ6D/f8y8mFCfNv7aL9TYNGtC/CGLETped6D+EVwgW7Pnwv8T/aGeCXNQ/XkRc76KH1T9F+Pl3zCjkPw6bhZadK/A/eM9mpt6A4D+60vp3V3PmvzlpDUhoTfK/ajvRNp8G4r9zfLbCVpi6P1WhI8IFbr4/WOJAGrCx6D9zaXJn9X7gP66rtV79hcq/Ju22ryxu5r/9K164IdvePzy5F6NUe/S/Af75gs904j/wCSFgQZjPP3RFK74W6dg/BA/1sxB167+4U3TniVbhP3Zz9D+3tKG/IV31a01f1L+DONGbB2jcv9+0r0rCt7G/2XvTXiKe4T/Ghj6YzBLgP1rtMyC/Pdu/QORr+Gcc7D8OU/tZEU+qP/nvcLqTALG/nv8heaU2rL+eRPoHUdzUP3/4k8PKHNw/jBD3rlp31r+z4UpKOWTwP42ObeovPNe/z7eSy2gs4T/wFlurlzyyP/mn6mj21dW/m7gC4X/19L98kuKyRxLVP0NE9rBcTck/I9dSIlEs6r9s0bKH3Nuyv2wlKh9p0OG/1h2CIILF5r95tEOn68m8P8AMvak4xuE/5YpMIvE8579Jfs3G60TSv46OxMbX/eo/dlSKxi+0p78JNCVa9jq8vxnRICuchNA/GFJtVv7X1T/69m+i9Zzjv5D2yx8yAOK/AdpdFvQp5L9q04DhuqvcP4iIrOYpraE/slzNxDDEn7/MKCk4imPxPxIntkGkD+G/cQdOehrTnD8=\"},\"shape\":[91],\"dtype\":\"float64\",\"order\":\"little\"}],[\"PC7\",{\"type\":\"ndarray\",\"array\":{\"type\":\"bytes\",\"data\":\"UcOORLLQ0b9x2XJ8xF7GPxuOifrfIsS/a+C3utSFzD8uz6ddu5/yP+3I4LOS3tm/JCzp85A34b+HRJ/xOsffP2GobQopSKW/W5sa3bwP4b/S3HTbG1m0P/wBLJ90s9W/WJRTDfIOzz+Nf+rs/3TRPzOlQiah3cS/5gWur/cw1L+dyUJLRafyPzncOhTLb+g/lHUxvsTWwr9Tug/7Ybjnv5r5TMBjt/a/zl4oVWzA4D8X4AmUXg+pP8feXNRFU7+/BqzYay4t1b8FvtqcsVTdvxm0jHXobe8/owbAPSGk6L/uYa7H3W3Iv8G/eJITHuA/Ce66t86Y6r8Cu34b747qP19pyfA8dcc//IWdqHhpxz/2eeO+ZRPJv1wZFErPUdC/IU0la0Bq1z+OLCFbjensPzA831uZueg//lPLZIYQ5z++YQo5ksWwvwTXRJ3OMdY/jveyfEOV3r9unwRqLoPJv1uhi2PUItC/YM0Rsto727+41NM8FIDCP4CV1AfYtNQ/o+VYpP8o7T/J1sE9s53gv5A3CfEhjbI//Yhw75A3yT+w0bxptHPiv71na4vBF6m/t5+qHzSFuz9URoxxYZLfvy1Cn3wXPui/Tg103MHR5r9aWeED883pP/nWrJIpVuS/JWwq/s82wL9zxvCLEiLgv3+BjZXeAeO/eK8syjFQuD+FkGC1d2ulv/2IKAtP4d+/gkmPL+7Mf7/7lrjIOi3gv3HCaMi+SOG/KYERxV2MwD8mv+Pa0s/mP5Fhvf7rOJC/CNzHJUIHzj8cokxf5KKIP5R9WFwWBOO/btIx0SX7sD+HU9PEuNnrv/VOdhO0Pti/fxKXcY+T8T+qbJy0ajrXv4OwgAswE9I/zdALLy825D9fvzQ8t+HRP6+w7Gjlwss/oSMolk4nur+fh+L6DAfHv+yKmeDP2fI/QVA+boL/2j+hxuIXSarkP+GgYRNMyuW/DhaaDfPkvL8=\"},\"shape\":[91],\"dtype\":\"float64\",\"order\":\"little\"}],[\"PC8\",{\"type\":\"ndarray\",\"array\":{\"type\":\"bytes\",\"data\":\"/V79aVlEvz/OPkaOKPHfPyKDQCueVrY/NVVCCPYi3j99o0EhglLIv6rVrCVAh6e/cBGvW7l2yj9k902qcaPUP9zQjk17XNQ/OPX+wQ9grb+sUYac8bPdv4gkeTXJe8E/FL1M0pYHvz9/elyBmv/Fv2JZKO142OI//GWsrra6878EKa9detvCv6fGpRDT0Oo/yUMwRNH66T8+3y2bMSnbvyFY4TlcfcW/REczIvL87j9930W1qGDLv+XS3h3qMJe/+SuJN1Nr7793AQzBSQ6wv4rhXbA10+a/M4QTWX98zD/iNjGLbcXiP0E1HQjC+ei/CR09FMY42D9adCXokAHNv/SRruR9386/jLlQ0cBg0T83/J2chGj4v7GTUQaiFMU/qsUfA2RF2j+StAPBbqjxv+y0BiDdj+K/Y5Humvl1278gZdenG1HWv2JuYCJzxNO/7c0wJak2wj8u7NJhrIvVP7G7P2FRrts/xS7T306hkT8YNl3VCuzTv4/yBJ5VHq6/6uDqWmzkzz+f4KEzu9vRP4ZQQBU5eq4/R311EJLezT9UpABx8iDHPyx8EUDV7tO/GfuZiZatzT+G608AijDiP2eCdcglPte/diDDVtLmwj9DEqE1rh3wP4lAwvNNZ8k/+PU4YcQy4b+pKq/wWGPjP7VJlqAD+dC/Vpf5lqGUur+dG0vFUpfFvxGeTSi2YtU/t7zlLVmmxr/fb/3YAP/ev0BVQtn0os8/XkCOpH36zr9s84WYXI/gP4B4Jze/QJc/3jRWXN/EuL+tX/yDD9GxPxEypc2uF/O/IDtAxHt/1T/sL0j0N9jcv5O93P7iI9a/e4fvngpa2z8SZxDPllvQP3RG77hNedK/xERtA9uF5b92IoaWHQncv55RTTMtJeE/SeEbj1PF0r9JdJ4dz/vXP+Xye7/PQ9M/OwL9W9Ub6D9BsURaMaPYv4hD9QF3aO0/Q+EuvMhZ1D8=\"},\"shape\":[91],\"dtype\":\"float64\",\"order\":\"little\"}],[\"PC9\",{\"type\":\"ndarray\",\"array\":{\"type\":\"bytes\",\"data\":\"gC6ApLGP3z8rqBT3AUTNP1b6oGbcicY/yGaMFFdNwr/se4b5IKXyvxHGsrufPdA/wlh5IByKw7+tsly/P8rpvzvctrTUScy/o74yUbXK5j+MeZbBCGHrP5NQa+nveNu/zlC5x7aQwD+hygf6A0DWP0K6yQ31BNI/yR4+18Fz0b+a6W8CbMbwvyZhnO1losq/WBGySiMX0D/5C2Q26eDNvxcQEsMs7uc/FIoetZDE4T8Oyy8Wax/FP0B8XC6fOsQ/m2p9TrB1xL9Ywx2ZA8XePzSzWXMGqN+/fxjmta+Kub+PdZ5/mRvCPzjk20wWFOA/aeEFgwBDqD9rRBbd2dbZPyndJ8zbhdO/7iviExuj0r8GwR8vxcm/Pw8NJfv2yJe/LYpeCxmi0T8lsT2ynnquv+W9Zv1ZVOI/GInl6tHjnj+8NuIzFXjkv/+GE2ByOrG/cm35vzQw1D+3MYkhsbfaP9ayM9YgR5S/rQucZswxnz+VxNHEU2rYP3CbbBBh6d4/Wxtmar9u1D/TgQbblfbFP9DJ+gDO8+w/4I2QQTxO5b9ve29olhjkv83oUsaYgsO/bkH/WabSwj9JeaJf3FXbvxDSSze34uq/ZVDfliNW4D+nkCZ5PzbRv9MdFc0x5rG/qcqPV65D2j/ts147mXzev1toHg7PBtu/1+z6xmZSYD/y/XmgE13PP4V0i8a1IbU/8F5QGX/yyj8xNRKlI0eiP8a4dJgQPcO/0nJfDHhV1b8kFl91QAnOP+17auDPp9Q/u/h0vjNm0T8R97l9WJPJP8D3dPNQXeS/hZERk9R8rL+y8AdPUcXTv0R3kVezn82/oKup5uPi5T/IxtfGHmnfv/ZgalaEC7A/l4HkGeG96z+EKGbtcX7iv43llK7u0uO/uhznmW3dx79P5hMRdgGMv2ewZpVt3Mw/9M5aQBR04L/FcCGJNHCKv9LyFJeTx8m/NUsY/IEg1r8=\"},\"shape\":[91],\"dtype\":\"float64\",\"order\":\"little\"}],[\"PC10\",{\"type\":\"ndarray\",\"array\":{\"type\":\"bytes\",\"data\":\"BTr7orVr3z+vx9x3AeXUP20aQuM9Qcm/beED4UZtsT8U4pnHMKDgv684tr9M8MC/Ku7txn+/hD+PZ1pvEtXgv49g1bW7IMu/Ro+SnV3F178+nDn6z4vKv6d7TCNWcdG/E46NgfYZ0b/vq3UVdg3iP7gZbIYQXtk/PjDQrSr5uL/GAn0VPejMv6IK91wfzdO/2sHgljdqzj/g3WzENujgv/8H2RM0u+C/0htmDTmv0D9BtfLoefW6P4JJn2nZl8i/9fZX3Mnt0T939yoxUKzHv+brM1dp6uE/NqwdMRAAzz8JVHNox5vRP5bKxtdwWb0/+2hFbkrMzD8KtvTOBR26v7vUkC6bK8k/xT7bedxE1j/nWXolXly4P913Cq0Kw9k/VzivdTvH1D9jzog0TIjLv9yO5IicpNQ/q4ACkaNZ1T+6M5B14QbTP4zd/vR/YNK/P5VVihUj0L+40djc6LibP4wE8M+wlae/QxLUvo8ntL9moZG3jgvmv/WrkdAiecm/DlOoh05gyb+oXVM5W+C4vwK8j6BcH8U/HbQZU8wJpj8WPscuFI3Uv77FpnrMzLS/KiA5dJQHxz+iNXvKcgnGP6gLTLwGgu0/6Rgkr7B40D+WHI9ni8K1Pw5R1h33oNI/hIiRLa+uvr955mKwjazRP+Ohxo2D3NW/VE00oIzZ3T/IgXBCLSfhv+qT0q5SfNi/yaUSgwfEsD+10Z9mo1LQv7VeGStP8p8/w7/t9BfQlb+uuRwapL+Uv3H9RbnegtW/UOlWOgcc7D/TzErori7SP5a7vhYqpNQ/xm9WWJ1XxT/Ckj+Pgie5P2vaiFpSGNW/DDtDSGVg2L/vU6APEJeyv/LyFtOHqcq/2XIg1orrsz+jTUlZcMnQP6SSDIPCB7Y/SZBBTjHdyT/TqEIN5aDZv7ev/0DybNo/H/9YP+fO0L/5PQVNC/zmv+CNakvMuNG/h8j62ABF0L8=\"},\"shape\":[91],\"dtype\":\"float64\",\"order\":\"little\"}],[\"PC11\",{\"type\":\"ndarray\",\"array\":{\"type\":\"bytes\",\"data\":\"AOkNV03e0T97oBa0zU7NP7DdmvnJW6c/gTjgj24u3b+0wpjo3f/hP1BZWPq55K+/JuXGzHTEuz8sfYgxeUfVPzfU0UfnDb+/eCXb1t5ZzD8I+vYUUZ3NP+Dy5m3hXZG/xdITWjgWqz8yFohXKCOzv6PHEuCKqrM/esYQ3gAVsz/OVmlErmzAvzaXUN9Wr+G/vAE4XTHxwb+2s9qiECjlP0lQWNsIdZO/u025BeCntT8uwgrb40rMP2uZPuGWDdQ/1Z9ykP2w17+R3DnQprbAP1WDWtqzs+g/lPUJ0uTM2L/nfCOpXVPcP4nz/pD+qrU/IffTVyN0Uj+zruTOTiPQP3W80JC0Gri/1PZRaTlb2L8hUkonb83gv8cPUGYaZca/wPRtIGMRv79NypWKZhG0vx7D3h0UmbC/TGi4xiZOwj+0zzv/fY7Mv+6rCxZXw8O/xLPHfGbDvD98ssLv8AzQP0K2+n9xFqS/ZJjCJVtH4L/0RbBcppnQv6/pJ+MosXs/VVjGx56c0b/ATGZpjuy2P7AUiXzx/cO/nQHxhy0Lx7+0XMMMpDbIv1Db/iP29OA/SuwzsywqvD8JmUVZmm/ePxLSrYZdKnU/ac2m0PV6eL8fytLKpRjZPwXABQy9WNm/CGDcvSwQzL/PmE6vlpi5P4Nnisg7T9I/jNamRIt3hj+jCICBdjTbv4/5yg1u7dc/XyVRTW0f1b8IKxeaXzSvP6JFTvXJy7w/HB8OXr/n4r+veP8KkF7Uv5UXbVquOJ8/jaQsjtGhwb/2IzII/hnhPx7ST6xPyqS/p263ZnF60L/+sJHTBCrOv1Xwy3MQCOE/wHGGN/5iqT/dGOQRLLrDP3ZIFOyvNb0/wbUc4shDxj+Guc96c7e1v3nSNVQebs+/N79waG9x1T/6tqGqAzS6vx8hQZbUHq0/cSfUFxuZvr9M3UtUT7bcv+mmyjFd24+/1Rlqy9pm378=\"},\"shape\":[91],\"dtype\":\"float64\",\"order\":\"little\"}],[\"PC12\",{\"type\":\"ndarray\",\"array\":{\"type\":\"bytes\",\"data\":\"XeK2nu7l0T+Uy+f1tVqfvywDSYOUTNi/wlz9dralvL8jDgu+xp+4v6X+Wiyq5L4/qjiD8KcHzT/aD2TokJLgP4y5kfZ/7tA/brcJayLxrj+/yIQsKWDEP+paDHvcuNG/Lirld5Mvlb+tJhQ4FvWxP1lRLdZennS/5gqOEF0U0j+4/0++tVDYPx5tzybPw8q/KNMChiCXvj/N2x/qeOewP9GTikr9Etm/+4WnNkMgxz/Q4cYVAaeQP0e57ReRea0/czyuqgfAx79WzCgffh6aP7YkoiywEOG/ucXhmCzNo78KK4BZ1LLCP92U1KoSfNQ/b8+c7e/p1j92eG4pvFq1PyrF7qGZn9C/YkIWJgv81j/cQIVTii/NvybK2Bqg4dy/lN3C5fexw78H4vy2xxy3P0ZDx6nFgsk/qlwklIkg4D+eRKAbhsfXv49uasobH92/0hlOr8HG2L/oJoEkz+i9P/W2cFkp0rq/8VHx1zf8xz/MeJYgo7i2Pxln///cv7W/QP0jFEQz0D+a7z79O+rOP0KAYhlJnRU/Em3l7xaktL8KE3N+YB6Fvy1pyD92F6c/KHpZe8Oc0r+3u6Mj+UjgP2UGpg4C38G/Ic3ySe/iyz89tqlIVeHTv1Mo/zdGXcY/QPQ8QqmM3L85Uac0NZy5v0WnRZ79WNK/Y9yTiR2B1r/TnhMnxCHQv+2Y0VPm8MG/9eX22babvj9LACP9ZXfLP0JEYtAgU8g/Cn8FbPTMwL/IciZofynCv0Dw07zDi8e/PhjFoboXwD9PpoBuGSnTv8bDBWfVcdw/KcQtJJcjwz+2kbM/MzONP/SjMpBnAsC/Sb49IsvPsb+o9pRnM1PEvyUSqv8ncq4/vEdxJqtrwj8gl0CzWHWdP+3S0m8x+K0/VHHeF46+ub8D1a+FHH2Ov+6Mla9Qz9S/W8wp8l0Ujr/Dkt8+kVnTPxe6t9oOtKo/31RImCnavz8=\"},\"shape\":[91],\"dtype\":\"float64\",\"order\":\"little\"}],[\"PC13\",{\"type\":\"ndarray\",\"array\":{\"type\":\"bytes\",\"data\":\"3xh7n7c7o7846auoU3yRP3kMriG6HMU/8HhmwVtC07823xdLLleQv2rRdIUuJsq/G7W2tpEWo79BNGX0Aoq8v3LaTa0829E/OTsZ9m2b2L/4i96CXj7Iv5MQloB/8Oe/4Bvj7rHDnL9JbB7euwaQv4Cc4ZXHhZE/K2H0pNS5tD+yT3UL1KDJvyZPNj056NO/I7ZCX9eMxz9iGGVFheOnv5IJKORHLtk/3TOgSnbOyb+bkiONkgfKv5ssPxZNWK2/6ywkW3M+gb87drRshUWgP7kSvuWwo8G/SO/+F+qjzr+HhLcmVcrLv68dOBnxt7A/uQysSe4nwL9NKK27Z1HJv7nvOhO7bsO/0/iypUtA0j8HLwAQHVXDv1yI/eodHbe/ltb6WFZ5Sr8HJyr1W2TDPyLLdRZKxdM/f81dSSeStz8uZZyBht7XP2FPN1Q7T5m/VHFp5zXbrr/69DGRRorEv3S28X3n4oy/O/7IeI8bmb980vXdHUXFP4shZ8+9Y9Q/8P4pz6ju3D8ngGWaVwfTP8qGS8GfLLs/8666uuYLxT9sacmLz52IP6uYgQzW/qa/hJpE4Bo+qj8h2qjjblvSPwgI5uIx9uG/VQ/YulWY0z+EfJdDmqXNP5fE2wQ2NLC/exIILIZxwD8E7GAEVre7P7H4NbnAo6c/24g7UZUR4D+3O7KDbVqoPyRQtIboDKS/MoKD7pzRo7+KUOXaQjbCP63+oNWD4bO/LDp5dwRWkT+dGUF04UCjv5gEynxTlNu/OMTlMdMRv79Spdo4/yfMvwbggKtv0rG/uKK8fQY95b/Sq8eBP3RsP4UUnXmFYNA/BpxKIx900r+FriGKH+jJP1HNt0h0KcE/K+q/knu517+jL7T0Ek7KP4oNrPfYXKU/2D3B9+d72D94QsOiILvAvwcSGbVuRtw/bw/1VhmRlL+MyKmllIPBv4VhTyilttE/9KyiFA6/zj8=\"},\"shape\":[91],\"dtype\":\"float64\",\"order\":\"little\"}],[\"PC14\",{\"type\":\"ndarray\",\"array\":{\"type\":\"bytes\",\"data\":\"biHJ5c4gpL9AZ/n8G4qDv/Zupyk8qqI/lLFvbJI0wD8x05kAGQfHv17wllktpdM/0sTNzwDrvT9RmrJClgTfv/Pl2UcmC42/m7RbQtVKsD/TtlZcei/FP/X/0yVBkNM/qjOaBvZp0T/AZ7mU6eaNPzHy9oCUQLg/Lr51KGfTpr+lV71qSNCuv4ghZ+mv5Mu/7ZPksBlTkz+Pr0G227jKv0SFwhZUDLa/0JaP7Bp20L9eduY/v+e4v8OjjIZ4UsW/NgoDXW0kwL8+dU/rIqK8vwZJXcuDiss/V9xQur3e1r+jHZw7SKCuP+qHQcCTCcO/WH+F/42Smr823DQniFWpv/UHvMAIIMO/df8KFwlkwL9n7uP3jC2lP1B0UuagN7c/P+5NQQu3pb/k7klXBVORvxgAnMzum7g/VHZHoPYIrD/4cViLaEPPv3rOzyd05ru/GQlYpZbGx7/CRUQ7i9q2P+YrrBNigsk/cYWVXj8Gnr+qqciTlnHKv7XZzfAkJME/IZKEpBlynb8H1yBN4E/KPyOO7hHQVoG/xqtSNEL/0j/9s8i4efHRP9RVW5LHesc/oI0rReYMwT+5xSlFM/PZPyrcHBLdc9C/fKfP91Dk2L+uEWgOALvCv0EQC2bKCNK/CEaTI6csu7/0yHTZqJ3Nv5x9N7eKerm/7Mo9LDQGyD9ozf3Jn23CvzasrAnIp5e/tItmWeozsz+Sl7k/dQa8v9Wbh2M6cbg/5rYc2RGMnj8lgip2zZDRP+CLT4/+BMQ/V9zRU8Dirr+etXkuFS+yP7T+6oXkB8s/LNMPAo6U0b/t3nQttqDaP2QPBqhSuLi/z1Gr45IpsL+OzWn7nbaRP33W5loKC9K/0oM0pvOFuD+1atj1FUR+Pwu/jRGKHoY/1UvC4EQHh79iIFLfVcCwP2qIx+K+thc/PneFvp6o1D9kZx4LeZrLPy/DIkMGYrK/ffAsjPx1zD8=\"},\"shape\":[91],\"dtype\":\"float64\",\"order\":\"little\"}],[\"PC15\",{\"type\":\"ndarray\",\"array\":{\"type\":\"bytes\",\"data\":\"CrTS5Ps0wD/sMt65IVeiP+h3hYmcI8E/GBFUEZbuwb+JCsaSZEDZPxmRiINnKK2/ihhNxGqAsL97SnHtijrZP2/BE5mSeq+/sDkRp3kBoL8koPH9NqG7P0Kk88T13qI/nElnyQY5pD9fdS8dxLyqP94Yhs1idKQ/XrzX13rvsT8d7hrZDcvVv49jj7Up+cg/CvokbmNsuz8HhH/KWJrAv4R7p/o9TLC/yCT6qSmEgL8E8AdKeqS1P5/4NMDCA2S/JSpZBKF7yD8TZi/esBujv3tyU07rGtu/AXtSEa9wwr9+tBduLvi4v8AdBGEh78G/WAjXT5zvyz8aE/KU8VbVvwsNa23kbZC/+iByu+f2xL9hN+IpAUnCP4akVC3B3sc/Xflz5j9Zr7+txHHuDH2ivzir3HKr6co/f+iy48hFpz82+nGIgLTKvwqt/1haH7k/pVhGHFkLpb84nerFFn3FP1O06Ve+97E/Rj0C0Cl8mL+S6LlsvFm0v4MpDVn8+cO/03CyNBi00796EDu/MbCjv7Aitvlvro2/v93G6W1Bwr8KDffZVkXLv5bTHWq60LW/M8bR1aZ2pj9mfEjlmciSP1JiBbo8AYg/ZcoGnUAqdD/7ktyYbmqsv+9pCsKHgMa/4i4T+nM+zj98Qerf3Y22v0nW2HVedrK/dFp2DBMQxj82i65tSPDPv8U1gs8OJq+/Igu0vFvjq78tc4liYgTFv1IhnJh8pLC/BSfy5ccsvL9WWnH3Fs7XP94gi2rYc7y/obm/PAQLpT95XrzANbK7v6OL9uH9rNE/Uv07Bh0ckz/BqM9PGkyjv701HB/j/MI/pv6POQXAr79q9z3p9XzDP7IeRuaBjMM/0GwA8x06vL9HeeytdFurP7ea3v85Rc2/UlbYTdmNuL+8hazHy7fSP+PnTP+n6sk/uOsqfJpNtD/Iljb4x66yP+UPW642k5q/XC+fLqBIpD8=\"},\"shape\":[91],\"dtype\":\"float64\",\"order\":\"little\"}],[\"PC16\",{\"type\":\"ndarray\",\"array\":{\"type\":\"bytes\",\"data\":\"CyIBi5LMej86g8ZnRCluv66QeLM/wUC/vk3944XfQL/Du+NkdL9xP11p7WyioHG/x6MidgA4Rz+EyU1cKyRhv7jYRMEDLEG/GI5y/OkNcj/Ny6Pb2bU5PyABjewIMTO/OpDr2ISsNr+wP/DKV5AzP4VFuKsxjU8/zGUtY1iHZr8QoHSy7Dlov3l0McX160c/4ul7ftvtVT/U6sriUpVDP20geuqadV6/BYq+wPJjXr8YJjswFd9QPwdj/bMGR1E/4kKsmUOIVD+rngitIOgrP68hGEI+j0O/hNMcS8jaSD/BfVgKKn5hv97p90Y1KUQ/c89nKFSsW79CLbaUbbQwv5tLGlBfzky/eh8KIRzpHr9zp3+a31swP9UbEM82ryC/yk2jqe50Qz918fTcjb9qPywiC4xZ+y0/d9iyfHjjbL8RS/M6jQdZv6qtT0HDTFi/fL3PqFzxIj/K+NFnGw1fPzi9RzEqA3K/jTpxnEDacT+VgSdwNLtUv4cTWtS+amk/DZ3WacZwZj+LSN8ke9BEv3zf621quTC/nFXs8utoaT+/zWku+OVQv7hjmomBhx4/yF6f9tfDab/TzGEwsidwvxM6fMz/mPq+31pPsdkQa7/v59LKOQwoP3kBEBgLDk4/aCdAr5h/c7+QcPivpwlTP2cqUW47yW4/R99VS3FbRz8VWjueDfVbvw8H0NvH0C4/THlXKHp+Q7+RUb56yj1HP32l2COGpUg/1hseJgYbXb8Mn1pAN9lxvx6WxeCcpjm/9OFdv6VxRj8iVXiz2adCP16LC947YVY/N7qFGtcpUz9yVcTAroxqP+vexJLPBC8/X++8DmYZPD+VhpPYcRsTPy/J1tAr02+/xQfU8gCiRz+f9zxGHcxCv+thqW9To0C/HwqFF2zkb79tO8CcsDg9P0uyvgj47nU//Mt8KP2cKb/RrogRgMA/v/oS1flSwG8/t0SxYy3kbD8=\"},\"shape\":[91],\"dtype\":\"float64\",\"order\":\"little\"}],[\"label\",{\"type\":\"ndarray\",\"array\":[\"Small\",\"Midsize\",\"Compact\",\"Midsize\",\"Midsize\",\"Midsize\",\"Large\",\"Large\",\"Midsize\",\"Large\",\"Midsize\",\"Compact\",\"Compact\",\"Sporty\",\"Midsize\",\"Van\",\"Van\",\"Large\",\"Large\",\"Compact\",\"Large\",\"Small\",\"Small\",\"Compact\",\"Van\",\"Midsize\",\"Sporty\",\"Small\",\"Large\",\"Small\",\"Small\",\"Compact\",\"Sporty\",\"Sporty\",\"Van\",\"Midsize\",\"Large\",\"Small\",\"Sporty\",\"Sporty\",\"Small\",\"Compact\",\"Small\",\"Small\",\"Sporty\",\"Midsize\",\"Midsize\",\"Midsize\",\"Midsize\",\"Midsize\",\"Large\",\"Small\",\"Small\",\"Compact\",\"Van\",\"Compact\",\"Midsize\",\"Sporty\",\"Midsize\",\"Small\",\"Midsize\",\"Small\",\"Compact\",\"Van\",\"Midsize\",\"Compact\",\"Midsize\",\"Van\",\"Large\",\"Sporty\",\"Small\",\"Compact\",\"Sporty\",\"Midsize\",\"Large\",\"Compact\",\"Small\",\"Small\",\"Small\",\"Compact\",\"Small\",\"Small\",\"Sporty\",\"Midsize\",\"Van\",\"Small\",\"Van\",\"Compact\",\"Sporty\",\"Compact\",\"Midsize\"],\"shape\":[91],\"dtype\":\"object\",\"order\":\"little\"}]]}}},\"view\":{\"type\":\"object\",\"name\":\"CDSView\",\"id\":\"p17974\",\"attributes\":{\"filter\":{\"type\":\"object\",\"name\":\"AllIndices\",\"id\":\"p17975\"}}},\"glyph\":{\"type\":\"object\",\"name\":\"Scatter\",\"id\":\"p17970\",\"attributes\":{\"x\":{\"type\":\"field\",\"field\":\"PC1\"},\"y\":{\"type\":\"field\",\"field\":\"PC2\"},\"size\":{\"type\":\"value\",\"value\":9},\"line_color\":{\"type\":\"field\",\"field\":\"label\",\"transform\":{\"type\":\"object\",\"name\":\"CategoricalColorMapper\",\"id\":\"p17963\",\"attributes\":{\"palette\":[\"#1f77b4\",\"#ff7f0e\",\"#2ca02c\",\"#d62728\",\"#9467bd\",\"#8c564b\",\"#e377c2\",\"#7f7f7f\",\"#bcbd22\",\"#17becf\"],\"factors\":[\"Compact\",\"Large\",\"Midsize\",\"Small\",\"Sporty\",\"Van\"]}}},\"fill_color\":{\"type\":\"field\",\"field\":\"label\",\"transform\":{\"id\":\"p17963\"}},\"hatch_color\":{\"type\":\"field\",\"field\":\"label\",\"transform\":{\"id\":\"p17963\"}}}},\"nonselection_glyph\":{\"type\":\"object\",\"name\":\"Scatter\",\"id\":\"p17971\",\"attributes\":{\"x\":{\"type\":\"field\",\"field\":\"PC1\"},\"y\":{\"type\":\"field\",\"field\":\"PC2\"},\"size\":{\"type\":\"value\",\"value\":9},\"line_color\":{\"type\":\"field\",\"field\":\"label\",\"transform\":{\"id\":\"p17963\"}},\"line_alpha\":{\"type\":\"value\",\"value\":0.1},\"fill_color\":{\"type\":\"field\",\"field\":\"label\",\"transform\":{\"id\":\"p17963\"}},\"fill_alpha\":{\"type\":\"value\",\"value\":0.1},\"hatch_color\":{\"type\":\"field\",\"field\":\"label\",\"transform\":{\"id\":\"p17963\"}},\"hatch_alpha\":{\"type\":\"value\",\"value\":0.1}}},\"muted_glyph\":{\"type\":\"object\",\"name\":\"Scatter\",\"id\":\"p17972\",\"attributes\":{\"x\":{\"type\":\"field\",\"field\":\"PC1\"},\"y\":{\"type\":\"field\",\"field\":\"PC2\"},\"size\":{\"type\":\"value\",\"value\":9},\"line_color\":{\"type\":\"field\",\"field\":\"label\",\"transform\":{\"id\":\"p17963\"}},\"line_alpha\":{\"type\":\"value\",\"value\":0.2},\"fill_color\":{\"type\":\"field\",\"field\":\"label\",\"transform\":{\"id\":\"p17963\"}},\"fill_alpha\":{\"type\":\"value\",\"value\":0.2},\"hatch_color\":{\"type\":\"field\",\"field\":\"label\",\"transform\":{\"id\":\"p17963\"}},\"hatch_alpha\":{\"type\":\"value\",\"value\":0.2}}}}},{\"type\":\"object\",\"name\":\"GlyphRenderer\",\"id\":\"p17995\",\"attributes\":{\"data_source\":{\"type\":\"object\",\"name\":\"ColumnDataSource\",\"id\":\"p17989\",\"attributes\":{\"selected\":{\"type\":\"object\",\"name\":\"Selection\",\"id\":\"p17990\",\"attributes\":{\"indices\":[],\"line_indices\":[]}},\"selection_policy\":{\"type\":\"object\",\"name\":\"UnionRenderers\",\"id\":\"p17991\"},\"data\":{\"type\":\"map\",\"entries\":[[\"x\",[1.1948737558763562]],[\"y\",[-0.1516185769240669]],[\"text\",[\"Weight\"]]]}}},\"view\":{\"type\":\"object\",\"name\":\"CDSView\",\"id\":\"p17996\",\"attributes\":{\"filter\":{\"type\":\"object\",\"name\":\"AllIndices\",\"id\":\"p17997\"}}},\"glyph\":{\"type\":\"object\",\"name\":\"Text\",\"id\":\"p17992\",\"attributes\":{\"x\":{\"type\":\"field\",\"field\":\"x\"},\"y\":{\"type\":\"field\",\"field\":\"y\"},\"text\":{\"type\":\"field\",\"field\":\"text\"},\"text_color\":{\"type\":\"value\",\"value\":\"black\"},\"text_font_size\":{\"type\":\"value\",\"value\":\"12pt\"},\"text_font_style\":{\"type\":\"value\",\"value\":\"bold\"}}},\"nonselection_glyph\":{\"type\":\"object\",\"name\":\"Text\",\"id\":\"p17993\",\"attributes\":{\"x\":{\"type\":\"field\",\"field\":\"x\"},\"y\":{\"type\":\"field\",\"field\":\"y\"},\"text\":{\"type\":\"field\",\"field\":\"text\"},\"text_color\":{\"type\":\"value\",\"value\":\"black\"},\"text_alpha\":{\"type\":\"value\",\"value\":0.1},\"text_font_size\":{\"type\":\"value\",\"value\":\"12pt\"},\"text_font_style\":{\"type\":\"value\",\"value\":\"bold\"}}},\"muted_glyph\":{\"type\":\"object\",\"name\":\"Text\",\"id\":\"p17994\",\"attributes\":{\"x\":{\"type\":\"field\",\"field\":\"x\"},\"y\":{\"type\":\"field\",\"field\":\"y\"},\"text\":{\"type\":\"field\",\"field\":\"text\"},\"text_color\":{\"type\":\"value\",\"value\":\"black\"},\"text_alpha\":{\"type\":\"value\",\"value\":0.2},\"text_font_size\":{\"type\":\"value\",\"value\":\"12pt\"},\"text_font_style\":{\"type\":\"value\",\"value\":\"bold\"}}}}},{\"type\":\"object\",\"name\":\"GlyphRenderer\",\"id\":\"p18010\",\"attributes\":{\"data_source\":{\"type\":\"object\",\"name\":\"ColumnDataSource\",\"id\":\"p18004\",\"attributes\":{\"selected\":{\"type\":\"object\",\"name\":\"Selection\",\"id\":\"p18005\",\"attributes\":{\"indices\":[],\"line_indices\":[]}},\"selection_policy\":{\"type\":\"object\",\"name\":\"UnionRenderers\",\"id\":\"p18006\"},\"data\":{\"type\":\"map\",\"entries\":[[\"x\",[-0.5564465889684417]],[\"y\",[1.7651254467949133]],[\"text\",[\"RPM\"]]]}}},\"view\":{\"type\":\"object\",\"name\":\"CDSView\",\"id\":\"p18011\",\"attributes\":{\"filter\":{\"type\":\"object\",\"name\":\"AllIndices\",\"id\":\"p18012\"}}},\"glyph\":{\"type\":\"object\",\"name\":\"Text\",\"id\":\"p18007\",\"attributes\":{\"x\":{\"type\":\"field\",\"field\":\"x\"},\"y\":{\"type\":\"field\",\"field\":\"y\"},\"text\":{\"type\":\"field\",\"field\":\"text\"},\"text_color\":{\"type\":\"value\",\"value\":\"black\"},\"text_font_size\":{\"type\":\"value\",\"value\":\"12pt\"},\"text_font_style\":{\"type\":\"value\",\"value\":\"bold\"}}},\"nonselection_glyph\":{\"type\":\"object\",\"name\":\"Text\",\"id\":\"p18008\",\"attributes\":{\"x\":{\"type\":\"field\",\"field\":\"x\"},\"y\":{\"type\":\"field\",\"field\":\"y\"},\"text\":{\"type\":\"field\",\"field\":\"text\"},\"text_color\":{\"type\":\"value\",\"value\":\"black\"},\"text_alpha\":{\"type\":\"value\",\"value\":0.1},\"text_font_size\":{\"type\":\"value\",\"value\":\"12pt\"},\"text_font_style\":{\"type\":\"value\",\"value\":\"bold\"}}},\"muted_glyph\":{\"type\":\"object\",\"name\":\"Text\",\"id\":\"p18009\",\"attributes\":{\"x\":{\"type\":\"field\",\"field\":\"x\"},\"y\":{\"type\":\"field\",\"field\":\"y\"},\"text\":{\"type\":\"field\",\"field\":\"text\"},\"text_color\":{\"type\":\"value\",\"value\":\"black\"},\"text_alpha\":{\"type\":\"value\",\"value\":0.2},\"text_font_size\":{\"type\":\"value\",\"value\":\"12pt\"},\"text_font_style\":{\"type\":\"value\",\"value\":\"bold\"}}}}}],\"toolbar\":{\"type\":\"object\",\"name\":\"Toolbar\",\"id\":\"p17937\",\"attributes\":{\"tools\":[{\"type\":\"object\",\"name\":\"PanTool\",\"id\":\"p17950\"},{\"type\":\"object\",\"name\":\"WheelZoomTool\",\"id\":\"p17951\",\"attributes\":{\"renderers\":\"auto\"}},{\"type\":\"object\",\"name\":\"BoxZoomTool\",\"id\":\"p17952\",\"attributes\":{\"overlay\":{\"type\":\"object\",\"name\":\"BoxAnnotation\",\"id\":\"p17953\",\"attributes\":{\"syncable\":false,\"line_color\":\"black\",\"line_alpha\":1.0,\"line_width\":2,\"line_dash\":[4,4],\"fill_color\":\"lightgrey\",\"fill_alpha\":0.5,\"level\":\"overlay\",\"visible\":false,\"left\":{\"type\":\"number\",\"value\":\"nan\"},\"right\":{\"type\":\"number\",\"value\":\"nan\"},\"top\":{\"type\":\"number\",\"value\":\"nan\"},\"bottom\":{\"type\":\"number\",\"value\":\"nan\"},\"left_units\":\"canvas\",\"right_units\":\"canvas\",\"top_units\":\"canvas\",\"bottom_units\":\"canvas\",\"handles\":{\"type\":\"object\",\"name\":\"BoxInteractionHandles\",\"id\":\"p17959\",\"attributes\":{\"all\":{\"type\":\"object\",\"name\":\"AreaVisuals\",\"id\":\"p17958\",\"attributes\":{\"fill_color\":\"white\",\"hover_fill_color\":\"lightgray\"}}}}}}}},{\"type\":\"object\",\"name\":\"SaveTool\",\"id\":\"p17960\"},{\"type\":\"object\",\"name\":\"ResetTool\",\"id\":\"p17961\"},{\"type\":\"object\",\"name\":\"HelpTool\",\"id\":\"p17962\"}]}},\"left\":[{\"type\":\"object\",\"name\":\"LinearAxis\",\"id\":\"p17945\",\"attributes\":{\"ticker\":{\"type\":\"object\",\"name\":\"BasicTicker\",\"id\":\"p17946\",\"attributes\":{\"mantissas\":[1,2,5]}},\"formatter\":{\"type\":\"object\",\"name\":\"BasicTickFormatter\",\"id\":\"p17947\"},\"axis_label\":\"PC2\",\"major_label_policy\":{\"type\":\"object\",\"name\":\"AllLabels\",\"id\":\"p17948\"}}}],\"below\":[{\"type\":\"object\",\"name\":\"LinearAxis\",\"id\":\"p17940\",\"attributes\":{\"ticker\":{\"type\":\"object\",\"name\":\"BasicTicker\",\"id\":\"p17941\",\"attributes\":{\"mantissas\":[1,2,5]}},\"formatter\":{\"type\":\"object\",\"name\":\"BasicTickFormatter\",\"id\":\"p17942\"},\"axis_label\":\"PC1\",\"major_label_policy\":{\"type\":\"object\",\"name\":\"AllLabels\",\"id\":\"p17943\"}}}],\"center\":[{\"type\":\"object\",\"name\":\"Grid\",\"id\":\"p17944\",\"attributes\":{\"axis\":{\"id\":\"p17940\"}}},{\"type\":\"object\",\"name\":\"Grid\",\"id\":\"p17949\",\"attributes\":{\"dimension\":1,\"axis\":{\"id\":\"p17945\"}}},{\"type\":\"object\",\"name\":\"Legend\",\"id\":\"p17976\",\"attributes\":{\"items\":[{\"type\":\"object\",\"name\":\"LegendItem\",\"id\":\"p17977\",\"attributes\":{\"label\":{\"type\":\"value\",\"value\":\"Compact\"},\"renderers\":[{\"id\":\"p17973\"}],\"index\":2}},{\"type\":\"object\",\"name\":\"LegendItem\",\"id\":\"p17978\",\"attributes\":{\"label\":{\"type\":\"value\",\"value\":\"Large\"},\"renderers\":[{\"id\":\"p17973\"}],\"index\":6}},{\"type\":\"object\",\"name\":\"LegendItem\",\"id\":\"p17979\",\"attributes\":{\"label\":{\"type\":\"value\",\"value\":\"Midsize\"},\"renderers\":[{\"id\":\"p17973\"}],\"index\":1}},{\"type\":\"object\",\"name\":\"LegendItem\",\"id\":\"p17980\",\"attributes\":{\"label\":{\"type\":\"value\",\"value\":\"Small\"},\"renderers\":[{\"id\":\"p17973\"}],\"index\":0}},{\"type\":\"object\",\"name\":\"LegendItem\",\"id\":\"p17981\",\"attributes\":{\"label\":{\"type\":\"value\",\"value\":\"Sporty\"},\"renderers\":[{\"id\":\"p17973\"}],\"index\":13}},{\"type\":\"object\",\"name\":\"LegendItem\",\"id\":\"p17982\",\"attributes\":{\"label\":{\"type\":\"value\",\"value\":\"Van\"},\"renderers\":[{\"id\":\"p17973\"}],\"index\":15}}]}},{\"type\":\"object\",\"name\":\"Arrow\",\"id\":\"p17984\",\"attributes\":{\"source\":{\"type\":\"object\",\"name\":\"ColumnDataSource\",\"id\":\"p17986\",\"attributes\":{\"selected\":{\"type\":\"object\",\"name\":\"Selection\",\"id\":\"p17987\",\"attributes\":{\"indices\":[],\"line_indices\":[]}},\"selection_policy\":{\"type\":\"object\",\"name\":\"UnionRenderers\",\"id\":\"p17988\"},\"data\":{\"type\":\"map\"}}},\"x_start\":{\"type\":\"value\",\"value\":0},\"y_start\":{\"type\":\"value\",\"value\":0},\"x_end\":{\"type\":\"value\",\"value\":1.1948737558763562},\"y_end\":{\"type\":\"value\",\"value\":-0.1516185769240669},\"end\":{\"type\":\"object\",\"name\":\"VeeHead\",\"id\":\"p17983\",\"attributes\":{\"size\":{\"type\":\"value\",\"value\":10}}},\"line_width\":{\"type\":\"value\",\"value\":2}}},{\"type\":\"object\",\"name\":\"Arrow\",\"id\":\"p17999\",\"attributes\":{\"source\":{\"type\":\"object\",\"name\":\"ColumnDataSource\",\"id\":\"p18001\",\"attributes\":{\"selected\":{\"type\":\"object\",\"name\":\"Selection\",\"id\":\"p18002\",\"attributes\":{\"indices\":[],\"line_indices\":[]}},\"selection_policy\":{\"type\":\"object\",\"name\":\"UnionRenderers\",\"id\":\"p18003\"},\"data\":{\"type\":\"map\"}}},\"x_start\":{\"type\":\"value\",\"value\":0},\"y_start\":{\"type\":\"value\",\"value\":0},\"x_end\":{\"type\":\"value\",\"value\":-0.5564465889684417},\"y_end\":{\"type\":\"value\",\"value\":1.7651254467949133},\"end\":{\"type\":\"object\",\"name\":\"VeeHead\",\"id\":\"p17998\",\"attributes\":{\"size\":{\"type\":\"value\",\"value\":10}}},\"line_width\":{\"type\":\"value\",\"value\":2}}}]}}]}};\n  const render_items = [{\"docid\":\"7b6f7e25-c8bc-45ec-8450-1104e5ae8780\",\"roots\":{\"p17928\":\"d5260508-5c66-4636-8a0e-e29e85029f4f\"},\"root_ids\":[\"p17928\"]}];\n  void root.Bokeh.embed.embed_items_notebook(docs_json, render_items);\n  }\n  if (root.Bokeh !== undefined) {\n    embed_document(root);\n  } else {\n    let attempts = 0;\n    const timer = setInterval(function(root) {\n      if (root.Bokeh !== undefined) {\n        clearInterval(timer);\n        embed_document(root);\n      } else {\n        attempts++;\n        if (attempts > 100) {\n          clearInterval(timer);\n          console.log(\"Bokeh: ERROR: Unable to run BokehJS code because BokehJS library is missing\");\n        }\n      }\n    }, 10, root)\n  }\n})(window);",
            "application/vnd.bokehjs_exec.v0+json": ""
          },
          "metadata": {
            "application/vnd.bokehjs_exec.v0+json": {
              "id": "p17928"
            }
          },
          "output_type": "display_data"
        }
      ],
      "source": [
        "import numpy as np\n",
        "import pandas as pd\n",
        "from bokeh.models import ColumnDataSource, Arrow, VeeHead\n",
        "from bokeh.plotting import figure, show\n",
        "from bokeh.transform import factor_cmap\n",
        "from bokeh.palettes import Category10\n",
        "from sklearn.decomposition import PCA\n",
        "from sklearn.preprocessing import StandardScaler\n",
        "\n",
        "# Extract the corresponding vectors\n",
        "arrows = [\n",
        "    components[:, pc1_idxs[0]], # (x,y) coordinates for the arrow\n",
        "    components[:, pc2_idxs[0]]\n",
        "]\n",
        "feature_labels = [\n",
        "    feature_names[pc1_idxs[0]],\n",
        "    feature_names[pc2_idxs[0]]\n",
        "]\n",
        "# feature_labels = [\n",
        "#     ', '.join([feature_names[idx] for idx in pc1_idxs[:3]]),\n",
        "#     ', '.join([feature_names[idx] for idx in pc2_idxs[:3]])\n",
        "# ]\n",
        "\n",
        "# Scale vectors for visualization\n",
        "scaling_factor = 4\n",
        "arrows = [vector * scaling_factor for vector in arrows]\n",
        "\n",
        "p = figure(width=600, height=600, title=\"Biplot: Projection with Top Features\")\n",
        "\n",
        "# Scatter plot\n",
        "p.scatter(\n",
        "    source=pca_cars, x='PC1', y='PC2', size=9, legend_group='label',\n",
        "    color=factor_cmap(field_name='label', palette=Category10[10], factors=factors)\n",
        ")\n",
        "\n",
        "# Add arrows for the top feature of PC1 and PC2\n",
        "for arrow, label in zip(arrows, feature_labels):\n",
        "    arrow_glyph = Arrow(end=VeeHead(size=10),\n",
        "                        x_start=0, y_start=0,\n",
        "                        x_end=arrow[0], y_end=arrow[1],\n",
        "                        line_width=2)\n",
        "    p.add_layout(arrow_glyph)\n",
        "    # Annotate feature names\n",
        "    p.text(x=[arrow[0]], y=[arrow[1]], text=[label], text_font_size=\"12pt\", text_font_style='bold')\n",
        "\n",
        "# Set axis labels\n",
        "p.xaxis.axis_label = 'PC1'\n",
        "p.yaxis.axis_label = 'PC2'\n",
        "\n",
        "show(p)\n"
      ]
    },
    {
      "cell_type": "markdown",
      "metadata": {
        "id": "62WxH7rGAd2A"
      },
      "source": [
        "From The Above Code Analysis:\n",
        "\n",
        "- The dominant features for PC1: [`Weight`, `Engine`, `Tank`]\n",
        "- The dominant features for PC2: [`RPM`, `MaxPrice`, `MidPrice`]\n",
        "\n",
        "<br/>\n",
        "\n",
        "**X-axis (PC1):** The dominant features contributing to PC1 are 'Weight', 'Engine', and 'Tank', which suggests that **this axis primarily represents the size and power of the car.**\n",
        "- Cars on the left (PC1 < 0) tend to be smaller, lighter, and have smaller engines and fuel tanks compared to the average.\n",
        "- In contrast, cars on the right (PC1 > 0) are larger, heavier, and have more powerful engines with greater tank capacity.\n",
        "\n",
        "<br/>\n",
        "\n",
        "**Y-Axis (PC2):** For the Y-axis (PC2): The dominant features for PC2 are 'RPM', 'MaxPrice', and 'MidPrice', indicating that **this axis is likely related to performance and cost.**\n",
        "- Cars at the top (PC2 > 0) tend to have higher RPM, suggesting sportier performance, and are also more expensive, indicating luxury or premium vehicles.\n",
        "- Cars at the bottom (PC2 < 0) are generally more affordable and have lower RPM, reflecting more economical or utilitarian models.\n",
        "\n",
        "**Observations:**\n",
        "- Cars at the bottom are cheaper than those at the top. (Price strongly contributes in PC2 the vertical axis).\n",
        "- Midsize (green) cars vary strongly in their price. (Their vertical variance is large)\n",
        "- Midsize (green) cars are in general the most expensive type of car\n",
        "- Large (orange) cars have a lower weight than small (red) cars."
      ]
    },
    {
      "cell_type": "markdown",
      "metadata": {
        "id": "U6qwCnU0Ad2A"
      },
      "source": [
        "<div class=\"alert alert-success\">\n",
        "\n",
        "**Characterize small cars**\n",
        "\n",
        "You already tried to characterize small cars using the scatterplot matrix. Now do the same again using the PCA-plot and the analyses you made about the axes. What can you say about small cars? (small cars are red in this plot!)\n",
        "    \n",
        "Show a scatterplot using two informative variables to distinguish small cars from other cars.\n",
        "    \n",
        "Which cars are hard to distinguish from small cars?\n",
        "</div>"
      ]
    },
    {
      "cell_type": "markdown",
      "metadata": {
        "id": "Pw1F3ffGRyA4"
      },
      "source": [
        "**Answer:**\n",
        "\n",
        "- Since small cars (red points) are the leftmost points on the PC1 axis, I can say that small cars have less power (smaller engine size and less tank capacity), since pc1 is most dominated by the 3 variables ['Weight', 'Engine', 'Tank'].\n",
        "\n",
        "- Since small cars are more vertically gathered, compressed, and centered near the zero-line of the PC2 axis, and since PC2 is most dominated by 3 variables: ['RPM', 'MaxPrice', and 'MidPrice'], I can tell that small cars are the cheapest in general. And there is no huge gap in their prices, since their distance from the zero-line is smaller compared to other types of cars like Midsize cars (green) for instance, which tend to be very sparse and have large vertical variance."
      ]
    },
    {
      "cell_type": "code",
      "execution_count": 266,
      "metadata": {
        "colab": {
          "base_uri": "https://localhost:8080/",
          "height": 661
        },
        "id": "KKB0Vo_4Ad2A",
        "outputId": "2226728d-c95b-4a92-9403-54fc6b39f28a"
      },
      "outputs": [
        {
          "data": {
            "application/javascript": "'use strict';\n(function(root) {\n  function now() {\n    return new Date();\n  }\n\n  const force = true;\n\n  if (typeof root._bokeh_onload_callbacks === \"undefined\" || force === true) {\n    root._bokeh_onload_callbacks = [];\n    root._bokeh_is_loading = undefined;\n  }\n\nconst JS_MIME_TYPE = 'application/javascript';\n  const HTML_MIME_TYPE = 'text/html';\n  const EXEC_MIME_TYPE = 'application/vnd.bokehjs_exec.v0+json';\n  const CLASS_NAME = 'output_bokeh rendered_html';\n\n  /**\n   * Render data to the DOM node\n   */\n  function render(props, node) {\n    const script = document.createElement(\"script\");\n    node.appendChild(script);\n  }\n\n  /**\n   * Handle when an output is cleared or removed\n   */\n  function handleClearOutput(event, handle) {\n    function drop(id) {\n      const view = Bokeh.index.get_by_id(id)\n      if (view != null) {\n        view.model.document.clear()\n        Bokeh.index.delete(view)\n      }\n    }\n\n    const cell = handle.cell;\n\n    const id = cell.output_area._bokeh_element_id;\n    const server_id = cell.output_area._bokeh_server_id;\n\n    // Clean up Bokeh references\n    if (id != null) {\n      drop(id)\n    }\n\n    if (server_id !== undefined) {\n      // Clean up Bokeh references\n      const cmd_clean = \"from bokeh.io.state import curstate; print(curstate().uuid_to_server['\" + server_id + \"'].get_sessions()[0].document.roots[0]._id)\";\n      cell.notebook.kernel.execute(cmd_clean, {\n        iopub: {\n          output: function(msg) {\n            const id = msg.content.text.trim()\n            drop(id)\n          }\n        }\n      });\n      // Destroy server and session\n      const cmd_destroy = \"import bokeh.io.notebook as ion; ion.destroy_server('\" + server_id + \"')\";\n      cell.notebook.kernel.execute(cmd_destroy);\n    }\n  }\n\n  /**\n   * Handle when a new output is added\n   */\n  function handleAddOutput(event, handle) {\n    const output_area = handle.output_area;\n    const output = handle.output;\n\n    // limit handleAddOutput to display_data with EXEC_MIME_TYPE content only\n    if ((output.output_type != \"display_data\") || (!Object.prototype.hasOwnProperty.call(output.data, EXEC_MIME_TYPE))) {\n      return\n    }\n\n    const toinsert = output_area.element.find(\".\" + CLASS_NAME.split(' ')[0]);\n\n    if (output.metadata[EXEC_MIME_TYPE][\"id\"] !== undefined) {\n      toinsert[toinsert.length - 1].firstChild.textContent = output.data[JS_MIME_TYPE];\n      // store reference to embed id on output_area\n      output_area._bokeh_element_id = output.metadata[EXEC_MIME_TYPE][\"id\"];\n    }\n    if (output.metadata[EXEC_MIME_TYPE][\"server_id\"] !== undefined) {\n      const bk_div = document.createElement(\"div\");\n      bk_div.innerHTML = output.data[HTML_MIME_TYPE];\n      const script_attrs = bk_div.children[0].attributes;\n      for (let i = 0; i < script_attrs.length; i++) {\n        toinsert[toinsert.length - 1].firstChild.setAttribute(script_attrs[i].name, script_attrs[i].value);\n        toinsert[toinsert.length - 1].firstChild.textContent = bk_div.children[0].textContent\n      }\n      // store reference to server id on output_area\n      output_area._bokeh_server_id = output.metadata[EXEC_MIME_TYPE][\"server_id\"];\n    }\n  }\n\n  function register_renderer(events, OutputArea) {\n\n    function append_mime(data, metadata, element) {\n      // create a DOM node to render to\n      const toinsert = this.create_output_subarea(\n        metadata,\n        CLASS_NAME,\n        EXEC_MIME_TYPE\n      );\n      this.keyboard_manager.register_events(toinsert);\n      // Render to node\n      const props = {data: data, metadata: metadata[EXEC_MIME_TYPE]};\n      render(props, toinsert[toinsert.length - 1]);\n      element.append(toinsert);\n      return toinsert\n    }\n\n    /* Handle when an output is cleared or removed */\n    events.on('clear_output.CodeCell', handleClearOutput);\n    events.on('delete.Cell', handleClearOutput);\n\n    /* Handle when a new output is added */\n    events.on('output_added.OutputArea', handleAddOutput);\n\n    /**\n     * Register the mime type and append_mime function with output_area\n     */\n    OutputArea.prototype.register_mime_type(EXEC_MIME_TYPE, append_mime, {\n      /* Is output safe? */\n      safe: true,\n      /* Index of renderer in `output_area.display_order` */\n      index: 0\n    });\n  }\n\n  // register the mime type if in Jupyter Notebook environment and previously unregistered\n  if (root.Jupyter !== undefined) {\n    const events = require('base/js/events');\n    const OutputArea = require('notebook/js/outputarea').OutputArea;\n\n    if (OutputArea.prototype.mime_types().indexOf(EXEC_MIME_TYPE) == -1) {\n      register_renderer(events, OutputArea);\n    }\n  }\n  if (typeof (root._bokeh_timeout) === \"undefined\" || force === true) {\n    root._bokeh_timeout = Date.now() + 5000;\n    root._bokeh_failed_load = false;\n  }\n\n  const NB_LOAD_WARNING = {'data': {'text/html':\n     \"<div style='background-color: #fdd'>\\n\"+\n     \"<p>\\n\"+\n     \"BokehJS does not appear to have successfully loaded. If loading BokehJS from CDN, this \\n\"+\n     \"may be due to a slow or bad network connection. Possible fixes:\\n\"+\n     \"</p>\\n\"+\n     \"<ul>\\n\"+\n     \"<li>re-rerun `output_notebook()` to attempt to load from CDN again, or</li>\\n\"+\n     \"<li>use INLINE resources instead, as so:</li>\\n\"+\n     \"</ul>\\n\"+\n     \"<code>\\n\"+\n     \"from bokeh.resources import INLINE\\n\"+\n     \"output_notebook(resources=INLINE)\\n\"+\n     \"</code>\\n\"+\n     \"</div>\"}};\n\n  function display_loaded(error = null) {\n    const el = document.getElementById(null);\n    if (el != null) {\n      const html = (() => {\n        if (typeof root.Bokeh === \"undefined\") {\n          if (error == null) {\n            return \"BokehJS is loading ...\";\n          } else {\n            return \"BokehJS failed to load.\";\n          }\n        } else {\n          const prefix = `BokehJS ${root.Bokeh.version}`;\n          if (error == null) {\n            return `${prefix} successfully loaded.`;\n          } else {\n            return `${prefix} <b>encountered errors</b> while loading and may not function as expected.`;\n          }\n        }\n      })();\n      el.innerHTML = html;\n\n      if (error != null) {\n        const wrapper = document.createElement(\"div\");\n        wrapper.style.overflow = \"auto\";\n        wrapper.style.height = \"5em\";\n        wrapper.style.resize = \"vertical\";\n        const content = document.createElement(\"div\");\n        content.style.fontFamily = \"monospace\";\n        content.style.whiteSpace = \"pre-wrap\";\n        content.style.backgroundColor = \"rgb(255, 221, 221)\";\n        content.textContent = error.stack ?? error.toString();\n        wrapper.append(content);\n        el.append(wrapper);\n      }\n    } else if (Date.now() < root._bokeh_timeout) {\n      setTimeout(() => display_loaded(error), 100);\n    }\n  }\n\n  function run_callbacks() {\n    try {\n      root._bokeh_onload_callbacks.forEach(function(callback) {\n        if (callback != null)\n          callback();\n      });\n    } finally {\n      delete root._bokeh_onload_callbacks\n    }\n    console.debug(\"Bokeh: all callbacks have finished\");\n  }\n\n  function load_libs(css_urls, js_urls, callback) {\n    if (css_urls == null) css_urls = [];\n    if (js_urls == null) js_urls = [];\n\n    root._bokeh_onload_callbacks.push(callback);\n    if (root._bokeh_is_loading > 0) {\n      console.debug(\"Bokeh: BokehJS is being loaded, scheduling callback at\", now());\n      return null;\n    }\n    if (js_urls == null || js_urls.length === 0) {\n      run_callbacks();\n      return null;\n    }\n    console.debug(\"Bokeh: BokehJS not loaded, scheduling load and callback at\", now());\n    root._bokeh_is_loading = css_urls.length + js_urls.length;\n\n    function on_load() {\n      root._bokeh_is_loading--;\n      if (root._bokeh_is_loading === 0) {\n        console.debug(\"Bokeh: all BokehJS libraries/stylesheets loaded\");\n        run_callbacks()\n      }\n    }\n\n    function on_error(url) {\n      console.error(\"failed to load \" + url);\n    }\n\n    for (let i = 0; i < css_urls.length; i++) {\n      const url = css_urls[i];\n      const element = document.createElement(\"link\");\n      element.onload = on_load;\n      element.onerror = on_error.bind(null, url);\n      element.rel = \"stylesheet\";\n      element.type = \"text/css\";\n      element.href = url;\n      console.debug(\"Bokeh: injecting link tag for BokehJS stylesheet: \", url);\n      document.body.appendChild(element);\n    }\n\n    for (let i = 0; i < js_urls.length; i++) {\n      const url = js_urls[i];\n      const element = document.createElement('script');\n      element.onload = on_load;\n      element.onerror = on_error.bind(null, url);\n      element.async = false;\n      element.src = url;\n      console.debug(\"Bokeh: injecting script tag for BokehJS library: \", url);\n      document.head.appendChild(element);\n    }\n  };\n\n  function inject_raw_css(css) {\n    const element = document.createElement(\"style\");\n    element.appendChild(document.createTextNode(css));\n    document.body.appendChild(element);\n  }\n\n  const js_urls = [\"https://cdn.bokeh.org/bokeh/release/bokeh-3.6.2.min.js\", \"https://cdn.bokeh.org/bokeh/release/bokeh-gl-3.6.2.min.js\", \"https://cdn.bokeh.org/bokeh/release/bokeh-widgets-3.6.2.min.js\", \"https://cdn.bokeh.org/bokeh/release/bokeh-tables-3.6.2.min.js\", \"https://cdn.bokeh.org/bokeh/release/bokeh-mathjax-3.6.2.min.js\"];\n  const css_urls = [];\n\n  const inline_js = [    function(Bokeh) {\n      Bokeh.set_log_level(\"info\");\n    },\nfunction(Bokeh) {\n    }\n  ];\n\n  function run_inline_js() {\n    if (root.Bokeh !== undefined || force === true) {\n      try {\n            for (let i = 0; i < inline_js.length; i++) {\n      inline_js[i].call(root, root.Bokeh);\n    }\n\n      } catch (error) {throw error;\n      }} else if (Date.now() < root._bokeh_timeout) {\n      setTimeout(run_inline_js, 100);\n    } else if (!root._bokeh_failed_load) {\n      console.log(\"Bokeh: BokehJS failed to load within specified timeout.\");\n      root._bokeh_failed_load = true;\n    } else if (force !== true) {\n      const cell = $(document.getElementById(null)).parents('.cell').data().cell;\n      cell.output_area.append_execute_result(NB_LOAD_WARNING)\n    }\n  }\n\n  if (root._bokeh_is_loading === 0) {\n    console.debug(\"Bokeh: BokehJS loaded, going straight to plotting\");\n    run_inline_js();\n  } else {\n    load_libs(css_urls, js_urls, function() {\n      console.debug(\"Bokeh: BokehJS plotting callback run at\", now());\n      run_inline_js();\n    });\n  }\n}(window));",
            "application/vnd.bokehjs_load.v0+json": ""
          },
          "metadata": {},
          "output_type": "display_data"
        },
        {
          "data": {
            "text/html": [
              "\n",
              "  <div id=\"ff52f7b3-f228-4625-b9d7-b8ec160902a0\" data-root-id=\"p18081\" style=\"display: contents;\"></div>\n"
            ]
          },
          "metadata": {},
          "output_type": "display_data"
        },
        {
          "data": {
            "application/javascript": "(function(root) {\n  function embed_document(root) {\n  const docs_json = {\"5b2b10b7-c1b0-4502-b66d-f539244cd460\":{\"version\":\"3.6.2\",\"title\":\"Bokeh Application\",\"roots\":[{\"type\":\"object\",\"name\":\"Column\",\"id\":\"p18081\",\"attributes\":{\"children\":[{\"type\":\"object\",\"name\":\"Figure\",\"id\":\"p18030\",\"attributes\":{\"x_range\":{\"type\":\"object\",\"name\":\"DataRange1d\",\"id\":\"p18031\"},\"y_range\":{\"type\":\"object\",\"name\":\"DataRange1d\",\"id\":\"p18032\"},\"x_scale\":{\"type\":\"object\",\"name\":\"LinearScale\",\"id\":\"p18040\"},\"y_scale\":{\"type\":\"object\",\"name\":\"LinearScale\",\"id\":\"p18041\"},\"title\":{\"type\":\"object\",\"name\":\"Title\",\"id\":\"p18033\",\"attributes\":{\"text\":\"Weight vs MidPrice: Distinguishing Small Cars\"}},\"renderers\":[{\"type\":\"object\",\"name\":\"GlyphRenderer\",\"id\":\"p18075\",\"attributes\":{\"data_source\":{\"type\":\"object\",\"name\":\"ColumnDataSource\",\"id\":\"p18066\",\"attributes\":{\"selected\":{\"type\":\"object\",\"name\":\"Selection\",\"id\":\"p18067\",\"attributes\":{\"indices\":[],\"line_indices\":[]}},\"selection_policy\":{\"type\":\"object\",\"name\":\"UnionRenderers\",\"id\":\"p18068\"},\"data\":{\"type\":\"map\",\"entries\":[[\"index\",{\"type\":\"ndarray\",\"array\":{\"type\":\"bytes\",\"data\":\"AAAAAAEAAAACAAAAAwAAAAQAAAAFAAAABgAAAAcAAAAIAAAACQAAAAoAAAALAAAADAAAAA0AAAAOAAAADwAAABAAAAARAAAAEgAAABMAAAAUAAAAFQAAABYAAAAXAAAAGAAAABkAAAAaAAAAGwAAABwAAAAdAAAAHgAAAB8AAAAgAAAAIQAAACIAAAAjAAAAJAAAACUAAAAmAAAAJwAAACgAAAApAAAAKgAAACsAAAAsAAAALQAAAC4AAAAvAAAAMAAAADEAAAAyAAAAMwAAADQAAAA1AAAANgAAADcAAAA4AAAAOQAAADoAAAA7AAAAPAAAAD0AAAA+AAAAPwAAAEAAAABBAAAAQgAAAEMAAABEAAAARQAAAEYAAABHAAAASAAAAEkAAABKAAAASwAAAEwAAABNAAAATgAAAE8AAABQAAAAUQAAAFIAAABTAAAAVAAAAFUAAABWAAAAVwAAAFgAAABZAAAAWgAAAA==\"},\"shape\":[91],\"dtype\":\"int32\",\"order\":\"little\"}],[\"Manufacturer\",{\"type\":\"ndarray\",\"array\":[\"Acura\",\"Acura\",\"Audi\",\"Audi\",\"BMW\",\"Buick\",\"Buick\",\"Buick\",\"Buick\",\"Cadillac\",\"Cadillac\",\"Chevrolet\",\"Chevrolet\",\"Chevrolet\",\"Chevrolet\",\"Chevrolet\",\"Chevrolet\",\"Chevrolet\",\"Chrylser\",\"Chrysler\",\"Chrysler\",\"Dodge\",\"Dodge\",\"Dodge\",\"Dodge\",\"Dodge\",\"Dodge\",\"Eagle\",\"Eagle\",\"Ford\",\"Ford\",\"Ford\",\"Ford\",\"Ford\",\"Ford\",\"Ford\",\"Ford\",\"Geo\",\"Geo\",\"Honda\",\"Honda\",\"Honda\",\"Hyundai\",\"Hyundai\",\"Hyundai\",\"Hyundai\",\"Infiniti\",\"Lexus\",\"Lexus\",\"Lincoln\",\"Lincoln\",\"Mazda\",\"Mazda\",\"Mazda\",\"Mazda\",\"Mercedes-Benz\",\"Mercedes-Benz\",\"Mercury\",\"Mercury\",\"Mitsubishi\",\"Mitsubishi\",\"Nissan\",\"Nissan\",\"Nissan\",\"Nissan\",\"Oldsmobile\",\"Oldsmobile\",\"Oldsmobile\",\"Oldsmobile\",\"Plymouth\",\"Pontiac\",\"Pontiac\",\"Pontiac\",\"Pontiac\",\"Pontiac\",\"Saab\",\"Saturn\",\"Subaru\",\"Subaru\",\"Subaru\",\"Suzuki\",\"Toyota\",\"Toyota\",\"Toyota\",\"Toyota\",\"Volkswagen\",\"Volkswagen\",\"Volkswagen\",\"Volkswagen\",\"Volvo\",\"Volvo\"],\"shape\":[91],\"dtype\":\"object\",\"order\":\"little\"}],[\"Model\",{\"type\":\"ndarray\",\"array\":[\"Integra\",\"Legend\",\"90\",\"100\",\"535i\",\"Century\",\"LeSabre\",\"Roadmaster\",\"Riviera\",\"DeVille\",\"Seville\",\"Cavalier\",\"Corsica\",\"Camaro\",\"Lumina\",\"Lumina_APV\",\"Astro\",\"Caprice\",\"Concorde\",\"LeBaron\",\"Imperial\",\"Colt\",\"Shadow\",\"Spirit\",\"Caravan\",\"Dynasty\",\"Stealth\",\"Summit\",\"Vision\",\"Festiva\",\"Escort\",\"Tempo\",\"Mustang\",\"Probe\",\"Aerostar\",\"Taurus\",\"Crown_Victoria\",\"Metro\",\"Storm\",\"Prelude\",\"Civic\",\"Accord\",\"Excel\",\"Elantra\",\"Scoupe\",\"Sonata\",\"Q45\",\"ES300\",\"SC300\",\"Continental\",\"Town_Car\",\"323\",\"Protege\",\"626\",\"MPV\",\"190E\",\"300E\",\"Capri\",\"Cougar\",\"Mirage\",\"Diamante\",\"Sentra\",\"Altima\",\"Quest\",\"Maxima\",\"Achieva\",\"Cutlass_Ciera\",\"Silhouette\",\"Eighty-Eight\",\"Laser\",\"LeMans\",\"Sunbird\",\"Firebird\",\"Grand_Prix\",\"Bonneville\",\"900\",\"SL\",\"Justy\",\"Loyale\",\"Legacy\",\"Swift\",\"Tercel\",\"Celica\",\"Camry\",\"Previa\",\"Fox\",\"Eurovan\",\"Passat\",\"Corrado\",\"240\",\"850\"],\"shape\":[91],\"dtype\":\"object\",\"order\":\"little\"}],[\"Type\",{\"type\":\"ndarray\",\"array\":[\"Small\",\"Midsize\",\"Compact\",\"Midsize\",\"Midsize\",\"Midsize\",\"Large\",\"Large\",\"Midsize\",\"Large\",\"Midsize\",\"Compact\",\"Compact\",\"Sporty\",\"Midsize\",\"Van\",\"Van\",\"Large\",\"Large\",\"Compact\",\"Large\",\"Small\",\"Small\",\"Compact\",\"Van\",\"Midsize\",\"Sporty\",\"Small\",\"Large\",\"Small\",\"Small\",\"Compact\",\"Sporty\",\"Sporty\",\"Van\",\"Midsize\",\"Large\",\"Small\",\"Sporty\",\"Sporty\",\"Small\",\"Compact\",\"Small\",\"Small\",\"Sporty\",\"Midsize\",\"Midsize\",\"Midsize\",\"Midsize\",\"Midsize\",\"Large\",\"Small\",\"Small\",\"Compact\",\"Van\",\"Compact\",\"Midsize\",\"Sporty\",\"Midsize\",\"Small\",\"Midsize\",\"Small\",\"Compact\",\"Van\",\"Midsize\",\"Compact\",\"Midsize\",\"Van\",\"Large\",\"Sporty\",\"Small\",\"Compact\",\"Sporty\",\"Midsize\",\"Large\",\"Compact\",\"Small\",\"Small\",\"Small\",\"Compact\",\"Small\",\"Small\",\"Sporty\",\"Midsize\",\"Van\",\"Small\",\"Van\",\"Compact\",\"Sporty\",\"Compact\",\"Midsize\"],\"shape\":[91],\"dtype\":\"object\",\"order\":\"little\"}],[\"MinPrice\",{\"type\":\"ndarray\",\"array\":{\"type\":\"bytes\",\"data\":\"zczMzMzMKUAzMzMzMzM9QGZmZmZm5jlAzczMzMzMPkAzMzMzM7M3QGZmZmZmZixAZmZmZmbmM0CamZmZmZk2QM3MzMzMTDpAAAAAAACAQEAAAAAAAMBCQAAAAAAAACFAzczMzMzMJkDNzMzMzMwqQM3MzMzMzCpAZmZmZmZmLUBmZmZmZmYtQAAAAAAAADJAZmZmZmZmMkAAAAAAAAAtQAAAAAAAgD1AmpmZmZmZH0DNzMzMzMwgQM3MzMzMzCdAMzMzMzMzK0CamZmZmZktQAAAAAAAgDJAmpmZmZmZH0AAAAAAAIAxQJqZmZmZmRtAzczMzMzMIEDNzMzMzMwkQJqZmZmZmSVAmpmZmZmZKUAAAAAAAAAtQDMzMzMzMy9AmpmZmZkZNEDNzMzMzMwaQAAAAAAAACdAAAAAAAAAMUDNzMzMzMwgQJqZmZmZmStAMzMzMzMzG0AAAAAAAAAiQDMzMzMzMyJAzczMzMzMKEAzMzMzM7NGQAAAAAAAgDtAmpmZmZlZQUBmZmZmZqZAQDMzMzMzM0FAmpmZmZmZHUDNzMzMzMwlQJqZmZmZmSxAmpmZmZmZMEAAAAAAAAA9QGZmZmZm5kVAmpmZmZmZKkDNzMzMzMwtQM3MzMzMzB5AZmZmZmZmNkBmZmZmZmYhQAAAAAAAACpAMzMzMzOzMEAAAAAAAAA1QAAAAAAAACpAZmZmZmZmLEAAAAAAAIAzQAAAAAAAgDNAzczMzMzMJkBmZmZmZmYgQM3MzMzMzCJAAAAAAAAALEDNzMzMzMwuQGZmZmZmZjNAzczMzMxMNEBmZmZmZmYiQDMzMzMzMx1AAAAAAAAAJUDNzMzMzEwwQDMzMzMzMx1AMzMzMzMzH0BmZmZmZmYsQGZmZmZmZi5AZmZmZmbmMkBmZmZmZmYhQJqZmZmZmTBAmpmZmZmZMUBmZmZmZuY2QM3MzMzMzDVAzczMzMzMOEA=\"},\"shape\":[91],\"dtype\":\"float64\",\"order\":\"little\"}],[\"MidPrice\",{\"type\":\"ndarray\",\"array\":{\"type\":\"bytes\",\"data\":\"zczMzMzML0AzMzMzM/NAQJqZmZmZGT1AmpmZmZnZQkAAAAAAAAA+QGZmZmZmZi9AzczMzMzMNEAzMzMzM7M3QM3MzMzMTDpAmpmZmZlZQUDNzMzMzAxEQM3MzMzMzCpAzczMzMzMJkAzMzMzMzMuQM3MzMzMzC9AzczMzMxMMECamZmZmZkwQM3MzMzMzDJAZmZmZmZmMkCamZmZmZkvQAAAAAAAgD1AZmZmZmZmIkCamZmZmZkmQJqZmZmZmSpAAAAAAAAAM0AzMzMzMzMvQM3MzMzMzDlAZmZmZmZmKEDNzMzMzEwzQJqZmZmZmR1AMzMzMzMzJECamZmZmZkmQM3MzMzMzC9AAAAAAAAALEBmZmZmZuYzQDMzMzMzMzRAZmZmZmbmNEDNzMzMzMwgQAAAAAAAAClAzczMzMzMM0AzMzMzMzMoQAAAAAAAgDFAAAAAAAAAIEAAAAAAAAAkQAAAAAAAACRAzczMzMzMK0AzMzMzM/NHQAAAAAAAADxAmpmZmZmZQUBmZmZmZiZBQM3MzMzMDEJAmpmZmZmZIEAzMzMzMzMnQAAAAAAAgDBAmpmZmZkZM0BmZmZmZuY/QDMzMzMz805AMzMzMzMzLEDNzMzMzMwtQJqZmZmZmSRAmpmZmZkZOkCamZmZmZknQGZmZmZmZi9AmpmZmZkZM0AAAAAAAIA1QAAAAAAAACtAzczMzMxMMEAAAAAAAIAzQDMzMzMzszRAzczMzMzMLEAAAAAAAAAiQDMzMzMzMyZAMzMzMzOzMUAAAAAAAIAyQGZmZmZmZjhAMzMzMzOzPEAzMzMzMzMmQM3MzMzMzCBAzczMzMzMJUAAAAAAAIAzQDMzMzMzMyFAmpmZmZmZI0BmZmZmZmYyQDMzMzMzMzJAMzMzMzOzNkAzMzMzMzMiQDMzMzMzszNAAAAAAAAANEDNzMzMzEw3QDMzMzMzszZAMzMzMzOzOkA=\"},\"shape\":[91],\"dtype\":\"float64\",\"order\":\"little\"}],[\"MaxPrice\",{\"type\":\"ndarray\",\"array\":{\"type\":\"bytes\",\"data\":\"zczMzMzMMkCamZmZmVlDQGZmZmZmJkBAzczMzMxMRkCamZmZmRlCQM3MzMzMTDFAMzMzMzOzNUBmZmZmZuY4QM3MzMzMTDpAZmZmZmYmQkCamZmZmVlFQM3MzMzMTDJAzczMzMzMJkDNzMzMzMwwQGZmZmZmZjJAAAAAAAAAMkCamZmZmZkyQJqZmZmZmTNAZmZmZmZmMkCamZmZmRkxQAAAAAAAgD1AMzMzMzMzJUBmZmZmZmYsQGZmZmZmZi1AZmZmZmZmOEBmZmZmZmYwQM3MzMzMjEBAAAAAAACAMEAzMzMzMzM1QJqZmZmZmR9AzczMzMzMJ0BmZmZmZmYoQAAAAAAAADVAZmZmZmZmLkDNzMzMzEw5QM3MzMzMzDhAMzMzMzOzNUAAAAAAAAAkQAAAAAAAACtAMzMzMzOzNkCamZmZmZkvQDMzMzMzMzVAZmZmZmZmIkAAAAAAAAAmQAAAAAAAACZAmpmZmZmZLkAzMzMzMzNJQGZmZmZmZjxAzczMzMzMQUBmZmZmZqZBQGZmZmZm5kJAMzMzMzMzIkCamZmZmZkoQDMzMzMzszJAMzMzMzOzNUAzMzMzM3NBQAAAAAAAAFRAAAAAAAAALkDNzMzMzMwtQM3MzMzMzClAZmZmZmbmPUDNzMzMzMwtQM3MzMzMTDJAAAAAAACANUAAAAAAAAA2QAAAAAAAACxAZmZmZmZmMkAAAAAAAIAzQGZmZmZm5jVAZmZmZmZmMUDNzMzMzMwjQJqZmZmZmSlAZmZmZmZmNUCamZmZmZk1QGZmZmZmZj1AzczMzMyMQkDNzMzMzMwpQAAAAAAAACNAmpmZmZmZJkAzMzMzM7M2QAAAAAAAACRAmpmZmZmZJ0CamZmZmZk2QDMzMzMzMzVAmpmZmZmZOkAAAAAAAAAjQDMzMzMzszZAZmZmZmZmNkAzMzMzM7M3QAAAAAAAgDdAAAAAAACAPEA=\"},\"shape\":[91],\"dtype\":\"float64\",\"order\":\"little\"}],[\"CityMpg\",{\"type\":\"ndarray\",\"array\":{\"type\":\"bytes\",\"data\":\"GQAAABIAAAAUAAAAEwAAABYAAAAWAAAAEwAAABAAAAATAAAAEAAAABAAAAAZAAAAGQAAABMAAAAVAAAAEgAAAA8AAAARAAAAFAAAABcAAAAUAAAAHQAAABcAAAAWAAAAEQAAABUAAAASAAAAHQAAABQAAAAfAAAAFwAAABYAAAAWAAAAGAAAAA8AAAAVAAAAEgAAAC4AAAAeAAAAGAAAACoAAAAYAAAAHQAAABYAAAAaAAAAFAAAABEAAAASAAAAEgAAABEAAAASAAAAHQAAABwAAAAaAAAAEgAAABQAAAATAAAAFwAAABMAAAAdAAAAEgAAAB0AAAAYAAAAEQAAABUAAAAYAAAAFwAAABIAAAATAAAAFwAAAB8AAAAXAAAAEwAAABMAAAATAAAAFAAAABwAAAAhAAAAGQAAABcAAAAnAAAAIAAAABkAAAAWAAAAEgAAABkAAAARAAAAFQAAABIAAAAVAAAAFAAAAA==\"},\"shape\":[91],\"dtype\":\"int32\",\"order\":\"little\"}],[\"HighwayMpg\",{\"type\":\"ndarray\",\"array\":{\"type\":\"bytes\",\"data\":\"HwAAABkAAAAaAAAAGgAAAB4AAAAfAAAAHAAAABkAAAAbAAAAGQAAABkAAAAkAAAAIgAAABwAAAAdAAAAFwAAABQAAAAaAAAAHAAAABwAAAAaAAAAIQAAAB0AAAAbAAAAFQAAABsAAAAYAAAAIQAAABwAAAAhAAAAHgAAABsAAAAdAAAAHgAAABQAAAAeAAAAGgAAADIAAAAkAAAAHwAAAC4AAAAfAAAAIQAAAB0AAAAiAAAAGwAAABYAAAAYAAAAFwAAABoAAAAaAAAAJQAAACQAAAAiAAAAGAAAAB0AAAAZAAAAGgAAABoAAAAhAAAAGAAAACEAAAAeAAAAFwAAABoAAAAfAAAAHwAAABcAAAAcAAAAHgAAACkAAAAfAAAAHAAAABsAAAAcAAAAGgAAACYAAAAlAAAAHgAAAB4AAAArAAAAJQAAACAAAAAdAAAAFgAAACEAAAAVAAAAHgAAABkAAAAcAAAAHAAAAA==\"},\"shape\":[91],\"dtype\":\"int32\",\"order\":\"little\"}],[\"AirBags\",{\"type\":\"ndarray\",\"array\":{\"type\":\"bytes\",\"data\":\"AAAAAAIAAAABAAAAAgAAAAEAAAABAAAAAQAAAAEAAAABAAAAAQAAAAIAAAAAAAAAAQAAAAIAAAAAAAAAAAAAAAAAAAABAAAAAgAAAAIAAAABAAAAAAAAAAEAAAABAAAAAQAAAAEAAAABAAAAAAAAAAIAAAAAAAAAAAAAAAAAAAABAAAAAQAAAAEAAAABAAAAAQAAAAAAAAABAAAAAgAAAAEAAAACAAAAAAAAAAAAAAAAAAAAAAAAAAEAAAABAAAAAgAAAAIAAAACAAAAAAAAAAAAAAABAAAAAAAAAAEAAAACAAAAAQAAAAAAAAAAAAAAAQAAAAEAAAABAAAAAAAAAAEAAAAAAAAAAQAAAAAAAAABAAAAAAAAAAAAAAAAAAAAAgAAAAAAAAACAAAAAQAAAAEAAAAAAAAAAAAAAAEAAAAAAAAAAQAAAAEAAAABAAAAAQAAAAAAAAAAAAAAAAAAAAAAAAABAAAAAgAAAA==\"},\"shape\":[91],\"dtype\":\"int32\",\"order\":\"little\"}],[\"DriveTrainType\",{\"type\":\"ndarray\",\"array\":{\"type\":\"bytes\",\"data\":\"AQAAAAEAAAABAAAAAQAAAAAAAAABAAAAAQAAAAAAAAABAAAAAQAAAAEAAAABAAAAAQAAAAAAAAABAAAAAQAAAAIAAAAAAAAAAQAAAAEAAAABAAAAAQAAAAEAAAABAAAAAgAAAAEAAAACAAAAAQAAAAEAAAABAAAAAQAAAAEAAAAAAAAAAQAAAAIAAAABAAAAAAAAAAEAAAABAAAAAQAAAAEAAAABAAAAAQAAAAEAAAABAAAAAQAAAAAAAAABAAAAAAAAAAEAAAAAAAAAAQAAAAEAAAABAAAAAgAAAAAAAAAAAAAAAQAAAAAAAAABAAAAAQAAAAEAAAABAAAAAQAAAAEAAAABAAAAAQAAAAEAAAABAAAAAgAAAAEAAAABAAAAAAAAAAEAAAABAAAAAQAAAAEAAAACAAAAAgAAAAIAAAABAAAAAQAAAAEAAAABAAAAAgAAAAEAAAABAAAAAQAAAAEAAAAAAAAAAQAAAA==\"},\"shape\":[91],\"dtype\":\"int32\",\"order\":\"little\"}],[\"Cylinders\",{\"type\":\"ndarray\",\"array\":{\"type\":\"bytes\",\"data\":\"AAAAAAAAEEAAAAAAAAAYQAAAAAAAABhAAAAAAAAAGEAAAAAAAAAQQAAAAAAAABBAAAAAAAAAGEAAAAAAAAAYQAAAAAAAABhAAAAAAAAAIEAAAAAAAAAgQAAAAAAAABBAAAAAAAAAEEAAAAAAAAAYQAAAAAAAABBAAAAAAAAAGEAAAAAAAAAYQAAAAAAAACBAAAAAAAAAGEAAAAAAAAAQQAAAAAAAABhAAAAAAAAAEEAAAAAAAAAQQAAAAAAAABBAAAAAAAAAGEAAAAAAAAAQQAAAAAAAABhAAAAAAAAAEEAAAAAAAAAYQAAAAAAAABBAAAAAAAAAEEAAAAAAAAAQQAAAAAAAABBAAAAAAAAAEEAAAAAAAAAYQAAAAAAAABhAAAAAAAAAIEAAAAAAAAAIQAAAAAAAABBAAAAAAAAAEEAAAAAAAAAQQAAAAAAAABBAAAAAAAAAEEAAAAAAAAAQQAAAAAAAABBAAAAAAAAAEEAAAAAAAAAgQAAAAAAAABhAAAAAAAAAGEAAAAAAAAAYQAAAAAAAACBAAAAAAAAAEEAAAAAAAAAQQAAAAAAAABBAAAAAAAAAGEAAAAAAAAAQQAAAAAAAABhAAAAAAAAAEEAAAAAAAAAYQAAAAAAAABBAAAAAAAAAGEAAAAAAAAAQQAAAAAAAABBAAAAAAAAAGEAAAAAAAAAYQAAAAAAAABBAAAAAAAAAEEAAAAAAAAAYQAAAAAAAABhAAAAAAAAAEEAAAAAAAAAQQAAAAAAAABBAAAAAAAAAGEAAAAAAAAAYQAAAAAAAABhAAAAAAAAAEEAAAAAAAAAQQAAAAAAAAAhAAAAAAAAAEEAAAAAAAAAQQAAAAAAAAAhAAAAAAAAAEEAAAAAAAAAQQAAAAAAAABBAAAAAAAAAEEAAAAAAAAAQQAAAAAAAABRAAAAAAAAAEEAAAAAAAAAYQAAAAAAAABBAAAAAAAAAFEA=\"},\"shape\":[91],\"dtype\":\"float64\",\"order\":\"little\"}],[\"Engine\",{\"type\":\"ndarray\",\"array\":{\"type\":\"bytes\",\"data\":\"zczMzMzM/D+amZmZmZkJQGZmZmZmZgZAZmZmZmZmBkAAAAAAAAAMQJqZmZmZmQFAZmZmZmZmDkDNzMzMzMwWQGZmZmZmZg5AmpmZmZmZE0BmZmZmZmYSQJqZmZmZmQFAmpmZmZmZAUAzMzMzMzMLQJqZmZmZmQFAZmZmZmZmDkAzMzMzMzMRQAAAAAAAABRAZmZmZmZmCkAAAAAAAAAIQGZmZmZmZgpAAAAAAAAA+D+amZmZmZkBQAAAAAAAAARAAAAAAAAACEAAAAAAAAAEQAAAAAAAAAhAAAAAAAAA+D8AAAAAAAAMQM3MzMzMzPQ/zczMzMzM/D9mZmZmZmYCQGZmZmZmZgJAAAAAAAAAAEAAAAAAAAAIQAAAAAAAAAhAZmZmZmZmEkAAAAAAAADwP5qZmZmZmfk/ZmZmZmZmAkAAAAAAAAD4P5qZmZmZmQFAAAAAAAAA+D/NzMzMzMz8PwAAAAAAAPg/AAAAAAAAAEAAAAAAAAASQAAAAAAAAAhAAAAAAAAACEBmZmZmZmYOQGZmZmZmZhJAmpmZmZmZ+T/NzMzMzMz8PwAAAAAAAARAAAAAAAAACEBmZmZmZmYCQJqZmZmZmQlAmpmZmZmZ+T9mZmZmZmYOQAAAAAAAAPg/AAAAAAAACECamZmZmZn5PzMzMzMzMwNAAAAAAAAACEAAAAAAAAAIQGZmZmZmZgJAmpmZmZmZAUBmZmZmZmYOQGZmZmZmZg5AzczMzMzM/D+amZmZmZn5PwAAAAAAAABAMzMzMzMzC0AzMzMzMzMLQGZmZmZmZg5AzczMzMzMAEBmZmZmZmb+PzMzMzMzM/M/zczMzMzM/D+amZmZmZkBQM3MzMzMzPQ/AAAAAAAA+D+amZmZmZkBQJqZmZmZmQFAMzMzMzMzA0DNzMzMzMz8PwAAAAAAAARAAAAAAAAAAEBmZmZmZmYGQGZmZmZmZgJAMzMzMzMzA0A=\"},\"shape\":[91],\"dtype\":\"float64\",\"order\":\"little\"}],[\"Horsepower\",{\"type\":\"ndarray\",\"array\":{\"type\":\"bytes\",\"data\":\"jAAAAMgAAACsAAAArAAAANAAAABuAAAAqgAAALQAAACqAAAAyAAAACcBAABuAAAAbgAAAKAAAABuAAAAqgAAAKUAAACqAAAAmQAAAI0AAACTAAAAXAAAAF0AAABkAAAAjgAAAGQAAAAsAQAAXAAAANYAAAA/AAAAfwAAAGAAAABpAAAAcwAAAJEAAACMAAAAvgAAADcAAABaAAAAoAAAAGYAAACMAAAAUQAAAHwAAABcAAAAgAAAABYBAAC5AAAA4QAAAKAAAADSAAAAUgAAAGcAAACkAAAAmwAAAIIAAADZAAAAZAAAAIwAAABcAAAAygAAAG4AAACWAAAAlwAAAKAAAACbAAAAbgAAAKoAAACqAAAAXAAAAEoAAABuAAAAoAAAAMgAAACqAAAAjAAAAFUAAABJAAAAWgAAAIIAAABGAAAAUgAAAIcAAACCAAAAigAAAFEAAABtAAAAhgAAALIAAAByAAAAqAAAAA==\"},\"shape\":[91],\"dtype\":\"int32\",\"order\":\"little\"}],[\"RPM\",{\"type\":\"ndarray\",\"array\":{\"type\":\"bytes\",\"data\":\"nBgAAHwVAAB8FQAAfBUAAEQWAABQFAAAwBIAAKAPAADAEgAABBAAAHAXAABQFAAAUBQAAPgRAABQFAAAwBIAAKAPAABoEAAAtBQAAIgTAADAEgAAcBcAAMASAADAEgAAiBMAAMASAABwFwAAcBcAAKgWAACIEwAAZBkAAGgQAAD4EQAAfBUAAMASAADAEgAAaBAAAEQWAAAYFQAAqBYAAAwXAADgFQAAfBUAAHAXAACuFQAAcBcAAHAXAABQFAAAcBcAADARAAD4EQAAiBMAAHwVAADgFQAAiBMAAOwTAAB8FQAAdhYAANgOAABwFwAAcBcAAHAXAADgFQAAwBIAAFAUAABwFwAAUBQAAMASAADAEgAAiBMAAOAVAABQFAAA+BEAAIgTAADAEgAAcBcAAIgTAADgFQAAUBQAAOAVAABwFwAAUBQAABgVAAAYFQAAiBMAAHwVAACUEQAAqBYAAKgWAAAYFQAAOBgAAA==\"},\"shape\":[91],\"dtype\":\"int32\",\"order\":\"little\"}],[\"EngineRev\",{\"type\":\"ndarray\",\"array\":{\"type\":\"bytes\",\"data\":\"SgsAAB8JAADoCAAA5wkAAPEJAAAFCgAAIgYAACgFAACaBgAA5gUAAMEHAABMCQAAaQoAAA0HAAAjCgAAmgYAAP4GAABGBQAAxgcAACoIAAD5BgAA1QwAACMKAADnCQAAsgcAAKEJAABICAAAyQkAALwHAABODAAAagkAAPUKAADtCAAAJAkAACAIAABdBwAAhwUAAKsOAACyDAAAJwsAAFoKAAAyCgAAlgoAALkKAADsCQAAHwkAAKMHAAAVCQAAzgkAACsHAAAwBwAAQgkAAKwIAADJCQAAwAgAAHkJAACsCAAAqwkAAMIGAADJCQAAoggAAIMJAABSCAAAEQgAAP0HAABMCQAABQoAAJoGAAAiBgAAOAkAADoMAABpCgAADQcAAGIHAAAdBgAAXgsAAGEIAAA7CwAALw0AABoJAAAgDQAAsQ0AAGUJAAAkCQAA0wkAAPYJAABjCwAAfQoAAFEJAACnCAAABgkAAA==\"},\"shape\":[91],\"dtype\":\"int32\",\"order\":\"little\"}],[\"ManTrans\",{\"type\":\"ndarray\",\"array\":{\"type\":\"bytes\",\"data\":\"AQAAAAEAAAABAAAAAQAAAAEAAAAAAAAAAAAAAAAAAAAAAAAAAAAAAAAAAAABAAAAAQAAAAEAAAAAAAAAAAAAAAAAAAAAAAAAAAAAAAAAAAAAAAAAAQAAAAEAAAABAAAAAAAAAAAAAAABAAAAAQAAAAAAAAABAAAAAQAAAAEAAAABAAAAAQAAAAEAAAAAAAAAAAAAAAEAAAABAAAAAQAAAAEAAAABAAAAAQAAAAEAAAABAAAAAQAAAAAAAAABAAAAAQAAAAAAAAAAAAAAAQAAAAEAAAABAAAAAAAAAAEAAAAAAAAAAQAAAAAAAAABAAAAAAAAAAEAAAABAAAAAAAAAAAAAAAAAAAAAAAAAAAAAAAAAAAAAQAAAAEAAAABAAAAAQAAAAEAAAAAAAAAAQAAAAEAAAABAAAAAQAAAAEAAAABAAAAAQAAAAEAAAABAAAAAQAAAAEAAAABAAAAAQAAAAEAAAABAAAAAQAAAA==\"},\"shape\":[91],\"dtype\":\"int32\",\"order\":\"little\"}],[\"Tank\",{\"type\":\"ndarray\",\"array\":{\"type\":\"bytes\",\"data\":\"ZmZmZmZmKkAAAAAAAAAyQGZmZmZm5jBAmpmZmZkZNUCamZmZmRk1QGZmZmZmZjBAAAAAAAAAMkAAAAAAAAA3QM3MzMzMzDJAAAAAAAAAMkAAAAAAAAA0QGZmZmZmZi5AMzMzMzMzL0AAAAAAAAAvQAAAAAAAgDBAAAAAAAAANEAAAAAAAAA7QAAAAAAAADdAAAAAAAAAMkAAAAAAAAAwQAAAAAAAADBAZmZmZmZmKkAAAAAAAAAsQAAAAAAAADBAAAAAAAAANEAAAAAAAAAwQM3MzMzMzDNAZmZmZmZmKkAAAAAAAAAyQAAAAAAAACRAZmZmZmZmKkDNzMzMzMwvQM3MzMzMzC5AAAAAAAAAL0AAAAAAAAA1QAAAAAAAADBAAAAAAAAANEAzMzMzMzMlQM3MzMzMzChAzczMzMzML0DNzMzMzMwnQAAAAAAAADFAzczMzMzMJ0BmZmZmZmYrQM3MzMzMzCdAMzMzMzMzMUAAAAAAAIA2QAAAAAAAgDJAmpmZmZmZNEBmZmZmZmYyQAAAAAAAADRAZmZmZmZmKkAAAAAAAAAtQAAAAAAAAC9AmpmZmZmZM0AAAAAAAAAtQAAAAAAAgDJAMzMzMzMzJkAAAAAAAAAyQGZmZmZmZipAAAAAAAAAM0BmZmZmZmYqQM3MzMzMzC9AAAAAAAAANEAAAAAAAIAyQGZmZmZmZi5AAAAAAACAMEAAAAAAAAA0QAAAAAAAADJAzczMzMzML0BmZmZmZmYqQGZmZmZmZi5AAAAAAAAAL0AAAAAAAIAwQAAAAAAAADJAAAAAAAAAMkCamZmZmZkpQGZmZmZmZiJAzczMzMzML0DNzMzMzMwvQDMzMzMzMyVAzczMzMzMJ0DNzMzMzMwvQAAAAAAAgDJAzczMzMzMM0DNzMzMzMwoQJqZmZmZGTVAAAAAAACAMkAAAAAAAIAyQJqZmZmZmS9AzczMzMxMM0A=\"},\"shape\":[91],\"dtype\":\"float64\",\"order\":\"little\"}],[\"Passenger\",{\"type\":\"ndarray\",\"array\":{\"type\":\"bytes\",\"data\":\"BQAAAAUAAAAFAAAABgAAAAQAAAAGAAAABgAAAAYAAAAFAAAABgAAAAUAAAAFAAAABQAAAAQAAAAGAAAABwAAAAgAAAAGAAAABgAAAAYAAAAGAAAABQAAAAUAAAAGAAAABwAAAAYAAAAEAAAABQAAAAYAAAAEAAAABQAAAAUAAAAEAAAABAAAAAcAAAAFAAAABgAAAAQAAAAEAAAABAAAAAQAAAAEAAAABQAAAAUAAAAEAAAABQAAAAUAAAAFAAAABAAAAAYAAAAGAAAABAAAAAUAAAAFAAAABwAAAAUAAAAFAAAABAAAAAUAAAAFAAAABQAAAAUAAAAFAAAABwAAAAUAAAAFAAAABQAAAAcAAAAGAAAABAAAAAQAAAAFAAAABAAAAAUAAAAGAAAABQAAAAUAAAAEAAAABQAAAAUAAAAEAAAABQAAAAQAAAAFAAAABwAAAAQAAAAHAAAABQAAAAQAAAAFAAAABQAAAA==\"},\"shape\":[91],\"dtype\":\"int32\",\"order\":\"little\"}],[\"Length\",{\"type\":\"ndarray\",\"array\":{\"type\":\"bytes\",\"data\":\"sQAAAMMAAAC0AAAAwQAAALoAAAC9AAAAyAAAANgAAADGAAAAzgAAAMwAAAC2AAAAuAAAAMEAAADGAAAAsgAAAMIAAADWAAAAywAAALcAAADLAAAArgAAAKwAAAC1AAAArwAAAMAAAAC0AAAArgAAAMoAAACNAAAAqwAAALEAAAC0AAAAswAAALAAAADAAAAA1AAAAJcAAACkAAAArwAAAK0AAAC5AAAAqAAAAKwAAACmAAAAuAAAAMgAAAC8AAAAvwAAAM0AAADbAAAApAAAAKwAAAC4AAAAvgAAAK8AAAC7AAAApgAAAMcAAACsAAAAvgAAAKoAAAC1AAAAvgAAALwAAAC8AAAAvgAAAMIAAADJAAAArQAAALEAAAC1AAAAxAAAAMMAAACxAAAAuAAAALAAAACSAAAArwAAALMAAAChAAAAogAAAK4AAAC8AAAAuwAAAKMAAAC7AAAAtAAAAJ8AAAC+AAAAuAAAAA==\"},\"shape\":[91],\"dtype\":\"int32\",\"order\":\"little\"}],[\"Wheelbase\",{\"type\":\"ndarray\",\"array\":{\"type\":\"bytes\",\"data\":\"ZgAAAHMAAABmAAAAagAAAG0AAABpAAAAbwAAAHQAAABsAAAAcgAAAG8AAABlAAAAZwAAAGUAAABsAAAAbgAAAG8AAAB0AAAAcQAAAGgAAABuAAAAYgAAAGEAAABoAAAAcAAAAGkAAABhAAAAYgAAAHEAAABaAAAAYgAAAGQAAABlAAAAZwAAAHcAAABqAAAAcgAAAF0AAABhAAAAZAAAAGcAAABrAAAAXgAAAGIAAABeAAAAaAAAAHEAAABnAAAAagAAAG0AAAB1AAAAYQAAAGIAAABnAAAAbgAAAGkAAABuAAAAXwAAAHEAAABiAAAAawAAAGAAAABnAAAAcAAAAGgAAABnAAAAaQAAAG4AAABvAAAAYQAAAGMAAABlAAAAZQAAAGwAAABvAAAAYwAAAGYAAABaAAAAYQAAAGYAAABdAAAAXgAAAGMAAABnAAAAcQAAAF0AAABzAAAAZwAAAGEAAABoAAAAaQAAAA==\"},\"shape\":[91],\"dtype\":\"int32\",\"order\":\"little\"}],[\"Width\",{\"type\":\"ndarray\",\"array\":{\"type\":\"bytes\",\"data\":\"RAAAAEcAAABDAAAARgAAAEUAAABFAAAASgAAAE4AAABJAAAASQAAAEoAAABCAAAARAAAAEoAAABHAAAASgAAAE4AAABNAAAASgAAAEQAAABFAAAAQgAAAEMAAABEAAAASAAAAEUAAABIAAAAQgAAAEoAAAA/AAAAQwAAAEQAAABEAAAARgAAAEgAAABHAAAATgAAAD8AAABDAAAARgAAAEMAAABDAAAAPwAAAEIAAABAAAAARQAAAEgAAABGAAAARwAAAEkAAABNAAAAQgAAAEIAAABFAAAASAAAAEMAAABFAAAAQQAAAEkAAABDAAAARgAAAEIAAABDAAAASgAAAEUAAABDAAAARgAAAEoAAABKAAAAQwAAAEIAAABCAAAASwAAAEgAAABKAAAAQwAAAEQAAAA8AAAAQQAAAEMAAAA/AAAAQQAAAEUAAABGAAAARwAAAD8AAABIAAAAQwAAAEIAAABDAAAARQAAAA==\"},\"shape\":[91],\"dtype\":\"int32\",\"order\":\"little\"}],[\"UTurn\",{\"type\":\"ndarray\",\"array\":{\"type\":\"bytes\",\"data\":\"JQAAACYAAAAlAAAAJQAAACcAAAApAAAAKgAAAC0AAAApAAAAKwAAACwAAAAmAAAAJwAAACsAAAAoAAAALAAAACoAAAAqAAAAKAAAACkAAAAsAAAAIAAAACYAAAAnAAAAKgAAACoAAAAoAAAAJAAAACgAAAAhAAAAJAAAACcAAAAoAAAAJgAAAC0AAAAoAAAAKwAAACIAAAAlAAAAJwAAACQAAAApAAAAIwAAACQAAAAiAAAAKQAAACoAAAAoAAAAJwAAACoAAAAtAAAAIgAAACQAAAAoAAAAJwAAACIAAAAlAAAAJAAAACYAAAAkAAAAKwAAACEAAAAoAAAAKQAAACkAAAAnAAAAKgAAACwAAAAqAAAAJwAAACMAAAAnAAAAKwAAACkAAAArAAAAJQAAACgAAAAgAAAAIwAAACUAAAAiAAAAJAAAACcAAAAmAAAAKQAAACIAAAAmAAAAIwAAACQAAAAlAAAAJgAAAA==\"},\"shape\":[91],\"dtype\":\"int32\",\"order\":\"little\"}],[\"RearSeatRoom\",{\"type\":\"ndarray\",\"array\":{\"type\":\"bytes\",\"data\":\"AAAAAACAOkAAAAAAAAA+QAAAAAAAADxAAAAAAAAAP0AAAAAAAAA7QAAAAAAAADxAAAAAAACAPkAAAAAAAIA+QAAAAAAAgDpAAAAAAACAQUAAAAAAAAA/QAAAAAAAADlAAAAAAAAAOkAAAAAAAAA5QAAAAAAAgDxAAAAAAACAPkAAAAAAAMBAQAAAAAAAgD1AAAAAAAAAP0AAAAAAAIA+QAAAAAAAAEJAAAAAAACAOkAAAAAAAIA6QAAAAAAAgD5AAAAAAACAOkAAAAAAAIA+QAAAAAAAADRAAAAAAACAOkAAAAAAAAA+QAAAAAAAADpAAAAAAAAAPEAAAAAAAIA7QAAAAAAAADhAAAAAAAAAN0AAAAAAAAA+QAAAAAAAgDtAAAAAAAAAPkAAAAAAAIA7QAAAAAAAgDhAAAAAAACAN0AAAAAAAAA8QAAAAAAAADxAAAAAAAAAOkAAAAAAAAA8QAAAAAAAgDdAAAAAAAAAP0AAAAAAAAA9QAAAAAAAgDtAAAAAAAAAOUAAAAAAAAA+QAAAAAAAgD9AAAAAAAAAO0AAAAAAAIA6QAAAAAAAgD1AAAAAAACAO0AAAAAAAAA6QAAAAAAAADtAAAAAAAAAM0AAAAAAAAA8QAAAAAAAADpAAAAAAACAO0AAAAAAAAA6QAAAAAAAgDxAAAAAAAAAO0AAAAAAAIA8QAAAAAAAADxAAAAAAAAAPEAAAAAAAIA+QAAAAAAAgD9AAAAAAACAOEAAAAAAAIA5QAAAAAAAADlAAAAAAAAAOUAAAAAAAIA8QAAAAAAAgD5AAAAAAACAOkAAAAAAAIA6QAAAAAAAgDdAAAAAAACAO0AAAAAAAAA7QAAAAAAAgDtAAAAAAAAAOEAAAAAAAAA3QAAAAAAAgDxAAAAAAACAQUAAAAAAAAA6QAAAAAAAAEFAAAAAAACAP0AAAAAAAAA6QAAAAAAAgD1AAAAAAAAAPkA=\"},\"shape\":[91],\"dtype\":\"float64\",\"order\":\"little\"}],[\"Weight\",{\"type\":\"ndarray\",\"array\":{\"type\":\"bytes\",\"data\":\"kQoAAOgNAAAvDQAATQ0AADgOAABACwAAjg0AAAkQAACnDQAAJA4AAF8PAAC6CQAA4QoAAKgMAAB7DAAAgw4AALkPAABGDwAAuw0AAA0MAADyDQAA3ggAAG4KAACaCwAAeQ4AAAgMAADdDgAA9wgAAKINAAA1BwAA4gkAAIIKAAAiCwAAlgoAAJcOAAD9DAAAbg8AAJ8GAACrCQAAMQsAAC4JAADgCwAAKQkAADwKAADtCAAARQsAAKAPAAC2DQAAuw0AAG8OAADXDwAAFQkAAIgJAACaCwAAlw4AAGgLAADFDQAAkgkAABoOAAD3CAAAkg4AAPEJAADqCwAABBAAAIAMAABeCwAASgsAAIMOAACODQAAUAoAAC4JAAAPCgAAqAwAAHoNAACnDQAA1woAAL8JAAD9BwAAugkAAA0MAACtBwAABwgAAIYLAADWCwAAyQ4AAMAIAAB4DwAAqQsAAPoKAACpCwAArQwAAA==\"},\"shape\":[91],\"dtype\":\"int32\",\"order\":\"little\"}],[\"Domestic\",{\"type\":\"ndarray\",\"array\":{\"type\":\"bytes\",\"data\":\"AAAAAAAAAAAAAAAAAAAAAAAAAAABAAAAAQAAAAEAAAABAAAAAQAAAAEAAAABAAAAAQAAAAEAAAABAAAAAQAAAAEAAAABAAAAAQAAAAEAAAABAAAAAQAAAAEAAAABAAAAAQAAAAEAAAABAAAAAQAAAAEAAAABAAAAAQAAAAEAAAABAAAAAQAAAAEAAAABAAAAAQAAAAAAAAAAAAAAAAAAAAAAAAAAAAAAAAAAAAAAAAAAAAAAAAAAAAAAAAAAAAAAAAAAAAEAAAABAAAAAAAAAAAAAAAAAAAAAAAAAAAAAAAAAAAAAQAAAAEAAAAAAAAAAAAAAAAAAAAAAAAAAAAAAAAAAAABAAAAAQAAAAEAAAABAAAAAQAAAAEAAAABAAAAAQAAAAEAAAABAAAAAAAAAAEAAAAAAAAAAAAAAAAAAAAAAAAAAAAAAAAAAAAAAAAAAAAAAAAAAAAAAAAAAAAAAAAAAAAAAAAAAAAAAA==\"},\"shape\":[91],\"dtype\":\"int32\",\"order\":\"little\"}]]}}},\"view\":{\"type\":\"object\",\"name\":\"CDSView\",\"id\":\"p18076\",\"attributes\":{\"filter\":{\"type\":\"object\",\"name\":\"AllIndices\",\"id\":\"p18077\"}}},\"glyph\":{\"type\":\"object\",\"name\":\"Scatter\",\"id\":\"p18072\",\"attributes\":{\"x\":{\"type\":\"field\",\"field\":\"Weight\"},\"y\":{\"type\":\"field\",\"field\":\"MidPrice\"},\"size\":{\"type\":\"value\",\"value\":9},\"line_color\":{\"type\":\"field\",\"field\":\"Type\",\"transform\":{\"type\":\"object\",\"name\":\"CategoricalColorMapper\",\"id\":\"p18065\",\"attributes\":{\"palette\":[\"#1f77b4\",\"#ff7f0e\",\"#2ca02c\",\"#d62728\",\"#9467bd\",\"#8c564b\"],\"factors\":[\"Compact\",\"Large\",\"Midsize\",\"Small\",\"Sporty\",\"Van\"]}}},\"fill_color\":{\"type\":\"field\",\"field\":\"Type\",\"transform\":{\"id\":\"p18065\"}},\"hatch_color\":{\"type\":\"field\",\"field\":\"Type\",\"transform\":{\"id\":\"p18065\"}}}},\"nonselection_glyph\":{\"type\":\"object\",\"name\":\"Scatter\",\"id\":\"p18073\",\"attributes\":{\"x\":{\"type\":\"field\",\"field\":\"Weight\"},\"y\":{\"type\":\"field\",\"field\":\"MidPrice\"},\"size\":{\"type\":\"value\",\"value\":9},\"line_color\":{\"type\":\"field\",\"field\":\"Type\",\"transform\":{\"id\":\"p18065\"}},\"line_alpha\":{\"type\":\"value\",\"value\":0.1},\"fill_color\":{\"type\":\"field\",\"field\":\"Type\",\"transform\":{\"id\":\"p18065\"}},\"fill_alpha\":{\"type\":\"value\",\"value\":0.1},\"hatch_color\":{\"type\":\"field\",\"field\":\"Type\",\"transform\":{\"id\":\"p18065\"}},\"hatch_alpha\":{\"type\":\"value\",\"value\":0.1}}},\"muted_glyph\":{\"type\":\"object\",\"name\":\"Scatter\",\"id\":\"p18074\",\"attributes\":{\"x\":{\"type\":\"field\",\"field\":\"Weight\"},\"y\":{\"type\":\"field\",\"field\":\"MidPrice\"},\"size\":{\"type\":\"value\",\"value\":9},\"line_color\":{\"type\":\"field\",\"field\":\"Type\",\"transform\":{\"id\":\"p18065\"}},\"line_alpha\":{\"type\":\"value\",\"value\":0.2},\"fill_color\":{\"type\":\"field\",\"field\":\"Type\",\"transform\":{\"id\":\"p18065\"}},\"fill_alpha\":{\"type\":\"value\",\"value\":0.2},\"hatch_color\":{\"type\":\"field\",\"field\":\"Type\",\"transform\":{\"id\":\"p18065\"}},\"hatch_alpha\":{\"type\":\"value\",\"value\":0.2}}}}}],\"toolbar\":{\"type\":\"object\",\"name\":\"Toolbar\",\"id\":\"p18039\",\"attributes\":{\"tools\":[{\"type\":\"object\",\"name\":\"PanTool\",\"id\":\"p18052\"},{\"type\":\"object\",\"name\":\"WheelZoomTool\",\"id\":\"p18053\",\"attributes\":{\"renderers\":\"auto\"}},{\"type\":\"object\",\"name\":\"BoxZoomTool\",\"id\":\"p18054\",\"attributes\":{\"overlay\":{\"type\":\"object\",\"name\":\"BoxAnnotation\",\"id\":\"p18055\",\"attributes\":{\"syncable\":false,\"line_color\":\"black\",\"line_alpha\":1.0,\"line_width\":2,\"line_dash\":[4,4],\"fill_color\":\"lightgrey\",\"fill_alpha\":0.5,\"level\":\"overlay\",\"visible\":false,\"left\":{\"type\":\"number\",\"value\":\"nan\"},\"right\":{\"type\":\"number\",\"value\":\"nan\"},\"top\":{\"type\":\"number\",\"value\":\"nan\"},\"bottom\":{\"type\":\"number\",\"value\":\"nan\"},\"left_units\":\"canvas\",\"right_units\":\"canvas\",\"top_units\":\"canvas\",\"bottom_units\":\"canvas\",\"handles\":{\"type\":\"object\",\"name\":\"BoxInteractionHandles\",\"id\":\"p18061\",\"attributes\":{\"all\":{\"type\":\"object\",\"name\":\"AreaVisuals\",\"id\":\"p18060\",\"attributes\":{\"fill_color\":\"white\",\"hover_fill_color\":\"lightgray\"}}}}}}}},{\"type\":\"object\",\"name\":\"SaveTool\",\"id\":\"p18062\"},{\"type\":\"object\",\"name\":\"ResetTool\",\"id\":\"p18063\"},{\"type\":\"object\",\"name\":\"HelpTool\",\"id\":\"p18064\"}]}},\"left\":[{\"type\":\"object\",\"name\":\"LinearAxis\",\"id\":\"p18047\",\"attributes\":{\"ticker\":{\"type\":\"object\",\"name\":\"BasicTicker\",\"id\":\"p18048\",\"attributes\":{\"mantissas\":[1,2,5]}},\"formatter\":{\"type\":\"object\",\"name\":\"BasicTickFormatter\",\"id\":\"p18049\"},\"axis_label\":\"MidPrice\",\"major_label_policy\":{\"type\":\"object\",\"name\":\"AllLabels\",\"id\":\"p18050\"}}}],\"below\":[{\"type\":\"object\",\"name\":\"LinearAxis\",\"id\":\"p18042\",\"attributes\":{\"ticker\":{\"type\":\"object\",\"name\":\"BasicTicker\",\"id\":\"p18043\",\"attributes\":{\"mantissas\":[1,2,5]}},\"formatter\":{\"type\":\"object\",\"name\":\"BasicTickFormatter\",\"id\":\"p18044\"},\"axis_label\":\"Weight\",\"major_label_policy\":{\"type\":\"object\",\"name\":\"AllLabels\",\"id\":\"p18045\"}}}],\"center\":[{\"type\":\"object\",\"name\":\"Grid\",\"id\":\"p18046\",\"attributes\":{\"axis\":{\"id\":\"p18042\"}}},{\"type\":\"object\",\"name\":\"Grid\",\"id\":\"p18051\",\"attributes\":{\"dimension\":1,\"axis\":{\"id\":\"p18047\"}}},{\"type\":\"object\",\"name\":\"Legend\",\"id\":\"p18078\",\"attributes\":{\"location\":\"top_left\",\"title\":\"Car Type\",\"items\":[{\"type\":\"object\",\"name\":\"LegendItem\",\"id\":\"p18079\",\"attributes\":{\"label\":{\"type\":\"field\",\"field\":\"Type\"},\"renderers\":[{\"id\":\"p18075\"}]}}]}}]}},{\"type\":\"object\",\"name\":\"Div\",\"id\":\"p18080\",\"attributes\":{\"width\":600,\"text\":\"<p><strong>Figure:</strong> This plot visualizes the relationship between car Weight and MidPrice, categorized by car type. We can clearly notice that small cars are in general the lightest and the cheapest.</p>\"}}]}}]}};\n  const render_items = [{\"docid\":\"5b2b10b7-c1b0-4502-b66d-f539244cd460\",\"roots\":{\"p18081\":\"ff52f7b3-f228-4625-b9d7-b8ec160902a0\"},\"root_ids\":[\"p18081\"]}];\n  void root.Bokeh.embed.embed_items_notebook(docs_json, render_items);\n  }\n  if (root.Bokeh !== undefined) {\n    embed_document(root);\n  } else {\n    let attempts = 0;\n    const timer = setInterval(function(root) {\n      if (root.Bokeh !== undefined) {\n        clearInterval(timer);\n        embed_document(root);\n      } else {\n        attempts++;\n        if (attempts > 100) {\n          clearInterval(timer);\n          console.log(\"Bokeh: ERROR: Unable to run BokehJS code because BokehJS library is missing\");\n        }\n      }\n    }, 10, root)\n  }\n})(window);",
            "application/vnd.bokehjs_exec.v0+json": ""
          },
          "metadata": {
            "application/vnd.bokehjs_exec.v0+json": {
              "id": "p18081"
            }
          },
          "output_type": "display_data"
        }
      ],
      "source": [
        "from bokeh.plotting import figure, show\n",
        "from bokeh.models import ColumnDataSource, Div, Column\n",
        "from bokeh.transform import factor_cmap\n",
        "from bokeh.palettes import Category10\n",
        "from bokeh.layouts import column\n",
        "\n",
        "factors = sorted(cars['Type'].unique())\n",
        "palette = Category10[len(factors)]\n",
        "\n",
        "x, y = 'Weight', 'MidPrice'\n",
        "\n",
        "# Create scatterplot: Weight vs Price\n",
        "p = figure(title=f\"{x} vs {y}: Distinguishing Small Cars\", width=600, height=600)\n",
        "p.scatter(x=x, y=y, source=cars, size=9, legend_field='Type',\n",
        "          color=factor_cmap('Type', palette=palette, factors=factors))\n",
        "\n",
        "# Add axis labels\n",
        "p.xaxis.axis_label = x\n",
        "p.yaxis.axis_label = y\n",
        "\n",
        "# Customize legend\n",
        "p.legend.title = \"Car Type\"\n",
        "p.legend.location = \"top_left\"\n",
        "\n",
        "# Create the caption\n",
        "caption = Div(text=f\"<p><strong>Figure:</strong> This plot visualizes the relationship between car {x} and {y}, categorized by car type. \"\n",
        "                   \"We can clearly notice that small cars are in general the lightest and the cheapest.</p>\",\n",
        "              width=600)\n",
        "\n",
        "# Arrange the plot and caption together\n",
        "layout = column(p, caption)\n",
        "\n",
        "show(layout)\n",
        "\n"
      ]
    },
    {
      "cell_type": "markdown",
      "metadata": {
        "id": "yiv2MNCsAd2B"
      },
      "source": [
        "<div class=\"alert alert-success\">\n",
        "\n",
        "**Distinguish large cars and vans**\n",
        "\n",
        "Show a scatterplot that makes it easy to distinguish between large cars and vans. Which two variables do you pick?\n",
        "</div>"
      ]
    },
    {
      "cell_type": "code",
      "execution_count": 267,
      "metadata": {
        "colab": {
          "base_uri": "https://localhost:8080/",
          "height": 661
        },
        "id": "0dSSKxt8Ad2B",
        "outputId": "6f5648a4-2169-45d7-d451-33d929e01137"
      },
      "outputs": [
        {
          "data": {
            "application/javascript": "'use strict';\n(function(root) {\n  function now() {\n    return new Date();\n  }\n\n  const force = true;\n\n  if (typeof root._bokeh_onload_callbacks === \"undefined\" || force === true) {\n    root._bokeh_onload_callbacks = [];\n    root._bokeh_is_loading = undefined;\n  }\n\nconst JS_MIME_TYPE = 'application/javascript';\n  const HTML_MIME_TYPE = 'text/html';\n  const EXEC_MIME_TYPE = 'application/vnd.bokehjs_exec.v0+json';\n  const CLASS_NAME = 'output_bokeh rendered_html';\n\n  /**\n   * Render data to the DOM node\n   */\n  function render(props, node) {\n    const script = document.createElement(\"script\");\n    node.appendChild(script);\n  }\n\n  /**\n   * Handle when an output is cleared or removed\n   */\n  function handleClearOutput(event, handle) {\n    function drop(id) {\n      const view = Bokeh.index.get_by_id(id)\n      if (view != null) {\n        view.model.document.clear()\n        Bokeh.index.delete(view)\n      }\n    }\n\n    const cell = handle.cell;\n\n    const id = cell.output_area._bokeh_element_id;\n    const server_id = cell.output_area._bokeh_server_id;\n\n    // Clean up Bokeh references\n    if (id != null) {\n      drop(id)\n    }\n\n    if (server_id !== undefined) {\n      // Clean up Bokeh references\n      const cmd_clean = \"from bokeh.io.state import curstate; print(curstate().uuid_to_server['\" + server_id + \"'].get_sessions()[0].document.roots[0]._id)\";\n      cell.notebook.kernel.execute(cmd_clean, {\n        iopub: {\n          output: function(msg) {\n            const id = msg.content.text.trim()\n            drop(id)\n          }\n        }\n      });\n      // Destroy server and session\n      const cmd_destroy = \"import bokeh.io.notebook as ion; ion.destroy_server('\" + server_id + \"')\";\n      cell.notebook.kernel.execute(cmd_destroy);\n    }\n  }\n\n  /**\n   * Handle when a new output is added\n   */\n  function handleAddOutput(event, handle) {\n    const output_area = handle.output_area;\n    const output = handle.output;\n\n    // limit handleAddOutput to display_data with EXEC_MIME_TYPE content only\n    if ((output.output_type != \"display_data\") || (!Object.prototype.hasOwnProperty.call(output.data, EXEC_MIME_TYPE))) {\n      return\n    }\n\n    const toinsert = output_area.element.find(\".\" + CLASS_NAME.split(' ')[0]);\n\n    if (output.metadata[EXEC_MIME_TYPE][\"id\"] !== undefined) {\n      toinsert[toinsert.length - 1].firstChild.textContent = output.data[JS_MIME_TYPE];\n      // store reference to embed id on output_area\n      output_area._bokeh_element_id = output.metadata[EXEC_MIME_TYPE][\"id\"];\n    }\n    if (output.metadata[EXEC_MIME_TYPE][\"server_id\"] !== undefined) {\n      const bk_div = document.createElement(\"div\");\n      bk_div.innerHTML = output.data[HTML_MIME_TYPE];\n      const script_attrs = bk_div.children[0].attributes;\n      for (let i = 0; i < script_attrs.length; i++) {\n        toinsert[toinsert.length - 1].firstChild.setAttribute(script_attrs[i].name, script_attrs[i].value);\n        toinsert[toinsert.length - 1].firstChild.textContent = bk_div.children[0].textContent\n      }\n      // store reference to server id on output_area\n      output_area._bokeh_server_id = output.metadata[EXEC_MIME_TYPE][\"server_id\"];\n    }\n  }\n\n  function register_renderer(events, OutputArea) {\n\n    function append_mime(data, metadata, element) {\n      // create a DOM node to render to\n      const toinsert = this.create_output_subarea(\n        metadata,\n        CLASS_NAME,\n        EXEC_MIME_TYPE\n      );\n      this.keyboard_manager.register_events(toinsert);\n      // Render to node\n      const props = {data: data, metadata: metadata[EXEC_MIME_TYPE]};\n      render(props, toinsert[toinsert.length - 1]);\n      element.append(toinsert);\n      return toinsert\n    }\n\n    /* Handle when an output is cleared or removed */\n    events.on('clear_output.CodeCell', handleClearOutput);\n    events.on('delete.Cell', handleClearOutput);\n\n    /* Handle when a new output is added */\n    events.on('output_added.OutputArea', handleAddOutput);\n\n    /**\n     * Register the mime type and append_mime function with output_area\n     */\n    OutputArea.prototype.register_mime_type(EXEC_MIME_TYPE, append_mime, {\n      /* Is output safe? */\n      safe: true,\n      /* Index of renderer in `output_area.display_order` */\n      index: 0\n    });\n  }\n\n  // register the mime type if in Jupyter Notebook environment and previously unregistered\n  if (root.Jupyter !== undefined) {\n    const events = require('base/js/events');\n    const OutputArea = require('notebook/js/outputarea').OutputArea;\n\n    if (OutputArea.prototype.mime_types().indexOf(EXEC_MIME_TYPE) == -1) {\n      register_renderer(events, OutputArea);\n    }\n  }\n  if (typeof (root._bokeh_timeout) === \"undefined\" || force === true) {\n    root._bokeh_timeout = Date.now() + 5000;\n    root._bokeh_failed_load = false;\n  }\n\n  const NB_LOAD_WARNING = {'data': {'text/html':\n     \"<div style='background-color: #fdd'>\\n\"+\n     \"<p>\\n\"+\n     \"BokehJS does not appear to have successfully loaded. If loading BokehJS from CDN, this \\n\"+\n     \"may be due to a slow or bad network connection. Possible fixes:\\n\"+\n     \"</p>\\n\"+\n     \"<ul>\\n\"+\n     \"<li>re-rerun `output_notebook()` to attempt to load from CDN again, or</li>\\n\"+\n     \"<li>use INLINE resources instead, as so:</li>\\n\"+\n     \"</ul>\\n\"+\n     \"<code>\\n\"+\n     \"from bokeh.resources import INLINE\\n\"+\n     \"output_notebook(resources=INLINE)\\n\"+\n     \"</code>\\n\"+\n     \"</div>\"}};\n\n  function display_loaded(error = null) {\n    const el = document.getElementById(null);\n    if (el != null) {\n      const html = (() => {\n        if (typeof root.Bokeh === \"undefined\") {\n          if (error == null) {\n            return \"BokehJS is loading ...\";\n          } else {\n            return \"BokehJS failed to load.\";\n          }\n        } else {\n          const prefix = `BokehJS ${root.Bokeh.version}`;\n          if (error == null) {\n            return `${prefix} successfully loaded.`;\n          } else {\n            return `${prefix} <b>encountered errors</b> while loading and may not function as expected.`;\n          }\n        }\n      })();\n      el.innerHTML = html;\n\n      if (error != null) {\n        const wrapper = document.createElement(\"div\");\n        wrapper.style.overflow = \"auto\";\n        wrapper.style.height = \"5em\";\n        wrapper.style.resize = \"vertical\";\n        const content = document.createElement(\"div\");\n        content.style.fontFamily = \"monospace\";\n        content.style.whiteSpace = \"pre-wrap\";\n        content.style.backgroundColor = \"rgb(255, 221, 221)\";\n        content.textContent = error.stack ?? error.toString();\n        wrapper.append(content);\n        el.append(wrapper);\n      }\n    } else if (Date.now() < root._bokeh_timeout) {\n      setTimeout(() => display_loaded(error), 100);\n    }\n  }\n\n  function run_callbacks() {\n    try {\n      root._bokeh_onload_callbacks.forEach(function(callback) {\n        if (callback != null)\n          callback();\n      });\n    } finally {\n      delete root._bokeh_onload_callbacks\n    }\n    console.debug(\"Bokeh: all callbacks have finished\");\n  }\n\n  function load_libs(css_urls, js_urls, callback) {\n    if (css_urls == null) css_urls = [];\n    if (js_urls == null) js_urls = [];\n\n    root._bokeh_onload_callbacks.push(callback);\n    if (root._bokeh_is_loading > 0) {\n      console.debug(\"Bokeh: BokehJS is being loaded, scheduling callback at\", now());\n      return null;\n    }\n    if (js_urls == null || js_urls.length === 0) {\n      run_callbacks();\n      return null;\n    }\n    console.debug(\"Bokeh: BokehJS not loaded, scheduling load and callback at\", now());\n    root._bokeh_is_loading = css_urls.length + js_urls.length;\n\n    function on_load() {\n      root._bokeh_is_loading--;\n      if (root._bokeh_is_loading === 0) {\n        console.debug(\"Bokeh: all BokehJS libraries/stylesheets loaded\");\n        run_callbacks()\n      }\n    }\n\n    function on_error(url) {\n      console.error(\"failed to load \" + url);\n    }\n\n    for (let i = 0; i < css_urls.length; i++) {\n      const url = css_urls[i];\n      const element = document.createElement(\"link\");\n      element.onload = on_load;\n      element.onerror = on_error.bind(null, url);\n      element.rel = \"stylesheet\";\n      element.type = \"text/css\";\n      element.href = url;\n      console.debug(\"Bokeh: injecting link tag for BokehJS stylesheet: \", url);\n      document.body.appendChild(element);\n    }\n\n    for (let i = 0; i < js_urls.length; i++) {\n      const url = js_urls[i];\n      const element = document.createElement('script');\n      element.onload = on_load;\n      element.onerror = on_error.bind(null, url);\n      element.async = false;\n      element.src = url;\n      console.debug(\"Bokeh: injecting script tag for BokehJS library: \", url);\n      document.head.appendChild(element);\n    }\n  };\n\n  function inject_raw_css(css) {\n    const element = document.createElement(\"style\");\n    element.appendChild(document.createTextNode(css));\n    document.body.appendChild(element);\n  }\n\n  const js_urls = [\"https://cdn.bokeh.org/bokeh/release/bokeh-3.6.2.min.js\", \"https://cdn.bokeh.org/bokeh/release/bokeh-gl-3.6.2.min.js\", \"https://cdn.bokeh.org/bokeh/release/bokeh-widgets-3.6.2.min.js\", \"https://cdn.bokeh.org/bokeh/release/bokeh-tables-3.6.2.min.js\", \"https://cdn.bokeh.org/bokeh/release/bokeh-mathjax-3.6.2.min.js\"];\n  const css_urls = [];\n\n  const inline_js = [    function(Bokeh) {\n      Bokeh.set_log_level(\"info\");\n    },\nfunction(Bokeh) {\n    }\n  ];\n\n  function run_inline_js() {\n    if (root.Bokeh !== undefined || force === true) {\n      try {\n            for (let i = 0; i < inline_js.length; i++) {\n      inline_js[i].call(root, root.Bokeh);\n    }\n\n      } catch (error) {throw error;\n      }} else if (Date.now() < root._bokeh_timeout) {\n      setTimeout(run_inline_js, 100);\n    } else if (!root._bokeh_failed_load) {\n      console.log(\"Bokeh: BokehJS failed to load within specified timeout.\");\n      root._bokeh_failed_load = true;\n    } else if (force !== true) {\n      const cell = $(document.getElementById(null)).parents('.cell').data().cell;\n      cell.output_area.append_execute_result(NB_LOAD_WARNING)\n    }\n  }\n\n  if (root._bokeh_is_loading === 0) {\n    console.debug(\"Bokeh: BokehJS loaded, going straight to plotting\");\n    run_inline_js();\n  } else {\n    load_libs(css_urls, js_urls, function() {\n      console.debug(\"Bokeh: BokehJS plotting callback run at\", now());\n      run_inline_js();\n    });\n  }\n}(window));",
            "application/vnd.bokehjs_load.v0+json": ""
          },
          "metadata": {},
          "output_type": "display_data"
        },
        {
          "data": {
            "text/html": [
              "\n",
              "  <div id=\"ce4b2fa2-1ca1-40fc-ad64-e64c9f004aa5\" data-root-id=\"p18156\" style=\"display: contents;\"></div>\n"
            ]
          },
          "metadata": {},
          "output_type": "display_data"
        },
        {
          "data": {
            "application/javascript": "(function(root) {\n  function embed_document(root) {\n  const docs_json = {\"12320895-bf02-4e19-8b2d-49a1229732bf\":{\"version\":\"3.6.2\",\"title\":\"Bokeh Application\",\"roots\":[{\"type\":\"object\",\"name\":\"Column\",\"id\":\"p18156\",\"attributes\":{\"children\":[{\"type\":\"object\",\"name\":\"Figure\",\"id\":\"p18105\",\"attributes\":{\"x_range\":{\"type\":\"object\",\"name\":\"DataRange1d\",\"id\":\"p18106\"},\"y_range\":{\"type\":\"object\",\"name\":\"DataRange1d\",\"id\":\"p18107\"},\"x_scale\":{\"type\":\"object\",\"name\":\"LinearScale\",\"id\":\"p18115\"},\"y_scale\":{\"type\":\"object\",\"name\":\"LinearScale\",\"id\":\"p18116\"},\"title\":{\"type\":\"object\",\"name\":\"Title\",\"id\":\"p18108\",\"attributes\":{\"text\":\"Engine vs Tank: Distinguishing Large Cars and Vans\"}},\"renderers\":[{\"type\":\"object\",\"name\":\"GlyphRenderer\",\"id\":\"p18150\",\"attributes\":{\"data_source\":{\"type\":\"object\",\"name\":\"ColumnDataSource\",\"id\":\"p18141\",\"attributes\":{\"selected\":{\"type\":\"object\",\"name\":\"Selection\",\"id\":\"p18142\",\"attributes\":{\"indices\":[],\"line_indices\":[]}},\"selection_policy\":{\"type\":\"object\",\"name\":\"UnionRenderers\",\"id\":\"p18143\"},\"data\":{\"type\":\"map\",\"entries\":[[\"index\",{\"type\":\"ndarray\",\"array\":{\"type\":\"bytes\",\"data\":\"AAAAAAEAAAACAAAAAwAAAAQAAAAFAAAABgAAAAcAAAAIAAAACQAAAAoAAAALAAAADAAAAA0AAAAOAAAADwAAABAAAAARAAAAEgAAABMAAAAUAAAAFQAAABYAAAAXAAAAGAAAABkAAAAaAAAAGwAAABwAAAAdAAAAHgAAAB8AAAAgAAAAIQAAACIAAAAjAAAAJAAAACUAAAAmAAAAJwAAACgAAAApAAAAKgAAACsAAAAsAAAALQAAAC4AAAAvAAAAMAAAADEAAAAyAAAAMwAAADQAAAA1AAAANgAAADcAAAA4AAAAOQAAADoAAAA7AAAAPAAAAD0AAAA+AAAAPwAAAEAAAABBAAAAQgAAAEMAAABEAAAARQAAAEYAAABHAAAASAAAAEkAAABKAAAASwAAAEwAAABNAAAATgAAAE8AAABQAAAAUQAAAFIAAABTAAAAVAAAAFUAAABWAAAAVwAAAFgAAABZAAAAWgAAAA==\"},\"shape\":[91],\"dtype\":\"int32\",\"order\":\"little\"}],[\"Manufacturer\",{\"type\":\"ndarray\",\"array\":[\"Acura\",\"Acura\",\"Audi\",\"Audi\",\"BMW\",\"Buick\",\"Buick\",\"Buick\",\"Buick\",\"Cadillac\",\"Cadillac\",\"Chevrolet\",\"Chevrolet\",\"Chevrolet\",\"Chevrolet\",\"Chevrolet\",\"Chevrolet\",\"Chevrolet\",\"Chrylser\",\"Chrysler\",\"Chrysler\",\"Dodge\",\"Dodge\",\"Dodge\",\"Dodge\",\"Dodge\",\"Dodge\",\"Eagle\",\"Eagle\",\"Ford\",\"Ford\",\"Ford\",\"Ford\",\"Ford\",\"Ford\",\"Ford\",\"Ford\",\"Geo\",\"Geo\",\"Honda\",\"Honda\",\"Honda\",\"Hyundai\",\"Hyundai\",\"Hyundai\",\"Hyundai\",\"Infiniti\",\"Lexus\",\"Lexus\",\"Lincoln\",\"Lincoln\",\"Mazda\",\"Mazda\",\"Mazda\",\"Mazda\",\"Mercedes-Benz\",\"Mercedes-Benz\",\"Mercury\",\"Mercury\",\"Mitsubishi\",\"Mitsubishi\",\"Nissan\",\"Nissan\",\"Nissan\",\"Nissan\",\"Oldsmobile\",\"Oldsmobile\",\"Oldsmobile\",\"Oldsmobile\",\"Plymouth\",\"Pontiac\",\"Pontiac\",\"Pontiac\",\"Pontiac\",\"Pontiac\",\"Saab\",\"Saturn\",\"Subaru\",\"Subaru\",\"Subaru\",\"Suzuki\",\"Toyota\",\"Toyota\",\"Toyota\",\"Toyota\",\"Volkswagen\",\"Volkswagen\",\"Volkswagen\",\"Volkswagen\",\"Volvo\",\"Volvo\"],\"shape\":[91],\"dtype\":\"object\",\"order\":\"little\"}],[\"Model\",{\"type\":\"ndarray\",\"array\":[\"Integra\",\"Legend\",\"90\",\"100\",\"535i\",\"Century\",\"LeSabre\",\"Roadmaster\",\"Riviera\",\"DeVille\",\"Seville\",\"Cavalier\",\"Corsica\",\"Camaro\",\"Lumina\",\"Lumina_APV\",\"Astro\",\"Caprice\",\"Concorde\",\"LeBaron\",\"Imperial\",\"Colt\",\"Shadow\",\"Spirit\",\"Caravan\",\"Dynasty\",\"Stealth\",\"Summit\",\"Vision\",\"Festiva\",\"Escort\",\"Tempo\",\"Mustang\",\"Probe\",\"Aerostar\",\"Taurus\",\"Crown_Victoria\",\"Metro\",\"Storm\",\"Prelude\",\"Civic\",\"Accord\",\"Excel\",\"Elantra\",\"Scoupe\",\"Sonata\",\"Q45\",\"ES300\",\"SC300\",\"Continental\",\"Town_Car\",\"323\",\"Protege\",\"626\",\"MPV\",\"190E\",\"300E\",\"Capri\",\"Cougar\",\"Mirage\",\"Diamante\",\"Sentra\",\"Altima\",\"Quest\",\"Maxima\",\"Achieva\",\"Cutlass_Ciera\",\"Silhouette\",\"Eighty-Eight\",\"Laser\",\"LeMans\",\"Sunbird\",\"Firebird\",\"Grand_Prix\",\"Bonneville\",\"900\",\"SL\",\"Justy\",\"Loyale\",\"Legacy\",\"Swift\",\"Tercel\",\"Celica\",\"Camry\",\"Previa\",\"Fox\",\"Eurovan\",\"Passat\",\"Corrado\",\"240\",\"850\"],\"shape\":[91],\"dtype\":\"object\",\"order\":\"little\"}],[\"Type\",{\"type\":\"ndarray\",\"array\":[\"Small\",\"Midsize\",\"Compact\",\"Midsize\",\"Midsize\",\"Midsize\",\"Large\",\"Large\",\"Midsize\",\"Large\",\"Midsize\",\"Compact\",\"Compact\",\"Sporty\",\"Midsize\",\"Van\",\"Van\",\"Large\",\"Large\",\"Compact\",\"Large\",\"Small\",\"Small\",\"Compact\",\"Van\",\"Midsize\",\"Sporty\",\"Small\",\"Large\",\"Small\",\"Small\",\"Compact\",\"Sporty\",\"Sporty\",\"Van\",\"Midsize\",\"Large\",\"Small\",\"Sporty\",\"Sporty\",\"Small\",\"Compact\",\"Small\",\"Small\",\"Sporty\",\"Midsize\",\"Midsize\",\"Midsize\",\"Midsize\",\"Midsize\",\"Large\",\"Small\",\"Small\",\"Compact\",\"Van\",\"Compact\",\"Midsize\",\"Sporty\",\"Midsize\",\"Small\",\"Midsize\",\"Small\",\"Compact\",\"Van\",\"Midsize\",\"Compact\",\"Midsize\",\"Van\",\"Large\",\"Sporty\",\"Small\",\"Compact\",\"Sporty\",\"Midsize\",\"Large\",\"Compact\",\"Small\",\"Small\",\"Small\",\"Compact\",\"Small\",\"Small\",\"Sporty\",\"Midsize\",\"Van\",\"Small\",\"Van\",\"Compact\",\"Sporty\",\"Compact\",\"Midsize\"],\"shape\":[91],\"dtype\":\"object\",\"order\":\"little\"}],[\"MinPrice\",{\"type\":\"ndarray\",\"array\":{\"type\":\"bytes\",\"data\":\"zczMzMzMKUAzMzMzMzM9QGZmZmZm5jlAzczMzMzMPkAzMzMzM7M3QGZmZmZmZixAZmZmZmbmM0CamZmZmZk2QM3MzMzMTDpAAAAAAACAQEAAAAAAAMBCQAAAAAAAACFAzczMzMzMJkDNzMzMzMwqQM3MzMzMzCpAZmZmZmZmLUBmZmZmZmYtQAAAAAAAADJAZmZmZmZmMkAAAAAAAAAtQAAAAAAAgD1AmpmZmZmZH0DNzMzMzMwgQM3MzMzMzCdAMzMzMzMzK0CamZmZmZktQAAAAAAAgDJAmpmZmZmZH0AAAAAAAIAxQJqZmZmZmRtAzczMzMzMIEDNzMzMzMwkQJqZmZmZmSVAmpmZmZmZKUAAAAAAAAAtQDMzMzMzMy9AmpmZmZkZNEDNzMzMzMwaQAAAAAAAACdAAAAAAAAAMUDNzMzMzMwgQJqZmZmZmStAMzMzMzMzG0AAAAAAAAAiQDMzMzMzMyJAzczMzMzMKEAzMzMzM7NGQAAAAAAAgDtAmpmZmZlZQUBmZmZmZqZAQDMzMzMzM0FAmpmZmZmZHUDNzMzMzMwlQJqZmZmZmSxAmpmZmZmZMEAAAAAAAAA9QGZmZmZm5kVAmpmZmZmZKkDNzMzMzMwtQM3MzMzMzB5AZmZmZmZmNkBmZmZmZmYhQAAAAAAAACpAMzMzMzOzMEAAAAAAAAA1QAAAAAAAACpAZmZmZmZmLEAAAAAAAIAzQAAAAAAAgDNAzczMzMzMJkBmZmZmZmYgQM3MzMzMzCJAAAAAAAAALEDNzMzMzMwuQGZmZmZmZjNAzczMzMxMNEBmZmZmZmYiQDMzMzMzMx1AAAAAAAAAJUDNzMzMzEwwQDMzMzMzMx1AMzMzMzMzH0BmZmZmZmYsQGZmZmZmZi5AZmZmZmbmMkBmZmZmZmYhQJqZmZmZmTBAmpmZmZmZMUBmZmZmZuY2QM3MzMzMzDVAzczMzMzMOEA=\"},\"shape\":[91],\"dtype\":\"float64\",\"order\":\"little\"}],[\"MidPrice\",{\"type\":\"ndarray\",\"array\":{\"type\":\"bytes\",\"data\":\"zczMzMzML0AzMzMzM/NAQJqZmZmZGT1AmpmZmZnZQkAAAAAAAAA+QGZmZmZmZi9AzczMzMzMNEAzMzMzM7M3QM3MzMzMTDpAmpmZmZlZQUDNzMzMzAxEQM3MzMzMzCpAzczMzMzMJkAzMzMzMzMuQM3MzMzMzC9AzczMzMxMMECamZmZmZkwQM3MzMzMzDJAZmZmZmZmMkCamZmZmZkvQAAAAAAAgD1AZmZmZmZmIkCamZmZmZkmQJqZmZmZmSpAAAAAAAAAM0AzMzMzMzMvQM3MzMzMzDlAZmZmZmZmKEDNzMzMzEwzQJqZmZmZmR1AMzMzMzMzJECamZmZmZkmQM3MzMzMzC9AAAAAAAAALEBmZmZmZuYzQDMzMzMzMzRAZmZmZmbmNEDNzMzMzMwgQAAAAAAAAClAzczMzMzMM0AzMzMzMzMoQAAAAAAAgDFAAAAAAAAAIEAAAAAAAAAkQAAAAAAAACRAzczMzMzMK0AzMzMzM/NHQAAAAAAAADxAmpmZmZmZQUBmZmZmZiZBQM3MzMzMDEJAmpmZmZmZIEAzMzMzMzMnQAAAAAAAgDBAmpmZmZkZM0BmZmZmZuY/QDMzMzMz805AMzMzMzMzLEDNzMzMzMwtQJqZmZmZmSRAmpmZmZkZOkCamZmZmZknQGZmZmZmZi9AmpmZmZkZM0AAAAAAAIA1QAAAAAAAACtAzczMzMxMMEAAAAAAAIAzQDMzMzMzszRAzczMzMzMLEAAAAAAAAAiQDMzMzMzMyZAMzMzMzOzMUAAAAAAAIAyQGZmZmZmZjhAMzMzMzOzPEAzMzMzMzMmQM3MzMzMzCBAzczMzMzMJUAAAAAAAIAzQDMzMzMzMyFAmpmZmZmZI0BmZmZmZmYyQDMzMzMzMzJAMzMzMzOzNkAzMzMzMzMiQDMzMzMzszNAAAAAAAAANEDNzMzMzEw3QDMzMzMzszZAMzMzMzOzOkA=\"},\"shape\":[91],\"dtype\":\"float64\",\"order\":\"little\"}],[\"MaxPrice\",{\"type\":\"ndarray\",\"array\":{\"type\":\"bytes\",\"data\":\"zczMzMzMMkCamZmZmVlDQGZmZmZmJkBAzczMzMxMRkCamZmZmRlCQM3MzMzMTDFAMzMzMzOzNUBmZmZmZuY4QM3MzMzMTDpAZmZmZmYmQkCamZmZmVlFQM3MzMzMTDJAzczMzMzMJkDNzMzMzMwwQGZmZmZmZjJAAAAAAAAAMkCamZmZmZkyQJqZmZmZmTNAZmZmZmZmMkCamZmZmRkxQAAAAAAAgD1AMzMzMzMzJUBmZmZmZmYsQGZmZmZmZi1AZmZmZmZmOEBmZmZmZmYwQM3MzMzMjEBAAAAAAACAMEAzMzMzMzM1QJqZmZmZmR9AzczMzMzMJ0BmZmZmZmYoQAAAAAAAADVAZmZmZmZmLkDNzMzMzEw5QM3MzMzMzDhAMzMzMzOzNUAAAAAAAAAkQAAAAAAAACtAMzMzMzOzNkCamZmZmZkvQDMzMzMzMzVAZmZmZmZmIkAAAAAAAAAmQAAAAAAAACZAmpmZmZmZLkAzMzMzMzNJQGZmZmZmZjxAzczMzMzMQUBmZmZmZqZBQGZmZmZm5kJAMzMzMzMzIkCamZmZmZkoQDMzMzMzszJAMzMzMzOzNUAzMzMzM3NBQAAAAAAAAFRAAAAAAAAALkDNzMzMzMwtQM3MzMzMzClAZmZmZmbmPUDNzMzMzMwtQM3MzMzMTDJAAAAAAACANUAAAAAAAAA2QAAAAAAAACxAZmZmZmZmMkAAAAAAAIAzQGZmZmZm5jVAZmZmZmZmMUDNzMzMzMwjQJqZmZmZmSlAZmZmZmZmNUCamZmZmZk1QGZmZmZmZj1AzczMzMyMQkDNzMzMzMwpQAAAAAAAACNAmpmZmZmZJkAzMzMzM7M2QAAAAAAAACRAmpmZmZmZJ0CamZmZmZk2QDMzMzMzMzVAmpmZmZmZOkAAAAAAAAAjQDMzMzMzszZAZmZmZmZmNkAzMzMzM7M3QAAAAAAAgDdAAAAAAACAPEA=\"},\"shape\":[91],\"dtype\":\"float64\",\"order\":\"little\"}],[\"CityMpg\",{\"type\":\"ndarray\",\"array\":{\"type\":\"bytes\",\"data\":\"GQAAABIAAAAUAAAAEwAAABYAAAAWAAAAEwAAABAAAAATAAAAEAAAABAAAAAZAAAAGQAAABMAAAAVAAAAEgAAAA8AAAARAAAAFAAAABcAAAAUAAAAHQAAABcAAAAWAAAAEQAAABUAAAASAAAAHQAAABQAAAAfAAAAFwAAABYAAAAWAAAAGAAAAA8AAAAVAAAAEgAAAC4AAAAeAAAAGAAAACoAAAAYAAAAHQAAABYAAAAaAAAAFAAAABEAAAASAAAAEgAAABEAAAASAAAAHQAAABwAAAAaAAAAEgAAABQAAAATAAAAFwAAABMAAAAdAAAAEgAAAB0AAAAYAAAAEQAAABUAAAAYAAAAFwAAABIAAAATAAAAFwAAAB8AAAAXAAAAEwAAABMAAAATAAAAFAAAABwAAAAhAAAAGQAAABcAAAAnAAAAIAAAABkAAAAWAAAAEgAAABkAAAARAAAAFQAAABIAAAAVAAAAFAAAAA==\"},\"shape\":[91],\"dtype\":\"int32\",\"order\":\"little\"}],[\"HighwayMpg\",{\"type\":\"ndarray\",\"array\":{\"type\":\"bytes\",\"data\":\"HwAAABkAAAAaAAAAGgAAAB4AAAAfAAAAHAAAABkAAAAbAAAAGQAAABkAAAAkAAAAIgAAABwAAAAdAAAAFwAAABQAAAAaAAAAHAAAABwAAAAaAAAAIQAAAB0AAAAbAAAAFQAAABsAAAAYAAAAIQAAABwAAAAhAAAAHgAAABsAAAAdAAAAHgAAABQAAAAeAAAAGgAAADIAAAAkAAAAHwAAAC4AAAAfAAAAIQAAAB0AAAAiAAAAGwAAABYAAAAYAAAAFwAAABoAAAAaAAAAJQAAACQAAAAiAAAAGAAAAB0AAAAZAAAAGgAAABoAAAAhAAAAGAAAACEAAAAeAAAAFwAAABoAAAAfAAAAHwAAABcAAAAcAAAAHgAAACkAAAAfAAAAHAAAABsAAAAcAAAAGgAAACYAAAAlAAAAHgAAAB4AAAArAAAAJQAAACAAAAAdAAAAFgAAACEAAAAVAAAAHgAAABkAAAAcAAAAHAAAAA==\"},\"shape\":[91],\"dtype\":\"int32\",\"order\":\"little\"}],[\"AirBags\",{\"type\":\"ndarray\",\"array\":{\"type\":\"bytes\",\"data\":\"AAAAAAIAAAABAAAAAgAAAAEAAAABAAAAAQAAAAEAAAABAAAAAQAAAAIAAAAAAAAAAQAAAAIAAAAAAAAAAAAAAAAAAAABAAAAAgAAAAIAAAABAAAAAAAAAAEAAAABAAAAAQAAAAEAAAABAAAAAAAAAAIAAAAAAAAAAAAAAAAAAAABAAAAAQAAAAEAAAABAAAAAQAAAAAAAAABAAAAAgAAAAEAAAACAAAAAAAAAAAAAAAAAAAAAAAAAAEAAAABAAAAAgAAAAIAAAACAAAAAAAAAAAAAAABAAAAAAAAAAEAAAACAAAAAQAAAAAAAAAAAAAAAQAAAAEAAAABAAAAAAAAAAEAAAAAAAAAAQAAAAAAAAABAAAAAAAAAAAAAAAAAAAAAgAAAAAAAAACAAAAAQAAAAEAAAAAAAAAAAAAAAEAAAAAAAAAAQAAAAEAAAABAAAAAQAAAAAAAAAAAAAAAAAAAAAAAAABAAAAAgAAAA==\"},\"shape\":[91],\"dtype\":\"int32\",\"order\":\"little\"}],[\"DriveTrainType\",{\"type\":\"ndarray\",\"array\":{\"type\":\"bytes\",\"data\":\"AQAAAAEAAAABAAAAAQAAAAAAAAABAAAAAQAAAAAAAAABAAAAAQAAAAEAAAABAAAAAQAAAAAAAAABAAAAAQAAAAIAAAAAAAAAAQAAAAEAAAABAAAAAQAAAAEAAAABAAAAAgAAAAEAAAACAAAAAQAAAAEAAAABAAAAAQAAAAEAAAAAAAAAAQAAAAIAAAABAAAAAAAAAAEAAAABAAAAAQAAAAEAAAABAAAAAQAAAAEAAAABAAAAAQAAAAAAAAABAAAAAAAAAAEAAAAAAAAAAQAAAAEAAAABAAAAAgAAAAAAAAAAAAAAAQAAAAAAAAABAAAAAQAAAAEAAAABAAAAAQAAAAEAAAABAAAAAQAAAAEAAAABAAAAAgAAAAEAAAABAAAAAAAAAAEAAAABAAAAAQAAAAEAAAACAAAAAgAAAAIAAAABAAAAAQAAAAEAAAABAAAAAgAAAAEAAAABAAAAAQAAAAEAAAAAAAAAAQAAAA==\"},\"shape\":[91],\"dtype\":\"int32\",\"order\":\"little\"}],[\"Cylinders\",{\"type\":\"ndarray\",\"array\":{\"type\":\"bytes\",\"data\":\"AAAAAAAAEEAAAAAAAAAYQAAAAAAAABhAAAAAAAAAGEAAAAAAAAAQQAAAAAAAABBAAAAAAAAAGEAAAAAAAAAYQAAAAAAAABhAAAAAAAAAIEAAAAAAAAAgQAAAAAAAABBAAAAAAAAAEEAAAAAAAAAYQAAAAAAAABBAAAAAAAAAGEAAAAAAAAAYQAAAAAAAACBAAAAAAAAAGEAAAAAAAAAQQAAAAAAAABhAAAAAAAAAEEAAAAAAAAAQQAAAAAAAABBAAAAAAAAAGEAAAAAAAAAQQAAAAAAAABhAAAAAAAAAEEAAAAAAAAAYQAAAAAAAABBAAAAAAAAAEEAAAAAAAAAQQAAAAAAAABBAAAAAAAAAEEAAAAAAAAAYQAAAAAAAABhAAAAAAAAAIEAAAAAAAAAIQAAAAAAAABBAAAAAAAAAEEAAAAAAAAAQQAAAAAAAABBAAAAAAAAAEEAAAAAAAAAQQAAAAAAAABBAAAAAAAAAEEAAAAAAAAAgQAAAAAAAABhAAAAAAAAAGEAAAAAAAAAYQAAAAAAAACBAAAAAAAAAEEAAAAAAAAAQQAAAAAAAABBAAAAAAAAAGEAAAAAAAAAQQAAAAAAAABhAAAAAAAAAEEAAAAAAAAAYQAAAAAAAABBAAAAAAAAAGEAAAAAAAAAQQAAAAAAAABBAAAAAAAAAGEAAAAAAAAAYQAAAAAAAABBAAAAAAAAAEEAAAAAAAAAYQAAAAAAAABhAAAAAAAAAEEAAAAAAAAAQQAAAAAAAABBAAAAAAAAAGEAAAAAAAAAYQAAAAAAAABhAAAAAAAAAEEAAAAAAAAAQQAAAAAAAAAhAAAAAAAAAEEAAAAAAAAAQQAAAAAAAAAhAAAAAAAAAEEAAAAAAAAAQQAAAAAAAABBAAAAAAAAAEEAAAAAAAAAQQAAAAAAAABRAAAAAAAAAEEAAAAAAAAAYQAAAAAAAABBAAAAAAAAAFEA=\"},\"shape\":[91],\"dtype\":\"float64\",\"order\":\"little\"}],[\"Engine\",{\"type\":\"ndarray\",\"array\":{\"type\":\"bytes\",\"data\":\"zczMzMzM/D+amZmZmZkJQGZmZmZmZgZAZmZmZmZmBkAAAAAAAAAMQJqZmZmZmQFAZmZmZmZmDkDNzMzMzMwWQGZmZmZmZg5AmpmZmZmZE0BmZmZmZmYSQJqZmZmZmQFAmpmZmZmZAUAzMzMzMzMLQJqZmZmZmQFAZmZmZmZmDkAzMzMzMzMRQAAAAAAAABRAZmZmZmZmCkAAAAAAAAAIQGZmZmZmZgpAAAAAAAAA+D+amZmZmZkBQAAAAAAAAARAAAAAAAAACEAAAAAAAAAEQAAAAAAAAAhAAAAAAAAA+D8AAAAAAAAMQM3MzMzMzPQ/zczMzMzM/D9mZmZmZmYCQGZmZmZmZgJAAAAAAAAAAEAAAAAAAAAIQAAAAAAAAAhAZmZmZmZmEkAAAAAAAADwP5qZmZmZmfk/ZmZmZmZmAkAAAAAAAAD4P5qZmZmZmQFAAAAAAAAA+D/NzMzMzMz8PwAAAAAAAPg/AAAAAAAAAEAAAAAAAAASQAAAAAAAAAhAAAAAAAAACEBmZmZmZmYOQGZmZmZmZhJAmpmZmZmZ+T/NzMzMzMz8PwAAAAAAAARAAAAAAAAACEBmZmZmZmYCQJqZmZmZmQlAmpmZmZmZ+T9mZmZmZmYOQAAAAAAAAPg/AAAAAAAACECamZmZmZn5PzMzMzMzMwNAAAAAAAAACEAAAAAAAAAIQGZmZmZmZgJAmpmZmZmZAUBmZmZmZmYOQGZmZmZmZg5AzczMzMzM/D+amZmZmZn5PwAAAAAAAABAMzMzMzMzC0AzMzMzMzMLQGZmZmZmZg5AzczMzMzMAEBmZmZmZmb+PzMzMzMzM/M/zczMzMzM/D+amZmZmZkBQM3MzMzMzPQ/AAAAAAAA+D+amZmZmZkBQJqZmZmZmQFAMzMzMzMzA0DNzMzMzMz8PwAAAAAAAARAAAAAAAAAAEBmZmZmZmYGQGZmZmZmZgJAMzMzMzMzA0A=\"},\"shape\":[91],\"dtype\":\"float64\",\"order\":\"little\"}],[\"Horsepower\",{\"type\":\"ndarray\",\"array\":{\"type\":\"bytes\",\"data\":\"jAAAAMgAAACsAAAArAAAANAAAABuAAAAqgAAALQAAACqAAAAyAAAACcBAABuAAAAbgAAAKAAAABuAAAAqgAAAKUAAACqAAAAmQAAAI0AAACTAAAAXAAAAF0AAABkAAAAjgAAAGQAAAAsAQAAXAAAANYAAAA/AAAAfwAAAGAAAABpAAAAcwAAAJEAAACMAAAAvgAAADcAAABaAAAAoAAAAGYAAACMAAAAUQAAAHwAAABcAAAAgAAAABYBAAC5AAAA4QAAAKAAAADSAAAAUgAAAGcAAACkAAAAmwAAAIIAAADZAAAAZAAAAIwAAABcAAAAygAAAG4AAACWAAAAlwAAAKAAAACbAAAAbgAAAKoAAACqAAAAXAAAAEoAAABuAAAAoAAAAMgAAACqAAAAjAAAAFUAAABJAAAAWgAAAIIAAABGAAAAUgAAAIcAAACCAAAAigAAAFEAAABtAAAAhgAAALIAAAByAAAAqAAAAA==\"},\"shape\":[91],\"dtype\":\"int32\",\"order\":\"little\"}],[\"RPM\",{\"type\":\"ndarray\",\"array\":{\"type\":\"bytes\",\"data\":\"nBgAAHwVAAB8FQAAfBUAAEQWAABQFAAAwBIAAKAPAADAEgAABBAAAHAXAABQFAAAUBQAAPgRAABQFAAAwBIAAKAPAABoEAAAtBQAAIgTAADAEgAAcBcAAMASAADAEgAAiBMAAMASAABwFwAAcBcAAKgWAACIEwAAZBkAAGgQAAD4EQAAfBUAAMASAADAEgAAaBAAAEQWAAAYFQAAqBYAAAwXAADgFQAAfBUAAHAXAACuFQAAcBcAAHAXAABQFAAAcBcAADARAAD4EQAAiBMAAHwVAADgFQAAiBMAAOwTAAB8FQAAdhYAANgOAABwFwAAcBcAAHAXAADgFQAAwBIAAFAUAABwFwAAUBQAAMASAADAEgAAiBMAAOAVAABQFAAA+BEAAIgTAADAEgAAcBcAAIgTAADgFQAAUBQAAOAVAABwFwAAUBQAABgVAAAYFQAAiBMAAHwVAACUEQAAqBYAAKgWAAAYFQAAOBgAAA==\"},\"shape\":[91],\"dtype\":\"int32\",\"order\":\"little\"}],[\"EngineRev\",{\"type\":\"ndarray\",\"array\":{\"type\":\"bytes\",\"data\":\"SgsAAB8JAADoCAAA5wkAAPEJAAAFCgAAIgYAACgFAACaBgAA5gUAAMEHAABMCQAAaQoAAA0HAAAjCgAAmgYAAP4GAABGBQAAxgcAACoIAAD5BgAA1QwAACMKAADnCQAAsgcAAKEJAABICAAAyQkAALwHAABODAAAagkAAPUKAADtCAAAJAkAACAIAABdBwAAhwUAAKsOAACyDAAAJwsAAFoKAAAyCgAAlgoAALkKAADsCQAAHwkAAKMHAAAVCQAAzgkAACsHAAAwBwAAQgkAAKwIAADJCQAAwAgAAHkJAACsCAAAqwkAAMIGAADJCQAAoggAAIMJAABSCAAAEQgAAP0HAABMCQAABQoAAJoGAAAiBgAAOAkAADoMAABpCgAADQcAAGIHAAAdBgAAXgsAAGEIAAA7CwAALw0AABoJAAAgDQAAsQ0AAGUJAAAkCQAA0wkAAPYJAABjCwAAfQoAAFEJAACnCAAABgkAAA==\"},\"shape\":[91],\"dtype\":\"int32\",\"order\":\"little\"}],[\"ManTrans\",{\"type\":\"ndarray\",\"array\":{\"type\":\"bytes\",\"data\":\"AQAAAAEAAAABAAAAAQAAAAEAAAAAAAAAAAAAAAAAAAAAAAAAAAAAAAAAAAABAAAAAQAAAAEAAAAAAAAAAAAAAAAAAAAAAAAAAAAAAAAAAAAAAAAAAQAAAAEAAAABAAAAAAAAAAAAAAABAAAAAQAAAAAAAAABAAAAAQAAAAEAAAABAAAAAQAAAAEAAAAAAAAAAAAAAAEAAAABAAAAAQAAAAEAAAABAAAAAQAAAAEAAAABAAAAAQAAAAAAAAABAAAAAQAAAAAAAAAAAAAAAQAAAAEAAAABAAAAAAAAAAEAAAAAAAAAAQAAAAAAAAABAAAAAAAAAAEAAAABAAAAAAAAAAAAAAAAAAAAAAAAAAAAAAAAAAAAAQAAAAEAAAABAAAAAQAAAAEAAAAAAAAAAQAAAAEAAAABAAAAAQAAAAEAAAABAAAAAQAAAAEAAAABAAAAAQAAAAEAAAABAAAAAQAAAAEAAAABAAAAAQAAAA==\"},\"shape\":[91],\"dtype\":\"int32\",\"order\":\"little\"}],[\"Tank\",{\"type\":\"ndarray\",\"array\":{\"type\":\"bytes\",\"data\":\"ZmZmZmZmKkAAAAAAAAAyQGZmZmZm5jBAmpmZmZkZNUCamZmZmRk1QGZmZmZmZjBAAAAAAAAAMkAAAAAAAAA3QM3MzMzMzDJAAAAAAAAAMkAAAAAAAAA0QGZmZmZmZi5AMzMzMzMzL0AAAAAAAAAvQAAAAAAAgDBAAAAAAAAANEAAAAAAAAA7QAAAAAAAADdAAAAAAAAAMkAAAAAAAAAwQAAAAAAAADBAZmZmZmZmKkAAAAAAAAAsQAAAAAAAADBAAAAAAAAANEAAAAAAAAAwQM3MzMzMzDNAZmZmZmZmKkAAAAAAAAAyQAAAAAAAACRAZmZmZmZmKkDNzMzMzMwvQM3MzMzMzC5AAAAAAAAAL0AAAAAAAAA1QAAAAAAAADBAAAAAAAAANEAzMzMzMzMlQM3MzMzMzChAzczMzMzML0DNzMzMzMwnQAAAAAAAADFAzczMzMzMJ0BmZmZmZmYrQM3MzMzMzCdAMzMzMzMzMUAAAAAAAIA2QAAAAAAAgDJAmpmZmZmZNEBmZmZmZmYyQAAAAAAAADRAZmZmZmZmKkAAAAAAAAAtQAAAAAAAAC9AmpmZmZmZM0AAAAAAAAAtQAAAAAAAgDJAMzMzMzMzJkAAAAAAAAAyQGZmZmZmZipAAAAAAAAAM0BmZmZmZmYqQM3MzMzMzC9AAAAAAAAANEAAAAAAAIAyQGZmZmZmZi5AAAAAAACAMEAAAAAAAAA0QAAAAAAAADJAzczMzMzML0BmZmZmZmYqQGZmZmZmZi5AAAAAAAAAL0AAAAAAAIAwQAAAAAAAADJAAAAAAAAAMkCamZmZmZkpQGZmZmZmZiJAzczMzMzML0DNzMzMzMwvQDMzMzMzMyVAzczMzMzMJ0DNzMzMzMwvQAAAAAAAgDJAzczMzMzMM0DNzMzMzMwoQJqZmZmZGTVAAAAAAACAMkAAAAAAAIAyQJqZmZmZmS9AzczMzMxMM0A=\"},\"shape\":[91],\"dtype\":\"float64\",\"order\":\"little\"}],[\"Passenger\",{\"type\":\"ndarray\",\"array\":{\"type\":\"bytes\",\"data\":\"BQAAAAUAAAAFAAAABgAAAAQAAAAGAAAABgAAAAYAAAAFAAAABgAAAAUAAAAFAAAABQAAAAQAAAAGAAAABwAAAAgAAAAGAAAABgAAAAYAAAAGAAAABQAAAAUAAAAGAAAABwAAAAYAAAAEAAAABQAAAAYAAAAEAAAABQAAAAUAAAAEAAAABAAAAAcAAAAFAAAABgAAAAQAAAAEAAAABAAAAAQAAAAEAAAABQAAAAUAAAAEAAAABQAAAAUAAAAFAAAABAAAAAYAAAAGAAAABAAAAAUAAAAFAAAABwAAAAUAAAAFAAAABAAAAAUAAAAFAAAABQAAAAUAAAAFAAAABwAAAAUAAAAFAAAABQAAAAcAAAAGAAAABAAAAAQAAAAFAAAABAAAAAUAAAAGAAAABQAAAAUAAAAEAAAABQAAAAUAAAAEAAAABQAAAAQAAAAFAAAABwAAAAQAAAAHAAAABQAAAAQAAAAFAAAABQAAAA==\"},\"shape\":[91],\"dtype\":\"int32\",\"order\":\"little\"}],[\"Length\",{\"type\":\"ndarray\",\"array\":{\"type\":\"bytes\",\"data\":\"sQAAAMMAAAC0AAAAwQAAALoAAAC9AAAAyAAAANgAAADGAAAAzgAAAMwAAAC2AAAAuAAAAMEAAADGAAAAsgAAAMIAAADWAAAAywAAALcAAADLAAAArgAAAKwAAAC1AAAArwAAAMAAAAC0AAAArgAAAMoAAACNAAAAqwAAALEAAAC0AAAAswAAALAAAADAAAAA1AAAAJcAAACkAAAArwAAAK0AAAC5AAAAqAAAAKwAAACmAAAAuAAAAMgAAAC8AAAAvwAAAM0AAADbAAAApAAAAKwAAAC4AAAAvgAAAK8AAAC7AAAApgAAAMcAAACsAAAAvgAAAKoAAAC1AAAAvgAAALwAAAC8AAAAvgAAAMIAAADJAAAArQAAALEAAAC1AAAAxAAAAMMAAACxAAAAuAAAALAAAACSAAAArwAAALMAAAChAAAAogAAAK4AAAC8AAAAuwAAAKMAAAC7AAAAtAAAAJ8AAAC+AAAAuAAAAA==\"},\"shape\":[91],\"dtype\":\"int32\",\"order\":\"little\"}],[\"Wheelbase\",{\"type\":\"ndarray\",\"array\":{\"type\":\"bytes\",\"data\":\"ZgAAAHMAAABmAAAAagAAAG0AAABpAAAAbwAAAHQAAABsAAAAcgAAAG8AAABlAAAAZwAAAGUAAABsAAAAbgAAAG8AAAB0AAAAcQAAAGgAAABuAAAAYgAAAGEAAABoAAAAcAAAAGkAAABhAAAAYgAAAHEAAABaAAAAYgAAAGQAAABlAAAAZwAAAHcAAABqAAAAcgAAAF0AAABhAAAAZAAAAGcAAABrAAAAXgAAAGIAAABeAAAAaAAAAHEAAABnAAAAagAAAG0AAAB1AAAAYQAAAGIAAABnAAAAbgAAAGkAAABuAAAAXwAAAHEAAABiAAAAawAAAGAAAABnAAAAcAAAAGgAAABnAAAAaQAAAG4AAABvAAAAYQAAAGMAAABlAAAAZQAAAGwAAABvAAAAYwAAAGYAAABaAAAAYQAAAGYAAABdAAAAXgAAAGMAAABnAAAAcQAAAF0AAABzAAAAZwAAAGEAAABoAAAAaQAAAA==\"},\"shape\":[91],\"dtype\":\"int32\",\"order\":\"little\"}],[\"Width\",{\"type\":\"ndarray\",\"array\":{\"type\":\"bytes\",\"data\":\"RAAAAEcAAABDAAAARgAAAEUAAABFAAAASgAAAE4AAABJAAAASQAAAEoAAABCAAAARAAAAEoAAABHAAAASgAAAE4AAABNAAAASgAAAEQAAABFAAAAQgAAAEMAAABEAAAASAAAAEUAAABIAAAAQgAAAEoAAAA/AAAAQwAAAEQAAABEAAAARgAAAEgAAABHAAAATgAAAD8AAABDAAAARgAAAEMAAABDAAAAPwAAAEIAAABAAAAARQAAAEgAAABGAAAARwAAAEkAAABNAAAAQgAAAEIAAABFAAAASAAAAEMAAABFAAAAQQAAAEkAAABDAAAARgAAAEIAAABDAAAASgAAAEUAAABDAAAARgAAAEoAAABKAAAAQwAAAEIAAABCAAAASwAAAEgAAABKAAAAQwAAAEQAAAA8AAAAQQAAAEMAAAA/AAAAQQAAAEUAAABGAAAARwAAAD8AAABIAAAAQwAAAEIAAABDAAAARQAAAA==\"},\"shape\":[91],\"dtype\":\"int32\",\"order\":\"little\"}],[\"UTurn\",{\"type\":\"ndarray\",\"array\":{\"type\":\"bytes\",\"data\":\"JQAAACYAAAAlAAAAJQAAACcAAAApAAAAKgAAAC0AAAApAAAAKwAAACwAAAAmAAAAJwAAACsAAAAoAAAALAAAACoAAAAqAAAAKAAAACkAAAAsAAAAIAAAACYAAAAnAAAAKgAAACoAAAAoAAAAJAAAACgAAAAhAAAAJAAAACcAAAAoAAAAJgAAAC0AAAAoAAAAKwAAACIAAAAlAAAAJwAAACQAAAApAAAAIwAAACQAAAAiAAAAKQAAACoAAAAoAAAAJwAAACoAAAAtAAAAIgAAACQAAAAoAAAAJwAAACIAAAAlAAAAJAAAACYAAAAkAAAAKwAAACEAAAAoAAAAKQAAACkAAAAnAAAAKgAAACwAAAAqAAAAJwAAACMAAAAnAAAAKwAAACkAAAArAAAAJQAAACgAAAAgAAAAIwAAACUAAAAiAAAAJAAAACcAAAAmAAAAKQAAACIAAAAmAAAAIwAAACQAAAAlAAAAJgAAAA==\"},\"shape\":[91],\"dtype\":\"int32\",\"order\":\"little\"}],[\"RearSeatRoom\",{\"type\":\"ndarray\",\"array\":{\"type\":\"bytes\",\"data\":\"AAAAAACAOkAAAAAAAAA+QAAAAAAAADxAAAAAAAAAP0AAAAAAAAA7QAAAAAAAADxAAAAAAACAPkAAAAAAAIA+QAAAAAAAgDpAAAAAAACAQUAAAAAAAAA/QAAAAAAAADlAAAAAAAAAOkAAAAAAAAA5QAAAAAAAgDxAAAAAAACAPkAAAAAAAMBAQAAAAAAAgD1AAAAAAAAAP0AAAAAAAIA+QAAAAAAAAEJAAAAAAACAOkAAAAAAAIA6QAAAAAAAgD5AAAAAAACAOkAAAAAAAIA+QAAAAAAAADRAAAAAAACAOkAAAAAAAAA+QAAAAAAAADpAAAAAAAAAPEAAAAAAAIA7QAAAAAAAADhAAAAAAAAAN0AAAAAAAAA+QAAAAAAAgDtAAAAAAAAAPkAAAAAAAIA7QAAAAAAAgDhAAAAAAACAN0AAAAAAAAA8QAAAAAAAADxAAAAAAAAAOkAAAAAAAAA8QAAAAAAAgDdAAAAAAAAAP0AAAAAAAAA9QAAAAAAAgDtAAAAAAAAAOUAAAAAAAAA+QAAAAAAAgD9AAAAAAAAAO0AAAAAAAIA6QAAAAAAAgD1AAAAAAACAO0AAAAAAAAA6QAAAAAAAADtAAAAAAAAAM0AAAAAAAAA8QAAAAAAAADpAAAAAAACAO0AAAAAAAAA6QAAAAAAAgDxAAAAAAAAAO0AAAAAAAIA8QAAAAAAAADxAAAAAAAAAPEAAAAAAAIA+QAAAAAAAgD9AAAAAAACAOEAAAAAAAIA5QAAAAAAAADlAAAAAAAAAOUAAAAAAAIA8QAAAAAAAgD5AAAAAAACAOkAAAAAAAIA6QAAAAAAAgDdAAAAAAACAO0AAAAAAAAA7QAAAAAAAgDtAAAAAAAAAOEAAAAAAAAA3QAAAAAAAgDxAAAAAAACAQUAAAAAAAAA6QAAAAAAAAEFAAAAAAACAP0AAAAAAAAA6QAAAAAAAgD1AAAAAAAAAPkA=\"},\"shape\":[91],\"dtype\":\"float64\",\"order\":\"little\"}],[\"Weight\",{\"type\":\"ndarray\",\"array\":{\"type\":\"bytes\",\"data\":\"kQoAAOgNAAAvDQAATQ0AADgOAABACwAAjg0AAAkQAACnDQAAJA4AAF8PAAC6CQAA4QoAAKgMAAB7DAAAgw4AALkPAABGDwAAuw0AAA0MAADyDQAA3ggAAG4KAACaCwAAeQ4AAAgMAADdDgAA9wgAAKINAAA1BwAA4gkAAIIKAAAiCwAAlgoAAJcOAAD9DAAAbg8AAJ8GAACrCQAAMQsAAC4JAADgCwAAKQkAADwKAADtCAAARQsAAKAPAAC2DQAAuw0AAG8OAADXDwAAFQkAAIgJAACaCwAAlw4AAGgLAADFDQAAkgkAABoOAAD3CAAAkg4AAPEJAADqCwAABBAAAIAMAABeCwAASgsAAIMOAACODQAAUAoAAC4JAAAPCgAAqAwAAHoNAACnDQAA1woAAL8JAAD9BwAAugkAAA0MAACtBwAABwgAAIYLAADWCwAAyQ4AAMAIAAB4DwAAqQsAAPoKAACpCwAArQwAAA==\"},\"shape\":[91],\"dtype\":\"int32\",\"order\":\"little\"}],[\"Domestic\",{\"type\":\"ndarray\",\"array\":{\"type\":\"bytes\",\"data\":\"AAAAAAAAAAAAAAAAAAAAAAAAAAABAAAAAQAAAAEAAAABAAAAAQAAAAEAAAABAAAAAQAAAAEAAAABAAAAAQAAAAEAAAABAAAAAQAAAAEAAAABAAAAAQAAAAEAAAABAAAAAQAAAAEAAAABAAAAAQAAAAEAAAABAAAAAQAAAAEAAAABAAAAAQAAAAEAAAABAAAAAQAAAAAAAAAAAAAAAAAAAAAAAAAAAAAAAAAAAAAAAAAAAAAAAAAAAAAAAAAAAAAAAAAAAAEAAAABAAAAAAAAAAAAAAAAAAAAAAAAAAAAAAAAAAAAAQAAAAEAAAAAAAAAAAAAAAAAAAAAAAAAAAAAAAAAAAABAAAAAQAAAAEAAAABAAAAAQAAAAEAAAABAAAAAQAAAAEAAAABAAAAAAAAAAEAAAAAAAAAAAAAAAAAAAAAAAAAAAAAAAAAAAAAAAAAAAAAAAAAAAAAAAAAAAAAAAAAAAAAAAAAAAAAAA==\"},\"shape\":[91],\"dtype\":\"int32\",\"order\":\"little\"}]]}}},\"view\":{\"type\":\"object\",\"name\":\"CDSView\",\"id\":\"p18151\",\"attributes\":{\"filter\":{\"type\":\"object\",\"name\":\"AllIndices\",\"id\":\"p18152\"}}},\"glyph\":{\"type\":\"object\",\"name\":\"Scatter\",\"id\":\"p18147\",\"attributes\":{\"x\":{\"type\":\"field\",\"field\":\"Engine\"},\"y\":{\"type\":\"field\",\"field\":\"Tank\"},\"size\":{\"type\":\"value\",\"value\":9},\"line_color\":{\"type\":\"field\",\"field\":\"Type\",\"transform\":{\"type\":\"object\",\"name\":\"CategoricalColorMapper\",\"id\":\"p18140\",\"attributes\":{\"palette\":[\"#1f77b4\",\"#ff7f0e\",\"#2ca02c\",\"#d62728\",\"#9467bd\",\"#8c564b\"],\"factors\":[\"Compact\",\"Large\",\"Midsize\",\"Small\",\"Sporty\",\"Van\"]}}},\"fill_color\":{\"type\":\"field\",\"field\":\"Type\",\"transform\":{\"id\":\"p18140\"}},\"hatch_color\":{\"type\":\"field\",\"field\":\"Type\",\"transform\":{\"id\":\"p18140\"}}}},\"nonselection_glyph\":{\"type\":\"object\",\"name\":\"Scatter\",\"id\":\"p18148\",\"attributes\":{\"x\":{\"type\":\"field\",\"field\":\"Engine\"},\"y\":{\"type\":\"field\",\"field\":\"Tank\"},\"size\":{\"type\":\"value\",\"value\":9},\"line_color\":{\"type\":\"field\",\"field\":\"Type\",\"transform\":{\"id\":\"p18140\"}},\"line_alpha\":{\"type\":\"value\",\"value\":0.1},\"fill_color\":{\"type\":\"field\",\"field\":\"Type\",\"transform\":{\"id\":\"p18140\"}},\"fill_alpha\":{\"type\":\"value\",\"value\":0.1},\"hatch_color\":{\"type\":\"field\",\"field\":\"Type\",\"transform\":{\"id\":\"p18140\"}},\"hatch_alpha\":{\"type\":\"value\",\"value\":0.1}}},\"muted_glyph\":{\"type\":\"object\",\"name\":\"Scatter\",\"id\":\"p18149\",\"attributes\":{\"x\":{\"type\":\"field\",\"field\":\"Engine\"},\"y\":{\"type\":\"field\",\"field\":\"Tank\"},\"size\":{\"type\":\"value\",\"value\":9},\"line_color\":{\"type\":\"field\",\"field\":\"Type\",\"transform\":{\"id\":\"p18140\"}},\"line_alpha\":{\"type\":\"value\",\"value\":0.2},\"fill_color\":{\"type\":\"field\",\"field\":\"Type\",\"transform\":{\"id\":\"p18140\"}},\"fill_alpha\":{\"type\":\"value\",\"value\":0.2},\"hatch_color\":{\"type\":\"field\",\"field\":\"Type\",\"transform\":{\"id\":\"p18140\"}},\"hatch_alpha\":{\"type\":\"value\",\"value\":0.2}}}}}],\"toolbar\":{\"type\":\"object\",\"name\":\"Toolbar\",\"id\":\"p18114\",\"attributes\":{\"tools\":[{\"type\":\"object\",\"name\":\"PanTool\",\"id\":\"p18127\"},{\"type\":\"object\",\"name\":\"WheelZoomTool\",\"id\":\"p18128\",\"attributes\":{\"renderers\":\"auto\"}},{\"type\":\"object\",\"name\":\"BoxZoomTool\",\"id\":\"p18129\",\"attributes\":{\"overlay\":{\"type\":\"object\",\"name\":\"BoxAnnotation\",\"id\":\"p18130\",\"attributes\":{\"syncable\":false,\"line_color\":\"black\",\"line_alpha\":1.0,\"line_width\":2,\"line_dash\":[4,4],\"fill_color\":\"lightgrey\",\"fill_alpha\":0.5,\"level\":\"overlay\",\"visible\":false,\"left\":{\"type\":\"number\",\"value\":\"nan\"},\"right\":{\"type\":\"number\",\"value\":\"nan\"},\"top\":{\"type\":\"number\",\"value\":\"nan\"},\"bottom\":{\"type\":\"number\",\"value\":\"nan\"},\"left_units\":\"canvas\",\"right_units\":\"canvas\",\"top_units\":\"canvas\",\"bottom_units\":\"canvas\",\"handles\":{\"type\":\"object\",\"name\":\"BoxInteractionHandles\",\"id\":\"p18136\",\"attributes\":{\"all\":{\"type\":\"object\",\"name\":\"AreaVisuals\",\"id\":\"p18135\",\"attributes\":{\"fill_color\":\"white\",\"hover_fill_color\":\"lightgray\"}}}}}}}},{\"type\":\"object\",\"name\":\"SaveTool\",\"id\":\"p18137\"},{\"type\":\"object\",\"name\":\"ResetTool\",\"id\":\"p18138\"},{\"type\":\"object\",\"name\":\"HelpTool\",\"id\":\"p18139\"}]}},\"left\":[{\"type\":\"object\",\"name\":\"LinearAxis\",\"id\":\"p18122\",\"attributes\":{\"ticker\":{\"type\":\"object\",\"name\":\"BasicTicker\",\"id\":\"p18123\",\"attributes\":{\"mantissas\":[1,2,5]}},\"formatter\":{\"type\":\"object\",\"name\":\"BasicTickFormatter\",\"id\":\"p18124\"},\"axis_label\":\"Tank\",\"major_label_policy\":{\"type\":\"object\",\"name\":\"AllLabels\",\"id\":\"p18125\"}}}],\"below\":[{\"type\":\"object\",\"name\":\"LinearAxis\",\"id\":\"p18117\",\"attributes\":{\"ticker\":{\"type\":\"object\",\"name\":\"BasicTicker\",\"id\":\"p18118\",\"attributes\":{\"mantissas\":[1,2,5]}},\"formatter\":{\"type\":\"object\",\"name\":\"BasicTickFormatter\",\"id\":\"p18119\"},\"axis_label\":\"Engine\",\"major_label_policy\":{\"type\":\"object\",\"name\":\"AllLabels\",\"id\":\"p18120\"}}}],\"center\":[{\"type\":\"object\",\"name\":\"Grid\",\"id\":\"p18121\",\"attributes\":{\"axis\":{\"id\":\"p18117\"}}},{\"type\":\"object\",\"name\":\"Grid\",\"id\":\"p18126\",\"attributes\":{\"dimension\":1,\"axis\":{\"id\":\"p18122\"}}},{\"type\":\"object\",\"name\":\"Legend\",\"id\":\"p18153\",\"attributes\":{\"location\":\"top_left\",\"title\":\"Car Type\",\"items\":[{\"type\":\"object\",\"name\":\"LegendItem\",\"id\":\"p18154\",\"attributes\":{\"label\":{\"type\":\"field\",\"field\":\"Type\"},\"renderers\":[{\"id\":\"p18150\"}]}}]}}]}},{\"type\":\"object\",\"name\":\"Div\",\"id\":\"p18155\",\"attributes\":{\"width\":600,\"text\":\"<p><strong>Figure:</strong> This plot visualizes the relationship between Engine and Tank, categorized by car type. Lerge cars have larger engine size than Vans</p>\"}}]}}]}};\n  const render_items = [{\"docid\":\"12320895-bf02-4e19-8b2d-49a1229732bf\",\"roots\":{\"p18156\":\"ce4b2fa2-1ca1-40fc-ad64-e64c9f004aa5\"},\"root_ids\":[\"p18156\"]}];\n  void root.Bokeh.embed.embed_items_notebook(docs_json, render_items);\n  }\n  if (root.Bokeh !== undefined) {\n    embed_document(root);\n  } else {\n    let attempts = 0;\n    const timer = setInterval(function(root) {\n      if (root.Bokeh !== undefined) {\n        clearInterval(timer);\n        embed_document(root);\n      } else {\n        attempts++;\n        if (attempts > 100) {\n          clearInterval(timer);\n          console.log(\"Bokeh: ERROR: Unable to run BokehJS code because BokehJS library is missing\");\n        }\n      }\n    }, 10, root)\n  }\n})(window);",
            "application/vnd.bokehjs_exec.v0+json": ""
          },
          "metadata": {
            "application/vnd.bokehjs_exec.v0+json": {
              "id": "p18156"
            }
          },
          "output_type": "display_data"
        }
      ],
      "source": [
        "from bokeh.plotting import figure, show\n",
        "from bokeh.models import ColumnDataSource, Div, Column\n",
        "from bokeh.transform import factor_cmap\n",
        "from bokeh.palettes import Category10\n",
        "from bokeh.layouts import column\n",
        "\n",
        "\n",
        "x, y = 'Engine', 'Tank'\n",
        "\n",
        "# Create scatterplot: Weight vs Price\n",
        "p = figure(title=f\"{x} vs {y}: Distinguishing Large Cars and Vans\", width=600, height=600)\n",
        "p.scatter(x=x, y=y, source=cars, size=9, legend_field='Type',\n",
        "          color=factor_cmap('Type', palette=palette, factors=factors))\n",
        "\n",
        "# Add axis labels\n",
        "p.xaxis.axis_label = x\n",
        "p.yaxis.axis_label = y\n",
        "\n",
        "# Customize legend\n",
        "p.legend.title = \"Car Type\"\n",
        "p.legend.location = \"top_left\"\n",
        "\n",
        "# Create the caption\n",
        "caption = Div(text=f\"<p><strong>Figure:</strong> This plot visualizes the relationship between {x} and {y}, categorized by car type. \"\n",
        "                   \"Lerge cars have larger engine size than Vans</p>\",\n",
        "              width=600)\n",
        "\n",
        "# Arrange the plot and caption together\n",
        "layout = column(p, caption)\n",
        "\n",
        "show(layout)\n",
        "\n"
      ]
    }
  ],
  "metadata": {
    "colab": {
      "provenance": []
    },
    "kernelspec": {
      "display_name": "Python 3",
      "language": "python",
      "name": "python3"
    },
    "language_info": {
      "codemirror_mode": {
        "name": "ipython",
        "version": 3
      },
      "file_extension": ".py",
      "mimetype": "text/x-python",
      "name": "python",
      "nbconvert_exporter": "python",
      "pygments_lexer": "ipython3",
      "version": "3.10.13"
    }
  },
  "nbformat": 4,
  "nbformat_minor": 0
}
