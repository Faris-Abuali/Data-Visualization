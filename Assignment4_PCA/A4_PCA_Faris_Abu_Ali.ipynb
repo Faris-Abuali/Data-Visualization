{
 "cells": [
  {
   "cell_type": "markdown",
   "metadata": {
    "id": "vfzmaN9_Ad15"
   },
   "source": [
    "**Course**: Data Visualization (Prof. Dr. Heike Leitte, Luisa Vollmer, RPTU Kaiserslautern),   **Name**: Faris Abu Ali,   **Date**: 08.01.2025"
   ]
  },
  {
   "cell_type": "markdown",
   "metadata": {
    "id": "nrX1sGW8Ad16"
   },
   "source": [
    "<div class=\"alert alert-info\">\n",
    "\n",
    "    \n",
    "# Assignment 4 - Principal Component Analysis (PCA)\n",
    "</div>\n",
    "\n",
    "\n",
    "### Outline and goals\n",
    "\n",
    "In the fourth assignment, we will explore a cars dataset using principal component analysis. Each car is described by 25 variables. The dataset contains six types of cars and we would like to understand how they are different. The goal of this assignment is that you are able to:\n",
    "- explore high-dimensional data with many variables\n",
    "- compute and interpret PCA\n",
    "- charactize groups in the PCA plot\n",
    "- find patterns and outliers in data with many variables\n",
    "\n",
    "<div class=\"alert alert-danger\">\n",
    "\n",
    "**Important**: While no points will be awarded for typing the correct answers in the notebooks, it is highly advised to solve the tasks thoroughly. They are designed to be encouraging and provide you with valuable learnings for the exam, understanding of the methods and practical coding.\n",
    "</div>\n",
    "\n",
    "<div class=\"alert alert-success\">\n",
    "    \n",
    "All tasks in this notebook are marked in green.\n",
    "</div>"
   ]
  },
  {
   "cell_type": "code",
   "execution_count": 13,
   "metadata": {
    "ExecuteTime": {
     "end_time": "2025-03-18T23:03:30.663742Z",
     "start_time": "2025-03-18T23:03:27.414614Z"
    }
   },
   "outputs": [
    {
     "name": "stderr",
     "output_type": "stream",
     "text": [
      "\n",
      "[notice] A new release of pip is available: 23.2.1 -> 25.0.1\n",
      "[notice] To update, run: python.exe -m pip install --upgrade pip\n"
     ]
    }
   ],
   "source": [
    "!pip install scikit-learn pandas numpy bokeh seaborn -q"
   ]
  },
  {
   "cell_type": "code",
   "execution_count": 14,
   "metadata": {
    "ExecuteTime": {
     "end_time": "2025-03-18T23:06:39.369018Z",
     "start_time": "2025-03-18T23:06:39.335362Z"
    },
    "id": "XOBGaidqAd17"
   },
   "outputs": [
    {
     "data": {
      "text/html": [
       "    <style>\n",
       "        .bk-notebook-logo {\n",
       "            display: block;\n",
       "            width: 20px;\n",
       "            height: 20px;\n",
       "            background-image: url(data:image/png;base64,iVBORw0KGgoAAAANSUhEUgAAABQAAAAUCAYAAACNiR0NAAAABHNCSVQICAgIfAhkiAAAAAlwSFlzAAALEgAACxIB0t1+/AAAABx0RVh0U29mdHdhcmUAQWRvYmUgRmlyZXdvcmtzIENTNui8sowAAAOkSURBVDiNjZRtaJVlGMd/1/08zzln5zjP1LWcU9N0NkN8m2CYjpgQYQXqSs0I84OLIC0hkEKoPtiH3gmKoiJDU7QpLgoLjLIQCpEsNJ1vqUOdO7ppbuec5+V+rj4ctwzd8IIbbi6u+8f1539dt3A78eXC7QizUF7gyV1fD1Yqg4JWz84yffhm0qkFqBogB9rM8tZdtwVsPUhWhGcFJngGeWrPzHm5oaMmkfEg1usvLFyc8jLRqDOMru7AyC8saQr7GG7f5fvDeH7Ej8CM66nIF+8yngt6HWaKh7k49Soy9nXurCi1o3qUbS3zWfrYeQDTB/Qj6kX6Ybhw4B+bOYoLKCC9H3Nu/leUTZ1JdRWkkn2ldcCamzrcf47KKXdAJllSlxAOkRgyHsGC/zRday5Qld9DyoM4/q/rUoy/CXh3jzOu3bHUVZeU+DEn8FInkPBFlu3+nW3Nw0mk6vCDiWg8CeJaxEwuHS3+z5RgY+YBR6V1Z1nxSOfoaPa4LASWxxdNp+VWTk7+4vzaou8v8PN+xo+KY2xsw6une2frhw05CTYOmQvsEhjhWjn0bmXPjpE1+kplmmkP3suftwTubK9Vq22qKmrBhpY4jvd5afdRA3wGjFAgcnTK2s4hY0/GPNIb0nErGMCRxWOOX64Z8RAC4oCXdklmEvcL8o0BfkNK4lUg9HTl+oPlQxdNo3Mg4Nv175e/1LDGzZen30MEjRUtmXSfiTVu1kK8W4txyV6BMKlbgk3lMwYCiusNy9fVfvvwMxv8Ynl6vxoByANLTWplvuj/nF9m2+PDtt1eiHPBr1oIfhCChQMBw6Aw0UulqTKZdfVvfG7VcfIqLG9bcldL/+pdWTLxLUy8Qq38heUIjh4XlzZxzQm19lLFlr8vdQ97rjZVOLf8nclzckbcD4wxXMidpX30sFd37Fv/GtwwhzhxGVAprjbg0gCAEeIgwCZyTV2Z1REEW8O4py0wsjeloKoMr6iCY6dP92H6Vw/oTyICIthibxjm/DfN9lVz8IqtqKYLUXfoKVMVQVVJOElGjrnnUt9T9wbgp8AyYKaGlqingHZU/uG2NTZSVqwHQTWkx9hxjkpWDaCg6Ckj5qebgBVbT3V3NNXMSiWSDdGV3hrtzla7J+duwPOToIg42ChPQOQjspnSlp1V+Gjdged7+8UN5CRAV7a5EdFNwCjEaBR27b3W890TE7g24NAP/mMDXRWrGoFPQI9ls/MWO2dWFAar/xcOIImbbpA3zgAAAABJRU5ErkJggg==);\n",
       "        }\n",
       "    </style>\n",
       "    <div>\n",
       "        <a href=\"https://bokeh.org\" target=\"_blank\" class=\"bk-notebook-logo\"></a>\n",
       "        <span id=\"af589bf3-b2f1-4b4a-8a8c-0cdf77a39bd0\">Loading BokehJS ...</span>\n",
       "    </div>\n"
      ]
     },
     "metadata": {},
     "output_type": "display_data"
    },
    {
     "data": {
      "application/javascript": "'use strict';\n(function(root) {\n  function now() {\n    return new Date();\n  }\n\n  const force = true;\n\n  if (typeof root._bokeh_onload_callbacks === \"undefined\" || force === true) {\n    root._bokeh_onload_callbacks = [];\n    root._bokeh_is_loading = undefined;\n  }\n\nconst JS_MIME_TYPE = 'application/javascript';\n  const HTML_MIME_TYPE = 'text/html';\n  const EXEC_MIME_TYPE = 'application/vnd.bokehjs_exec.v0+json';\n  const CLASS_NAME = 'output_bokeh rendered_html';\n\n  /**\n   * Render data to the DOM node\n   */\n  function render(props, node) {\n    const script = document.createElement(\"script\");\n    node.appendChild(script);\n  }\n\n  /**\n   * Handle when an output is cleared or removed\n   */\n  function handleClearOutput(event, handle) {\n    function drop(id) {\n      const view = Bokeh.index.get_by_id(id)\n      if (view != null) {\n        view.model.document.clear()\n        Bokeh.index.delete(view)\n      }\n    }\n\n    const cell = handle.cell;\n\n    const id = cell.output_area._bokeh_element_id;\n    const server_id = cell.output_area._bokeh_server_id;\n\n    // Clean up Bokeh references\n    if (id != null) {\n      drop(id)\n    }\n\n    if (server_id !== undefined) {\n      // Clean up Bokeh references\n      const cmd_clean = \"from bokeh.io.state import curstate; print(curstate().uuid_to_server['\" + server_id + \"'].get_sessions()[0].document.roots[0]._id)\";\n      cell.notebook.kernel.execute(cmd_clean, {\n        iopub: {\n          output: function(msg) {\n            const id = msg.content.text.trim()\n            drop(id)\n          }\n        }\n      });\n      // Destroy server and session\n      const cmd_destroy = \"import bokeh.io.notebook as ion; ion.destroy_server('\" + server_id + \"')\";\n      cell.notebook.kernel.execute(cmd_destroy);\n    }\n  }\n\n  /**\n   * Handle when a new output is added\n   */\n  function handleAddOutput(event, handle) {\n    const output_area = handle.output_area;\n    const output = handle.output;\n\n    // limit handleAddOutput to display_data with EXEC_MIME_TYPE content only\n    if ((output.output_type != \"display_data\") || (!Object.prototype.hasOwnProperty.call(output.data, EXEC_MIME_TYPE))) {\n      return\n    }\n\n    const toinsert = output_area.element.find(\".\" + CLASS_NAME.split(' ')[0]);\n\n    if (output.metadata[EXEC_MIME_TYPE][\"id\"] !== undefined) {\n      toinsert[toinsert.length - 1].firstChild.textContent = output.data[JS_MIME_TYPE];\n      // store reference to embed id on output_area\n      output_area._bokeh_element_id = output.metadata[EXEC_MIME_TYPE][\"id\"];\n    }\n    if (output.metadata[EXEC_MIME_TYPE][\"server_id\"] !== undefined) {\n      const bk_div = document.createElement(\"div\");\n      bk_div.innerHTML = output.data[HTML_MIME_TYPE];\n      const script_attrs = bk_div.children[0].attributes;\n      for (let i = 0; i < script_attrs.length; i++) {\n        toinsert[toinsert.length - 1].firstChild.setAttribute(script_attrs[i].name, script_attrs[i].value);\n        toinsert[toinsert.length - 1].firstChild.textContent = bk_div.children[0].textContent\n      }\n      // store reference to server id on output_area\n      output_area._bokeh_server_id = output.metadata[EXEC_MIME_TYPE][\"server_id\"];\n    }\n  }\n\n  function register_renderer(events, OutputArea) {\n\n    function append_mime(data, metadata, element) {\n      // create a DOM node to render to\n      const toinsert = this.create_output_subarea(\n        metadata,\n        CLASS_NAME,\n        EXEC_MIME_TYPE\n      );\n      this.keyboard_manager.register_events(toinsert);\n      // Render to node\n      const props = {data: data, metadata: metadata[EXEC_MIME_TYPE]};\n      render(props, toinsert[toinsert.length - 1]);\n      element.append(toinsert);\n      return toinsert\n    }\n\n    /* Handle when an output is cleared or removed */\n    events.on('clear_output.CodeCell', handleClearOutput);\n    events.on('delete.Cell', handleClearOutput);\n\n    /* Handle when a new output is added */\n    events.on('output_added.OutputArea', handleAddOutput);\n\n    /**\n     * Register the mime type and append_mime function with output_area\n     */\n    OutputArea.prototype.register_mime_type(EXEC_MIME_TYPE, append_mime, {\n      /* Is output safe? */\n      safe: true,\n      /* Index of renderer in `output_area.display_order` */\n      index: 0\n    });\n  }\n\n  // register the mime type if in Jupyter Notebook environment and previously unregistered\n  if (root.Jupyter !== undefined) {\n    const events = require('base/js/events');\n    const OutputArea = require('notebook/js/outputarea').OutputArea;\n\n    if (OutputArea.prototype.mime_types().indexOf(EXEC_MIME_TYPE) == -1) {\n      register_renderer(events, OutputArea);\n    }\n  }\n  if (typeof (root._bokeh_timeout) === \"undefined\" || force === true) {\n    root._bokeh_timeout = Date.now() + 5000;\n    root._bokeh_failed_load = false;\n  }\n\n  const NB_LOAD_WARNING = {'data': {'text/html':\n     \"<div style='background-color: #fdd'>\\n\"+\n     \"<p>\\n\"+\n     \"BokehJS does not appear to have successfully loaded. If loading BokehJS from CDN, this \\n\"+\n     \"may be due to a slow or bad network connection. Possible fixes:\\n\"+\n     \"</p>\\n\"+\n     \"<ul>\\n\"+\n     \"<li>re-rerun `output_notebook()` to attempt to load from CDN again, or</li>\\n\"+\n     \"<li>use INLINE resources instead, as so:</li>\\n\"+\n     \"</ul>\\n\"+\n     \"<code>\\n\"+\n     \"from bokeh.resources import INLINE\\n\"+\n     \"output_notebook(resources=INLINE)\\n\"+\n     \"</code>\\n\"+\n     \"</div>\"}};\n\n  function display_loaded(error = null) {\n    const el = document.getElementById(\"af589bf3-b2f1-4b4a-8a8c-0cdf77a39bd0\");\n    if (el != null) {\n      const html = (() => {\n        if (typeof root.Bokeh === \"undefined\") {\n          if (error == null) {\n            return \"BokehJS is loading ...\";\n          } else {\n            return \"BokehJS failed to load.\";\n          }\n        } else {\n          const prefix = `BokehJS ${root.Bokeh.version}`;\n          if (error == null) {\n            return `${prefix} successfully loaded.`;\n          } else {\n            return `${prefix} <b>encountered errors</b> while loading and may not function as expected.`;\n          }\n        }\n      })();\n      el.innerHTML = html;\n\n      if (error != null) {\n        const wrapper = document.createElement(\"div\");\n        wrapper.style.overflow = \"auto\";\n        wrapper.style.height = \"5em\";\n        wrapper.style.resize = \"vertical\";\n        const content = document.createElement(\"div\");\n        content.style.fontFamily = \"monospace\";\n        content.style.whiteSpace = \"pre-wrap\";\n        content.style.backgroundColor = \"rgb(255, 221, 221)\";\n        content.textContent = error.stack ?? error.toString();\n        wrapper.append(content);\n        el.append(wrapper);\n      }\n    } else if (Date.now() < root._bokeh_timeout) {\n      setTimeout(() => display_loaded(error), 100);\n    }\n  }\n\n  function run_callbacks() {\n    try {\n      root._bokeh_onload_callbacks.forEach(function(callback) {\n        if (callback != null)\n          callback();\n      });\n    } finally {\n      delete root._bokeh_onload_callbacks\n    }\n    console.debug(\"Bokeh: all callbacks have finished\");\n  }\n\n  function load_libs(css_urls, js_urls, callback) {\n    if (css_urls == null) css_urls = [];\n    if (js_urls == null) js_urls = [];\n\n    root._bokeh_onload_callbacks.push(callback);\n    if (root._bokeh_is_loading > 0) {\n      console.debug(\"Bokeh: BokehJS is being loaded, scheduling callback at\", now());\n      return null;\n    }\n    if (js_urls == null || js_urls.length === 0) {\n      run_callbacks();\n      return null;\n    }\n    console.debug(\"Bokeh: BokehJS not loaded, scheduling load and callback at\", now());\n    root._bokeh_is_loading = css_urls.length + js_urls.length;\n\n    function on_load() {\n      root._bokeh_is_loading--;\n      if (root._bokeh_is_loading === 0) {\n        console.debug(\"Bokeh: all BokehJS libraries/stylesheets loaded\");\n        run_callbacks()\n      }\n    }\n\n    function on_error(url) {\n      console.error(\"failed to load \" + url);\n    }\n\n    for (let i = 0; i < css_urls.length; i++) {\n      const url = css_urls[i];\n      const element = document.createElement(\"link\");\n      element.onload = on_load;\n      element.onerror = on_error.bind(null, url);\n      element.rel = \"stylesheet\";\n      element.type = \"text/css\";\n      element.href = url;\n      console.debug(\"Bokeh: injecting link tag for BokehJS stylesheet: \", url);\n      document.body.appendChild(element);\n    }\n\n    for (let i = 0; i < js_urls.length; i++) {\n      const url = js_urls[i];\n      const element = document.createElement('script');\n      element.onload = on_load;\n      element.onerror = on_error.bind(null, url);\n      element.async = false;\n      element.src = url;\n      console.debug(\"Bokeh: injecting script tag for BokehJS library: \", url);\n      document.head.appendChild(element);\n    }\n  };\n\n  function inject_raw_css(css) {\n    const element = document.createElement(\"style\");\n    element.appendChild(document.createTextNode(css));\n    document.body.appendChild(element);\n  }\n\n  const js_urls = [\"https://cdn.bokeh.org/bokeh/release/bokeh-3.7.0.min.js\", \"https://cdn.bokeh.org/bokeh/release/bokeh-gl-3.7.0.min.js\", \"https://cdn.bokeh.org/bokeh/release/bokeh-widgets-3.7.0.min.js\", \"https://cdn.bokeh.org/bokeh/release/bokeh-tables-3.7.0.min.js\", \"https://cdn.bokeh.org/bokeh/release/bokeh-mathjax-3.7.0.min.js\"];\n  const css_urls = [];\n\n  const inline_js = [    function(Bokeh) {\n      Bokeh.set_log_level(\"info\");\n    },\nfunction(Bokeh) {\n    }\n  ];\n\n  function run_inline_js() {\n    if (root.Bokeh !== undefined || force === true) {\n      try {\n            for (let i = 0; i < inline_js.length; i++) {\n      inline_js[i].call(root, root.Bokeh);\n    }\n\n      } catch (error) {display_loaded(error);throw error;\n      }if (force === true) {\n        display_loaded();\n      }} else if (Date.now() < root._bokeh_timeout) {\n      setTimeout(run_inline_js, 100);\n    } else if (!root._bokeh_failed_load) {\n      console.log(\"Bokeh: BokehJS failed to load within specified timeout.\");\n      root._bokeh_failed_load = true;\n    } else if (force !== true) {\n      const cell = $(document.getElementById(\"af589bf3-b2f1-4b4a-8a8c-0cdf77a39bd0\")).parents('.cell').data().cell;\n      cell.output_area.append_execute_result(NB_LOAD_WARNING)\n    }\n  }\n\n  if (root._bokeh_is_loading === 0) {\n    console.debug(\"Bokeh: BokehJS loaded, going straight to plotting\");\n    run_inline_js();\n  } else {\n    load_libs(css_urls, js_urls, function() {\n      console.debug(\"Bokeh: BokehJS plotting callback run at\", now());\n      run_inline_js();\n    });\n  }\n}(window));",
      "application/vnd.bokehjs_load.v0+json": ""
     },
     "metadata": {},
     "output_type": "display_data"
    }
   ],
   "source": [
    "import pandas as pd\n",
    "import numpy as np\n",
    "\n",
    "from sklearn.decomposition import PCA\n",
    "from sklearn.preprocessing import StandardScaler\n",
    "\n",
    "from bokeh.models import ColumnDataSource, ColorBar, LinearColorMapper, CategoricalColorMapper\n",
    "from bokeh.models import Arrow, NormalHead, LabelSet, Label\n",
    "from bokeh.plotting import figure, output_notebook, show\n",
    "from bokeh.palettes import Category10, Category20, Viridis\n",
    "from bokeh.transform import factor_cmap, linear_cmap\n",
    "from bokeh.io import export_png\n",
    "from bokeh.layouts import gridplot, row\n",
    "from bokeh.core.properties import value\n",
    "from bokeh.models.tickers import FixedTicker\n",
    "\n",
    "from math import pi\n",
    "\n",
    "output_notebook()"
   ]
  },
  {
   "cell_type": "markdown",
   "metadata": {
    "id": "wiDoDOjIAd18"
   },
   "source": [
    "<div class=\"alert alert-info\">\n",
    "    \n",
    "## 1. Load the 1993 cars dataset\n",
    "</div>\n",
    "\n",
    "First, we load the data and handle missing values. We ignore the variable LUGGAGE CAPACITY which has no information for vans and some missing values. We also drop two cars with missing values.\n",
    "\n",
    "Description of variables:\n",
    "- Manufacturer\n",
    "- Model\n",
    "- Type: Small, Sporty, Compact, Midsize, Large, Van\n",
    "- Minimum Price (in \\$1,000) - Price for basic version of this model\n",
    "- Midrange Price (in \\$1,000) - Average of Min and Max prices\n",
    "- Maximum Price (in \\$1,000) - Price for a premium version\n",
    "- City MPG (miles per gallon by EPA rating)\n",
    "- Highway MPG\n",
    "- Air Bags standard 0 = none, 1 = driver only, 2 = driver & passenger\n",
    "- Drive train type 0 = rear wheel drive 1 = front wheel drive 2 = all wheel drive\n",
    "- Number of cylinders\n",
    "- Engine size (liters)\n",
    "- Horsepower (maximum)\n",
    "- RPM (revs per minute at maximum horsepower)\n",
    "- Engine revolutions per mile (in highest gear)\n",
    "- Manual transmission available 0 = No, 1 = Yes\n",
    "- Fuel tank capacity (gallons)\n",
    "- Passenger capacity (persons)\n",
    "- Length (inches)\n",
    "- Wheelbase (inches)\n",
    "- Width (inches)\n",
    "- U-turn space (feet)\n",
    "- Rear seat room (inches)\n",
    "- Luggage capacity (cu. ft.)\n",
    "- Weight (pounds)\n",
    "- Domestic? 0 = non-U.S. manufacturer 1 = U.S. manufacturer"
   ]
  },
  {
   "cell_type": "code",
   "execution_count": 15,
   "metadata": {
    "colab": {
     "base_uri": "https://localhost:8080/"
    },
    "id": "phhNY1WBAd19",
    "outputId": "4d51f60e-da91-42a7-d134-17e759594e6a"
   },
   "outputs": [
    {
     "name": "stdout",
     "output_type": "stream",
     "text": [
      "size of input dataframe (93, 26)\n",
      "size after removing NaN (91, 25)\n",
      "variables in dataframe: ['Manufacturer', 'Model', 'Type', 'MinPrice', 'MidPrice', 'MaxPrice', 'CityMpg', 'HighwayMpg', 'AirBags', 'DriveTrainType', 'Cylinders', 'Engine', 'Horsepower', 'RPM', 'EngineRev', 'ManTrans', 'Tank', 'Passenger', 'Length', 'Wheelbase', 'Width', 'UTurn', 'RearSeatRoom', 'Weight', 'Domestic']\n"
     ]
    }
   ],
   "source": [
    "# load the data\n",
    "cars = pd.read_csv( '93cars.dat.csv', sep='\\s+', na_values='*')\n",
    "print(\"size of input dataframe\", cars.shape)\n",
    "\n",
    "\n",
    "# substitute missing values\n",
    "cars.drop(['LuggageCapacity'], axis=1, inplace=True)\n",
    "cars.dropna(inplace=True)\n",
    "cars.reset_index(inplace=True, drop=True)\n",
    "\n",
    "print(\"size after removing NaN\", cars.shape)\n",
    "print(\"variables in dataframe:\", list(cars))"
   ]
  },
  {
   "cell_type": "markdown",
   "metadata": {
    "id": "qB33BBPPAd19"
   },
   "source": [
    "First render the entire data using seaborn and its scatterplot matrix function. This may take very long and you have a pdf-export in your folder. No need to run this code, unless you would like to see it in the notebook and try."
   ]
  },
  {
   "cell_type": "code",
   "execution_count": 16,
   "metadata": {
    "id": "LEMhzvPYAd19"
   },
   "outputs": [],
   "source": [
    "import seaborn as sns\n",
    "\n",
    "# This could take a while\n",
    "# sns_plot = sns.pairplot(cars, hue=\"Type\")\n",
    "\n",
    "# uncomment to export plot\n",
    "#sns_plot.savefig(\"cars93_SPLOM.pdf\") # SPLOM = Scatter Plot Matrix"
   ]
  },
  {
   "cell_type": "markdown",
   "metadata": {
    "id": "7pLdiaCRAd1-"
   },
   "source": [
    "<div class=\"alert alert-info\">\n",
    "    \n",
    "## 2. Understand the variables\n",
    "</div>\n",
    "\n",
    "Each car is described by a long list of variables and analyzing them individually and pair-wise will take a long time. In this assignment we will first reduce the dimensionality of the dataset and then analyze it.\n",
    "\n",
    "### Explore scatterplot matrix\n",
    "\n",
    "<div class=\"alert alert-success\">\n",
    "    \n",
    "To understand the problem take a look at the scatterplot matrix provided in your data folder ([cars93_SPLOM.pdf](cars93_SPLOM.pdf)). What can you tell about small cars? (blue points, color legend is on the right) (no answer required and don't spend more than a few minutes)\n",
    "</div>\n",
    "\n",
    "### Explore correlation matrix\n",
    "\n",
    "Your first task is to find groups of variables that belong together and understand their connection.\n",
    "Therefore, we compute [linear correlation](https://pandas.pydata.org/pandas-docs/stable/reference/api/pandas.DataFrame.corr.html) as provided by pandas. As bokeh requires the input as a linear array, we also linearize the matrix."
   ]
  },
  {
   "cell_type": "code",
   "execution_count": 17,
   "metadata": {
    "colab": {
     "base_uri": "https://localhost:8080/",
     "height": 424
    },
    "id": "W8Z3i-tOAd1-",
    "outputId": "b7000f9f-07a1-4a33-c190-fee57ae58110"
   },
   "outputs": [
    {
     "data": {
      "text/html": [
       "<div>\n",
       "<style scoped>\n",
       "    .dataframe tbody tr th:only-of-type {\n",
       "        vertical-align: middle;\n",
       "    }\n",
       "\n",
       "    .dataframe tbody tr th {\n",
       "        vertical-align: top;\n",
       "    }\n",
       "\n",
       "    .dataframe thead th {\n",
       "        text-align: right;\n",
       "    }\n",
       "</style>\n",
       "<table border=\"1\" class=\"dataframe\">\n",
       "  <thead>\n",
       "    <tr style=\"text-align: right;\">\n",
       "      <th></th>\n",
       "      <th>index</th>\n",
       "      <th>variable</th>\n",
       "      <th>value</th>\n",
       "      <th>size</th>\n",
       "    </tr>\n",
       "  </thead>\n",
       "  <tbody>\n",
       "    <tr>\n",
       "      <th>0</th>\n",
       "      <td>MinPrice</td>\n",
       "      <td>MinPrice</td>\n",
       "      <td>1.000000</td>\n",
       "      <td>17.000000</td>\n",
       "    </tr>\n",
       "    <tr>\n",
       "      <th>1</th>\n",
       "      <td>MidPrice</td>\n",
       "      <td>MinPrice</td>\n",
       "      <td>0.969497</td>\n",
       "      <td>16.481444</td>\n",
       "    </tr>\n",
       "    <tr>\n",
       "      <th>2</th>\n",
       "      <td>MaxPrice</td>\n",
       "      <td>MinPrice</td>\n",
       "      <td>0.904767</td>\n",
       "      <td>15.381047</td>\n",
       "    </tr>\n",
       "    <tr>\n",
       "      <th>3</th>\n",
       "      <td>CityMpg</td>\n",
       "      <td>MinPrice</td>\n",
       "      <td>-0.613667</td>\n",
       "      <td>10.432340</td>\n",
       "    </tr>\n",
       "    <tr>\n",
       "      <th>4</th>\n",
       "      <td>HighwayMpg</td>\n",
       "      <td>MinPrice</td>\n",
       "      <td>-0.574668</td>\n",
       "      <td>9.769355</td>\n",
       "    </tr>\n",
       "    <tr>\n",
       "      <th>...</th>\n",
       "      <td>...</td>\n",
       "      <td>...</td>\n",
       "      <td>...</td>\n",
       "      <td>...</td>\n",
       "    </tr>\n",
       "    <tr>\n",
       "      <th>479</th>\n",
       "      <td>Width</td>\n",
       "      <td>Domestic</td>\n",
       "      <td>0.428959</td>\n",
       "      <td>7.292298</td>\n",
       "    </tr>\n",
       "    <tr>\n",
       "      <th>480</th>\n",
       "      <td>UTurn</td>\n",
       "      <td>Domestic</td>\n",
       "      <td>0.480740</td>\n",
       "      <td>8.172585</td>\n",
       "    </tr>\n",
       "    <tr>\n",
       "      <th>481</th>\n",
       "      <td>RearSeatRoom</td>\n",
       "      <td>Domestic</td>\n",
       "      <td>0.103606</td>\n",
       "      <td>1.761307</td>\n",
       "    </tr>\n",
       "    <tr>\n",
       "      <th>482</th>\n",
       "      <td>Weight</td>\n",
       "      <td>Domestic</td>\n",
       "      <td>0.209338</td>\n",
       "      <td>3.558746</td>\n",
       "    </tr>\n",
       "    <tr>\n",
       "      <th>483</th>\n",
       "      <td>Domestic</td>\n",
       "      <td>Domestic</td>\n",
       "      <td>1.000000</td>\n",
       "      <td>17.000000</td>\n",
       "    </tr>\n",
       "  </tbody>\n",
       "</table>\n",
       "<p>484 rows × 4 columns</p>\n",
       "</div>"
      ],
      "text/plain": [
       "            index  variable     value       size\n",
       "0        MinPrice  MinPrice  1.000000  17.000000\n",
       "1        MidPrice  MinPrice  0.969497  16.481444\n",
       "2        MaxPrice  MinPrice  0.904767  15.381047\n",
       "3         CityMpg  MinPrice -0.613667  10.432340\n",
       "4      HighwayMpg  MinPrice -0.574668   9.769355\n",
       "..            ...       ...       ...        ...\n",
       "479         Width  Domestic  0.428959   7.292298\n",
       "480         UTurn  Domestic  0.480740   8.172585\n",
       "481  RearSeatRoom  Domestic  0.103606   1.761307\n",
       "482        Weight  Domestic  0.209338   3.558746\n",
       "483      Domestic  Domestic  1.000000  17.000000\n",
       "\n",
       "[484 rows x 4 columns]"
      ]
     },
     "execution_count": 17,
     "metadata": {},
     "output_type": "execute_result"
    }
   ],
   "source": [
    "# compute Pearson correlation\n",
    "corr = cars.corr(method='pearson', numeric_only=True)\n",
    "# print(\"correlation matrix:\\n\", corr)\n",
    "variables = list(corr)\n",
    "# print(\"variables in correlation matrix:\", variables)\n",
    "\n",
    "# linearize the correlation matrix\n",
    "lin_corr = pd.melt(corr.assign(index=corr.index), id_vars=['index'])\n",
    "# print(lin_corr)\n",
    "lin_corr['size'] = [abs(val)*17 for val in lin_corr.value] # multiply by 17 only for plotting purpose below. This makes the squares larger\n",
    "\n",
    "corr\n",
    "lin_corr\n",
    "# lin_corr[lin_corr['index'] == 'MinPrice']"
   ]
  },
  {
   "cell_type": "markdown",
   "metadata": {
    "id": "E3BivDPSAd1-"
   },
   "source": [
    "The following code renders a correlation matrix using bokeh. For each pair of variables, the correlation is represented by a colored square. Size and color encode the amount of linear correlation. Large red squares indicate strong positive correlation, large blue squares strong negative correlation."
   ]
  },
  {
   "cell_type": "code",
   "execution_count": 18,
   "metadata": {
    "colab": {
     "base_uri": "https://localhost:8080/",
     "height": 717
    },
    "id": "ozc_K9ZiAd1_",
    "outputId": "a2730fc2-c70f-4dcd-f45d-561bd275e53d"
   },
   "outputs": [
    {
     "data": {
      "text/html": [
       "\n",
       "  <div id=\"bb62820a-f855-40d2-a56d-dbff77627461\" data-root-id=\"p1001\" style=\"display: contents;\"></div>\n"
      ]
     },
     "metadata": {},
     "output_type": "display_data"
    },
    {
     "data": {
      "application/javascript": "(function(root) {\n  function embed_document(root) {\n  const docs_json = {\"648646cf-4e93-44dd-9e28-46cf2f114b9d\":{\"version\":\"3.7.0\",\"title\":\"Bokeh Application\",\"roots\":[{\"type\":\"object\",\"name\":\"Figure\",\"id\":\"p1001\",\"attributes\":{\"width\":800,\"height\":700,\"x_range\":{\"type\":\"object\",\"name\":\"FactorRange\",\"id\":\"p1011\",\"attributes\":{\"factors\":[\"MinPrice\",\"MidPrice\",\"MaxPrice\",\"CityMpg\",\"HighwayMpg\",\"AirBags\",\"DriveTrainType\",\"Cylinders\",\"Engine\",\"Horsepower\",\"RPM\",\"EngineRev\",\"ManTrans\",\"Tank\",\"Passenger\",\"Length\",\"Wheelbase\",\"Width\",\"UTurn\",\"RearSeatRoom\",\"Weight\",\"Domestic\"]}},\"y_range\":{\"type\":\"object\",\"name\":\"FactorRange\",\"id\":\"p1012\",\"attributes\":{\"factors\":[\"MinPrice\",\"MidPrice\",\"MaxPrice\",\"CityMpg\",\"HighwayMpg\",\"AirBags\",\"DriveTrainType\",\"Cylinders\",\"Engine\",\"Horsepower\",\"RPM\",\"EngineRev\",\"ManTrans\",\"Tank\",\"Passenger\",\"Length\",\"Wheelbase\",\"Width\",\"UTurn\",\"RearSeatRoom\",\"Weight\",\"Domestic\"]}},\"x_scale\":{\"type\":\"object\",\"name\":\"CategoricalScale\",\"id\":\"p1013\"},\"y_scale\":{\"type\":\"object\",\"name\":\"CategoricalScale\",\"id\":\"p1014\"},\"title\":{\"type\":\"object\",\"name\":\"Title\",\"id\":\"p1004\",\"attributes\":{\"text\":\"Correlation matrix\"}},\"renderers\":[{\"type\":\"object\",\"name\":\"GlyphRenderer\",\"id\":\"p1048\",\"attributes\":{\"data_source\":{\"type\":\"object\",\"name\":\"ColumnDataSource\",\"id\":\"p1039\",\"attributes\":{\"selected\":{\"type\":\"object\",\"name\":\"Selection\",\"id\":\"p1040\",\"attributes\":{\"indices\":[],\"line_indices\":[]}},\"selection_policy\":{\"type\":\"object\",\"name\":\"UnionRenderers\",\"id\":\"p1041\"},\"data\":{\"type\":\"map\",\"entries\":[[\"level_0\",{\"type\":\"ndarray\",\"array\":{\"type\":\"bytes\",\"data\":\"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\"},\"shape\":[484],\"dtype\":\"int32\",\"order\":\"little\"}],[\"index\",{\"type\":\"ndarray\",\"array\":[\"MinPrice\",\"MidPrice\",\"MaxPrice\",\"CityMpg\",\"HighwayMpg\",\"AirBags\",\"DriveTrainType\",\"Cylinders\",\"Engine\",\"Horsepower\",\"RPM\",\"EngineRev\",\"ManTrans\",\"Tank\",\"Passenger\",\"Length\",\"Wheelbase\",\"Width\",\"UTurn\",\"RearSeatRoom\",\"Weight\",\"Domestic\",\"MinPrice\",\"MidPrice\",\"MaxPrice\",\"CityMpg\",\"HighwayMpg\",\"AirBags\",\"DriveTrainType\",\"Cylinders\",\"Engine\",\"Horsepower\",\"RPM\",\"EngineRev\",\"ManTrans\",\"Tank\",\"Passenger\",\"Length\",\"Wheelbase\",\"Width\",\"UTurn\",\"RearSeatRoom\",\"Weight\",\"Domestic\",\"MinPrice\",\"MidPrice\",\"MaxPrice\",\"CityMpg\",\"HighwayMpg\",\"AirBags\",\"DriveTrainType\",\"Cylinders\",\"Engine\",\"Horsepower\",\"RPM\",\"EngineRev\",\"ManTrans\",\"Tank\",\"Passenger\",\"Length\",\"Wheelbase\",\"Width\",\"UTurn\",\"RearSeatRoom\",\"Weight\",\"Domestic\",\"MinPrice\",\"MidPrice\",\"MaxPrice\",\"CityMpg\",\"HighwayMpg\",\"AirBags\",\"DriveTrainType\",\"Cylinders\",\"Engine\",\"Horsepower\",\"RPM\",\"EngineRev\",\"ManTrans\",\"Tank\",\"Passenger\",\"Length\",\"Wheelbase\",\"Width\",\"UTurn\",\"RearSeatRoom\",\"Weight\",\"Domestic\",\"MinPrice\",\"MidPrice\",\"MaxPrice\",\"CityMpg\",\"HighwayMpg\",\"AirBags\",\"DriveTrainType\",\"Cylinders\",\"Engine\",\"Horsepower\",\"RPM\",\"EngineRev\",\"ManTrans\",\"Tank\",\"Passenger\",\"Length\",\"Wheelbase\",\"Width\",\"UTurn\",\"RearSeatRoom\",\"Weight\",\"Domestic\",\"MinPrice\",\"MidPrice\",\"MaxPrice\",\"CityMpg\",\"HighwayMpg\",\"AirBags\",\"DriveTrainType\",\"Cylinders\",\"Engine\",\"Horsepower\",\"RPM\",\"EngineRev\",\"ManTrans\",\"Tank\",\"Passenger\",\"Length\",\"Wheelbase\",\"Width\",\"UTurn\",\"RearSeatRoom\",\"Weight\",\"Domestic\",\"MinPrice\",\"MidPrice\",\"MaxPrice\",\"CityMpg\",\"HighwayMpg\",\"AirBags\",\"DriveTrainType\",\"Cylinders\",\"Engine\",\"Horsepower\",\"RPM\",\"EngineRev\",\"ManTrans\",\"Tank\",\"Passenger\",\"Length\",\"Wheelbase\",\"Width\",\"UTurn\",\"RearSeatRoom\",\"Weight\",\"Domestic\",\"MinPrice\",\"MidPrice\",\"MaxPrice\",\"CityMpg\",\"HighwayMpg\",\"AirBags\",\"DriveTrainType\",\"Cylinders\",\"Engine\",\"Horsepower\",\"RPM\",\"EngineRev\",\"ManTrans\",\"Tank\",\"Passenger\",\"Length\",\"Wheelbase\",\"Width\",\"UTurn\",\"RearSeatRoom\",\"Weight\",\"Domestic\",\"MinPrice\",\"MidPrice\",\"MaxPrice\",\"CityMpg\",\"HighwayMpg\",\"AirBags\",\"DriveTrainType\",\"Cylinders\",\"Engine\",\"Horsepower\",\"RPM\",\"EngineRev\",\"ManTrans\",\"Tank\",\"Passenger\",\"Length\",\"Wheelbase\",\"Width\",\"UTurn\",\"RearSeatRoom\",\"Weight\",\"Domestic\",\"MinPrice\",\"MidPrice\",\"MaxPrice\",\"CityMpg\",\"HighwayMpg\",\"AirBags\",\"DriveTrainType\",\"Cylinders\",\"Engine\",\"Horsepower\",\"RPM\",\"EngineRev\",\"ManTrans\",\"Tank\",\"Passenger\",\"Length\",\"Wheelbase\",\"Width\",\"UTurn\",\"RearSeatRoom\",\"Weight\",\"Domestic\",\"MinPrice\",\"MidPrice\",\"MaxPrice\",\"CityMpg\",\"HighwayMpg\",\"AirBags\",\"DriveTrainType\",\"Cylinders\",\"Engine\",\"Horsepower\",\"RPM\",\"EngineRev\",\"ManTrans\",\"Tank\",\"Passenger\",\"Length\",\"Wheelbase\",\"Width\",\"UTurn\",\"RearSeatRoom\",\"Weight\",\"Domestic\",\"MinPrice\",\"MidPrice\",\"MaxPrice\",\"CityMpg\",\"HighwayMpg\",\"AirBags\",\"DriveTrainType\",\"Cylinders\",\"Engine\",\"Horsepower\",\"RPM\",\"EngineRev\",\"ManTrans\",\"Tank\",\"Passenger\",\"Length\",\"Wheelbase\",\"Width\",\"UTurn\",\"RearSeatRoom\",\"Weight\",\"Domestic\",\"MinPrice\",\"MidPrice\",\"MaxPrice\",\"CityMpg\",\"HighwayMpg\",\"AirBags\",\"DriveTrainType\",\"Cylinders\",\"Engine\",\"Horsepower\",\"RPM\",\"EngineRev\",\"ManTrans\",\"Tank\",\"Passenger\",\"Length\",\"Wheelbase\",\"Width\",\"UTurn\",\"RearSeatRoom\",\"Weight\",\"Domestic\",\"MinPrice\",\"MidPrice\",\"MaxPrice\",\"CityMpg\",\"HighwayMpg\",\"AirBags\",\"DriveTrainType\",\"Cylinders\",\"Engine\",\"Horsepower\",\"RPM\",\"EngineRev\",\"ManTrans\",\"Tank\",\"Passenger\",\"Length\",\"Wheelbase\",\"Width\",\"UTurn\",\"RearSeatRoom\",\"Weight\",\"Domestic\",\"MinPrice\",\"MidPrice\",\"MaxPrice\",\"CityMpg\",\"HighwayMpg\",\"AirBags\",\"DriveTrainType\",\"Cylinders\",\"Engine\",\"Horsepower\",\"RPM\",\"EngineRev\",\"ManTrans\",\"Tank\",\"Passenger\",\"Length\",\"Wheelbase\",\"Width\",\"UTurn\",\"RearSeatRoom\",\"Weight\",\"Domestic\",\"MinPrice\",\"MidPrice\",\"MaxPrice\",\"CityMpg\",\"HighwayMpg\",\"AirBags\",\"DriveTrainType\",\"Cylinders\",\"Engine\",\"Horsepower\",\"RPM\",\"EngineRev\",\"ManTrans\",\"Tank\",\"Passenger\",\"Length\",\"Wheelbase\",\"Width\",\"UTurn\",\"RearSeatRoom\",\"Weight\",\"Domestic\",\"MinPrice\",\"MidPrice\",\"MaxPrice\",\"CityMpg\",\"HighwayMpg\",\"AirBags\",\"DriveTrainType\",\"Cylinders\",\"Engine\",\"Horsepower\",\"RPM\",\"EngineRev\",\"ManTrans\",\"Tank\",\"Passenger\",\"Length\",\"Wheelbase\",\"Width\",\"UTurn\",\"RearSeatRoom\",\"Weight\",\"Domestic\",\"MinPrice\",\"MidPrice\",\"MaxPrice\",\"CityMpg\",\"HighwayMpg\",\"AirBags\",\"DriveTrainType\",\"Cylinders\",\"Engine\",\"Horsepower\",\"RPM\",\"EngineRev\",\"ManTrans\",\"Tank\",\"Passenger\",\"Length\",\"Wheelbase\",\"Width\",\"UTurn\",\"RearSeatRoom\",\"Weight\",\"Domestic\",\"MinPrice\",\"MidPrice\",\"MaxPrice\",\"CityMpg\",\"HighwayMpg\",\"AirBags\",\"DriveTrainType\",\"Cylinders\",\"Engine\",\"Horsepower\",\"RPM\",\"EngineRev\",\"ManTrans\",\"Tank\",\"Passenger\",\"Length\",\"Wheelbase\",\"Width\",\"UTurn\",\"RearSeatRoom\",\"Weight\",\"Domestic\",\"MinPrice\",\"MidPrice\",\"MaxPrice\",\"CityMpg\",\"HighwayMpg\",\"AirBags\",\"DriveTrainType\",\"Cylinders\",\"Engine\",\"Horsepower\",\"RPM\",\"EngineRev\",\"ManTrans\",\"Tank\",\"Passenger\",\"Length\",\"Wheelbase\",\"Width\",\"UTurn\",\"RearSeatRoom\",\"Weight\",\"Domestic\",\"MinPrice\",\"MidPrice\",\"MaxPrice\",\"CityMpg\",\"HighwayMpg\",\"AirBags\",\"DriveTrainType\",\"Cylinders\",\"Engine\",\"Horsepower\",\"RPM\",\"EngineRev\",\"ManTrans\",\"Tank\",\"Passenger\",\"Length\",\"Wheelbase\",\"Width\",\"UTurn\",\"RearSeatRoom\",\"Weight\",\"Domestic\",\"MinPrice\",\"MidPrice\",\"MaxPrice\",\"CityMpg\",\"HighwayMpg\",\"AirBags\",\"DriveTrainType\",\"Cylinders\",\"Engine\",\"Horsepower\",\"RPM\",\"EngineRev\",\"ManTrans\",\"Tank\",\"Passenger\",\"Length\",\"Wheelbase\",\"Width\",\"UTurn\",\"RearSeatRoom\",\"Weight\",\"Domestic\"],\"shape\":[484],\"dtype\":\"object\",\"order\":\"little\"}],[\"variable\",{\"type\":\"ndarray\",\"array\":[\"MinPrice\",\"MinPrice\",\"MinPrice\",\"MinPrice\",\"MinPrice\",\"MinPrice\",\"MinPrice\",\"MinPrice\",\"MinPrice\",\"MinPrice\",\"MinPrice\",\"MinPrice\",\"MinPrice\",\"MinPrice\",\"MinPrice\",\"MinPrice\",\"MinPrice\",\"MinPrice\",\"MinPrice\",\"MinPrice\",\"MinPrice\",\"MinPrice\",\"MidPrice\",\"MidPrice\",\"MidPrice\",\"MidPrice\",\"MidPrice\",\"MidPrice\",\"MidPrice\",\"MidPrice\",\"MidPrice\",\"MidPrice\",\"MidPrice\",\"MidPrice\",\"MidPrice\",\"MidPrice\",\"MidPrice\",\"MidPrice\",\"MidPrice\",\"MidPrice\",\"MidPrice\",\"MidPrice\",\"MidPrice\",\"MidPrice\",\"MaxPrice\",\"MaxPrice\",\"MaxPrice\",\"MaxPrice\",\"MaxPrice\",\"MaxPrice\",\"MaxPrice\",\"MaxPrice\",\"MaxPrice\",\"MaxPrice\",\"MaxPrice\",\"MaxPrice\",\"MaxPrice\",\"MaxPrice\",\"MaxPrice\",\"MaxPrice\",\"MaxPrice\",\"MaxPrice\",\"MaxPrice\",\"MaxPrice\",\"MaxPrice\",\"MaxPrice\",\"CityMpg\",\"CityMpg\",\"CityMpg\",\"CityMpg\",\"CityMpg\",\"CityMpg\",\"CityMpg\",\"CityMpg\",\"CityMpg\",\"CityMpg\",\"CityMpg\",\"CityMpg\",\"CityMpg\",\"CityMpg\",\"CityMpg\",\"CityMpg\",\"CityMpg\",\"CityMpg\",\"CityMpg\",\"CityMpg\",\"CityMpg\",\"CityMpg\",\"HighwayMpg\",\"HighwayMpg\",\"HighwayMpg\",\"HighwayMpg\",\"HighwayMpg\",\"HighwayMpg\",\"HighwayMpg\",\"HighwayMpg\",\"HighwayMpg\",\"HighwayMpg\",\"HighwayMpg\",\"HighwayMpg\",\"HighwayMpg\",\"HighwayMpg\",\"HighwayMpg\",\"HighwayMpg\",\"HighwayMpg\",\"HighwayMpg\",\"HighwayMpg\",\"HighwayMpg\",\"HighwayMpg\",\"HighwayMpg\",\"AirBags\",\"AirBags\",\"AirBags\",\"AirBags\",\"AirBags\",\"AirBags\",\"AirBags\",\"AirBags\",\"AirBags\",\"AirBags\",\"AirBags\",\"AirBags\",\"AirBags\",\"AirBags\",\"AirBags\",\"AirBags\",\"AirBags\",\"AirBags\",\"AirBags\",\"AirBags\",\"AirBags\",\"AirBags\",\"DriveTrainType\",\"DriveTrainType\",\"DriveTrainType\",\"DriveTrainType\",\"DriveTrainType\",\"DriveTrainType\",\"DriveTrainType\",\"DriveTrainType\",\"DriveTrainType\",\"DriveTrainType\",\"DriveTrainType\",\"DriveTrainType\",\"DriveTrainType\",\"DriveTrainType\",\"DriveTrainType\",\"DriveTrainType\",\"DriveTrainType\",\"DriveTrainType\",\"DriveTrainType\",\"DriveTrainType\",\"DriveTrainType\",\"DriveTrainType\",\"Cylinders\",\"Cylinders\",\"Cylinders\",\"Cylinders\",\"Cylinders\",\"Cylinders\",\"Cylinders\",\"Cylinders\",\"Cylinders\",\"Cylinders\",\"Cylinders\",\"Cylinders\",\"Cylinders\",\"Cylinders\",\"Cylinders\",\"Cylinders\",\"Cylinders\",\"Cylinders\",\"Cylinders\",\"Cylinders\",\"Cylinders\",\"Cylinders\",\"Engine\",\"Engine\",\"Engine\",\"Engine\",\"Engine\",\"Engine\",\"Engine\",\"Engine\",\"Engine\",\"Engine\",\"Engine\",\"Engine\",\"Engine\",\"Engine\",\"Engine\",\"Engine\",\"Engine\",\"Engine\",\"Engine\",\"Engine\",\"Engine\",\"Engine\",\"Horsepower\",\"Horsepower\",\"Horsepower\",\"Horsepower\",\"Horsepower\",\"Horsepower\",\"Horsepower\",\"Horsepower\",\"Horsepower\",\"Horsepower\",\"Horsepower\",\"Horsepower\",\"Horsepower\",\"Horsepower\",\"Horsepower\",\"Horsepower\",\"Horsepower\",\"Horsepower\",\"Horsepower\",\"Horsepower\",\"Horsepower\",\"Horsepower\",\"RPM\",\"RPM\",\"RPM\",\"RPM\",\"RPM\",\"RPM\",\"RPM\",\"RPM\",\"RPM\",\"RPM\",\"RPM\",\"RPM\",\"RPM\",\"RPM\",\"RPM\",\"RPM\",\"RPM\",\"RPM\",\"RPM\",\"RPM\",\"RPM\",\"RPM\",\"EngineRev\",\"EngineRev\",\"EngineRev\",\"EngineRev\",\"EngineRev\",\"EngineRev\",\"EngineRev\",\"EngineRev\",\"EngineRev\",\"EngineRev\",\"EngineRev\",\"EngineRev\",\"EngineRev\",\"EngineRev\",\"EngineRev\",\"EngineRev\",\"EngineRev\",\"EngineRev\",\"EngineRev\",\"EngineRev\",\"EngineRev\",\"EngineRev\",\"ManTrans\",\"ManTrans\",\"ManTrans\",\"ManTrans\",\"ManTrans\",\"ManTrans\",\"ManTrans\",\"ManTrans\",\"ManTrans\",\"ManTrans\",\"ManTrans\",\"ManTrans\",\"ManTrans\",\"ManTrans\",\"ManTrans\",\"ManTrans\",\"ManTrans\",\"ManTrans\",\"ManTrans\",\"ManTrans\",\"ManTrans\",\"ManTrans\",\"Tank\",\"Tank\",\"Tank\",\"Tank\",\"Tank\",\"Tank\",\"Tank\",\"Tank\",\"Tank\",\"Tank\",\"Tank\",\"Tank\",\"Tank\",\"Tank\",\"Tank\",\"Tank\",\"Tank\",\"Tank\",\"Tank\",\"Tank\",\"Tank\",\"Tank\",\"Passenger\",\"Passenger\",\"Passenger\",\"Passenger\",\"Passenger\",\"Passenger\",\"Passenger\",\"Passenger\",\"Passenger\",\"Passenger\",\"Passenger\",\"Passenger\",\"Passenger\",\"Passenger\",\"Passenger\",\"Passenger\",\"Passenger\",\"Passenger\",\"Passenger\",\"Passenger\",\"Passenger\",\"Passenger\",\"Length\",\"Length\",\"Length\",\"Length\",\"Length\",\"Length\",\"Length\",\"Length\",\"Length\",\"Length\",\"Length\",\"Length\",\"Length\",\"Length\",\"Length\",\"Length\",\"Length\",\"Length\",\"Length\",\"Length\",\"Length\",\"Length\",\"Wheelbase\",\"Wheelbase\",\"Wheelbase\",\"Wheelbase\",\"Wheelbase\",\"Wheelbase\",\"Wheelbase\",\"Wheelbase\",\"Wheelbase\",\"Wheelbase\",\"Wheelbase\",\"Wheelbase\",\"Wheelbase\",\"Wheelbase\",\"Wheelbase\",\"Wheelbase\",\"Wheelbase\",\"Wheelbase\",\"Wheelbase\",\"Wheelbase\",\"Wheelbase\",\"Wheelbase\",\"Width\",\"Width\",\"Width\",\"Width\",\"Width\",\"Width\",\"Width\",\"Width\",\"Width\",\"Width\",\"Width\",\"Width\",\"Width\",\"Width\",\"Width\",\"Width\",\"Width\",\"Width\",\"Width\",\"Width\",\"Width\",\"Width\",\"UTurn\",\"UTurn\",\"UTurn\",\"UTurn\",\"UTurn\",\"UTurn\",\"UTurn\",\"UTurn\",\"UTurn\",\"UTurn\",\"UTurn\",\"UTurn\",\"UTurn\",\"UTurn\",\"UTurn\",\"UTurn\",\"UTurn\",\"UTurn\",\"UTurn\",\"UTurn\",\"UTurn\",\"UTurn\",\"RearSeatRoom\",\"RearSeatRoom\",\"RearSeatRoom\",\"RearSeatRoom\",\"RearSeatRoom\",\"RearSeatRoom\",\"RearSeatRoom\",\"RearSeatRoom\",\"RearSeatRoom\",\"RearSeatRoom\",\"RearSeatRoom\",\"RearSeatRoom\",\"RearSeatRoom\",\"RearSeatRoom\",\"RearSeatRoom\",\"RearSeatRoom\",\"RearSeatRoom\",\"RearSeatRoom\",\"RearSeatRoom\",\"RearSeatRoom\",\"RearSeatRoom\",\"RearSeatRoom\",\"Weight\",\"Weight\",\"Weight\",\"Weight\",\"Weight\",\"Weight\",\"Weight\",\"Weight\",\"Weight\",\"Weight\",\"Weight\",\"Weight\",\"Weight\",\"Weight\",\"Weight\",\"Weight\",\"Weight\",\"Weight\",\"Weight\",\"Weight\",\"Weight\",\"Weight\",\"Domestic\",\"Domestic\",\"Domestic\",\"Domestic\",\"Domestic\",\"Domestic\",\"Domestic\",\"Domestic\",\"Domestic\",\"Domestic\",\"Domestic\",\"Domestic\",\"Domestic\",\"Domestic\",\"Domestic\",\"Domestic\",\"Domestic\",\"Domestic\",\"Domestic\",\"Domestic\",\"Domestic\",\"Domestic\"],\"shape\":[484],\"dtype\":\"object\",\"order\":\"little\"}],[\"value\",{\"type\":\"ndarray\",\"array\":{\"type\":\"bytes\",\"data\":\"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\"},\"shape\":[484],\"dtype\":\"float64\",\"order\":\"little\"}],[\"size\",{\"type\":\"ndarray\",\"array\":{\"type\":\"bytes\",\"data\":\"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\"},\"shape\":[484],\"dtype\":\"float64\",\"order\":\"little\"}]]}}},\"view\":{\"type\":\"object\",\"name\":\"CDSView\",\"id\":\"p1049\",\"attributes\":{\"filter\":{\"type\":\"object\",\"name\":\"AllIndices\",\"id\":\"p1050\"}}},\"glyph\":{\"type\":\"object\",\"name\":\"Scatter\",\"id\":\"p1045\",\"attributes\":{\"x\":{\"type\":\"field\",\"field\":\"index\"},\"y\":{\"type\":\"field\",\"field\":\"variable\"},\"size\":{\"type\":\"field\",\"field\":\"size\"},\"line_color\":{\"type\":\"field\",\"field\":\"value\",\"transform\":{\"type\":\"object\",\"name\":\"LinearColorMapper\",\"id\":\"p1038\",\"attributes\":{\"palette\":[\"#4575b4\",\"#91bfdb\",\"#e0f3f8\",\"#ffffbf\",\"#fee090\",\"#fc8d59\",\"#d73027\"],\"low\":-1,\"high\":1}}},\"fill_color\":{\"type\":\"field\",\"field\":\"value\",\"transform\":{\"id\":\"p1038\"}},\"hatch_color\":{\"type\":\"field\",\"field\":\"value\",\"transform\":{\"id\":\"p1038\"}},\"marker\":{\"type\":\"value\",\"value\":\"square\"}}},\"nonselection_glyph\":{\"type\":\"object\",\"name\":\"Scatter\",\"id\":\"p1046\",\"attributes\":{\"x\":{\"type\":\"field\",\"field\":\"index\"},\"y\":{\"type\":\"field\",\"field\":\"variable\"},\"size\":{\"type\":\"field\",\"field\":\"size\"},\"line_color\":{\"type\":\"field\",\"field\":\"value\",\"transform\":{\"id\":\"p1038\"}},\"line_alpha\":{\"type\":\"value\",\"value\":0.1},\"fill_color\":{\"type\":\"field\",\"field\":\"value\",\"transform\":{\"id\":\"p1038\"}},\"fill_alpha\":{\"type\":\"value\",\"value\":0.1},\"hatch_color\":{\"type\":\"field\",\"field\":\"value\",\"transform\":{\"id\":\"p1038\"}},\"hatch_alpha\":{\"type\":\"value\",\"value\":0.1},\"marker\":{\"type\":\"value\",\"value\":\"square\"}}},\"muted_glyph\":{\"type\":\"object\",\"name\":\"Scatter\",\"id\":\"p1047\",\"attributes\":{\"x\":{\"type\":\"field\",\"field\":\"index\"},\"y\":{\"type\":\"field\",\"field\":\"variable\"},\"size\":{\"type\":\"field\",\"field\":\"size\"},\"line_color\":{\"type\":\"field\",\"field\":\"value\",\"transform\":{\"id\":\"p1038\"}},\"line_alpha\":{\"type\":\"value\",\"value\":0.2},\"fill_color\":{\"type\":\"field\",\"field\":\"value\",\"transform\":{\"id\":\"p1038\"}},\"fill_alpha\":{\"type\":\"value\",\"value\":0.2},\"hatch_color\":{\"type\":\"field\",\"field\":\"value\",\"transform\":{\"id\":\"p1038\"}},\"hatch_alpha\":{\"type\":\"value\",\"value\":0.2},\"marker\":{\"type\":\"value\",\"value\":\"square\"}}}}}],\"toolbar\":{\"type\":\"object\",\"name\":\"Toolbar\",\"id\":\"p1010\",\"attributes\":{\"tools\":[{\"type\":\"object\",\"name\":\"PanTool\",\"id\":\"p1025\"},{\"type\":\"object\",\"name\":\"WheelZoomTool\",\"id\":\"p1026\",\"attributes\":{\"renderers\":\"auto\"}},{\"type\":\"object\",\"name\":\"BoxZoomTool\",\"id\":\"p1027\",\"attributes\":{\"dimensions\":\"both\",\"overlay\":{\"type\":\"object\",\"name\":\"BoxAnnotation\",\"id\":\"p1028\",\"attributes\":{\"syncable\":false,\"line_color\":\"black\",\"line_alpha\":1.0,\"line_width\":2,\"line_dash\":[4,4],\"fill_color\":\"lightgrey\",\"fill_alpha\":0.5,\"level\":\"overlay\",\"visible\":false,\"left\":{\"type\":\"number\",\"value\":\"nan\"},\"right\":{\"type\":\"number\",\"value\":\"nan\"},\"top\":{\"type\":\"number\",\"value\":\"nan\"},\"bottom\":{\"type\":\"number\",\"value\":\"nan\"},\"left_units\":\"canvas\",\"right_units\":\"canvas\",\"top_units\":\"canvas\",\"bottom_units\":\"canvas\",\"handles\":{\"type\":\"object\",\"name\":\"BoxInteractionHandles\",\"id\":\"p1034\",\"attributes\":{\"all\":{\"type\":\"object\",\"name\":\"AreaVisuals\",\"id\":\"p1033\",\"attributes\":{\"fill_color\":\"white\",\"hover_fill_color\":\"lightgray\"}}}}}}}},{\"type\":\"object\",\"name\":\"SaveTool\",\"id\":\"p1035\"},{\"type\":\"object\",\"name\":\"ResetTool\",\"id\":\"p1036\"},{\"type\":\"object\",\"name\":\"HelpTool\",\"id\":\"p1037\"}]}},\"left\":[{\"type\":\"object\",\"name\":\"CategoricalAxis\",\"id\":\"p1020\",\"attributes\":{\"ticker\":{\"type\":\"object\",\"name\":\"CategoricalTicker\",\"id\":\"p1021\"},\"formatter\":{\"type\":\"object\",\"name\":\"CategoricalTickFormatter\",\"id\":\"p1022\"},\"major_label_policy\":{\"type\":\"object\",\"name\":\"AllLabels\",\"id\":\"p1023\"}}}],\"right\":[{\"type\":\"object\",\"name\":\"ColorBar\",\"id\":\"p1052\",\"attributes\":{\"location\":[0,0],\"major_label_policy\":{\"type\":\"object\",\"name\":\"NoOverlap\",\"id\":\"p1053\"},\"label_standoff\":12,\"color_mapper\":{\"type\":\"object\",\"name\":\"LinearColorMapper\",\"id\":\"p1051\",\"attributes\":{\"palette\":[\"#2c7bb6\",\"#abd9e9\",\"#ffffbf\",\"#fdae61\",\"#d7191c\"],\"low\":-1,\"high\":1}}}}],\"below\":[{\"type\":\"object\",\"name\":\"CategoricalAxis\",\"id\":\"p1015\",\"attributes\":{\"ticker\":{\"type\":\"object\",\"name\":\"CategoricalTicker\",\"id\":\"p1016\"},\"formatter\":{\"type\":\"object\",\"name\":\"CategoricalTickFormatter\",\"id\":\"p1017\"},\"major_label_orientation\":-0.7853981633974483,\"major_label_policy\":{\"type\":\"object\",\"name\":\"AllLabels\",\"id\":\"p1018\"}}}],\"center\":[{\"type\":\"object\",\"name\":\"Grid\",\"id\":\"p1019\",\"attributes\":{\"axis\":{\"id\":\"p1015\"},\"ticker\":{\"type\":\"object\",\"name\":\"FixedTicker\",\"id\":\"p1054\",\"attributes\":{\"ticks\":[1,2,3,4,5,6,7,8,9,10,11,12,13,14,15,16,17,18,19,20,21],\"minor_ticks\":[]}}}},{\"type\":\"object\",\"name\":\"Grid\",\"id\":\"p1024\",\"attributes\":{\"dimension\":1,\"axis\":{\"id\":\"p1020\"},\"ticker\":{\"type\":\"object\",\"name\":\"FixedTicker\",\"id\":\"p1055\",\"attributes\":{\"ticks\":[1,2,3,4,5,6,7,8,9,10,11,12,13,14,15,16,17,18,19,20,21],\"minor_ticks\":[]}}}}]}}]}};\n  const render_items = [{\"docid\":\"648646cf-4e93-44dd-9e28-46cf2f114b9d\",\"roots\":{\"p1001\":\"bb62820a-f855-40d2-a56d-dbff77627461\"},\"root_ids\":[\"p1001\"]}];\n  void root.Bokeh.embed.embed_items_notebook(docs_json, render_items);\n  }\n  if (root.Bokeh !== undefined) {\n    embed_document(root);\n  } else {\n    let attempts = 0;\n    const timer = setInterval(function(root) {\n      if (root.Bokeh !== undefined) {\n        clearInterval(timer);\n        embed_document(root);\n      } else {\n        attempts++;\n        if (attempts > 100) {\n          clearInterval(timer);\n          console.log(\"Bokeh: ERROR: Unable to run BokehJS code because BokehJS library is missing\");\n        }\n      }\n    }, 10, root)\n  }\n})(window);",
      "application/vnd.bokehjs_exec.v0+json": ""
     },
     "metadata": {
      "application/vnd.bokehjs_exec.v0+json": {
       "id": "p1001"
      }
     },
     "output_type": "display_data"
    }
   ],
   "source": [
    "p = figure(x_range=variables, y_range=variables, width=800, height=700,\n",
    "           title=\"Correlation matrix\")\n",
    "\n",
    "p.scatter(marker='square', source=lin_corr, x='index', y='variable', size='size', color=linear_cmap(field_name='value', palette='RdYlBu7', low=-1, high=1))\n",
    "\n",
    "color_bar = ColorBar(color_mapper=LinearColorMapper('RdYlBu5', low=-1, high=1), # because Pearson correlation factor has the range [-1, 1]\n",
    "                    #  -1 ==> strongly Negativly Correlated.\n",
    "                    #  +1 ==> strongly Positively Correlated.\n",
    "                    #  0  ==> No Correlation\n",
    "                     label_standoff=12, border_line_color=None, location=(0,0))\n",
    "p.add_layout(color_bar, 'right')\n",
    "\n",
    "p.xgrid.ticker = FixedTicker(ticks=list(range(1,len(corr))))\n",
    "p.ygrid.ticker = FixedTicker(ticks=list(range(1,len(corr))))\n",
    "p.xaxis.major_label_orientation = -pi/4 # to rotate the label instead of being horizontal\n",
    "show(p)"
   ]
  },
  {
   "cell_type": "markdown",
   "metadata": {
    "id": "MwB66BHBAd1_"
   },
   "source": [
    "<div class=\"alert alert-success\">\n",
    "    \n",
    "**Find groups of variables that are strongly correlated** (positive or negative). Each group consists of variables that are pair-wise strongly correlated. The example below shows the group \"Properties of the engine\" which consists of horsepower, engine, cylinders.\n",
    "    \n",
    "**Tasks**\n",
    "- Find three additional groups, name them, and list the variables that belong to them.\n",
    "- Analyze if these high-level groups are correlated: Locate the positions in the matrix that encode the correlations between elements from two groups. Can you detect patterns?\n",
    "- Validate your findings using the scatterplot matrix.\n",
    "</div>\n",
    "\n",
    "![](cars_corrMatrix.png)"
   ]
  },
  {
   "cell_type": "markdown",
   "metadata": {
    "id": "FGtAfWdkAd1_"
   },
   "source": [
    "<div class=\"alert alert-warning\">\n",
    "\n",
    "### Groups:\n",
    "- **Engine properties:** horsepower, engine, cylinders\n",
    "  - strongly positively correlated, reflecting the engine's properties.\n",
    "\n",
    "<br/>\n",
    "\n",
    "- **Vehicle Size:** Length, Width, Wheelbase, Weight.\n",
    "  - strongly positively correlated, reflecting vehicle dimensions and mass.\n",
    "\n",
    "<br/>\n",
    "\n",
    "- **Fuel Efficiency:** CityMpg, HighwayMpg\n",
    "  - strongly positively correlated, as they both measure fuel efficiency under different conditions.\n",
    "\n",
    "<br/>\n",
    "\n",
    "- **Price Metrics:** MinPrice, MidPrice, MaxPrice.\n",
    "  - strongly positively correlated as they represent price ranges for the same vehicle.\n",
    "\n",
    "<br/>\n",
    "\n",
    "- **EngineRev & Cylinders:**\n",
    "  - strongly negatively correlated.\n",
    "\n",
    "<br/>\n",
    "\n",
    "### Additional correlations between groups:\n",
    "- **(Engine properties) + (Vehicle Size) --> POSITIVELY correlated**\n",
    "  - Looking at the correlation matrix, we can notice that the two groups are also positively correlated to each other.\n",
    "  👉 [engine-properties-and-vehicle-size](https://drive.google.com/file/d/1F4v2QO8fyaIbBGpXlauV00QDgmPzy5fZ/view?usp=sharing)\n",
    "\n",
    "<br/>\n",
    "\n",
    "- **(Fuel Efficiency) + (Price Metrics) --> NEGATIVELY correlated**\n",
    "  - From the correlation matrix, I have noticed that these two groups have light blue squares in the areas of cross-intersection, which means they have negative correlation with each other with Pearson correlation coefficient of approximately 0.5.\n",
    "  - Looking at the pdf file SPLOM (Scatter Plot Matrix) also verifies the finding:\n",
    "  👉 [fuel-efficiency-and-price-metrics](https://drive.google.com/file/d/16DauCcD4TBmAf32lTuJqUL-F3f0DYTDf/view?usp=sharing)\n",
    "\n",
    "<br/>\n",
    "\n",
    "- **(Fuel Efficiency) + (Vehicle Size) --> NEGATIVELY correlated**\n",
    "  - 👉 [fuel-efficiency-and-vehicle-size](https://drive.google.com/file/d/12n86LkjlZau2p4M5mff7pm4cpTcdhs8K/view?usp=drive_link)\n",
    "\n",
    "<br/>\n",
    "\n",
    "- **(Engine properties) + (Price Metrics) --> POSITIVELY correlated**\n",
    "    - Better motorization (properties of the engine), means higher price.\n",
    "</div>"
   ]
  },
  {
   "cell_type": "markdown",
   "metadata": {
    "id": "olO52jIiAd1_"
   },
   "source": [
    "<div class=\"alert alert-info\">\n",
    "    \n",
    "## 3. Explained variance of PCA\n",
    "</div>\n",
    "\n",
    "Compute the [PCA](http://scikit-learn.org/stable/modules/generated/sklearn.decomposition.PCA.html) for the cars dataset"
   ]
  },
  {
   "cell_type": "code",
   "execution_count": 19,
   "metadata": {
    "id": "lus1Ar6-Ad1_"
   },
   "outputs": [],
   "source": [
    "# only use numeric attributes and exclude the type which we would like to predict\n",
    "var = ['MinPrice', 'MidPrice','MaxPrice', 'CityMpg', 'HighwayMpg', 'Cylinders',\n",
    "       'Engine', 'Horsepower', 'RPM', 'EngineRev',\n",
    "       'Tank', 'Passenger', 'Length', 'Width', 'UTurn', 'Weight']\n",
    "\n",
    "# store standardized data in cars_std\n",
    "cars_std = StandardScaler().fit_transform(cars[var]) # shape: (91, 16) -- 91 rows, 16 variables\n",
    "\n",
    "# store PCA in variable pca\n",
    "pca = PCA(n_components=len(var)).fit(cars_std)"
   ]
  },
  {
   "cell_type": "code",
   "execution_count": 20,
   "metadata": {
    "colab": {
     "base_uri": "https://localhost:8080/",
     "height": 417
    },
    "id": "nMoN2DiRAd1_",
    "outputId": "6c4898ab-d57c-499a-91f3-23d4073e4f57"
   },
   "outputs": [
    {
     "data": {
      "text/html": [
       "\n",
       "  <div id=\"bfdbaec3-c26f-4e9a-b22c-df14b404d793\" data-root-id=\"p1062\" style=\"display: contents;\"></div>\n"
      ]
     },
     "metadata": {},
     "output_type": "display_data"
    },
    {
     "data": {
      "application/javascript": "(function(root) {\n  function embed_document(root) {\n  const docs_json = {\"9fda19d2-d05f-45a8-b0f0-42a1cbda3c8d\":{\"version\":\"3.7.0\",\"title\":\"Bokeh Application\",\"roots\":[{\"type\":\"object\",\"name\":\"Figure\",\"id\":\"p1062\",\"attributes\":{\"width\":520,\"height\":400,\"x_range\":{\"type\":\"object\",\"name\":\"FactorRange\",\"id\":\"p1072\",\"attributes\":{\"factors\":[\"PC1\",\"PC2\",\"PC3\",\"PC4\",\"PC5\",\"PC6\",\"PC7\",\"PC8\",\"PC9\",\"PC10\",\"PC11\",\"PC12\",\"PC13\",\"PC14\",\"PC15\",\"PC16\"]}},\"y_range\":{\"type\":\"object\",\"name\":\"Range1d\",\"id\":\"p1073\",\"attributes\":{\"start\":-2,\"end\":105}},\"x_scale\":{\"type\":\"object\",\"name\":\"CategoricalScale\",\"id\":\"p1074\"},\"y_scale\":{\"type\":\"object\",\"name\":\"LinearScale\",\"id\":\"p1075\"},\"title\":{\"type\":\"object\",\"name\":\"Title\",\"id\":\"p1065\",\"attributes\":{\"text\":\"Explained variance of PCA of cars dataset\"}},\"renderers\":[{\"type\":\"object\",\"name\":\"GlyphRenderer\",\"id\":\"p1105\",\"attributes\":{\"data_source\":{\"type\":\"object\",\"name\":\"ColumnDataSource\",\"id\":\"p1059\",\"attributes\":{\"selected\":{\"type\":\"object\",\"name\":\"Selection\",\"id\":\"p1060\",\"attributes\":{\"indices\":[],\"line_indices\":[]}},\"selection_policy\":{\"type\":\"object\",\"name\":\"UnionRenderers\",\"id\":\"p1061\"},\"data\":{\"type\":\"map\",\"entries\":[[\"x\",[\"PC1\",\"PC2\",\"PC3\",\"PC4\",\"PC5\",\"PC6\",\"PC7\",\"PC8\",\"PC9\",\"PC10\",\"PC11\",\"PC12\",\"PC13\",\"PC14\",\"PC15\",\"PC16\"]],[\"var_exp\",{\"type\":\"ndarray\",\"array\":{\"type\":\"bytes\",\"data\":\"ut0ylE1FUEAtoxnuhOMrQJmCSZHw5BVAaJNZLd+HDkCEsBULDQ0IQPzX3AGggABAyBztTDtp/D9x6lj8nOv3P3aox2E3B/I/rxTSM5f95D8Qd3kNm27gP3UWl/WZhdY/IYQQAfzK1T+FZswb0c/JP930VCl3icM/QMvx1l27AD8=\"},\"shape\":[16],\"dtype\":\"float64\",\"order\":\"little\"}],[\"cum_var_exp\",{\"type\":\"ndarray\",\"array\":{\"type\":\"bytes\",\"data\":\"ut0ylE1FUEAgEvYxvsFTQEqqCjsNIFVA5XZ1NEwUVkBpJM6ctNRWQCkL3Zy5WFdAnL8Qil7KV0BGIwL+DCpYQOhBidspclhAEebwCSWcWED/2AtAAr1YQBVwAdqH01hAmYAC1lLpWEDMZpC+OvZYQEYRJXr//1hA/v//////WEA=\"},\"shape\":[16],\"dtype\":\"float64\",\"order\":\"little\"}]]}}},\"view\":{\"type\":\"object\",\"name\":\"CDSView\",\"id\":\"p1106\",\"attributes\":{\"filter\":{\"type\":\"object\",\"name\":\"AllIndices\",\"id\":\"p1107\"}}},\"glyph\":{\"type\":\"object\",\"name\":\"VBar\",\"id\":\"p1102\",\"attributes\":{\"x\":{\"type\":\"field\",\"field\":\"x\"},\"width\":{\"type\":\"value\",\"value\":0.9},\"top\":{\"type\":\"field\",\"field\":\"var_exp\"},\"line_color\":{\"type\":\"value\",\"value\":\"#1f77b4\"},\"fill_color\":{\"type\":\"value\",\"value\":\"#1f77b4\"}}},\"nonselection_glyph\":{\"type\":\"object\",\"name\":\"VBar\",\"id\":\"p1103\",\"attributes\":{\"x\":{\"type\":\"field\",\"field\":\"x\"},\"width\":{\"type\":\"value\",\"value\":0.9},\"top\":{\"type\":\"field\",\"field\":\"var_exp\"},\"line_color\":{\"type\":\"value\",\"value\":\"#1f77b4\"},\"line_alpha\":{\"type\":\"value\",\"value\":0.1},\"fill_color\":{\"type\":\"value\",\"value\":\"#1f77b4\"},\"fill_alpha\":{\"type\":\"value\",\"value\":0.1},\"hatch_alpha\":{\"type\":\"value\",\"value\":0.1}}},\"muted_glyph\":{\"type\":\"object\",\"name\":\"VBar\",\"id\":\"p1104\",\"attributes\":{\"x\":{\"type\":\"field\",\"field\":\"x\"},\"width\":{\"type\":\"value\",\"value\":0.9},\"top\":{\"type\":\"field\",\"field\":\"var_exp\"},\"line_color\":{\"type\":\"value\",\"value\":\"#1f77b4\"},\"line_alpha\":{\"type\":\"value\",\"value\":0.2},\"fill_color\":{\"type\":\"value\",\"value\":\"#1f77b4\"},\"fill_alpha\":{\"type\":\"value\",\"value\":0.2},\"hatch_alpha\":{\"type\":\"value\",\"value\":0.2}}}}},{\"type\":\"object\",\"name\":\"GlyphRenderer\",\"id\":\"p1116\",\"attributes\":{\"data_source\":{\"type\":\"object\",\"name\":\"ColumnDataSource\",\"id\":\"p1110\",\"attributes\":{\"selected\":{\"type\":\"object\",\"name\":\"Selection\",\"id\":\"p1111\",\"attributes\":{\"indices\":[],\"line_indices\":[]}},\"selection_policy\":{\"type\":\"object\",\"name\":\"UnionRenderers\",\"id\":\"p1112\"},\"data\":{\"type\":\"map\",\"entries\":[[\"x\",[\"PC1\",\"PC2\",\"PC3\",\"PC4\",\"PC5\",\"PC6\",\"PC7\",\"PC8\",\"PC9\",\"PC10\",\"PC11\",\"PC12\",\"PC13\",\"PC14\",\"PC15\",\"PC16\"]],[\"y\",{\"type\":\"ndarray\",\"array\":{\"type\":\"bytes\",\"data\":\"ut0ylE1FUEAgEvYxvsFTQEqqCjsNIFVA5XZ1NEwUVkBpJM6ctNRWQCkL3Zy5WFdAnL8Qil7KV0BGIwL+DCpYQOhBidspclhAEebwCSWcWED/2AtAAr1YQBVwAdqH01hAmYAC1lLpWEDMZpC+OvZYQEYRJXr//1hA/v//////WEA=\"},\"shape\":[16],\"dtype\":\"float64\",\"order\":\"little\"}]]}}},\"view\":{\"type\":\"object\",\"name\":\"CDSView\",\"id\":\"p1117\",\"attributes\":{\"filter\":{\"type\":\"object\",\"name\":\"AllIndices\",\"id\":\"p1118\"}}},\"glyph\":{\"type\":\"object\",\"name\":\"Scatter\",\"id\":\"p1113\",\"attributes\":{\"x\":{\"type\":\"field\",\"field\":\"x\"},\"y\":{\"type\":\"field\",\"field\":\"y\"},\"size\":{\"type\":\"value\",\"value\":5},\"line_color\":{\"type\":\"value\",\"value\":\"orange\"},\"fill_color\":{\"type\":\"value\",\"value\":\"orange\"},\"hatch_color\":{\"type\":\"value\",\"value\":\"orange\"}}},\"nonselection_glyph\":{\"type\":\"object\",\"name\":\"Scatter\",\"id\":\"p1114\",\"attributes\":{\"x\":{\"type\":\"field\",\"field\":\"x\"},\"y\":{\"type\":\"field\",\"field\":\"y\"},\"size\":{\"type\":\"value\",\"value\":5},\"line_color\":{\"type\":\"value\",\"value\":\"orange\"},\"line_alpha\":{\"type\":\"value\",\"value\":0.1},\"fill_color\":{\"type\":\"value\",\"value\":\"orange\"},\"fill_alpha\":{\"type\":\"value\",\"value\":0.1},\"hatch_color\":{\"type\":\"value\",\"value\":\"orange\"},\"hatch_alpha\":{\"type\":\"value\",\"value\":0.1}}},\"muted_glyph\":{\"type\":\"object\",\"name\":\"Scatter\",\"id\":\"p1115\",\"attributes\":{\"x\":{\"type\":\"field\",\"field\":\"x\"},\"y\":{\"type\":\"field\",\"field\":\"y\"},\"size\":{\"type\":\"value\",\"value\":5},\"line_color\":{\"type\":\"value\",\"value\":\"orange\"},\"line_alpha\":{\"type\":\"value\",\"value\":0.2},\"fill_color\":{\"type\":\"value\",\"value\":\"orange\"},\"fill_alpha\":{\"type\":\"value\",\"value\":0.2},\"hatch_color\":{\"type\":\"value\",\"value\":\"orange\"},\"hatch_alpha\":{\"type\":\"value\",\"value\":0.2}}}}},{\"type\":\"object\",\"name\":\"GlyphRenderer\",\"id\":\"p1126\",\"attributes\":{\"data_source\":{\"type\":\"object\",\"name\":\"ColumnDataSource\",\"id\":\"p1120\",\"attributes\":{\"selected\":{\"type\":\"object\",\"name\":\"Selection\",\"id\":\"p1121\",\"attributes\":{\"indices\":[],\"line_indices\":[]}},\"selection_policy\":{\"type\":\"object\",\"name\":\"UnionRenderers\",\"id\":\"p1122\"},\"data\":{\"type\":\"map\",\"entries\":[[\"x\",[\"PC1\",\"PC2\",\"PC3\",\"PC4\",\"PC5\",\"PC6\",\"PC7\",\"PC8\",\"PC9\",\"PC10\",\"PC11\",\"PC12\",\"PC13\",\"PC14\",\"PC15\",\"PC16\"]],[\"y\",{\"type\":\"ndarray\",\"array\":{\"type\":\"bytes\",\"data\":\"ut0ylE1FUEAgEvYxvsFTQEqqCjsNIFVA5XZ1NEwUVkBpJM6ctNRWQCkL3Zy5WFdAnL8Qil7KV0BGIwL+DCpYQOhBidspclhAEebwCSWcWED/2AtAAr1YQBVwAdqH01hAmYAC1lLpWEDMZpC+OvZYQEYRJXr//1hA/v//////WEA=\"},\"shape\":[16],\"dtype\":\"float64\",\"order\":\"little\"}]]}}},\"view\":{\"type\":\"object\",\"name\":\"CDSView\",\"id\":\"p1127\",\"attributes\":{\"filter\":{\"type\":\"object\",\"name\":\"AllIndices\",\"id\":\"p1128\"}}},\"glyph\":{\"type\":\"object\",\"name\":\"Line\",\"id\":\"p1123\",\"attributes\":{\"x\":{\"type\":\"field\",\"field\":\"x\"},\"y\":{\"type\":\"field\",\"field\":\"y\"},\"line_color\":\"orange\",\"line_width\":2}},\"nonselection_glyph\":{\"type\":\"object\",\"name\":\"Line\",\"id\":\"p1124\",\"attributes\":{\"x\":{\"type\":\"field\",\"field\":\"x\"},\"y\":{\"type\":\"field\",\"field\":\"y\"},\"line_color\":\"orange\",\"line_alpha\":0.1,\"line_width\":2}},\"muted_glyph\":{\"type\":\"object\",\"name\":\"Line\",\"id\":\"p1125\",\"attributes\":{\"x\":{\"type\":\"field\",\"field\":\"x\"},\"y\":{\"type\":\"field\",\"field\":\"y\"},\"line_color\":\"orange\",\"line_alpha\":0.2,\"line_width\":2}}}}],\"toolbar\":{\"type\":\"object\",\"name\":\"Toolbar\",\"id\":\"p1071\",\"attributes\":{\"tools\":[{\"type\":\"object\",\"name\":\"PanTool\",\"id\":\"p1086\"},{\"type\":\"object\",\"name\":\"WheelZoomTool\",\"id\":\"p1087\",\"attributes\":{\"renderers\":\"auto\"}},{\"type\":\"object\",\"name\":\"BoxZoomTool\",\"id\":\"p1088\",\"attributes\":{\"dimensions\":\"both\",\"overlay\":{\"type\":\"object\",\"name\":\"BoxAnnotation\",\"id\":\"p1089\",\"attributes\":{\"syncable\":false,\"line_color\":\"black\",\"line_alpha\":1.0,\"line_width\":2,\"line_dash\":[4,4],\"fill_color\":\"lightgrey\",\"fill_alpha\":0.5,\"level\":\"overlay\",\"visible\":false,\"left\":{\"type\":\"number\",\"value\":\"nan\"},\"right\":{\"type\":\"number\",\"value\":\"nan\"},\"top\":{\"type\":\"number\",\"value\":\"nan\"},\"bottom\":{\"type\":\"number\",\"value\":\"nan\"},\"left_units\":\"canvas\",\"right_units\":\"canvas\",\"top_units\":\"canvas\",\"bottom_units\":\"canvas\",\"handles\":{\"type\":\"object\",\"name\":\"BoxInteractionHandles\",\"id\":\"p1095\",\"attributes\":{\"all\":{\"type\":\"object\",\"name\":\"AreaVisuals\",\"id\":\"p1094\",\"attributes\":{\"fill_color\":\"white\",\"hover_fill_color\":\"lightgray\"}}}}}}}},{\"type\":\"object\",\"name\":\"SaveTool\",\"id\":\"p1096\"},{\"type\":\"object\",\"name\":\"ResetTool\",\"id\":\"p1097\"},{\"type\":\"object\",\"name\":\"HelpTool\",\"id\":\"p1098\"}]}},\"toolbar_location\":null,\"left\":[{\"type\":\"object\",\"name\":\"LinearAxis\",\"id\":\"p1081\",\"attributes\":{\"ticker\":{\"type\":\"object\",\"name\":\"BasicTicker\",\"id\":\"p1082\",\"attributes\":{\"mantissas\":[1,2,5]}},\"formatter\":{\"type\":\"object\",\"name\":\"BasicTickFormatter\",\"id\":\"p1083\"},\"axis_label\":\"Explained variance in percent\",\"major_label_policy\":{\"type\":\"object\",\"name\":\"AllLabels\",\"id\":\"p1084\"}}}],\"below\":[{\"type\":\"object\",\"name\":\"CategoricalAxis\",\"id\":\"p1076\",\"attributes\":{\"ticker\":{\"type\":\"object\",\"name\":\"CategoricalTicker\",\"id\":\"p1077\"},\"formatter\":{\"type\":\"object\",\"name\":\"CategoricalTickFormatter\",\"id\":\"p1078\"},\"major_label_policy\":{\"type\":\"object\",\"name\":\"AllLabels\",\"id\":\"p1079\"}}}],\"center\":[{\"type\":\"object\",\"name\":\"Grid\",\"id\":\"p1080\",\"attributes\":{\"visible\":false,\"axis\":{\"id\":\"p1076\"}}},{\"type\":\"object\",\"name\":\"Grid\",\"id\":\"p1085\",\"attributes\":{\"dimension\":1,\"axis\":{\"id\":\"p1081\"}}},{\"type\":\"object\",\"name\":\"Legend\",\"id\":\"p1108\",\"attributes\":{\"location\":[235,155],\"border_line_color\":null,\"items\":[{\"type\":\"object\",\"name\":\"LegendItem\",\"id\":\"p1109\",\"attributes\":{\"label\":{\"type\":\"value\",\"value\":\"Explained variance\"},\"renderers\":[{\"id\":\"p1105\"}]}},{\"type\":\"object\",\"name\":\"LegendItem\",\"id\":\"p1119\",\"attributes\":{\"label\":{\"type\":\"value\",\"value\":\"Cumulative explained variance\"},\"renderers\":[{\"id\":\"p1116\"}]}}]}}]}}]}};\n  const render_items = [{\"docid\":\"9fda19d2-d05f-45a8-b0f0-42a1cbda3c8d\",\"roots\":{\"p1062\":\"bfdbaec3-c26f-4e9a-b22c-df14b404d793\"},\"root_ids\":[\"p1062\"]}];\n  void root.Bokeh.embed.embed_items_notebook(docs_json, render_items);\n  }\n  if (root.Bokeh !== undefined) {\n    embed_document(root);\n  } else {\n    let attempts = 0;\n    const timer = setInterval(function(root) {\n      if (root.Bokeh !== undefined) {\n        clearInterval(timer);\n        embed_document(root);\n      } else {\n        attempts++;\n        if (attempts > 100) {\n          clearInterval(timer);\n          console.log(\"Bokeh: ERROR: Unable to run BokehJS code because BokehJS library is missing\");\n        }\n      }\n    }, 10, root)\n  }\n})(window);",
      "application/vnd.bokehjs_exec.v0+json": ""
     },
     "metadata": {
      "application/vnd.bokehjs_exec.v0+json": {
       "id": "p1062"
      }
     },
     "output_type": "display_data"
    }
   ],
   "source": [
    "var_exp = pca.explained_variance_ratio_*100 # a list of the variances for each variable (column) multiplied by 100 to be represented as percentage\n",
    "# print(var_exp)\n",
    "cum_var_exp = np.cumsum(var_exp) # cumulative sum of the variances. i.e. cum_var_exp[n] = \\sum_{i=0}^{n} var_exp[i]\n",
    "# print(cum_var_exp)\n",
    "x = [f'PC{i+1}' for i in range(len(var))]\n",
    "\n",
    "source = ColumnDataSource( dict(x=x, var_exp=var_exp, cum_var_exp=cum_var_exp) )\n",
    "\n",
    "p = figure( width=520, height=400, toolbar_location=None, x_range=x, y_range=(-2,105),\n",
    "            title=\"Explained variance of PCA of cars dataset\")\n",
    "\n",
    "p.vbar( source=source, x='x', top='var_exp', width=0.9, bottom=0, legend_label='Explained variance' )\n",
    "\n",
    "p.scatter( x, cum_var_exp, color='orange', size=5, legend_label=\"Cumulative explained variance\")\n",
    "p.line( x, cum_var_exp, color='orange', line_width=2 )\n",
    "\n",
    "p.legend.location = (235,155)\n",
    "p.legend.border_line_color = None\n",
    "p.xgrid.visible = False\n",
    "p.yaxis.axis_label = \"Explained variance in percent\"\n",
    "\n",
    "show(p)"
   ]
  },
  {
   "cell_type": "markdown",
   "metadata": {
    "id": "6WoJVAgzAd1_"
   },
   "source": [
    "<div class=\"alert alert-success\">\n",
    "\n",
    "**Questions**\n",
    "- How much variance is explained by the first two principal component(s) roughly?\n",
    "- How many components do you need to explain 90% of the variance in the data (roughly, use figure estimate)?\n",
    "</div>"
   ]
  },
  {
   "cell_type": "markdown",
   "metadata": {
    "id": "wCDZe1-gAd2A"
   },
   "source": [
    "<div class=\"alert alert-warning\">\n",
    "<b>Answers</b>\n",
    "\n",
    "- PC1 (≈ 64%) + PC2 (≈ 15%) ≈ 79% of the variance is explained by the first two principal components.\n",
    "\n",
    "- We need the first 5 components to explain 90% of the variance in the data.  \n",
    "\n",
    "</div>"
   ]
  },
  {
   "cell_type": "markdown",
   "metadata": {
    "id": "UVkSle8XAd2A"
   },
   "source": [
    "<div class=\"alert alert-info\">\n",
    "    \n",
    "## 4. Interpret the projection\n",
    "</div>"
   ]
  },
  {
   "cell_type": "code",
   "execution_count": 21,
   "metadata": {
    "id": "iBLrNbbRAd2A"
   },
   "outputs": [],
   "source": [
    "# project the data and add the labels using the cars' type\n",
    "pca_cars = pd.DataFrame( pca.transform(cars_std), columns=[f'PC{i+1}' for i in range(pca.n_components_)])\n",
    "pca_cars['label'] = cars.Type # Small, Midsize, Compact, Van, Sporty\n",
    "\n",
    "# Again, why did we do this? WHy not from the beginning include the `Type` column in the cars_std?\n",
    "# Answer: Because `Type` is categorial (non-numeric) feature, and we wanted to include only numeric columns in the poc all PCA components\n",
    "# to be numeric when we instantiated the PCA instance:\n",
    "# > pca = PCA(n_components=len(var)).fit(cars_std)\n",
    "\n",
    "# get the different classes in the Type variable\n",
    "factors = sorted(pca_cars.label.unique()) # ['Compact', 'Large', 'Midsize', 'Small', 'Sporty', 'Van']"
   ]
  },
  {
   "cell_type": "code",
   "execution_count": 22,
   "metadata": {
    "colab": {
     "base_uri": "https://localhost:8080/",
     "height": 617
    },
    "id": "dT3Maq24Ad2A",
    "outputId": "3a2404e7-28bd-4194-efe3-a23b9b0f1baf"
   },
   "outputs": [
    {
     "data": {
      "text/html": [
       "\n",
       "  <div id=\"b4e8a8ae-aa5e-4aa1-a8b2-21f4471b72cc\" data-root-id=\"p1136\" style=\"display: contents;\"></div>\n"
      ]
     },
     "metadata": {},
     "output_type": "display_data"
    },
    {
     "data": {
      "application/javascript": "(function(root) {\n  function embed_document(root) {\n  const docs_json = {\"0d2b6612-5201-4383-9529-7cc2e071251c\":{\"version\":\"3.7.0\",\"title\":\"Bokeh Application\",\"roots\":[{\"type\":\"object\",\"name\":\"Figure\",\"id\":\"p1136\",\"attributes\":{\"x_range\":{\"type\":\"object\",\"name\":\"DataRange1d\",\"id\":\"p1138\"},\"y_range\":{\"type\":\"object\",\"name\":\"Range1d\",\"id\":\"p1146\",\"attributes\":{\"start\":-4.5,\"end\":4.8}},\"x_scale\":{\"type\":\"object\",\"name\":\"LinearScale\",\"id\":\"p1147\"},\"y_scale\":{\"type\":\"object\",\"name\":\"LinearScale\",\"id\":\"p1148\"},\"title\":{\"type\":\"object\",\"name\":\"Title\",\"id\":\"p1139\",\"attributes\":{\"text\":\"Projection onto first two principal components\"}},\"renderers\":[{\"type\":\"object\",\"name\":\"GlyphRenderer\",\"id\":\"p1179\",\"attributes\":{\"data_source\":{\"type\":\"object\",\"name\":\"ColumnDataSource\",\"id\":\"p1133\",\"attributes\":{\"selected\":{\"type\":\"object\",\"name\":\"Selection\",\"id\":\"p1134\",\"attributes\":{\"indices\":[],\"line_indices\":[]}},\"selection_policy\":{\"type\":\"object\",\"name\":\"UnionRenderers\",\"id\":\"p1135\"},\"data\":{\"type\":\"map\",\"entries\":[[\"index\",{\"type\":\"ndarray\",\"array\":{\"type\":\"bytes\",\"data\":\"AAAAAAEAAAACAAAAAwAAAAQAAAAFAAAABgAAAAcAAAAIAAAACQAAAAoAAAALAAAADAAAAA0AAAAOAAAADwAAABAAAAARAAAAEgAAABMAAAAUAAAAFQAAABYAAAAXAAAAGAAAABkAAAAaAAAAGwAAABwAAAAdAAAAHgAAAB8AAAAgAAAAIQAAACIAAAAjAAAAJAAAACUAAAAmAAAAJwAAACgAAAApAAAAKgAAACsAAAAsAAAALQAAAC4AAAAvAAAAMAAAADEAAAAyAAAAMwAAADQAAAA1AAAANgAAADcAAAA4AAAAOQAAADoAAAA7AAAAPAAAAD0AAAA+AAAAPwAAAEAAAABBAAAAQgAAAEMAAABEAAAARQAAAEYAAABHAAAASAAAAEkAAABKAAAASwAAAEwAAABNAAAATgAAAE8AAABQAAAAUQAAAFIAAABTAAAAVAAAAFUAAABWAAAAVwAAAFgAAABZAAAAWgAAAA==\"},\"shape\":[91],\"dtype\":\"int32\",\"order\":\"little\"}],[\"PC1\",{\"type\":\"ndarray\",\"array\":{\"type\":\"bytes\",\"data\":\"/GMU35VVAsDdr7F9tagFQCIp4OZEoPI/5qySFoV/BUDRzhN7qnH2P3qR0AstdeO/WS8QrVSDB0DLsqeSuq4XQL8cRXBgQghAVKKpUCYTFkD7PJNoqn4XQP8KqnrWTwHAxyrr89Ly/b8tGNOjgEr4P6gmjPVLArS/VE7Rh0GhCEAa82BsawsUQAJcCQvJjhRAtfAYz12iAED1+FkOVGKxPzpjnGGrxAdAqmU+extKEcBnO1Uq6bYAwIq6/FE21Om/TyvZmn2YA0BHgpvyNnd+P8UYIeaKJgVAA40BSulXC8BVl7vBdO4CQDkohp83dBfASqTVTpArBsCuebhuJ/b2v8LeaCCxrvC/5hQ/y6eB+r/U0K0l/CIIQIwfWmaYpvI/GWAvu4NQFEA+SULG7bEfwLduswysxQ/Ak3DJg7P48r848wvr7okTwMtgiOrlcPC/RuboZZXmEMBUeTz/FbEFwMWgwVIdcBDAiMmcu3iS5r8CzPXdyzEZQFrR5oMvMAJAqB5J8PhwBkBHym1QhLYQQOqoku7d5hhAQ5VY/qFdEMBmrRL1GL0HwJlGKAVZR++/NKFswmj1AUBs26U25mLTv9lLdkcgdRFA3a5e4RjkB8Ar26wDSbwAQAMSu8WTBgzA5mOJCD7uA0D+qmeE4qMLwIcIcD+laum/IdV/4mjJB0DyLKqFacX2Px95gk9jjfS/3LdiZ64x5L9xsRtFUOIMQL/nMjIElAdAD6uSlgeu/r+jD+uPk0QSwKWMSZYZigDANM2zJssK/T8KtbE4P9b/P54Yok62uQZAbNzBKS2N0r+DM5uUStwEwIRmLhlpzhnAGnRuevbwCMBml308Uq/vv/ggkAlJeBrAchwA2d8sE8C0J6m2zoz0v9BT1TplydK/QhNM3Tou/T98V6i2tpUQwDKIr8x2CPw/i3EKAEpR8b9jwTlS7EKpv8DubMOB8da/tOqjGeSv6T8=\"},\"shape\":[91],\"dtype\":\"float64\",\"order\":\"little\"}],[\"PC2\",{\"type\":\"ndarray\",\"array\":{\"type\":\"bytes\",\"data\":\"Wb8bFd697j8hM5L8Vb0BQGBU1PA67P0/dEowhBKSA0BNwx9zQd0CQJnVsssc/+6/lgXxohzA879CuCfuMjQCwPzcMAiOopy/pjFVZZrvjD8VAFIqQFMIQJhyX/TDceG/dXqE0kif7L+R29Jx5if2v5RODYq7KvG/55VFoadDAcBG+y96oAYLwFgU/Xn1bQPAQNQqi4tC7r8YXnCwRL3xv/KCUcdkqYs/bELkJUC40z91chg+kpTyv4X13yUqY/e/7SltgUG89r+V/b5ArUX4vxxXNNEwtgFAyeYeHFxOwT/7pwuOzAbCv7Tx6CTE/sW/ZUTERTbW0T+0AQ6xLz/7vx0BUjdL2Oa/2DePsI4MvL9+Q1Ml8hD6vw4bHxpV3uK/PVx+CT6OAMBzY0pp1w7nP8bKx187sdE/+5sfCMp88z8T964GfhTjP6LP1Yk6rOA/5Hv3TWRJ37+t1QAzx9aSP5n7GV9QiMM/4P6RUkg40L8pEz7w77wQQOVr1c28F/I/4P7xRIH9CUBPI1E/ObnNPzozT6Va89Q/OaCOO8Xv5b8hOPHSHgfYv/jrGhoQNsI/S6OEBP6a8b+dEEp3xnoAQBIS9GvdNRhAv7lwXl894z+Z/Dsec74BwBMbDZjybcK/xJAVWJbr9D9uDVFAirTWP3B0bWArELa/2a36uGDQ+b8y2EE7dcG4P5AQZjGwXLw/uLeaWuPq5b8Qgkd8L3P9v5GFL2k5E/S/6/xavOqv2r+5X3UTHLCQvzRurVuA6+m/xzwxGoMM8r8XjAKVEDbhv40bppXQy+a/hC2/Ww0YAkBgmuo+mUL1v+wUTKGRSOI/FS9KKy+A0789mNatRMfiP/JB0qXxhuc/Cvkw02Im0b+uHZKeTQ7gPy5XPj/VPaK/AlGWOo/65b8qz958ytGZv2IsYxZLm/W/miceyvsS8T/uiZO6dxYAQLvS/dLEVeQ/M2j9CYhc/j8=\"},\"shape\":[91],\"dtype\":\"float64\",\"order\":\"little\"}],[\"PC3\",{\"type\":\"ndarray\",\"array\":{\"type\":\"bytes\",\"data\":\"wf04Ixja37+oI0VlYaDBv3wWya6JMti/wHhlfyyV8r+clkEXRaPJPyj+iyOSNuK/5HmsJlou6j8unOM6x2b0P6yoL9J6+e8/16VPKOzR9T8oNP5Jh/LyP4ZqEQc8Ld0/tGcyM9dZzT/hPX9B4A79P/z9FUrPeue/cTyNVAsa57/qTlp37r37v7iLzS/huvU/X0D9eekr0j9objRS4WDTv8Bl2qGOIdw/vNWtTMJQ57+ssyowC2Hav4ANUXfEP/C/F/IsKbCE+7+zgVnRrVfmv4ZdhBnHv88/krqR7V9uu7/dH7MQXyfXP1Ya1C4NMsK/hSbjPPI/5L/DoGEsHTfivyIpi7B+F9w/m/Y29AFI2D8J416M+L39vwNmoUHYC+8/UrS5dhiz+T9jmMVA3z76P5Agq8iyVd4/7Pl/zI2Jyj8ggDC52JgDQHspMIqHc9Q/D2VvMDTn0b/zB8BgM0Duvyp5fy3ZqdA/Pv5/hq/b5r/fJJOAIsbdP5XRE0m0u9G/K9pyF22oxL/JVSt/4DLYPwSsND//7PY/goHteBhu7D+ypPt+4uzYP0KwlZSUquE/jmR8Amgc9r8qN1jAipblv/SHKIvdgdm/NgRYY3973L8DG8ftBJPuP87JNeZWyLO/yBBJ6Dr/0b97YGVkL+zMv6h43cL/gKo/OA7uloTe9L/lTYaNVCfPP2ODCriHsKY/pKjYYjcruj+DIpX13kzev/u+qYgVkOo/daZfX7gLvT8relttW83vP+oO18d1mNK/raZWlYEV/j/TQ3xe6VTsPxMOylae/d4/ZM6JotzJ97+QQnxKRX/yP09b0eOd2rg/aajv87xS8r+dQltJutTav1F2X+3hTO8/8YQSx7hxq7/cUal+qlThP0xoctNuCtq/bRSynma3AsBJ9dlq/sOrP4w6rUc5jwXAdW5bC11e8b9yb3dUBx7iv+AHI9OOjdq/j8ktbrM85L8=\"},\"shape\":[91],\"dtype\":\"float64\",\"order\":\"little\"}],[\"PC4\",{\"type\":\"ndarray\",\"array\":{\"type\":\"bytes\",\"data\":\"gJo7cbTN7j/lSuc+I6LQv+xEN+66dNW/7+mDUXUp8r+VriRmbZzYP+4OVcYiJ8m/5Em1EYnJtT9lpV2e7VDVv8xoJEIdMtK/+tlaSZ7J+L9KsFQhhiLyP0H5w6Uni9C/BRnMtCgTpT+JMaPxU0njPyKTyq5KGba/3BKthWC24j+qg1PrfEjMvw1+u1TOKpE/GrD3ATco4D8mAWL0Uf+mv6UCzkjRBPC/PLfCdbpXyT+AbCQ68FHfv6528THixOG/4wL0pvR5yj/lOMwUNDjgv5Rr+Ybg6gJAMtgBakoy2D9c9zIDbpX3P+p9ig33RPC/JM6NC+Va+z+yCs6oGdXvv5KVCt9QXOC/Vm+agLFy4z8tnl6dzK7EP5rEp480G9W/ra3aVfaVp78BGjjHSpf0v4cfk1Gwbdm/qQDeuWO45T8fZ43SkOXCv138P115LOU/td8uiXtAwr8WftEfW0PxPzsoAWtwUbY/6YxxcOuZ9z+ZqaHl0l/QPw8ZwUB91rK/dXqMe2Xb5j9I5wo+hEv6v8Y6kV129+q/emh9JNqj3b/Z4qJ0+vyRPwiu5t1NoeI/03lK8UfPpr/WwBPsaoj8v1BPjp5t8AXAqqrxN7Sc2z8YvHsFJ8zov57yIY/dYuI/0qsaZfkw9j8cYz4/d/zbP0si7S22oOg/p9jheQoEmD9HwpYk2WzQP+4jHGaDbvQ/0K4gho06lT8dgJVfCX/TP4SgBvl+lrg/6LCpl/Tkx7+BSjUCtsTLv++6gIwqjrs/80+RXRTU2T/SobLQuzfoP4axNgn4y8i/u6JLOzgBxr8QkYBIQhTcv9r40s4GwOG/hTvUovAO4L+r9b4WAp6zPyiWDdYhcNa/1DuqSWgO778YI4QWgjzMP+TDo/DfK84/lO/LIeaq279bAqg5BoqkP4aO0KzGePG/sWQ47OGmyT/YfB2xXWvmPwgm3guTxNy/+H2miVSa6D8=\"},\"shape\":[91],\"dtype\":\"float64\",\"order\":\"little\"}],[\"PC5\",{\"type\":\"ndarray\",\"array\":{\"type\":\"bytes\",\"data\":\"IYX/8IbJ5D+UuQ6AIvm1v3hLhvUiM+O/0HsV+wXr6D+RlfKrlqzSP8//FGoH7+o/NTgR0jYxyT/drdf+2JHIP7GXvmoKpdm/F4s70LTG4L/0Hdc6Gn/gPwA6pPrOa80/U0JNA4F23T+rqwCL1UPzv9mcja9KGO4/NPfjNtIrrj9AUdQAQq/kPwdaaLPKwaY/ZBkoLf0V6D8I0gGOu7K+P5Z5PEgKfME//N83pK7h5D9AI5gUcyTpv1ZLPgb556m/yRNaY7rau7+lTNpKdz7SPzqWkm3K0+W/7eO1wwt62T/SJHBU3E7wP/I3jwb6J/e/fJ/9axyqsb+wtSkfDIHtvxAcRYMP6fO/2QfAo6hk4b+vBncXC1LFvydTbaQp7di/iveXA4betz+W0iXUr6YAQNd8FCkgwcA/5Jm5/ZQusz8Ww6cBJFv9P+dU3n+Gopk/i9NNpLepx78WaStaq07Sv66mBMajNu+/FgQ0w1YzpT82j9HET9XRPwhItfjvOuC/KHa2DslK1b/cQqfyngi1P93QJXV0lO0/N4/+BAvK6b+NUyFfo0/DP35iGuGO4+o/KDHq8+lW4T/diiZm+2Tov4dMtGLdC6i/QqlJdKOK+b9BbMx0Puvzv0uS1ve9bdg/H/iBG4Ktsz8K400Luj/HP3pTjCDYAIg/mG4UkgcE3D+QvNKsWTXbv9pkdrHQv94/YxZqe+Fb3z93mtVAm57bP228oFDj6ss/DLdG+mGa8b8NXI5oIF3oP5NhAwL7x8G/DsREBvjn8L/wHb/wei3ev1xzTbetmsq/k8XX9AvRzT+XAOq56cHQP9NjA9K8z+q/7hWlfX0VlD9SV3/Sn0yxv/Q2sPpALvM/eSE0WbLZ5D+1QP8sQyLVvwdytz7yW8Y/BEwaRLWx5j8/PC2rUzv0v1KQloHy2Ns/FBNmhv4BxT+diiy87GD8v+/FCRyz/dO/Bur5vJy71D8=\"},\"shape\":[91],\"dtype\":\"float64\",\"order\":\"little\"}],[\"PC6\",{\"type\":\"ndarray\",\"array\":{\"type\":\"bytes\",\"data\":\"nREp6yd4f7/Pa1AmE8S3P3q6K9/I6eU/k2YSbRG/1z+XFBuT2BXtv+FjvTRNuei/5cVtSDCUzD+grPq7N2Hiv5WA/rnVyrm/SA78zNLj4z9g1BpWjlHWP/2UXIL8adC/9Ziv5Ahr4L8BLCBgRFviv2nLIW0xHO2/2atdOE5I6T87QcrmH3HpPwtexS2yTuw/6i+3JlvF1T8uJHJnwpzOv2ghIQeLYOG/W/2HetjZ6D/68y8mFCfNv66L9TYNGtC/E2LETped6D97VwgW7Pnwv5f/aGeCXNQ/jERc76KH1T9E+Pl3zCjkP/yahZadK/A/i89mpt6A4D/X0vp3V3PmvzlpDUhoTfK/aTvRNp8G4r/tfLbCVpi6P1ehI8IFbr4/QeJAGrCx6D9uaXJn9X7gPwSstV79hcq/Lu22ryxu5r8wLF64IdvePzi5F6NUe/S/Av75gs904j/YCSFgQZjPP2dFK74W6dg/6g71sxB167+wU3TniVbhP6h09D+3tKG/W131a01f1L9rONGbB2jcv0m1r0rCt7G/0XvTXiKe4T/ehj6YzBLgPzjtMyC/Pdu/M+Rr+Gcc7D+IU/tZEU+qPxLvcLqTALG/e/8heaU2rL9ERPoHUdzUP6X4k8PKHNw/eRD3rlp31r+34UpKOWTwP1CObeovPNe/yLeSy2gs4T/oFlurlzyyP9On6mj21dW/krgC4X/19L+gkuKyRxLVP3lE9rBcTck/HtdSIlEs6r8E0rKH3Nuyv2glKh9p0OG/5B2CIILF5r8otEOn68m8P98Mvak4xuE/44pMIvE857/6fc3G60TSv4+OxMbX/eo/IVeKxi+0p7+KMyVa9jq8vxnRICuchNA/7lFtVv7X1T/y9m+i9Zzjv4r2yx8yAOK/8dldFvQp5L9X04DhuqvcP+2FrOYpraE/k13NxDDEn7+8KCk4imPxPwEntkGkD+G/6QhOehrTnD8=\"},\"shape\":[91],\"dtype\":\"float64\",\"order\":\"little\"}],[\"PC7\",{\"type\":\"ndarray\",\"array\":{\"type\":\"bytes\",\"data\":\"XcOORLLQ0b+42XJ8xF7GP8yNifrfIsS/ruC3utSFzD8kz6ddu5/yPxrJ4LOS3tm/GSzp85A34b+URJ/xOsffP5OnbQopSKW/Rpsa3bwP4b+z3HTbG1m0P/wBLJ90s9W/M5RTDfIOzz99f+rs/3TRP1ulQiah3cS/DQaur/cw1L+hyUJLRafyP2jcOhTLb+g/N3UxvsTWwr9iug/7Ybjnv5/5TMBjt/a/714oVWzA4D+r3wmUXg+pP/feXNRFU7+/IazYay4t1b80vtqcsVTdvxO0jHXobe8/mwbAPSGk6L+XYa7H3W3Iv8S/eJITHuA/+e26t86Y6r/2un4b747qPxFpyfA8dcc/9IWdqHhpxz+aeuO+ZRPJv0UZFErPUdC/XU0la0Bq1z9oLCFbjensPxY831uZueg/41PLZIYQ5z8MYgo5ksWwv8bWRJ3OMdY/cfeyfEOV3r9DnwRqLoPJvy6hi2PUItC/hc0Rsto727/e1NM8FIDCP4SV1AfYtNQ/p+VYpP8o7T/G1sE9s53gv4g3CfEhjbI/TIlw75A3yT+k0bxptHPivwhpa4vBF6m/Q6CqHzSFuz8vRoxxYZLfvzNCn3wXPui/Rg103MHR5r+HWeED883pP/LWrJIpVuS/dWwq/s82wL9TxvCLEiLgv4uBjZXeAeO/h68syjFQuD9TkGC1d2ulv/uIKAtP4d+/UlqPL+7Mf78El7jIOi3gv2XCaMi+SOG/6YARxV2MwD8rv+Pa0s/mP6Rivf7rOJC/49vHJUIHzj8YpExf5KKIP6h9WFwWBOO/N9Ix0SX7sD+aU9PEuNnrv+FOdhO0Pti/gxKXcY+T8T+gbJy0ajrXv2mwgAswE9I/utALLy825D80vzQ8t+HRP7uw7Gjlwss/eyQolk4nur89h+L6DAfHv+yKmeDP2fI/ZlA+boL/2j+3xuIXSarkP9GgYRNMyuW/1hWaDfPkvL8=\"},\"shape\":[91],\"dtype\":\"float64\",\"order\":\"little\"}],[\"PC8\",{\"type\":\"ndarray\",\"array\":{\"type\":\"bytes\",\"data\":\"BV/9aVlEvz/DPkaOKPHfPz6DQCueVrY/NFVCCPYi3j+Eo0EhglLIv7LVrCVAh6e/qxGvW7l2yj9a902qcaPUP+LQjk17XNQ/dfX+wQ9grb/BUYac8bPdv70keTXJe8E/wLxM0pYHvz/FelyBmv/Fv1pZKO142OI/9WWsrra6878TKa9detvCv5rGpRDT0Oo/x0MwRNH66T8U3y2bMSnbv/1X4TlcfcW/NEczIvL87j+d30W1qGDLv2/T3h3qMJe/7yuJN1Nr77+2AQzBSQ6wv4bhXbA10+a/hIQTWX98zD/sNjGLbcXiP1I1HQjC+ei/Nx09FMY42D/bdCXokAHNvxGSruR9386/i7lQ0cBg0T84/J2chGj4v7uTUQaiFMU/ksUfA2RF2j+YtAPBbqjxvwq1BiDdj+K/gpHumvl127/5ZNenG1HWv3puYCJzxNO/Cs4wJak2wj8v7NJhrIvVP7+7P2FRrts/VS/T306hkT8dNl3VCuzTv4XzBJ5VHq6/juDqWmzkzz+j4KEzu9vRP/5OQBU5eq4/cX11EJLezT/HpABx8iDHPx18EUDV7tO/EfuZiZatzT+a608AijDiPyWCdcglPte/iiDDVtLmwj88EqE1rh3wP9JAwvNNZ8k//vU4YcQy4b/GKq/wWGPjP4lJlqAD+dC/a5f5lqGUur+wG0vFUpfFvymeTSi2YtU/6bzlLVmmxr/Hb/3YAP/ev3tVQtn0os8/a0COpH36zr9U84WYXI/gP1p3Jze/QJc/YjVWXN/EuL+sX/yDD9GxPwQypc2uF/O/GjtAxHt/1T/DL0j0N9jcv3C93P7iI9a/L4fvngpa2z82ZxDPllvQP31G77hNedK/4kRtA9uF5b9wIoaWHQncv6RRTTMtJeE/QuEbj1PF0r9QdJ4dz/vXP6Dye7/PQ9M/PgL9W9Ub6D9PsURaMaPYv5dD9QF3aO0/XeEuvMhZ1D8=\"},\"shape\":[91],\"dtype\":\"float64\",\"order\":\"little\"}],[\"PC9\",{\"type\":\"ndarray\",\"array\":{\"type\":\"bytes\",\"data\":\"ki6ApLGP3z9jqBT3AUTNP376oGbcicY/nWaMFFdNwr/ze4b5IKXyv+/FsrufPdA/o1h5IByKw7+2sly/P8rpvyfctrTUScy/or4yUbXK5j+DeZbBCGHrP6VQa+nveNu/tlC5x7aQwD+bygf6A0DWP0i6yQ31BNI/7B4+18Fz0b+X6W8CbMbwv75gnO1losq/ihGySiMX0D9JDGQ26eDNvwAQEsMs7uc/OooetZDE4T/wyi8Wax/FPx98XC6fOsQ/yGp9TrB1xL8qwx2ZA8XePy+zWXMGqN+/Lhjmta+Kub/4dZ5/mRvCPznk20wWFOA/gOIFgwBDqD9IRBbd2dbZP1DdJ8zbhdO/4iviExuj0r/Vvx8vxcm/P/wLJfv2yJe/XopeCxmi0T+ysT2ynnquv9y9Zv1ZVOI/lofl6tHjnj+vNuIzFXjkv9SHE2ByOrG/gG35vzQw1D/OMYkhsbfaP92wM9YgR5S/0AmcZswxnz98xNHEU2rYP2ebbBBh6d4/XBtmar9u1D/GgQbblfbFP8zJ+gDO8+w/zo2QQTxO5b9me29olhjkv/zoUsaYgsO/vEH/WabSwj8oeaJf3FXbvxnSSze34uq/a1DfliNW4D9lkCZ5PzbRv2QdFc0x5rG/f8qPV65D2j+ps147mXzev3ZoHg7PBtu/0Pn6xmZSYD/K/XmgE13PP3p0i8a1IbU/k15QGX/yyj+ONBKlI0eiP6O4dJgQPcO/9XJfDHhV1b9TFl91QAnOP9B7auDPp9Q/t/h0vjNm0T8z97l9WJPJP833dPNQXeS/DpIRk9R8rL/L8AdPUcXTvzZ3kVezn82/o6up5uPi5T++xtfGHmnfv+tgalaEC7A/j4HkGeG96z+OKGbtcX7iv4jllK7u0uO/9BznmW3dx7+14xMRdgGMv4+wZpVt3Mw/5c5aQBR04L8HcSGJNHCKv7HyFJeTx8m/K0sY/IEg1r8=\"},\"shape\":[91],\"dtype\":\"float64\",\"order\":\"little\"}],[\"PC10\",{\"type\":\"ndarray\",\"array\":{\"type\":\"bytes\",\"data\":\"7Dn7orVr3z+yx9x3AeXUP28aQuM9Qcm/keED4UZtsT/w4ZnHMKDgv7Y4tr9M8MC/ru7txn+/hD93Z1pvEtXgv4dg1bW7IMu/TY+SnV3F178tnDn6z4vKv5t7TCNWcdG/EY6NgfYZ0b/qq3UVdg3iP7QZbIYQXtk//y/QrSr5uL9cAn0VPejMv48K91wfzdO/xMHgljdqzj/a3WzENujgvwcI2RM0u+C/sBtmDTmv0D8YtfLoefW6P4pJn2nZl8i/+PZX3Mnt0T+M9yoxUKzHv/vrM1dp6uE//asdMRAAzz8MVHNox5vRPwfKxtdwWb0/vWhFbkrMzD8jtvTOBR26v8vUkC6bK8k/uT7bedxE1j/8WXolXly4P953Cq0Kw9k/YDivdTvH1D9Vzog0TIjLv86O5IicpNQ/sYACkaNZ1T/HM5B14QbTP3/d/vR/YNK/W5VVihUj0L8q0Njc6LibP1MF8M+wlae/jRLUvo8ntL9hoZG3jgvmv/urkdAiecm/FlOoh05gyb+PXVM5W+C4vwC8j6BcH8U/D7QZU8wJpj8XPscuFI3Uv3LFpnrMzLS/NiA5dJQHxz+pNXvKcgnGP7ILTLwGgu0/tBgkr7B40D/ZHI9ni8K1P+1Q1h33oNI/hYiRLa+uvr9t5mKwjazRP9ehxo2D3NW/Yk00oIzZ3T/OgXBCLSfhv+2T0q5SfNi/uaUSgwfEsD+w0Z9mo1LQvxlfGStP8p8/JMDt9BfQlb8vuhwapL+Uv3r9RbnegtW/TelWOgcc7D/azErori7SP627vhYqpNQ/vG9WWJ1XxT+3kj+Pgie5P3naiFpSGNW/HztDSGVg2L/HU6APEJeyvwDzFtOHqcq/fnIg1orrsz+yTUlZcMnQP9CSDIPCB7Y/c5BBTjHdyT/tqEIN5aDZv8iv/0DybNo/E/9YP+fO0L//PQVNC/zmv+uNakvMuNG/hsj62ABF0L8=\"},\"shape\":[91],\"dtype\":\"float64\",\"order\":\"little\"}],[\"PC11\",{\"type\":\"ndarray\",\"array\":{\"type\":\"bytes\",\"data\":\"++gNV03e0T9loBa0zU7NP47dmvnJW6c/iTjgj24u3b+0wpjo3f/hP55ZWPq55K+/OuXGzHTEuz9NfYgxeUfVP+zT0UfnDb+/lCXb1t5ZzD8e+vYUUZ3NPzb05m3hXZG/itITWjgWqz9XFohXKCOzv0HHEuCKqrM/28YQ3gAVsz+XVmlErmzAvzSXUN9Wr+G/xAE4XTHxwb+5s9qiECjlP79QWNsIdZO/w025BeCntT8vwgrb40rMP3GZPuGWDdQ/1J9ykP2w17+K3DnQprbAP0WDWtqzs+g/mfUJ0uTM2L/cfCOpXVPcPxb0/pD+qrU/bf7TVyN0Uj+5ruTOTiPQP7K80JC0Gri/yPZRaTlb2L8jUkonb83gv/4PUGYaZca/5/RtIGMRv78DypWKZhG0vwHD3h0UmbC/YGi4xiZOwj/Kzzv/fY7MvxmsCxZXw8O/srPHfGbDvD97ssLv8AzQP2W2+n9xFqS/Y5jCJVtH4L/ZRbBcppnQv1rqJ+MosXs/QljGx56c0b/cTGZpjuy2P74UiXzx/cO/lwHxhy0Lx7+oXMMMpDbIv0zb/iP29OA/C+wzsywqvD8amUVZmm/eP77NrYZdKnU/6smm0PV6eL8YytLKpRjZPwHABQy9WNm/K2DcvSwQzL/GmE6vlpi5P3lnisg7T9I/1NOmRIt3hj+dCICBdjTbv4L5yg1u7dc/aCVRTW0f1b+aKxeaXzSvP65FTvXJy7w/HR8OXr/n4r+7eP8KkF7Uv9EWbVquOJ8/pqQsjtGhwb/qIzII/hnhP4nRT6xPyqS/q263ZnF60L8LsZHTBCrOv1zwy3MQCOE/znGGN/5iqT/OGOQRLLrDP6xIFOyvNb0/zrUc4shDxj+Puc96c7e1v4XSNVQebs+/Kb9waG9x1T/HtqGqAzS6v48gQZbUHq0/gCfUFxuZvr8j3UtUT7bcv3+myjFd24+/zRlqy9pm378=\"},\"shape\":[91],\"dtype\":\"float64\",\"order\":\"little\"}],[\"PC12\",{\"type\":\"ndarray\",\"array\":{\"type\":\"bytes\",\"data\":\"aeK2nu7l0T9RzOf1tVqfv3MDSYOUTNi/y1r9dralvL8aDgu+xp+4v8T/Wiyq5L4/rDiD8KcHzT/vD2TokJLgPxe5kfZ/7tA/NbsJayLxrj8wyYQsKWDEP8ZZDHvcuNG/KSrld5Mvlb8FJxQ4FvWxP+lSLdZennS/xAqOEF0U0j8BAFC+tVDYP/lrzybPw8q/D9IChiCXvj+s2x/qeOewP3SUikr9Etm/m4anNkMgxz/A5sYVAaeQP6257ReRea0/ODyuqgfAx79Lyygffh6aP6QkoiywEOG/68HhmCzNo7+NK4BZ1LLCP7uU1KoSfNQ/qs+c7e/p1j91eW4pvFq1P9fE7qGZn9C/C0IWJgv81j8oQIVTii/Nv/PJ2Bqg4dy/k93C5fexw78C4fy2xxy3P1xCx6nFgsk/mFwklIkg4D8fRaAbhsfXv25uasobH92/vhlOr8HG2L/GJ4Ekz+i9P+62cFkp0rq/OlLx1zf8xz/Jd5Ygo7i2P0Zp///cv7W/lPwjFEQz0D+G7j79O+rOPxZ+XxlJnRU/Em7l7xaktL8fFXN+YB6Fv/NoyD92F6c/RHpZe8Oc0r9ru6Mj+UjgP4kEpg4C38G/TszySe/iyz+ktqlIVeHTv7co/zdGXcY/WvQ8QqmM3L/XUac0NZy5v1ynRZ79WNK/Jt2TiR2B1r/bnhMnxCHQv+qY0VPm8MG/ceb22babvj/P/yL9ZXfLP2hEYtAgU8g/3H4FbPTMwL+cciZofynCv/ru07zDi8e/zRjFoboXwD8JpoBuGSnTv+PDBWfVcdw/aMYtJJcjwz92kbM/MzONP+qkMpBnAsC/orw9IsvPsb9K95RnM1PEv3UQqv8ncq4/vkhxJqtrwj8Dk0CzWHWdP8jS0m8x+K0/0XPeF46+ub9hzq+FHH2Ov5qNla9Qz9S/CMwp8l0Ujr/6kt8+kVnTP4i2t9oOtKo/m1NImCnavz8=\"},\"shape\":[91],\"dtype\":\"float64\",\"order\":\"little\"}],[\"PC13\",{\"type\":\"ndarray\",\"array\":{\"type\":\"bytes\",\"data\":\"nxV7n7c7o7+G56uoU3yRPysLriG6HMU/EnlmwVtC07/74BdLLleQv/LQdIUuJsq/cLK2tpEWo7/8MGX0Aoq8v9PaTa0829E/STsZ9m2b2L+2i96CXj7Iv8UQloB/8Oe/8hvj7rHDnL8tax7euwaQvz2d4ZXHhZE/KGP0pNS5tD8jTnUL1KDJv3VPNj056NO/hLZCX9eMxz/KF2VFheOnv9oIKORHLtk/ZDOgSnbOyb+SkiONkgfKv+crPxZNWK2/3zIkW3M+gb+DdrRshUWgP1YUvuWwo8G/W+/+F+qjzr8ZhLcmVcrLv4cfOBnxt7A/oAusSe4nwL8JKK27Z1HJv3LwOhO7bsO/cPmypUtA0j+GLwAQHVXDvziL/eodHbe/aWL7WFZ5Sr9lJyr1W2TDP2nLdRZKxdM/rdBdSSeStz+jZJyBht7XPz9aN1Q7T5m/hHZp5zXbrr+o9DGRRorEvzy88X3n4oy/cvjIeI8bmb980vXdHUXFP14hZ8+9Y9Q/TP8pz6ju3D96gGWaVwfTP2iGS8GfLLs/va66uuYLxT9LasmLz52IPxiYgQzW/qa/OZdE4Bo+qj/g2qjjblvSPyYI5uIx9uG/lQ/YulWY0z95e5dDmqXNP2XD2wQ2NLC/CxEILIZxwD9n62AEVre7Py31NbnAo6c/nog7UZUR4D9eOLKDbVqoPxNStIboDKS/SoCD7pzRo788UeXaQjbCP4f9oNWD4bO/8jd5dwRWkT9qG0F04UCjv94EynxTlNu/kcPlMdMRv79Spto4/yfMvw3dgKtv0rG/lKK8fQY95b9JtceBP3RsPzoUnXmFYNA/JpxKIx900r8OriGKH+jJP3bNt0h0KcE/+um/knu517/WL7T0Ek7KP/0OrPfYXKU/xz3B9+d72D+bQsOiILvAv54RGbVuRtw/qg71VhmRlL+qx6mllIPBv5dhTyilttE/cq2iFA6/zj8=\"},\"shape\":[91],\"dtype\":\"float64\",\"order\":\"little\"}],[\"PC14\",{\"type\":\"ndarray\",\"array\":{\"type\":\"bytes\",\"data\":\"lyHJ5c4gpL9RaPn8G4qDvyBupyk8qqI/pbFvbJI0wD9/05kAGQfHv2fwllktpdM/HsXNzwDrvT9jmrJClgTfv2Pk2UcmC42/s7RbQtVKsD/CtlZcei/FP+r/0yVBkNM/oTOaBvZp0T8JZrmU6eaNPxzy9oCUQLg/vb11KGfTpr+fVb1qSNCuv7shZ+mv5Mu/i5PksBlTkz9Sr0G227jKv1WFwhZUDLa/y5aP7Bp20L+CduY/v+e4v7GjjIZ4UsW/VwoDXW0kwL8hdU/rIqK8v0hJXcuDiss/R9xQur3e1r9mHpw7SKCuP8aHQcCTCcO/v3+F/42Smr8l2zQniFWpvwwIvMAIIMO/S/8KFwlkwL/l7eP3jC2lP7hzUuagN7c/OO5NQQu3pb/o7klXBVORv6H/m8zum7g/anZHoPYIrD/qcViLaEPPv+bOzyd05ru/IAlYpZbGx7+TRUQ7i9q2P8srrBNigsk/3oSVXj8Gnr+VqciTlnHKv8jZzfAkJME/H5CEpBlynb8X1yBN4E/KP8+O7hHQVoG/zKtSNEL/0j8TtMi4efHRP/BVW5LHesc/k40rReYMwT/BxSlFM/PZPzXcHBLdc9C/e6fP91Dk2L+2EWgOALvCvycQC2bKCNK/oUaTI6csu7/XyHTZqJ3Nv399N7eKerm/uso9LDQGyD9Czf3Jn23Cv5WrrAnIp5e/wYtmWeozsz/5lrk/dQa8vyCch2M6cbg/27Yc2RGMnj/rgSp2zZDRP+2LT4/+BMQ/vdzRU8Dirr+ytXkuFS+yP53+6oXkB8s/K9MPAo6U0b/v3nQttqDaP6kPBqhSuLi/x1Gr45IpsL9tzGn7nbaRP5DW5loKC9K/+oM0pvOFuD/gZ9j1FUR+Py7CjRGKHoY/v0nC4EQHh7/gH1LfVcCwP3CuxeK+thc/NHeFvp6o1D9fZx4LeZrLPx7DIkMGYrK/d/AsjPx1zD8=\"},\"shape\":[91],\"dtype\":\"float64\",\"order\":\"little\"}],[\"PC15\",{\"type\":\"ndarray\",\"array\":{\"type\":\"bytes\",\"data\":\"+LPS5Ps0wD8VM965IVeiPwF4hYmcI8E/AhFUEZbuwb+HCsaSZEDZPx2QiINnKK2/XxhNxGqAsL9NSnHtijrZP1vBE5mSeq+/STkRp3kBoL+aoPH9NqG7P5yl88T13qI/pkpnyQY5pD+OdS8dxLyqP0cZhs1idKQ//LvX13rvsT9I7hrZDcvVv3Zjj7Up+cg/DvokbmNsuz8xhH/KWJrAv197p/o9TLC/PSn6qSmEgL/R7wdKeqS1Pz4DNcDCA2S/7SlZBKF7yD9fZi/esBujv11yU07rGtu/V3tSEa9wwr9ttBduLvi4vw8eBGEh78G/RwjXT5zvyz8nE/KU8VbVv3sNa23kbZC/IyFyu+f2xL9RN+IpAUnCP7KkVC3B3sc/X/lz5j9Zr78XxXHuDH2ivzyr3HKr6co/b+iy48hFpz9j+nGIgLTKvyqt/1haH7k/IllGHFkLpb9HnerFFn3FP8a06Ve+97E/fz0C0Cl8mL/W6LlsvFm0v2ApDVn8+cO/13CyNBi007/DDzu/MbCjv90htvlvro2/h93G6W1Bwr/UDPfZVkXLvzvTHWq60LW/e8bR1aZ2pj+MfkjlmciSP5peBbo8AYg/8r8GnUAqdD8mk9yYbmqsv0FqCsKHgMa/6y4T+nM+zj/pQerf3Y22v0fW2HVedrK/j1p2DBMQxj9Ji65tSPDPv2o1gs8OJq+/2Qq0vFvjq79ac4liYgTFvychnJh8pLC/8iby5ccsvL96WnH3Fs7XP4Qgi2rYc7y/iLm/PAQLpT80XrzANbK7v6iL9uH9rNE/avs7Bh0ckz9lp89PGkyjv6k1HB/j/MI/5P6POQXAr7999z3p9XzDP3oeRuaBjMM/3mwA8x06vL9ReeytdFurP7ea3v85Rc2/hFbYTdmNuL/JhazHy7fSP9PnTP+n6sk/S+wqfJpNtD8Elzb4x66yP9IPW642k5q/IDCfLqBIpD8=\"},\"shape\":[91],\"dtype\":\"float64\",\"order\":\"little\"}],[\"PC16\",{\"type\":\"ndarray\",\"array\":{\"type\":\"bytes\",\"data\":\"2yIBi5LMej8fgsZnRCluv0GfeLM/wUC/H0X944XfQL8Fv+NkdL9xP/ho7WyioHG/5ZsidgA4Rz9QxU1cKyRhv/vjRMEDLEG/k4ty/OkNcj8DoqPb2bU5P537jOwIMTO/yZzr2ISsNr+pPvDKV5AzP39UuKsxjU8/e2QtY1iHZr+3mnSy7Dlov4ZgMcX160c/IuN7ftvtVT9e8criUpVDP4gqeuqadV6/AYy+wPJjXr+ILTswFd9QP8Bo/bMGR1E/yUqsmUOIVD+nvwitIOgrP2QXGEI+j0O/gdQcS8jaSD8DgFgKKn5hv4zm90Y1KUQ/AtNnKFSsW7/VEraUbbQwv2A0GlBfzky/aO4JIRzpHr8RyH+a31swP5gdEM82ryC/LT6jqe50Qz8s8fTcjb9qP8gpC4xZ+y0/ntSyfHjjbL/wTPM6jQdZv3yqT0HDTFi/NJbPqFzxIj8g9tFnGw1fP0G/RzEqA3K/ezpxnEDacT9cjidwNLtUv78PWtS+amk/GZnWacZwZj+xTd8ke9BEv2f8621quTC/D1Ps8utoaT+i1Wku+OVQv4uBmomBhx4/316f9tfDab/Yy2EwsidwvwBtdMz/mPq+MFxPsdkQa79r3NLKOQwoPz7/DxgLDk4/PShAr5h/c79Nb/ivpwlTP10qUW47yW4/hOVVS3FbRz+PZTueDfVbvwPSz9vH0C4/v3BXKHp+Q78+TL56yj1HP6ue2COGpUg/LBkeJgYbXb9koFpAN9lxv8qaxeCcpjm/Gexdv6VxRj82Uniz2adCPyqTC947YVY/MMqFGtcpUz8dVMTAroxqP83DxJLPBC8/xem8DmYZPD+esZPYcRsTP1fJ1tAr02+/cQrU8gCiRz+d5zxGHcxCv21XqW9To0C/iAKFF2zkb7/yFsCcsDg9P5K1vgj47nU/0dF8KP2cKb8M6ogRgMA/v9cR1flSwG8/N0KxYy3kbD8=\"},\"shape\":[91],\"dtype\":\"float64\",\"order\":\"little\"}],[\"label\",{\"type\":\"ndarray\",\"array\":[\"Small\",\"Midsize\",\"Compact\",\"Midsize\",\"Midsize\",\"Midsize\",\"Large\",\"Large\",\"Midsize\",\"Large\",\"Midsize\",\"Compact\",\"Compact\",\"Sporty\",\"Midsize\",\"Van\",\"Van\",\"Large\",\"Large\",\"Compact\",\"Large\",\"Small\",\"Small\",\"Compact\",\"Van\",\"Midsize\",\"Sporty\",\"Small\",\"Large\",\"Small\",\"Small\",\"Compact\",\"Sporty\",\"Sporty\",\"Van\",\"Midsize\",\"Large\",\"Small\",\"Sporty\",\"Sporty\",\"Small\",\"Compact\",\"Small\",\"Small\",\"Sporty\",\"Midsize\",\"Midsize\",\"Midsize\",\"Midsize\",\"Midsize\",\"Large\",\"Small\",\"Small\",\"Compact\",\"Van\",\"Compact\",\"Midsize\",\"Sporty\",\"Midsize\",\"Small\",\"Midsize\",\"Small\",\"Compact\",\"Van\",\"Midsize\",\"Compact\",\"Midsize\",\"Van\",\"Large\",\"Sporty\",\"Small\",\"Compact\",\"Sporty\",\"Midsize\",\"Large\",\"Compact\",\"Small\",\"Small\",\"Small\",\"Compact\",\"Small\",\"Small\",\"Sporty\",\"Midsize\",\"Van\",\"Small\",\"Van\",\"Compact\",\"Sporty\",\"Compact\",\"Midsize\"],\"shape\":[91],\"dtype\":\"object\",\"order\":\"little\"}]]}}},\"view\":{\"type\":\"object\",\"name\":\"CDSView\",\"id\":\"p1180\",\"attributes\":{\"filter\":{\"type\":\"object\",\"name\":\"AllIndices\",\"id\":\"p1181\"}}},\"glyph\":{\"type\":\"object\",\"name\":\"Scatter\",\"id\":\"p1176\",\"attributes\":{\"x\":{\"type\":\"field\",\"field\":\"PC1\"},\"y\":{\"type\":\"field\",\"field\":\"PC2\"},\"size\":{\"type\":\"value\",\"value\":9},\"line_color\":{\"type\":\"field\",\"field\":\"label\",\"transform\":{\"type\":\"object\",\"name\":\"CategoricalColorMapper\",\"id\":\"p1172\",\"attributes\":{\"palette\":[\"#1f77b4\",\"#ff7f0e\",\"#2ca02c\",\"#d62728\",\"#9467bd\",\"#8c564b\",\"#e377c2\",\"#7f7f7f\",\"#bcbd22\",\"#17becf\"],\"factors\":[\"Compact\",\"Large\",\"Midsize\",\"Small\",\"Sporty\",\"Van\"]}}},\"fill_color\":{\"type\":\"field\",\"field\":\"label\",\"transform\":{\"id\":\"p1172\"}},\"hatch_color\":{\"type\":\"field\",\"field\":\"label\",\"transform\":{\"id\":\"p1172\"}}}},\"nonselection_glyph\":{\"type\":\"object\",\"name\":\"Scatter\",\"id\":\"p1177\",\"attributes\":{\"x\":{\"type\":\"field\",\"field\":\"PC1\"},\"y\":{\"type\":\"field\",\"field\":\"PC2\"},\"size\":{\"type\":\"value\",\"value\":9},\"line_color\":{\"type\":\"field\",\"field\":\"label\",\"transform\":{\"id\":\"p1172\"}},\"line_alpha\":{\"type\":\"value\",\"value\":0.1},\"fill_color\":{\"type\":\"field\",\"field\":\"label\",\"transform\":{\"id\":\"p1172\"}},\"fill_alpha\":{\"type\":\"value\",\"value\":0.1},\"hatch_color\":{\"type\":\"field\",\"field\":\"label\",\"transform\":{\"id\":\"p1172\"}},\"hatch_alpha\":{\"type\":\"value\",\"value\":0.1}}},\"muted_glyph\":{\"type\":\"object\",\"name\":\"Scatter\",\"id\":\"p1178\",\"attributes\":{\"x\":{\"type\":\"field\",\"field\":\"PC1\"},\"y\":{\"type\":\"field\",\"field\":\"PC2\"},\"size\":{\"type\":\"value\",\"value\":9},\"line_color\":{\"type\":\"field\",\"field\":\"label\",\"transform\":{\"id\":\"p1172\"}},\"line_alpha\":{\"type\":\"value\",\"value\":0.2},\"fill_color\":{\"type\":\"field\",\"field\":\"label\",\"transform\":{\"id\":\"p1172\"}},\"fill_alpha\":{\"type\":\"value\",\"value\":0.2},\"hatch_color\":{\"type\":\"field\",\"field\":\"label\",\"transform\":{\"id\":\"p1172\"}},\"hatch_alpha\":{\"type\":\"value\",\"value\":0.2}}}}}],\"toolbar\":{\"type\":\"object\",\"name\":\"Toolbar\",\"id\":\"p1145\",\"attributes\":{\"tools\":[{\"type\":\"object\",\"name\":\"PanTool\",\"id\":\"p1159\"},{\"type\":\"object\",\"name\":\"WheelZoomTool\",\"id\":\"p1160\",\"attributes\":{\"renderers\":\"auto\"}},{\"type\":\"object\",\"name\":\"BoxZoomTool\",\"id\":\"p1161\",\"attributes\":{\"dimensions\":\"both\",\"overlay\":{\"type\":\"object\",\"name\":\"BoxAnnotation\",\"id\":\"p1162\",\"attributes\":{\"syncable\":false,\"line_color\":\"black\",\"line_alpha\":1.0,\"line_width\":2,\"line_dash\":[4,4],\"fill_color\":\"lightgrey\",\"fill_alpha\":0.5,\"level\":\"overlay\",\"visible\":false,\"left\":{\"type\":\"number\",\"value\":\"nan\"},\"right\":{\"type\":\"number\",\"value\":\"nan\"},\"top\":{\"type\":\"number\",\"value\":\"nan\"},\"bottom\":{\"type\":\"number\",\"value\":\"nan\"},\"left_units\":\"canvas\",\"right_units\":\"canvas\",\"top_units\":\"canvas\",\"bottom_units\":\"canvas\",\"handles\":{\"type\":\"object\",\"name\":\"BoxInteractionHandles\",\"id\":\"p1168\",\"attributes\":{\"all\":{\"type\":\"object\",\"name\":\"AreaVisuals\",\"id\":\"p1167\",\"attributes\":{\"fill_color\":\"white\",\"hover_fill_color\":\"lightgray\"}}}}}}}},{\"type\":\"object\",\"name\":\"SaveTool\",\"id\":\"p1169\"},{\"type\":\"object\",\"name\":\"ResetTool\",\"id\":\"p1170\"},{\"type\":\"object\",\"name\":\"HelpTool\",\"id\":\"p1171\"}]}},\"left\":[{\"type\":\"object\",\"name\":\"LinearAxis\",\"id\":\"p1154\",\"attributes\":{\"ticker\":{\"type\":\"object\",\"name\":\"BasicTicker\",\"id\":\"p1155\",\"attributes\":{\"mantissas\":[1,2,5]}},\"formatter\":{\"type\":\"object\",\"name\":\"BasicTickFormatter\",\"id\":\"p1156\"},\"axis_label\":\"PC2\",\"major_label_policy\":{\"type\":\"object\",\"name\":\"AllLabels\",\"id\":\"p1157\"}}}],\"below\":[{\"type\":\"object\",\"name\":\"LinearAxis\",\"id\":\"p1149\",\"attributes\":{\"ticker\":{\"type\":\"object\",\"name\":\"BasicTicker\",\"id\":\"p1150\",\"attributes\":{\"mantissas\":[1,2,5]}},\"formatter\":{\"type\":\"object\",\"name\":\"BasicTickFormatter\",\"id\":\"p1151\"},\"axis_label\":\"PC1\",\"major_label_policy\":{\"type\":\"object\",\"name\":\"AllLabels\",\"id\":\"p1152\"}}}],\"center\":[{\"type\":\"object\",\"name\":\"Grid\",\"id\":\"p1153\",\"attributes\":{\"axis\":{\"id\":\"p1149\"}}},{\"type\":\"object\",\"name\":\"Grid\",\"id\":\"p1158\",\"attributes\":{\"dimension\":1,\"axis\":{\"id\":\"p1154\"}}},{\"type\":\"object\",\"name\":\"Legend\",\"id\":\"p1182\",\"attributes\":{\"items\":[{\"type\":\"object\",\"name\":\"LegendItem\",\"id\":\"p1183\",\"attributes\":{\"label\":{\"type\":\"value\",\"value\":\"Compact\"},\"renderers\":[{\"id\":\"p1179\"}],\"index\":2}},{\"type\":\"object\",\"name\":\"LegendItem\",\"id\":\"p1184\",\"attributes\":{\"label\":{\"type\":\"value\",\"value\":\"Large\"},\"renderers\":[{\"id\":\"p1179\"}],\"index\":6}},{\"type\":\"object\",\"name\":\"LegendItem\",\"id\":\"p1185\",\"attributes\":{\"label\":{\"type\":\"value\",\"value\":\"Midsize\"},\"renderers\":[{\"id\":\"p1179\"}],\"index\":1}},{\"type\":\"object\",\"name\":\"LegendItem\",\"id\":\"p1186\",\"attributes\":{\"label\":{\"type\":\"value\",\"value\":\"Small\"},\"renderers\":[{\"id\":\"p1179\"}],\"index\":0}},{\"type\":\"object\",\"name\":\"LegendItem\",\"id\":\"p1187\",\"attributes\":{\"label\":{\"type\":\"value\",\"value\":\"Sporty\"},\"renderers\":[{\"id\":\"p1179\"}],\"index\":13}},{\"type\":\"object\",\"name\":\"LegendItem\",\"id\":\"p1188\",\"attributes\":{\"label\":{\"type\":\"value\",\"value\":\"Van\"},\"renderers\":[{\"id\":\"p1179\"}],\"index\":15}}]}}]}}]}};\n  const render_items = [{\"docid\":\"0d2b6612-5201-4383-9529-7cc2e071251c\",\"roots\":{\"p1136\":\"b4e8a8ae-aa5e-4aa1-a8b2-21f4471b72cc\"},\"root_ids\":[\"p1136\"]}];\n  void root.Bokeh.embed.embed_items_notebook(docs_json, render_items);\n  }\n  if (root.Bokeh !== undefined) {\n    embed_document(root);\n  } else {\n    let attempts = 0;\n    const timer = setInterval(function(root) {\n      if (root.Bokeh !== undefined) {\n        clearInterval(timer);\n        embed_document(root);\n      } else {\n        attempts++;\n        if (attempts > 100) {\n          clearInterval(timer);\n          console.log(\"Bokeh: ERROR: Unable to run BokehJS code because BokehJS library is missing\");\n        }\n      }\n    }, 10, root)\n  }\n})(window);",
      "application/vnd.bokehjs_exec.v0+json": ""
     },
     "metadata": {
      "application/vnd.bokehjs_exec.v0+json": {
       "id": "p1136"
      }
     },
     "output_type": "display_data"
    }
   ],
   "source": [
    "source = ColumnDataSource(pca_cars)\n",
    "\n",
    "p = figure( width=600, height=600, y_range=(-4.5,4.8),\n",
    "            title=\"Projection onto first two principal components\")\n",
    "\n",
    "p.scatter( source=source, x='PC1', y='PC2', size=9, legend_group='label',\n",
    "          color=factor_cmap(field_name='label', palette=Category10[10], factors=factors))\n",
    "p.xaxis.axis_label = 'PC1'\n",
    "p.yaxis.axis_label = 'PC2'\n",
    "\n",
    "show(p)"
   ]
  },
  {
   "cell_type": "markdown",
   "metadata": {
    "id": "1UXfnQL7Ad2A"
   },
   "source": [
    "<div class=\"alert alert-success\">\n",
    "\n",
    "**Explain the axes**\n",
    "\n",
    "The figure above shows the projected cars data. Explain the x- and y-axis. What can you tell about cars that are located on the left/right and what about cars at the top/bottom?\n",
    "</div>\n",
    "\n",
    "Hints:\n",
    "- You cannot solve the problem using the current chart only. You need some additional technique as explained in lecture.\n",
    "- The eigenvectors can be obtained through `pca.components_`\n",
    "- A biplot is most helpful for the upcoming questions."
   ]
  },
  {
   "cell_type": "code",
   "execution_count": 23,
   "metadata": {
    "colab": {
     "base_uri": "https://localhost:8080/"
    },
    "id": "tN015zPS-msp",
    "outputId": "7ef365a0-9d7f-4e14-a3a4-91befce3ec35"
   },
   "outputs": [
    {
     "name": "stdout",
     "output_type": "stream",
     "text": [
      "\n",
      "Top features for PC1: ['Weight', 'Engine', 'Tank', 'Width', 'Cylinders', 'CityMpg', 'Length', 'Horsepower', 'HighwayMpg', 'UTurn', 'EngineRev', 'MinPrice', 'MidPrice', 'MaxPrice', 'Passenger', 'RPM']\n",
      "Top features for PC2: ['RPM', 'MaxPrice', 'MidPrice', 'MinPrice', 'Passenger', 'Horsepower', 'UTurn', 'Width', 'EngineRev', 'Length', 'Engine', 'CityMpg', 'Weight', 'Tank', 'HighwayMpg', 'Cylinders']\n",
      "\n",
      "PC1 contributions:\n",
      "----------------------------------------\n",
      "Weight: 0.2987\n",
      "Engine: 0.2895\n",
      "Tank: 0.2752\n",
      "Width: 0.2746\n",
      "Cylinders: 0.2716\n",
      "CityMpg: -0.2716\n",
      "Length: 0.2632\n",
      "Horsepower: 0.2562\n",
      "HighwayMpg: -0.2529\n",
      "UTurn: 0.2486\n",
      "EngineRev: -0.2475\n",
      "MinPrice: 0.2395\n",
      "MidPrice: 0.2290\n",
      "MaxPrice: 0.2113\n",
      "Passenger: 0.1803\n",
      "RPM: -0.1391\n",
      "\n",
      "PC2 contributions:\n",
      "----------------------------------------\n",
      "RPM: 0.4413\n",
      "MaxPrice: 0.4369\n",
      "MidPrice: 0.4196\n",
      "MinPrice: 0.3743\n",
      "Passenger: -0.3100\n",
      "Horsepower: 0.2607\n",
      "UTurn: -0.2084\n",
      "Width: -0.1990\n",
      "EngineRev: 0.1780\n",
      "Length: -0.0899\n",
      "Engine: -0.0818\n",
      "CityMpg: 0.0393\n",
      "Weight: -0.0379\n",
      "Tank: -0.0268\n",
      "HighwayMpg: 0.0237\n",
      "Cylinders: 0.0206\n"
     ]
    }
   ],
   "source": [
    "components = pca.components_ # 2D matrix of shape: (16, 16)\n",
    "\n",
    "feature_names = var\n",
    "# Rows represent principal components (PC1, PC2, ..., PC16).\n",
    "# Columns represent the original features in the dataset.\n",
    "\n",
    "# - The first row (components[0]) corresponds to PC1.\n",
    "# - The second row (components[1]) corresponds to PC2.\n",
    "# - The values in each row indicate the contribution (or \"weight\") of each original feature to the respective principal component.\n",
    "\n",
    "pc1 = components[0]\n",
    "pc2 = components[1]\n",
    "\n",
    "# np.argsort returns the indices that would sort an array.\n",
    "# np.abs(pc1)\n",
    "# [::-1] reverses the array so that the indices are indices of the array sorted descending\n",
    "\n",
    "pc1_idxs = np.argsort(np.abs(components[0]))[::-1]  # Sorted by magnitude descending\n",
    "pc2_idxs = np.argsort(np.abs(components[1]))[::-1]\n",
    "\n",
    "pc1_features = [feature_names[i] for i in pc1_idxs]\n",
    "pc2_features = [feature_names[i] for i in pc2_idxs]\n",
    "\n",
    "print(\"\\nTop features for PC1:\", pc1_features)\n",
    "print(\"Top features for PC2:\", pc2_features)\n",
    "\n",
    "# Print PC contributions sorted:\n",
    "print(\"\\nPC1 contributions:\")\n",
    "print('----------------------------------------')\n",
    "for feature, weight in zip(pc1_features, pc1[pc1_idxs]):\n",
    "    print(f\"{feature}: {weight:.4f}\")\n",
    "\n",
    "print(\"\\nPC2 contributions:\")\n",
    "print('----------------------------------------')\n",
    "for feature, weight in zip(pc2_features, pc2[pc2_idxs]):\n",
    "    print(f\"{feature}: {weight:.4f}\")"
   ]
  },
  {
   "cell_type": "markdown",
   "metadata": {
    "id": "5_obn4A5Uq7_"
   },
   "source": [
    "**Principal Components (PCs):**\n",
    "\n",
    "- PC1 and PC2 are not individual features; they are linear combinations of all original features.\n",
    "- Each feature (e.g., RM, Weight) contributes to both PC1 and PC2, but the magnitude of their contributions (loadings) determines which PC they influence more."
   ]
  },
  {
   "cell_type": "code",
   "execution_count": 29,
   "metadata": {
    "colab": {
     "base_uri": "https://localhost:8080/",
     "height": 617
    },
    "id": "n3VBd5ExMSZe",
    "outputId": "f2f1f904-8c25-4f40-c855-f1820253c600"
   },
   "outputs": [
    {
     "data": {
      "text/html": [
       "\n",
       "  <div id=\"a6ca3bf7-41fe-4873-a54f-5f186a8abd0d\" data-root-id=\"p1755\" style=\"display: contents;\"></div>\n"
      ]
     },
     "metadata": {},
     "output_type": "display_data"
    },
    {
     "data": {
      "application/javascript": "(function(root) {\n  function embed_document(root) {\n  const docs_json = {\"48f03fc7-7bf9-4dae-adcd-7e9d2ca4e4d3\":{\"version\":\"3.7.0\",\"title\":\"Bokeh Application\",\"roots\":[{\"type\":\"object\",\"name\":\"Row\",\"id\":\"p1755\",\"attributes\":{\"children\":[{\"type\":\"object\",\"name\":\"Figure\",\"id\":\"p1661\",\"attributes\":{\"width\":500,\"height\":500,\"x_range\":{\"type\":\"object\",\"name\":\"DataRange1d\",\"id\":\"p1663\"},\"y_range\":{\"type\":\"object\",\"name\":\"FactorRange\",\"id\":\"p1671\",\"attributes\":{\"factors\":[\"Weight\",\"Engine\",\"Tank\",\"Width\",\"Cylinders\",\"CityMpg\",\"Length\",\"Horsepower\",\"HighwayMpg\",\"UTurn\",\"EngineRev\",\"MinPrice\",\"MidPrice\",\"MaxPrice\",\"Passenger\",\"RPM\"]}},\"x_scale\":{\"type\":\"object\",\"name\":\"LinearScale\",\"id\":\"p1672\"},\"y_scale\":{\"type\":\"object\",\"name\":\"CategoricalScale\",\"id\":\"p1673\"},\"title\":{\"type\":\"object\",\"name\":\"Title\",\"id\":\"p1664\",\"attributes\":{\"text\":\"PC1 features contribution\"}},\"renderers\":[{\"type\":\"object\",\"name\":\"GlyphRenderer\",\"id\":\"p1703\",\"attributes\":{\"data_source\":{\"type\":\"object\",\"name\":\"ColumnDataSource\",\"id\":\"p1658\",\"attributes\":{\"selected\":{\"type\":\"object\",\"name\":\"Selection\",\"id\":\"p1659\",\"attributes\":{\"indices\":[],\"line_indices\":[]}},\"selection_policy\":{\"type\":\"object\",\"name\":\"UnionRenderers\",\"id\":\"p1660\"},\"data\":{\"type\":\"map\",\"entries\":[[\"pc1_features\",[\"Weight\",\"Engine\",\"Tank\",\"Width\",\"Cylinders\",\"CityMpg\",\"Length\",\"Horsepower\",\"HighwayMpg\",\"UTurn\",\"EngineRev\",\"MinPrice\",\"MidPrice\",\"MaxPrice\",\"Passenger\",\"RPM\"]],[\"pc2_features\",[\"RPM\",\"MaxPrice\",\"MidPrice\",\"MinPrice\",\"Passenger\",\"Horsepower\",\"UTurn\",\"Width\",\"EngineRev\",\"Length\",\"Engine\",\"CityMpg\",\"Weight\",\"Tank\",\"HighwayMpg\",\"Cylinders\"]],[\"pc1_scores\",{\"type\":\"ndarray\",\"array\":{\"type\":\"bytes\",\"data\":\"9maF8TMe0z9NFQ6oSIfSP3YgOPwWnNE/Bt5lASCT0T8P8WVyXWLRP9ANgGiqYdG/tzjo7lfY0D8wU9xEMGbQPw8o/Vj0L9C/ZN3oLbzSzz8ThhzHLa/Pv7uCZ2Kqp84/KYWAbX5QzT/eU9DJhQzLPzdUROuIEsc/A+OyE2nOwb8=\"},\"shape\":[16],\"dtype\":\"float64\",\"order\":\"little\"}],[\"pc2_scores\",{\"type\":\"ndarray\",\"array\":{\"type\":\"bytes\",\"data\":\"CiU1LvQ93D+87OFydPbbP0m7Dn532to/Hw0qW4n01z8spxR31NfTv5IoVj9ar9A/ff6r7l2ryr+ervHJOXfJv6UwNBZSx8Y/NkWyTScFt78yWWQSH/K0v1F6SgtjH6Q/UG6tzjxoo7/CAaMl5WibvyzZHzaRQJg/7MCRXxQdlT8=\"},\"shape\":[16],\"dtype\":\"float64\",\"order\":\"little\"}]]}}},\"view\":{\"type\":\"object\",\"name\":\"CDSView\",\"id\":\"p1704\",\"attributes\":{\"filter\":{\"type\":\"object\",\"name\":\"AllIndices\",\"id\":\"p1705\"}}},\"glyph\":{\"type\":\"object\",\"name\":\"HBar\",\"id\":\"p1700\",\"attributes\":{\"y\":{\"type\":\"field\",\"field\":\"pc1_features\"},\"height\":{\"type\":\"value\",\"value\":0.5},\"right\":{\"type\":\"field\",\"field\":\"pc1_scores\"},\"line_color\":{\"type\":\"value\",\"value\":\"#1f77b4\"},\"fill_color\":{\"type\":\"value\",\"value\":\"#1f77b4\"}}},\"nonselection_glyph\":{\"type\":\"object\",\"name\":\"HBar\",\"id\":\"p1701\",\"attributes\":{\"y\":{\"type\":\"field\",\"field\":\"pc1_features\"},\"height\":{\"type\":\"value\",\"value\":0.5},\"right\":{\"type\":\"field\",\"field\":\"pc1_scores\"},\"line_color\":{\"type\":\"value\",\"value\":\"#1f77b4\"},\"line_alpha\":{\"type\":\"value\",\"value\":0.1},\"fill_color\":{\"type\":\"value\",\"value\":\"#1f77b4\"},\"fill_alpha\":{\"type\":\"value\",\"value\":0.1},\"hatch_alpha\":{\"type\":\"value\",\"value\":0.1}}},\"muted_glyph\":{\"type\":\"object\",\"name\":\"HBar\",\"id\":\"p1702\",\"attributes\":{\"y\":{\"type\":\"field\",\"field\":\"pc1_features\"},\"height\":{\"type\":\"value\",\"value\":0.5},\"right\":{\"type\":\"field\",\"field\":\"pc1_scores\"},\"line_color\":{\"type\":\"value\",\"value\":\"#1f77b4\"},\"line_alpha\":{\"type\":\"value\",\"value\":0.2},\"fill_color\":{\"type\":\"value\",\"value\":\"#1f77b4\"},\"fill_alpha\":{\"type\":\"value\",\"value\":0.2},\"hatch_alpha\":{\"type\":\"value\",\"value\":0.2}}}}}],\"toolbar\":{\"type\":\"object\",\"name\":\"Toolbar\",\"id\":\"p1670\",\"attributes\":{\"tools\":[{\"type\":\"object\",\"name\":\"PanTool\",\"id\":\"p1684\"},{\"type\":\"object\",\"name\":\"WheelZoomTool\",\"id\":\"p1685\",\"attributes\":{\"renderers\":\"auto\"}},{\"type\":\"object\",\"name\":\"BoxZoomTool\",\"id\":\"p1686\",\"attributes\":{\"dimensions\":\"both\",\"overlay\":{\"type\":\"object\",\"name\":\"BoxAnnotation\",\"id\":\"p1687\",\"attributes\":{\"syncable\":false,\"line_color\":\"black\",\"line_alpha\":1.0,\"line_width\":2,\"line_dash\":[4,4],\"fill_color\":\"lightgrey\",\"fill_alpha\":0.5,\"level\":\"overlay\",\"visible\":false,\"left\":{\"type\":\"number\",\"value\":\"nan\"},\"right\":{\"type\":\"number\",\"value\":\"nan\"},\"top\":{\"type\":\"number\",\"value\":\"nan\"},\"bottom\":{\"type\":\"number\",\"value\":\"nan\"},\"left_units\":\"canvas\",\"right_units\":\"canvas\",\"top_units\":\"canvas\",\"bottom_units\":\"canvas\",\"handles\":{\"type\":\"object\",\"name\":\"BoxInteractionHandles\",\"id\":\"p1693\",\"attributes\":{\"all\":{\"type\":\"object\",\"name\":\"AreaVisuals\",\"id\":\"p1692\",\"attributes\":{\"fill_color\":\"white\",\"hover_fill_color\":\"lightgray\"}}}}}}}},{\"type\":\"object\",\"name\":\"SaveTool\",\"id\":\"p1694\"},{\"type\":\"object\",\"name\":\"ResetTool\",\"id\":\"p1695\"},{\"type\":\"object\",\"name\":\"HelpTool\",\"id\":\"p1696\"}]}},\"toolbar_location\":null,\"left\":[{\"type\":\"object\",\"name\":\"CategoricalAxis\",\"id\":\"p1679\",\"attributes\":{\"ticker\":{\"type\":\"object\",\"name\":\"CategoricalTicker\",\"id\":\"p1680\"},\"formatter\":{\"type\":\"object\",\"name\":\"CategoricalTickFormatter\",\"id\":\"p1681\"},\"major_label_policy\":{\"type\":\"object\",\"name\":\"AllLabels\",\"id\":\"p1682\"}}}],\"below\":[{\"type\":\"object\",\"name\":\"LinearAxis\",\"id\":\"p1674\",\"attributes\":{\"ticker\":{\"type\":\"object\",\"name\":\"BasicTicker\",\"id\":\"p1675\",\"attributes\":{\"mantissas\":[1,2,5]}},\"formatter\":{\"type\":\"object\",\"name\":\"BasicTickFormatter\",\"id\":\"p1676\"},\"major_label_policy\":{\"type\":\"object\",\"name\":\"AllLabels\",\"id\":\"p1677\"}}}],\"center\":[{\"type\":\"object\",\"name\":\"Grid\",\"id\":\"p1678\",\"attributes\":{\"axis\":{\"id\":\"p1674\"}}},{\"type\":\"object\",\"name\":\"Grid\",\"id\":\"p1683\",\"attributes\":{\"dimension\":1,\"axis\":{\"id\":\"p1679\"}}},{\"type\":\"object\",\"name\":\"Legend\",\"id\":\"p1706\",\"attributes\":{\"items\":[{\"type\":\"object\",\"name\":\"LegendItem\",\"id\":\"p1707\",\"attributes\":{\"label\":{\"type\":\"value\",\"value\":\"PC1\"},\"renderers\":[{\"id\":\"p1703\"}]}}]}}]}},{\"type\":\"object\",\"name\":\"Figure\",\"id\":\"p1708\",\"attributes\":{\"width\":500,\"height\":500,\"x_range\":{\"type\":\"object\",\"name\":\"DataRange1d\",\"id\":\"p1710\"},\"y_range\":{\"type\":\"object\",\"name\":\"FactorRange\",\"id\":\"p1718\",\"attributes\":{\"factors\":[\"RPM\",\"MaxPrice\",\"MidPrice\",\"MinPrice\",\"Passenger\",\"Horsepower\",\"UTurn\",\"Width\",\"EngineRev\",\"Length\",\"Engine\",\"CityMpg\",\"Weight\",\"Tank\",\"HighwayMpg\",\"Cylinders\"]}},\"x_scale\":{\"type\":\"object\",\"name\":\"LinearScale\",\"id\":\"p1719\"},\"y_scale\":{\"type\":\"object\",\"name\":\"CategoricalScale\",\"id\":\"p1720\"},\"title\":{\"type\":\"object\",\"name\":\"Title\",\"id\":\"p1711\",\"attributes\":{\"text\":\"PC2 features contribution\"}},\"renderers\":[{\"type\":\"object\",\"name\":\"GlyphRenderer\",\"id\":\"p1750\",\"attributes\":{\"data_source\":{\"id\":\"p1658\"},\"view\":{\"type\":\"object\",\"name\":\"CDSView\",\"id\":\"p1751\",\"attributes\":{\"filter\":{\"type\":\"object\",\"name\":\"AllIndices\",\"id\":\"p1752\"}}},\"glyph\":{\"type\":\"object\",\"name\":\"HBar\",\"id\":\"p1747\",\"attributes\":{\"y\":{\"type\":\"field\",\"field\":\"pc2_features\"},\"height\":{\"type\":\"value\",\"value\":0.5},\"right\":{\"type\":\"field\",\"field\":\"pc2_scores\"},\"line_color\":{\"type\":\"value\",\"value\":\"#1f77b4\"},\"fill_color\":{\"type\":\"value\",\"value\":\"#1f77b4\"}}},\"nonselection_glyph\":{\"type\":\"object\",\"name\":\"HBar\",\"id\":\"p1748\",\"attributes\":{\"y\":{\"type\":\"field\",\"field\":\"pc2_features\"},\"height\":{\"type\":\"value\",\"value\":0.5},\"right\":{\"type\":\"field\",\"field\":\"pc2_scores\"},\"line_color\":{\"type\":\"value\",\"value\":\"#1f77b4\"},\"line_alpha\":{\"type\":\"value\",\"value\":0.1},\"fill_color\":{\"type\":\"value\",\"value\":\"#1f77b4\"},\"fill_alpha\":{\"type\":\"value\",\"value\":0.1},\"hatch_alpha\":{\"type\":\"value\",\"value\":0.1}}},\"muted_glyph\":{\"type\":\"object\",\"name\":\"HBar\",\"id\":\"p1749\",\"attributes\":{\"y\":{\"type\":\"field\",\"field\":\"pc2_features\"},\"height\":{\"type\":\"value\",\"value\":0.5},\"right\":{\"type\":\"field\",\"field\":\"pc2_scores\"},\"line_color\":{\"type\":\"value\",\"value\":\"#1f77b4\"},\"line_alpha\":{\"type\":\"value\",\"value\":0.2},\"fill_color\":{\"type\":\"value\",\"value\":\"#1f77b4\"},\"fill_alpha\":{\"type\":\"value\",\"value\":0.2},\"hatch_alpha\":{\"type\":\"value\",\"value\":0.2}}}}}],\"toolbar\":{\"type\":\"object\",\"name\":\"Toolbar\",\"id\":\"p1717\",\"attributes\":{\"tools\":[{\"type\":\"object\",\"name\":\"PanTool\",\"id\":\"p1731\"},{\"type\":\"object\",\"name\":\"WheelZoomTool\",\"id\":\"p1732\",\"attributes\":{\"renderers\":\"auto\"}},{\"type\":\"object\",\"name\":\"BoxZoomTool\",\"id\":\"p1733\",\"attributes\":{\"dimensions\":\"both\",\"overlay\":{\"type\":\"object\",\"name\":\"BoxAnnotation\",\"id\":\"p1734\",\"attributes\":{\"syncable\":false,\"line_color\":\"black\",\"line_alpha\":1.0,\"line_width\":2,\"line_dash\":[4,4],\"fill_color\":\"lightgrey\",\"fill_alpha\":0.5,\"level\":\"overlay\",\"visible\":false,\"left\":{\"type\":\"number\",\"value\":\"nan\"},\"right\":{\"type\":\"number\",\"value\":\"nan\"},\"top\":{\"type\":\"number\",\"value\":\"nan\"},\"bottom\":{\"type\":\"number\",\"value\":\"nan\"},\"left_units\":\"canvas\",\"right_units\":\"canvas\",\"top_units\":\"canvas\",\"bottom_units\":\"canvas\",\"handles\":{\"type\":\"object\",\"name\":\"BoxInteractionHandles\",\"id\":\"p1740\",\"attributes\":{\"all\":{\"type\":\"object\",\"name\":\"AreaVisuals\",\"id\":\"p1739\",\"attributes\":{\"fill_color\":\"white\",\"hover_fill_color\":\"lightgray\"}}}}}}}},{\"type\":\"object\",\"name\":\"SaveTool\",\"id\":\"p1741\"},{\"type\":\"object\",\"name\":\"ResetTool\",\"id\":\"p1742\"},{\"type\":\"object\",\"name\":\"HelpTool\",\"id\":\"p1743\"}]}},\"toolbar_location\":null,\"left\":[{\"type\":\"object\",\"name\":\"CategoricalAxis\",\"id\":\"p1726\",\"attributes\":{\"ticker\":{\"type\":\"object\",\"name\":\"CategoricalTicker\",\"id\":\"p1727\"},\"formatter\":{\"type\":\"object\",\"name\":\"CategoricalTickFormatter\",\"id\":\"p1728\"},\"major_label_policy\":{\"type\":\"object\",\"name\":\"AllLabels\",\"id\":\"p1729\"}}}],\"below\":[{\"type\":\"object\",\"name\":\"LinearAxis\",\"id\":\"p1721\",\"attributes\":{\"ticker\":{\"type\":\"object\",\"name\":\"BasicTicker\",\"id\":\"p1722\",\"attributes\":{\"mantissas\":[1,2,5]}},\"formatter\":{\"type\":\"object\",\"name\":\"BasicTickFormatter\",\"id\":\"p1723\"},\"major_label_policy\":{\"type\":\"object\",\"name\":\"AllLabels\",\"id\":\"p1724\"}}}],\"center\":[{\"type\":\"object\",\"name\":\"Grid\",\"id\":\"p1725\",\"attributes\":{\"axis\":{\"id\":\"p1721\"}}},{\"type\":\"object\",\"name\":\"Grid\",\"id\":\"p1730\",\"attributes\":{\"dimension\":1,\"axis\":{\"id\":\"p1726\"}}},{\"type\":\"object\",\"name\":\"Legend\",\"id\":\"p1753\",\"attributes\":{\"items\":[{\"type\":\"object\",\"name\":\"LegendItem\",\"id\":\"p1754\",\"attributes\":{\"label\":{\"type\":\"value\",\"value\":\"PC2\"},\"renderers\":[{\"id\":\"p1750\"}]}}]}}]}}]}}]}};\n  const render_items = [{\"docid\":\"48f03fc7-7bf9-4dae-adcd-7e9d2ca4e4d3\",\"roots\":{\"p1755\":\"a6ca3bf7-41fe-4873-a54f-5f186a8abd0d\"},\"root_ids\":[\"p1755\"]}];\n  void root.Bokeh.embed.embed_items_notebook(docs_json, render_items);\n  }\n  if (root.Bokeh !== undefined) {\n    embed_document(root);\n  } else {\n    let attempts = 0;\n    const timer = setInterval(function(root) {\n      if (root.Bokeh !== undefined) {\n        clearInterval(timer);\n        embed_document(root);\n      } else {\n        attempts++;\n        if (attempts > 100) {\n          clearInterval(timer);\n          console.log(\"Bokeh: ERROR: Unable to run BokehJS code because BokehJS library is missing\");\n        }\n      }\n    }, 10, root)\n  }\n})(window);",
      "application/vnd.bokehjs_exec.v0+json": ""
     },
     "metadata": {
      "application/vnd.bokehjs_exec.v0+json": {
       "id": "p1755"
      }
     },
     "output_type": "display_data"
    }
   ],
   "source": [
    "from bokeh.layouts import row\n",
    "\n",
    "source = ColumnDataSource(dict(\n",
    "    pc1_features=pc1_features,\n",
    "    pc2_features=pc2_features,\n",
    "\n",
    "    pc1_scores=pc1[pc1_idxs],\n",
    "    pc2_scores=pc2[pc2_idxs]\n",
    "))\n",
    "\n",
    "pc1_figure = figure(\n",
    "    width=500,\n",
    "    height=500,\n",
    "    title=\"PC1 features contribution\",\n",
    "    toolbar_location=None,\n",
    "    y_range=pc1_features,\n",
    ")\n",
    "\n",
    "\n",
    "pc1_figure.hbar(\n",
    "    left=0,\n",
    "    right='pc1_scores',\n",
    "    y='pc1_features',\n",
    "    source=source,\n",
    "    height=0.5,\n",
    "    legend_label='PC1'\n",
    ")\n",
    "\n",
    "pc2_figure = figure(\n",
    "    width=500,\n",
    "    height=500,\n",
    "    title=\"PC2 features contribution\",\n",
    "    toolbar_location=None,\n",
    "    y_range=pc2_features,\n",
    ")\n",
    "\n",
    "pc2_figure.hbar(\n",
    "    left=0,\n",
    "    right='pc2_scores',\n",
    "    y='pc2_features',\n",
    "    source=source,\n",
    "    height=0.5,\n",
    "    legend_label='PC2'\n",
    ")\n",
    "\n",
    "\n",
    "\n",
    "show(row(pc1_figure, pc2_figure))\n"
   ]
  },
  {
   "cell_type": "markdown",
   "metadata": {
    "id": "LzLZcCY7ZOR1"
   },
   "source": [
    "**Magnitude:**\n",
    "- The size of the loading indicates how much a feature contributes to that principal component (PC).\n",
    "- Larger values (positive or negative) imply stronger influence.\n",
    "\n",
    "**Sign:**\n",
    "- The sign (positive or negative) shows the direction of the relationship between the feature and the principal component.\n",
    "- A negative loading suggests the feature contributes in the opposite direction compared to features with positive loadings for that component."
   ]
  },
  {
   "cell_type": "code",
   "execution_count": 25,
   "metadata": {
    "colab": {
     "base_uri": "https://localhost:8080/",
     "height": 617
    },
    "id": "Rx6ofFgGt8C3",
    "outputId": "75af474f-50da-4ee3-98e7-7ca401d96bdb"
   },
   "outputs": [
    {
     "data": {
      "text/html": [
       "\n",
       "  <div id=\"b6aa0e22-0483-4450-9d19-5fd9b3e4471c\" data-root-id=\"p1306\" style=\"display: contents;\"></div>\n"
      ]
     },
     "metadata": {},
     "output_type": "display_data"
    },
    {
     "data": {
      "application/javascript": "(function(root) {\n  function embed_document(root) {\n  const docs_json = {\"1eaa7d5a-d3a7-4bdd-b431-b94e80113b4a\":{\"version\":\"3.7.0\",\"title\":\"Bokeh Application\",\"roots\":[{\"type\":\"object\",\"name\":\"Figure\",\"id\":\"p1306\",\"attributes\":{\"x_range\":{\"type\":\"object\",\"name\":\"DataRange1d\",\"id\":\"p1307\"},\"y_range\":{\"type\":\"object\",\"name\":\"DataRange1d\",\"id\":\"p1308\"},\"x_scale\":{\"type\":\"object\",\"name\":\"LinearScale\",\"id\":\"p1316\"},\"y_scale\":{\"type\":\"object\",\"name\":\"LinearScale\",\"id\":\"p1317\"},\"title\":{\"type\":\"object\",\"name\":\"Title\",\"id\":\"p1309\",\"attributes\":{\"text\":\"Biplot: Projection with Top Features\"}},\"renderers\":[{\"type\":\"object\",\"name\":\"GlyphRenderer\",\"id\":\"p1351\",\"attributes\":{\"data_source\":{\"type\":\"object\",\"name\":\"ColumnDataSource\",\"id\":\"p1342\",\"attributes\":{\"selected\":{\"type\":\"object\",\"name\":\"Selection\",\"id\":\"p1343\",\"attributes\":{\"indices\":[],\"line_indices\":[]}},\"selection_policy\":{\"type\":\"object\",\"name\":\"UnionRenderers\",\"id\":\"p1344\"},\"data\":{\"type\":\"map\",\"entries\":[[\"index\",{\"type\":\"ndarray\",\"array\":{\"type\":\"bytes\",\"data\":\"AAAAAAEAAAACAAAAAwAAAAQAAAAFAAAABgAAAAcAAAAIAAAACQAAAAoAAAALAAAADAAAAA0AAAAOAAAADwAAABAAAAARAAAAEgAAABMAAAAUAAAAFQAAABYAAAAXAAAAGAAAABkAAAAaAAAAGwAAABwAAAAdAAAAHgAAAB8AAAAgAAAAIQAAACIAAAAjAAAAJAAAACUAAAAmAAAAJwAAACgAAAApAAAAKgAAACsAAAAsAAAALQAAAC4AAAAvAAAAMAAAADEAAAAyAAAAMwAAADQAAAA1AAAANgAAADcAAAA4AAAAOQAAADoAAAA7AAAAPAAAAD0AAAA+AAAAPwAAAEAAAABBAAAAQgAAAEMAAABEAAAARQAAAEYAAABHAAAASAAAAEkAAABKAAAASwAAAEwAAABNAAAATgAAAE8AAABQAAAAUQAAAFIAAABTAAAAVAAAAFUAAABWAAAAVwAAAFgAAABZAAAAWgAAAA==\"},\"shape\":[91],\"dtype\":\"int32\",\"order\":\"little\"}],[\"PC1\",{\"type\":\"ndarray\",\"array\":{\"type\":\"bytes\",\"data\":\"/GMU35VVAsDdr7F9tagFQCIp4OZEoPI/5qySFoV/BUDRzhN7qnH2P3qR0AstdeO/WS8QrVSDB0DLsqeSuq4XQL8cRXBgQghAVKKpUCYTFkD7PJNoqn4XQP8KqnrWTwHAxyrr89Ly/b8tGNOjgEr4P6gmjPVLArS/VE7Rh0GhCEAa82BsawsUQAJcCQvJjhRAtfAYz12iAED1+FkOVGKxPzpjnGGrxAdAqmU+extKEcBnO1Uq6bYAwIq6/FE21Om/TyvZmn2YA0BHgpvyNnd+P8UYIeaKJgVAA40BSulXC8BVl7vBdO4CQDkohp83dBfASqTVTpArBsCuebhuJ/b2v8LeaCCxrvC/5hQ/y6eB+r/U0K0l/CIIQIwfWmaYpvI/GWAvu4NQFEA+SULG7bEfwLduswysxQ/Ak3DJg7P48r848wvr7okTwMtgiOrlcPC/RuboZZXmEMBUeTz/FbEFwMWgwVIdcBDAiMmcu3iS5r8CzPXdyzEZQFrR5oMvMAJAqB5J8PhwBkBHym1QhLYQQOqoku7d5hhAQ5VY/qFdEMBmrRL1GL0HwJlGKAVZR++/NKFswmj1AUBs26U25mLTv9lLdkcgdRFA3a5e4RjkB8Ar26wDSbwAQAMSu8WTBgzA5mOJCD7uA0D+qmeE4qMLwIcIcD+laum/IdV/4mjJB0DyLKqFacX2Px95gk9jjfS/3LdiZ64x5L9xsRtFUOIMQL/nMjIElAdAD6uSlgeu/r+jD+uPk0QSwKWMSZYZigDANM2zJssK/T8KtbE4P9b/P54Yok62uQZAbNzBKS2N0r+DM5uUStwEwIRmLhlpzhnAGnRuevbwCMBml308Uq/vv/ggkAlJeBrAchwA2d8sE8C0J6m2zoz0v9BT1TplydK/QhNM3Tou/T98V6i2tpUQwDKIr8x2CPw/i3EKAEpR8b9jwTlS7EKpv8DubMOB8da/tOqjGeSv6T8=\"},\"shape\":[91],\"dtype\":\"float64\",\"order\":\"little\"}],[\"PC2\",{\"type\":\"ndarray\",\"array\":{\"type\":\"bytes\",\"data\":\"Wb8bFd697j8hM5L8Vb0BQGBU1PA67P0/dEowhBKSA0BNwx9zQd0CQJnVsssc/+6/lgXxohzA879CuCfuMjQCwPzcMAiOopy/pjFVZZrvjD8VAFIqQFMIQJhyX/TDceG/dXqE0kif7L+R29Jx5if2v5RODYq7KvG/55VFoadDAcBG+y96oAYLwFgU/Xn1bQPAQNQqi4tC7r8YXnCwRL3xv/KCUcdkqYs/bELkJUC40z91chg+kpTyv4X13yUqY/e/7SltgUG89r+V/b5ArUX4vxxXNNEwtgFAyeYeHFxOwT/7pwuOzAbCv7Tx6CTE/sW/ZUTERTbW0T+0AQ6xLz/7vx0BUjdL2Oa/2DePsI4MvL9+Q1Ml8hD6vw4bHxpV3uK/PVx+CT6OAMBzY0pp1w7nP8bKx187sdE/+5sfCMp88z8T964GfhTjP6LP1Yk6rOA/5Hv3TWRJ37+t1QAzx9aSP5n7GV9QiMM/4P6RUkg40L8pEz7w77wQQOVr1c28F/I/4P7xRIH9CUBPI1E/ObnNPzozT6Va89Q/OaCOO8Xv5b8hOPHSHgfYv/jrGhoQNsI/S6OEBP6a8b+dEEp3xnoAQBIS9GvdNRhAv7lwXl894z+Z/Dsec74BwBMbDZjybcK/xJAVWJbr9D9uDVFAirTWP3B0bWArELa/2a36uGDQ+b8y2EE7dcG4P5AQZjGwXLw/uLeaWuPq5b8Qgkd8L3P9v5GFL2k5E/S/6/xavOqv2r+5X3UTHLCQvzRurVuA6+m/xzwxGoMM8r8XjAKVEDbhv40bppXQy+a/hC2/Ww0YAkBgmuo+mUL1v+wUTKGRSOI/FS9KKy+A0789mNatRMfiP/JB0qXxhuc/Cvkw02Im0b+uHZKeTQ7gPy5XPj/VPaK/AlGWOo/65b8qz958ytGZv2IsYxZLm/W/miceyvsS8T/uiZO6dxYAQLvS/dLEVeQ/M2j9CYhc/j8=\"},\"shape\":[91],\"dtype\":\"float64\",\"order\":\"little\"}],[\"PC3\",{\"type\":\"ndarray\",\"array\":{\"type\":\"bytes\",\"data\":\"wf04Ixja37+oI0VlYaDBv3wWya6JMti/wHhlfyyV8r+clkEXRaPJPyj+iyOSNuK/5HmsJlou6j8unOM6x2b0P6yoL9J6+e8/16VPKOzR9T8oNP5Jh/LyP4ZqEQc8Ld0/tGcyM9dZzT/hPX9B4A79P/z9FUrPeue/cTyNVAsa57/qTlp37r37v7iLzS/huvU/X0D9eekr0j9objRS4WDTv8Bl2qGOIdw/vNWtTMJQ57+ssyowC2Hav4ANUXfEP/C/F/IsKbCE+7+zgVnRrVfmv4ZdhBnHv88/krqR7V9uu7/dH7MQXyfXP1Ya1C4NMsK/hSbjPPI/5L/DoGEsHTfivyIpi7B+F9w/m/Y29AFI2D8J416M+L39vwNmoUHYC+8/UrS5dhiz+T9jmMVA3z76P5Agq8iyVd4/7Pl/zI2Jyj8ggDC52JgDQHspMIqHc9Q/D2VvMDTn0b/zB8BgM0Duvyp5fy3ZqdA/Pv5/hq/b5r/fJJOAIsbdP5XRE0m0u9G/K9pyF22oxL/JVSt/4DLYPwSsND//7PY/goHteBhu7D+ypPt+4uzYP0KwlZSUquE/jmR8Amgc9r8qN1jAipblv/SHKIvdgdm/NgRYY3973L8DG8ftBJPuP87JNeZWyLO/yBBJ6Dr/0b97YGVkL+zMv6h43cL/gKo/OA7uloTe9L/lTYaNVCfPP2ODCriHsKY/pKjYYjcruj+DIpX13kzev/u+qYgVkOo/daZfX7gLvT8relttW83vP+oO18d1mNK/raZWlYEV/j/TQ3xe6VTsPxMOylae/d4/ZM6JotzJ97+QQnxKRX/yP09b0eOd2rg/aajv87xS8r+dQltJutTav1F2X+3hTO8/8YQSx7hxq7/cUal+qlThP0xoctNuCtq/bRSynma3AsBJ9dlq/sOrP4w6rUc5jwXAdW5bC11e8b9yb3dUBx7iv+AHI9OOjdq/j8ktbrM85L8=\"},\"shape\":[91],\"dtype\":\"float64\",\"order\":\"little\"}],[\"PC4\",{\"type\":\"ndarray\",\"array\":{\"type\":\"bytes\",\"data\":\"gJo7cbTN7j/lSuc+I6LQv+xEN+66dNW/7+mDUXUp8r+VriRmbZzYP+4OVcYiJ8m/5Em1EYnJtT9lpV2e7VDVv8xoJEIdMtK/+tlaSZ7J+L9KsFQhhiLyP0H5w6Uni9C/BRnMtCgTpT+JMaPxU0njPyKTyq5KGba/3BKthWC24j+qg1PrfEjMvw1+u1TOKpE/GrD3ATco4D8mAWL0Uf+mv6UCzkjRBPC/PLfCdbpXyT+AbCQ68FHfv6528THixOG/4wL0pvR5yj/lOMwUNDjgv5Rr+Ybg6gJAMtgBakoy2D9c9zIDbpX3P+p9ig33RPC/JM6NC+Va+z+yCs6oGdXvv5KVCt9QXOC/Vm+agLFy4z8tnl6dzK7EP5rEp480G9W/ra3aVfaVp78BGjjHSpf0v4cfk1Gwbdm/qQDeuWO45T8fZ43SkOXCv138P115LOU/td8uiXtAwr8WftEfW0PxPzsoAWtwUbY/6YxxcOuZ9z+ZqaHl0l/QPw8ZwUB91rK/dXqMe2Xb5j9I5wo+hEv6v8Y6kV129+q/emh9JNqj3b/Z4qJ0+vyRPwiu5t1NoeI/03lK8UfPpr/WwBPsaoj8v1BPjp5t8AXAqqrxN7Sc2z8YvHsFJ8zov57yIY/dYuI/0qsaZfkw9j8cYz4/d/zbP0si7S22oOg/p9jheQoEmD9HwpYk2WzQP+4jHGaDbvQ/0K4gho06lT8dgJVfCX/TP4SgBvl+lrg/6LCpl/Tkx7+BSjUCtsTLv++6gIwqjrs/80+RXRTU2T/SobLQuzfoP4axNgn4y8i/u6JLOzgBxr8QkYBIQhTcv9r40s4GwOG/hTvUovAO4L+r9b4WAp6zPyiWDdYhcNa/1DuqSWgO778YI4QWgjzMP+TDo/DfK84/lO/LIeaq279bAqg5BoqkP4aO0KzGePG/sWQ47OGmyT/YfB2xXWvmPwgm3guTxNy/+H2miVSa6D8=\"},\"shape\":[91],\"dtype\":\"float64\",\"order\":\"little\"}],[\"PC5\",{\"type\":\"ndarray\",\"array\":{\"type\":\"bytes\",\"data\":\"IYX/8IbJ5D+UuQ6AIvm1v3hLhvUiM+O/0HsV+wXr6D+RlfKrlqzSP8//FGoH7+o/NTgR0jYxyT/drdf+2JHIP7GXvmoKpdm/F4s70LTG4L/0Hdc6Gn/gPwA6pPrOa80/U0JNA4F23T+rqwCL1UPzv9mcja9KGO4/NPfjNtIrrj9AUdQAQq/kPwdaaLPKwaY/ZBkoLf0V6D8I0gGOu7K+P5Z5PEgKfME//N83pK7h5D9AI5gUcyTpv1ZLPgb556m/yRNaY7rau7+lTNpKdz7SPzqWkm3K0+W/7eO1wwt62T/SJHBU3E7wP/I3jwb6J/e/fJ/9axyqsb+wtSkfDIHtvxAcRYMP6fO/2QfAo6hk4b+vBncXC1LFvydTbaQp7di/iveXA4betz+W0iXUr6YAQNd8FCkgwcA/5Jm5/ZQusz8Ww6cBJFv9P+dU3n+Gopk/i9NNpLepx78WaStaq07Sv66mBMajNu+/FgQ0w1YzpT82j9HET9XRPwhItfjvOuC/KHa2DslK1b/cQqfyngi1P93QJXV0lO0/N4/+BAvK6b+NUyFfo0/DP35iGuGO4+o/KDHq8+lW4T/diiZm+2Tov4dMtGLdC6i/QqlJdKOK+b9BbMx0Puvzv0uS1ve9bdg/H/iBG4Ktsz8K400Luj/HP3pTjCDYAIg/mG4UkgcE3D+QvNKsWTXbv9pkdrHQv94/YxZqe+Fb3z93mtVAm57bP228oFDj6ss/DLdG+mGa8b8NXI5oIF3oP5NhAwL7x8G/DsREBvjn8L/wHb/wei3ev1xzTbetmsq/k8XX9AvRzT+XAOq56cHQP9NjA9K8z+q/7hWlfX0VlD9SV3/Sn0yxv/Q2sPpALvM/eSE0WbLZ5D+1QP8sQyLVvwdytz7yW8Y/BEwaRLWx5j8/PC2rUzv0v1KQloHy2Ns/FBNmhv4BxT+diiy87GD8v+/FCRyz/dO/Bur5vJy71D8=\"},\"shape\":[91],\"dtype\":\"float64\",\"order\":\"little\"}],[\"PC6\",{\"type\":\"ndarray\",\"array\":{\"type\":\"bytes\",\"data\":\"nREp6yd4f7/Pa1AmE8S3P3q6K9/I6eU/k2YSbRG/1z+XFBuT2BXtv+FjvTRNuei/5cVtSDCUzD+grPq7N2Hiv5WA/rnVyrm/SA78zNLj4z9g1BpWjlHWP/2UXIL8adC/9Ziv5Ahr4L8BLCBgRFviv2nLIW0xHO2/2atdOE5I6T87QcrmH3HpPwtexS2yTuw/6i+3JlvF1T8uJHJnwpzOv2ghIQeLYOG/W/2HetjZ6D/68y8mFCfNv66L9TYNGtC/E2LETped6D97VwgW7Pnwv5f/aGeCXNQ/jERc76KH1T9E+Pl3zCjkP/yahZadK/A/i89mpt6A4D/X0vp3V3PmvzlpDUhoTfK/aTvRNp8G4r/tfLbCVpi6P1ehI8IFbr4/QeJAGrCx6D9uaXJn9X7gPwSstV79hcq/Lu22ryxu5r8wLF64IdvePzi5F6NUe/S/Av75gs904j/YCSFgQZjPP2dFK74W6dg/6g71sxB167+wU3TniVbhP6h09D+3tKG/W131a01f1L9rONGbB2jcv0m1r0rCt7G/0XvTXiKe4T/ehj6YzBLgPzjtMyC/Pdu/M+Rr+Gcc7D+IU/tZEU+qPxLvcLqTALG/e/8heaU2rL9ERPoHUdzUP6X4k8PKHNw/eRD3rlp31r+34UpKOWTwP1CObeovPNe/yLeSy2gs4T/oFlurlzyyP9On6mj21dW/krgC4X/19L+gkuKyRxLVP3lE9rBcTck/HtdSIlEs6r8E0rKH3Nuyv2glKh9p0OG/5B2CIILF5r8otEOn68m8P98Mvak4xuE/44pMIvE857/6fc3G60TSv4+OxMbX/eo/IVeKxi+0p7+KMyVa9jq8vxnRICuchNA/7lFtVv7X1T/y9m+i9Zzjv4r2yx8yAOK/8dldFvQp5L9X04DhuqvcP+2FrOYpraE/k13NxDDEn7+8KCk4imPxPwEntkGkD+G/6QhOehrTnD8=\"},\"shape\":[91],\"dtype\":\"float64\",\"order\":\"little\"}],[\"PC7\",{\"type\":\"ndarray\",\"array\":{\"type\":\"bytes\",\"data\":\"XcOORLLQ0b+42XJ8xF7GP8yNifrfIsS/ruC3utSFzD8kz6ddu5/yPxrJ4LOS3tm/GSzp85A34b+URJ/xOsffP5OnbQopSKW/Rpsa3bwP4b+z3HTbG1m0P/wBLJ90s9W/M5RTDfIOzz99f+rs/3TRP1ulQiah3cS/DQaur/cw1L+hyUJLRafyP2jcOhTLb+g/N3UxvsTWwr9iug/7Ybjnv5/5TMBjt/a/714oVWzA4D+r3wmUXg+pP/feXNRFU7+/IazYay4t1b80vtqcsVTdvxO0jHXobe8/mwbAPSGk6L+XYa7H3W3Iv8S/eJITHuA/+e26t86Y6r/2un4b747qPxFpyfA8dcc/9IWdqHhpxz+aeuO+ZRPJv0UZFErPUdC/XU0la0Bq1z9oLCFbjensPxY831uZueg/41PLZIYQ5z8MYgo5ksWwv8bWRJ3OMdY/cfeyfEOV3r9DnwRqLoPJvy6hi2PUItC/hc0Rsto727/e1NM8FIDCP4SV1AfYtNQ/p+VYpP8o7T/G1sE9s53gv4g3CfEhjbI/TIlw75A3yT+k0bxptHPivwhpa4vBF6m/Q6CqHzSFuz8vRoxxYZLfvzNCn3wXPui/Rg103MHR5r+HWeED883pP/LWrJIpVuS/dWwq/s82wL9TxvCLEiLgv4uBjZXeAeO/h68syjFQuD9TkGC1d2ulv/uIKAtP4d+/UlqPL+7Mf78El7jIOi3gv2XCaMi+SOG/6YARxV2MwD8rv+Pa0s/mP6Rivf7rOJC/49vHJUIHzj8YpExf5KKIP6h9WFwWBOO/N9Ix0SX7sD+aU9PEuNnrv+FOdhO0Pti/gxKXcY+T8T+gbJy0ajrXv2mwgAswE9I/utALLy825D80vzQ8t+HRP7uw7Gjlwss/eyQolk4nur89h+L6DAfHv+yKmeDP2fI/ZlA+boL/2j+3xuIXSarkP9GgYRNMyuW/1hWaDfPkvL8=\"},\"shape\":[91],\"dtype\":\"float64\",\"order\":\"little\"}],[\"PC8\",{\"type\":\"ndarray\",\"array\":{\"type\":\"bytes\",\"data\":\"BV/9aVlEvz/DPkaOKPHfPz6DQCueVrY/NFVCCPYi3j+Eo0EhglLIv7LVrCVAh6e/qxGvW7l2yj9a902qcaPUP+LQjk17XNQ/dfX+wQ9grb/BUYac8bPdv70keTXJe8E/wLxM0pYHvz/FelyBmv/Fv1pZKO142OI/9WWsrra6878TKa9detvCv5rGpRDT0Oo/x0MwRNH66T8U3y2bMSnbv/1X4TlcfcW/NEczIvL87j+d30W1qGDLv2/T3h3qMJe/7yuJN1Nr77+2AQzBSQ6wv4bhXbA10+a/hIQTWX98zD/sNjGLbcXiP1I1HQjC+ei/Nx09FMY42D/bdCXokAHNvxGSruR9386/i7lQ0cBg0T84/J2chGj4v7uTUQaiFMU/ksUfA2RF2j+YtAPBbqjxvwq1BiDdj+K/gpHumvl127/5ZNenG1HWv3puYCJzxNO/Cs4wJak2wj8v7NJhrIvVP7+7P2FRrts/VS/T306hkT8dNl3VCuzTv4XzBJ5VHq6/juDqWmzkzz+j4KEzu9vRP/5OQBU5eq4/cX11EJLezT/HpABx8iDHPx18EUDV7tO/EfuZiZatzT+a608AijDiPyWCdcglPte/iiDDVtLmwj88EqE1rh3wP9JAwvNNZ8k//vU4YcQy4b/GKq/wWGPjP4lJlqAD+dC/a5f5lqGUur+wG0vFUpfFvymeTSi2YtU/6bzlLVmmxr/Hb/3YAP/ev3tVQtn0os8/a0COpH36zr9U84WYXI/gP1p3Jze/QJc/YjVWXN/EuL+sX/yDD9GxPwQypc2uF/O/GjtAxHt/1T/DL0j0N9jcv3C93P7iI9a/L4fvngpa2z82ZxDPllvQP31G77hNedK/4kRtA9uF5b9wIoaWHQncv6RRTTMtJeE/QuEbj1PF0r9QdJ4dz/vXP6Dye7/PQ9M/PgL9W9Ub6D9PsURaMaPYv5dD9QF3aO0/XeEuvMhZ1D8=\"},\"shape\":[91],\"dtype\":\"float64\",\"order\":\"little\"}],[\"PC9\",{\"type\":\"ndarray\",\"array\":{\"type\":\"bytes\",\"data\":\"ki6ApLGP3z9jqBT3AUTNP376oGbcicY/nWaMFFdNwr/ze4b5IKXyv+/FsrufPdA/o1h5IByKw7+2sly/P8rpvyfctrTUScy/or4yUbXK5j+DeZbBCGHrP6VQa+nveNu/tlC5x7aQwD+bygf6A0DWP0i6yQ31BNI/7B4+18Fz0b+X6W8CbMbwv75gnO1losq/ihGySiMX0D9JDGQ26eDNvwAQEsMs7uc/OooetZDE4T/wyi8Wax/FPx98XC6fOsQ/yGp9TrB1xL8qwx2ZA8XePy+zWXMGqN+/Lhjmta+Kub/4dZ5/mRvCPznk20wWFOA/gOIFgwBDqD9IRBbd2dbZP1DdJ8zbhdO/4iviExuj0r/Vvx8vxcm/P/wLJfv2yJe/XopeCxmi0T+ysT2ynnquv9y9Zv1ZVOI/lofl6tHjnj+vNuIzFXjkv9SHE2ByOrG/gG35vzQw1D/OMYkhsbfaP92wM9YgR5S/0AmcZswxnz98xNHEU2rYP2ebbBBh6d4/XBtmar9u1D/GgQbblfbFP8zJ+gDO8+w/zo2QQTxO5b9me29olhjkv/zoUsaYgsO/vEH/WabSwj8oeaJf3FXbvxnSSze34uq/a1DfliNW4D9lkCZ5PzbRv2QdFc0x5rG/f8qPV65D2j+ps147mXzev3ZoHg7PBtu/0Pn6xmZSYD/K/XmgE13PP3p0i8a1IbU/k15QGX/yyj+ONBKlI0eiP6O4dJgQPcO/9XJfDHhV1b9TFl91QAnOP9B7auDPp9Q/t/h0vjNm0T8z97l9WJPJP833dPNQXeS/DpIRk9R8rL/L8AdPUcXTvzZ3kVezn82/o6up5uPi5T++xtfGHmnfv+tgalaEC7A/j4HkGeG96z+OKGbtcX7iv4jllK7u0uO/9BznmW3dx7+14xMRdgGMv4+wZpVt3Mw/5c5aQBR04L8HcSGJNHCKv7HyFJeTx8m/K0sY/IEg1r8=\"},\"shape\":[91],\"dtype\":\"float64\",\"order\":\"little\"}],[\"PC10\",{\"type\":\"ndarray\",\"array\":{\"type\":\"bytes\",\"data\":\"7Dn7orVr3z+yx9x3AeXUP28aQuM9Qcm/keED4UZtsT/w4ZnHMKDgv7Y4tr9M8MC/ru7txn+/hD93Z1pvEtXgv4dg1bW7IMu/TY+SnV3F178tnDn6z4vKv5t7TCNWcdG/EY6NgfYZ0b/qq3UVdg3iP7QZbIYQXtk//y/QrSr5uL9cAn0VPejMv48K91wfzdO/xMHgljdqzj/a3WzENujgvwcI2RM0u+C/sBtmDTmv0D8YtfLoefW6P4pJn2nZl8i/+PZX3Mnt0T+M9yoxUKzHv/vrM1dp6uE//asdMRAAzz8MVHNox5vRPwfKxtdwWb0/vWhFbkrMzD8jtvTOBR26v8vUkC6bK8k/uT7bedxE1j/8WXolXly4P953Cq0Kw9k/YDivdTvH1D9Vzog0TIjLv86O5IicpNQ/sYACkaNZ1T/HM5B14QbTP3/d/vR/YNK/W5VVihUj0L8q0Njc6LibP1MF8M+wlae/jRLUvo8ntL9hoZG3jgvmv/urkdAiecm/FlOoh05gyb+PXVM5W+C4vwC8j6BcH8U/D7QZU8wJpj8XPscuFI3Uv3LFpnrMzLS/NiA5dJQHxz+pNXvKcgnGP7ILTLwGgu0/tBgkr7B40D/ZHI9ni8K1P+1Q1h33oNI/hYiRLa+uvr9t5mKwjazRP9ehxo2D3NW/Yk00oIzZ3T/OgXBCLSfhv+2T0q5SfNi/uaUSgwfEsD+w0Z9mo1LQvxlfGStP8p8/JMDt9BfQlb8vuhwapL+Uv3r9RbnegtW/TelWOgcc7D/azErori7SP627vhYqpNQ/vG9WWJ1XxT+3kj+Pgie5P3naiFpSGNW/HztDSGVg2L/HU6APEJeyvwDzFtOHqcq/fnIg1orrsz+yTUlZcMnQP9CSDIPCB7Y/c5BBTjHdyT/tqEIN5aDZv8iv/0DybNo/E/9YP+fO0L//PQVNC/zmv+uNakvMuNG/hsj62ABF0L8=\"},\"shape\":[91],\"dtype\":\"float64\",\"order\":\"little\"}],[\"PC11\",{\"type\":\"ndarray\",\"array\":{\"type\":\"bytes\",\"data\":\"++gNV03e0T9loBa0zU7NP47dmvnJW6c/iTjgj24u3b+0wpjo3f/hP55ZWPq55K+/OuXGzHTEuz9NfYgxeUfVP+zT0UfnDb+/lCXb1t5ZzD8e+vYUUZ3NPzb05m3hXZG/itITWjgWqz9XFohXKCOzv0HHEuCKqrM/28YQ3gAVsz+XVmlErmzAvzSXUN9Wr+G/xAE4XTHxwb+5s9qiECjlP79QWNsIdZO/w025BeCntT8vwgrb40rMP3GZPuGWDdQ/1J9ykP2w17+K3DnQprbAP0WDWtqzs+g/mfUJ0uTM2L/cfCOpXVPcPxb0/pD+qrU/bf7TVyN0Uj+5ruTOTiPQP7K80JC0Gri/yPZRaTlb2L8jUkonb83gv/4PUGYaZca/5/RtIGMRv78DypWKZhG0vwHD3h0UmbC/YGi4xiZOwj/Kzzv/fY7MvxmsCxZXw8O/srPHfGbDvD97ssLv8AzQP2W2+n9xFqS/Y5jCJVtH4L/ZRbBcppnQv1rqJ+MosXs/QljGx56c0b/cTGZpjuy2P74UiXzx/cO/lwHxhy0Lx7+oXMMMpDbIv0zb/iP29OA/C+wzsywqvD8amUVZmm/eP77NrYZdKnU/6smm0PV6eL8YytLKpRjZPwHABQy9WNm/K2DcvSwQzL/GmE6vlpi5P3lnisg7T9I/1NOmRIt3hj+dCICBdjTbv4L5yg1u7dc/aCVRTW0f1b+aKxeaXzSvP65FTvXJy7w/HR8OXr/n4r+7eP8KkF7Uv9EWbVquOJ8/pqQsjtGhwb/qIzII/hnhP4nRT6xPyqS/q263ZnF60L8LsZHTBCrOv1zwy3MQCOE/znGGN/5iqT/OGOQRLLrDP6xIFOyvNb0/zrUc4shDxj+Puc96c7e1v4XSNVQebs+/Kb9waG9x1T/HtqGqAzS6v48gQZbUHq0/gCfUFxuZvr8j3UtUT7bcv3+myjFd24+/zRlqy9pm378=\"},\"shape\":[91],\"dtype\":\"float64\",\"order\":\"little\"}],[\"PC12\",{\"type\":\"ndarray\",\"array\":{\"type\":\"bytes\",\"data\":\"aeK2nu7l0T9RzOf1tVqfv3MDSYOUTNi/y1r9dralvL8aDgu+xp+4v8T/Wiyq5L4/rDiD8KcHzT/vD2TokJLgPxe5kfZ/7tA/NbsJayLxrj8wyYQsKWDEP8ZZDHvcuNG/KSrld5Mvlb8FJxQ4FvWxP+lSLdZennS/xAqOEF0U0j8BAFC+tVDYP/lrzybPw8q/D9IChiCXvj+s2x/qeOewP3SUikr9Etm/m4anNkMgxz/A5sYVAaeQP6257ReRea0/ODyuqgfAx79Lyygffh6aP6QkoiywEOG/68HhmCzNo7+NK4BZ1LLCP7uU1KoSfNQ/qs+c7e/p1j91eW4pvFq1P9fE7qGZn9C/C0IWJgv81j8oQIVTii/Nv/PJ2Bqg4dy/k93C5fexw78C4fy2xxy3P1xCx6nFgsk/mFwklIkg4D8fRaAbhsfXv25uasobH92/vhlOr8HG2L/GJ4Ekz+i9P+62cFkp0rq/OlLx1zf8xz/Jd5Ygo7i2P0Zp///cv7W/lPwjFEQz0D+G7j79O+rOPxZ+XxlJnRU/Em7l7xaktL8fFXN+YB6Fv/NoyD92F6c/RHpZe8Oc0r9ru6Mj+UjgP4kEpg4C38G/TszySe/iyz+ktqlIVeHTv7co/zdGXcY/WvQ8QqmM3L/XUac0NZy5v1ynRZ79WNK/Jt2TiR2B1r/bnhMnxCHQv+qY0VPm8MG/ceb22babvj/P/yL9ZXfLP2hEYtAgU8g/3H4FbPTMwL+cciZofynCv/ru07zDi8e/zRjFoboXwD8JpoBuGSnTv+PDBWfVcdw/aMYtJJcjwz92kbM/MzONP+qkMpBnAsC/orw9IsvPsb9K95RnM1PEv3UQqv8ncq4/vkhxJqtrwj8Dk0CzWHWdP8jS0m8x+K0/0XPeF46+ub9hzq+FHH2Ov5qNla9Qz9S/CMwp8l0Ujr/6kt8+kVnTP4i2t9oOtKo/m1NImCnavz8=\"},\"shape\":[91],\"dtype\":\"float64\",\"order\":\"little\"}],[\"PC13\",{\"type\":\"ndarray\",\"array\":{\"type\":\"bytes\",\"data\":\"nxV7n7c7o7+G56uoU3yRPysLriG6HMU/EnlmwVtC07/74BdLLleQv/LQdIUuJsq/cLK2tpEWo7/8MGX0Aoq8v9PaTa0829E/STsZ9m2b2L+2i96CXj7Iv8UQloB/8Oe/8hvj7rHDnL8tax7euwaQvz2d4ZXHhZE/KGP0pNS5tD8jTnUL1KDJv3VPNj056NO/hLZCX9eMxz/KF2VFheOnv9oIKORHLtk/ZDOgSnbOyb+SkiONkgfKv+crPxZNWK2/3zIkW3M+gb+DdrRshUWgP1YUvuWwo8G/W+/+F+qjzr8ZhLcmVcrLv4cfOBnxt7A/oAusSe4nwL8JKK27Z1HJv3LwOhO7bsO/cPmypUtA0j+GLwAQHVXDvziL/eodHbe/aWL7WFZ5Sr9lJyr1W2TDP2nLdRZKxdM/rdBdSSeStz+jZJyBht7XPz9aN1Q7T5m/hHZp5zXbrr+o9DGRRorEvzy88X3n4oy/cvjIeI8bmb980vXdHUXFP14hZ8+9Y9Q/TP8pz6ju3D96gGWaVwfTP2iGS8GfLLs/va66uuYLxT9LasmLz52IPxiYgQzW/qa/OZdE4Bo+qj/g2qjjblvSPyYI5uIx9uG/lQ/YulWY0z95e5dDmqXNP2XD2wQ2NLC/CxEILIZxwD9n62AEVre7Py31NbnAo6c/nog7UZUR4D9eOLKDbVqoPxNStIboDKS/SoCD7pzRo788UeXaQjbCP4f9oNWD4bO/8jd5dwRWkT9qG0F04UCjv94EynxTlNu/kcPlMdMRv79Spto4/yfMvw3dgKtv0rG/lKK8fQY95b9JtceBP3RsPzoUnXmFYNA/JpxKIx900r8OriGKH+jJP3bNt0h0KcE/+um/knu517/WL7T0Ek7KP/0OrPfYXKU/xz3B9+d72D+bQsOiILvAv54RGbVuRtw/qg71VhmRlL+qx6mllIPBv5dhTyilttE/cq2iFA6/zj8=\"},\"shape\":[91],\"dtype\":\"float64\",\"order\":\"little\"}],[\"PC14\",{\"type\":\"ndarray\",\"array\":{\"type\":\"bytes\",\"data\":\"lyHJ5c4gpL9RaPn8G4qDvyBupyk8qqI/pbFvbJI0wD9/05kAGQfHv2fwllktpdM/HsXNzwDrvT9jmrJClgTfv2Pk2UcmC42/s7RbQtVKsD/CtlZcei/FP+r/0yVBkNM/oTOaBvZp0T8JZrmU6eaNPxzy9oCUQLg/vb11KGfTpr+fVb1qSNCuv7shZ+mv5Mu/i5PksBlTkz9Sr0G227jKv1WFwhZUDLa/y5aP7Bp20L+CduY/v+e4v7GjjIZ4UsW/VwoDXW0kwL8hdU/rIqK8v0hJXcuDiss/R9xQur3e1r9mHpw7SKCuP8aHQcCTCcO/v3+F/42Smr8l2zQniFWpvwwIvMAIIMO/S/8KFwlkwL/l7eP3jC2lP7hzUuagN7c/OO5NQQu3pb/o7klXBVORv6H/m8zum7g/anZHoPYIrD/qcViLaEPPv+bOzyd05ru/IAlYpZbGx7+TRUQ7i9q2P8srrBNigsk/3oSVXj8Gnr+VqciTlnHKv8jZzfAkJME/H5CEpBlynb8X1yBN4E/KP8+O7hHQVoG/zKtSNEL/0j8TtMi4efHRP/BVW5LHesc/k40rReYMwT/BxSlFM/PZPzXcHBLdc9C/e6fP91Dk2L+2EWgOALvCvycQC2bKCNK/oUaTI6csu7/XyHTZqJ3Nv399N7eKerm/uso9LDQGyD9Czf3Jn23Cv5WrrAnIp5e/wYtmWeozsz/5lrk/dQa8vyCch2M6cbg/27Yc2RGMnj/rgSp2zZDRP+2LT4/+BMQ/vdzRU8Dirr+ytXkuFS+yP53+6oXkB8s/K9MPAo6U0b/v3nQttqDaP6kPBqhSuLi/x1Gr45IpsL9tzGn7nbaRP5DW5loKC9K/+oM0pvOFuD/gZ9j1FUR+Py7CjRGKHoY/v0nC4EQHh7/gH1LfVcCwP3CuxeK+thc/NHeFvp6o1D9fZx4LeZrLPx7DIkMGYrK/d/AsjPx1zD8=\"},\"shape\":[91],\"dtype\":\"float64\",\"order\":\"little\"}],[\"PC15\",{\"type\":\"ndarray\",\"array\":{\"type\":\"bytes\",\"data\":\"+LPS5Ps0wD8VM965IVeiPwF4hYmcI8E/AhFUEZbuwb+HCsaSZEDZPx2QiINnKK2/XxhNxGqAsL9NSnHtijrZP1vBE5mSeq+/STkRp3kBoL+aoPH9NqG7P5yl88T13qI/pkpnyQY5pD+OdS8dxLyqP0cZhs1idKQ//LvX13rvsT9I7hrZDcvVv3Zjj7Up+cg/DvokbmNsuz8xhH/KWJrAv197p/o9TLC/PSn6qSmEgL/R7wdKeqS1Pz4DNcDCA2S/7SlZBKF7yD9fZi/esBujv11yU07rGtu/V3tSEa9wwr9ttBduLvi4vw8eBGEh78G/RwjXT5zvyz8nE/KU8VbVv3sNa23kbZC/IyFyu+f2xL9RN+IpAUnCP7KkVC3B3sc/X/lz5j9Zr78XxXHuDH2ivzyr3HKr6co/b+iy48hFpz9j+nGIgLTKvyqt/1haH7k/IllGHFkLpb9HnerFFn3FP8a06Ve+97E/fz0C0Cl8mL/W6LlsvFm0v2ApDVn8+cO/13CyNBi007/DDzu/MbCjv90htvlvro2/h93G6W1Bwr/UDPfZVkXLvzvTHWq60LW/e8bR1aZ2pj+MfkjlmciSP5peBbo8AYg/8r8GnUAqdD8mk9yYbmqsv0FqCsKHgMa/6y4T+nM+zj/pQerf3Y22v0fW2HVedrK/j1p2DBMQxj9Ji65tSPDPv2o1gs8OJq+/2Qq0vFvjq79ac4liYgTFvychnJh8pLC/8iby5ccsvL96WnH3Fs7XP4Qgi2rYc7y/iLm/PAQLpT80XrzANbK7v6iL9uH9rNE/avs7Bh0ckz9lp89PGkyjv6k1HB/j/MI/5P6POQXAr7999z3p9XzDP3oeRuaBjMM/3mwA8x06vL9ReeytdFurP7ea3v85Rc2/hFbYTdmNuL/JhazHy7fSP9PnTP+n6sk/S+wqfJpNtD8Elzb4x66yP9IPW642k5q/IDCfLqBIpD8=\"},\"shape\":[91],\"dtype\":\"float64\",\"order\":\"little\"}],[\"PC16\",{\"type\":\"ndarray\",\"array\":{\"type\":\"bytes\",\"data\":\"2yIBi5LMej8fgsZnRCluv0GfeLM/wUC/H0X944XfQL8Fv+NkdL9xP/ho7WyioHG/5ZsidgA4Rz9QxU1cKyRhv/vjRMEDLEG/k4ty/OkNcj8DoqPb2bU5P537jOwIMTO/yZzr2ISsNr+pPvDKV5AzP39UuKsxjU8/e2QtY1iHZr+3mnSy7Dlov4ZgMcX160c/IuN7ftvtVT9e8criUpVDP4gqeuqadV6/AYy+wPJjXr+ILTswFd9QP8Bo/bMGR1E/yUqsmUOIVD+nvwitIOgrP2QXGEI+j0O/gdQcS8jaSD8DgFgKKn5hv4zm90Y1KUQ/AtNnKFSsW7/VEraUbbQwv2A0GlBfzky/aO4JIRzpHr8RyH+a31swP5gdEM82ryC/LT6jqe50Qz8s8fTcjb9qP8gpC4xZ+y0/ntSyfHjjbL/wTPM6jQdZv3yqT0HDTFi/NJbPqFzxIj8g9tFnGw1fP0G/RzEqA3K/ezpxnEDacT9cjidwNLtUv78PWtS+amk/GZnWacZwZj+xTd8ke9BEv2f8621quTC/D1Ps8utoaT+i1Wku+OVQv4uBmomBhx4/316f9tfDab/Yy2EwsidwvwBtdMz/mPq+MFxPsdkQa79r3NLKOQwoPz7/DxgLDk4/PShAr5h/c79Nb/ivpwlTP10qUW47yW4/hOVVS3FbRz+PZTueDfVbvwPSz9vH0C4/v3BXKHp+Q78+TL56yj1HP6ue2COGpUg/LBkeJgYbXb9koFpAN9lxv8qaxeCcpjm/Gexdv6VxRj82Uniz2adCPyqTC947YVY/MMqFGtcpUz8dVMTAroxqP83DxJLPBC8/xem8DmYZPD+esZPYcRsTP1fJ1tAr02+/cQrU8gCiRz+d5zxGHcxCv21XqW9To0C/iAKFF2zkb7/yFsCcsDg9P5K1vgj47nU/0dF8KP2cKb8M6ogRgMA/v9cR1flSwG8/N0KxYy3kbD8=\"},\"shape\":[91],\"dtype\":\"float64\",\"order\":\"little\"}],[\"label\",{\"type\":\"ndarray\",\"array\":[\"Small\",\"Midsize\",\"Compact\",\"Midsize\",\"Midsize\",\"Midsize\",\"Large\",\"Large\",\"Midsize\",\"Large\",\"Midsize\",\"Compact\",\"Compact\",\"Sporty\",\"Midsize\",\"Van\",\"Van\",\"Large\",\"Large\",\"Compact\",\"Large\",\"Small\",\"Small\",\"Compact\",\"Van\",\"Midsize\",\"Sporty\",\"Small\",\"Large\",\"Small\",\"Small\",\"Compact\",\"Sporty\",\"Sporty\",\"Van\",\"Midsize\",\"Large\",\"Small\",\"Sporty\",\"Sporty\",\"Small\",\"Compact\",\"Small\",\"Small\",\"Sporty\",\"Midsize\",\"Midsize\",\"Midsize\",\"Midsize\",\"Midsize\",\"Large\",\"Small\",\"Small\",\"Compact\",\"Van\",\"Compact\",\"Midsize\",\"Sporty\",\"Midsize\",\"Small\",\"Midsize\",\"Small\",\"Compact\",\"Van\",\"Midsize\",\"Compact\",\"Midsize\",\"Van\",\"Large\",\"Sporty\",\"Small\",\"Compact\",\"Sporty\",\"Midsize\",\"Large\",\"Compact\",\"Small\",\"Small\",\"Small\",\"Compact\",\"Small\",\"Small\",\"Sporty\",\"Midsize\",\"Van\",\"Small\",\"Van\",\"Compact\",\"Sporty\",\"Compact\",\"Midsize\"],\"shape\":[91],\"dtype\":\"object\",\"order\":\"little\"}]]}}},\"view\":{\"type\":\"object\",\"name\":\"CDSView\",\"id\":\"p1352\",\"attributes\":{\"filter\":{\"type\":\"object\",\"name\":\"AllIndices\",\"id\":\"p1353\"}}},\"glyph\":{\"type\":\"object\",\"name\":\"Scatter\",\"id\":\"p1348\",\"attributes\":{\"x\":{\"type\":\"field\",\"field\":\"PC1\"},\"y\":{\"type\":\"field\",\"field\":\"PC2\"},\"size\":{\"type\":\"value\",\"value\":9},\"line_color\":{\"type\":\"field\",\"field\":\"label\",\"transform\":{\"type\":\"object\",\"name\":\"CategoricalColorMapper\",\"id\":\"p1341\",\"attributes\":{\"palette\":[\"#1f77b4\",\"#ff7f0e\",\"#2ca02c\",\"#d62728\",\"#9467bd\",\"#8c564b\",\"#e377c2\",\"#7f7f7f\",\"#bcbd22\",\"#17becf\"],\"factors\":[\"Compact\",\"Large\",\"Midsize\",\"Small\",\"Sporty\",\"Van\"]}}},\"fill_color\":{\"type\":\"field\",\"field\":\"label\",\"transform\":{\"id\":\"p1341\"}},\"hatch_color\":{\"type\":\"field\",\"field\":\"label\",\"transform\":{\"id\":\"p1341\"}}}},\"nonselection_glyph\":{\"type\":\"object\",\"name\":\"Scatter\",\"id\":\"p1349\",\"attributes\":{\"x\":{\"type\":\"field\",\"field\":\"PC1\"},\"y\":{\"type\":\"field\",\"field\":\"PC2\"},\"size\":{\"type\":\"value\",\"value\":9},\"line_color\":{\"type\":\"field\",\"field\":\"label\",\"transform\":{\"id\":\"p1341\"}},\"line_alpha\":{\"type\":\"value\",\"value\":0.1},\"fill_color\":{\"type\":\"field\",\"field\":\"label\",\"transform\":{\"id\":\"p1341\"}},\"fill_alpha\":{\"type\":\"value\",\"value\":0.1},\"hatch_color\":{\"type\":\"field\",\"field\":\"label\",\"transform\":{\"id\":\"p1341\"}},\"hatch_alpha\":{\"type\":\"value\",\"value\":0.1}}},\"muted_glyph\":{\"type\":\"object\",\"name\":\"Scatter\",\"id\":\"p1350\",\"attributes\":{\"x\":{\"type\":\"field\",\"field\":\"PC1\"},\"y\":{\"type\":\"field\",\"field\":\"PC2\"},\"size\":{\"type\":\"value\",\"value\":9},\"line_color\":{\"type\":\"field\",\"field\":\"label\",\"transform\":{\"id\":\"p1341\"}},\"line_alpha\":{\"type\":\"value\",\"value\":0.2},\"fill_color\":{\"type\":\"field\",\"field\":\"label\",\"transform\":{\"id\":\"p1341\"}},\"fill_alpha\":{\"type\":\"value\",\"value\":0.2},\"hatch_color\":{\"type\":\"field\",\"field\":\"label\",\"transform\":{\"id\":\"p1341\"}},\"hatch_alpha\":{\"type\":\"value\",\"value\":0.2}}}}},{\"type\":\"object\",\"name\":\"GlyphRenderer\",\"id\":\"p1373\",\"attributes\":{\"data_source\":{\"type\":\"object\",\"name\":\"ColumnDataSource\",\"id\":\"p1367\",\"attributes\":{\"selected\":{\"type\":\"object\",\"name\":\"Selection\",\"id\":\"p1368\",\"attributes\":{\"indices\":[],\"line_indices\":[]}},\"selection_policy\":{\"type\":\"object\",\"name\":\"UnionRenderers\",\"id\":\"p1369\"},\"data\":{\"type\":\"map\",\"entries\":[[\"x\",[1.194873755876356]],[\"y\",[-0.15161857692406722]],[\"text\",[\"Weight\"]]]}}},\"view\":{\"type\":\"object\",\"name\":\"CDSView\",\"id\":\"p1374\",\"attributes\":{\"filter\":{\"type\":\"object\",\"name\":\"AllIndices\",\"id\":\"p1375\"}}},\"glyph\":{\"type\":\"object\",\"name\":\"Text\",\"id\":\"p1370\",\"attributes\":{\"x\":{\"type\":\"field\",\"field\":\"x\"},\"y\":{\"type\":\"field\",\"field\":\"y\"},\"text\":{\"type\":\"field\",\"field\":\"text\"},\"text_color\":{\"type\":\"value\",\"value\":\"black\"},\"text_font_size\":{\"type\":\"value\",\"value\":\"12pt\"},\"text_font_style\":{\"type\":\"value\",\"value\":\"bold\"}}},\"nonselection_glyph\":{\"type\":\"object\",\"name\":\"Text\",\"id\":\"p1371\",\"attributes\":{\"x\":{\"type\":\"field\",\"field\":\"x\"},\"y\":{\"type\":\"field\",\"field\":\"y\"},\"text\":{\"type\":\"field\",\"field\":\"text\"},\"text_color\":{\"type\":\"value\",\"value\":\"black\"},\"text_alpha\":{\"type\":\"value\",\"value\":0.1},\"text_font_size\":{\"type\":\"value\",\"value\":\"12pt\"},\"text_font_style\":{\"type\":\"value\",\"value\":\"bold\"}}},\"muted_glyph\":{\"type\":\"object\",\"name\":\"Text\",\"id\":\"p1372\",\"attributes\":{\"x\":{\"type\":\"field\",\"field\":\"x\"},\"y\":{\"type\":\"field\",\"field\":\"y\"},\"text\":{\"type\":\"field\",\"field\":\"text\"},\"text_color\":{\"type\":\"value\",\"value\":\"black\"},\"text_alpha\":{\"type\":\"value\",\"value\":0.2},\"text_font_size\":{\"type\":\"value\",\"value\":\"12pt\"},\"text_font_style\":{\"type\":\"value\",\"value\":\"bold\"}}}}},{\"type\":\"object\",\"name\":\"GlyphRenderer\",\"id\":\"p1388\",\"attributes\":{\"data_source\":{\"type\":\"object\",\"name\":\"ColumnDataSource\",\"id\":\"p1382\",\"attributes\":{\"selected\":{\"type\":\"object\",\"name\":\"Selection\",\"id\":\"p1383\",\"attributes\":{\"indices\":[],\"line_indices\":[]}},\"selection_policy\":{\"type\":\"object\",\"name\":\"UnionRenderers\",\"id\":\"p1384\"},\"data\":{\"type\":\"map\",\"entries\":[[\"x\",[-0.5564465889684417]],[\"y\",[1.7651254467949138]],[\"text\",[\"RPM\"]]]}}},\"view\":{\"type\":\"object\",\"name\":\"CDSView\",\"id\":\"p1389\",\"attributes\":{\"filter\":{\"type\":\"object\",\"name\":\"AllIndices\",\"id\":\"p1390\"}}},\"glyph\":{\"type\":\"object\",\"name\":\"Text\",\"id\":\"p1385\",\"attributes\":{\"x\":{\"type\":\"field\",\"field\":\"x\"},\"y\":{\"type\":\"field\",\"field\":\"y\"},\"text\":{\"type\":\"field\",\"field\":\"text\"},\"text_color\":{\"type\":\"value\",\"value\":\"black\"},\"text_font_size\":{\"type\":\"value\",\"value\":\"12pt\"},\"text_font_style\":{\"type\":\"value\",\"value\":\"bold\"}}},\"nonselection_glyph\":{\"type\":\"object\",\"name\":\"Text\",\"id\":\"p1386\",\"attributes\":{\"x\":{\"type\":\"field\",\"field\":\"x\"},\"y\":{\"type\":\"field\",\"field\":\"y\"},\"text\":{\"type\":\"field\",\"field\":\"text\"},\"text_color\":{\"type\":\"value\",\"value\":\"black\"},\"text_alpha\":{\"type\":\"value\",\"value\":0.1},\"text_font_size\":{\"type\":\"value\",\"value\":\"12pt\"},\"text_font_style\":{\"type\":\"value\",\"value\":\"bold\"}}},\"muted_glyph\":{\"type\":\"object\",\"name\":\"Text\",\"id\":\"p1387\",\"attributes\":{\"x\":{\"type\":\"field\",\"field\":\"x\"},\"y\":{\"type\":\"field\",\"field\":\"y\"},\"text\":{\"type\":\"field\",\"field\":\"text\"},\"text_color\":{\"type\":\"value\",\"value\":\"black\"},\"text_alpha\":{\"type\":\"value\",\"value\":0.2},\"text_font_size\":{\"type\":\"value\",\"value\":\"12pt\"},\"text_font_style\":{\"type\":\"value\",\"value\":\"bold\"}}}}}],\"toolbar\":{\"type\":\"object\",\"name\":\"Toolbar\",\"id\":\"p1315\",\"attributes\":{\"tools\":[{\"type\":\"object\",\"name\":\"PanTool\",\"id\":\"p1328\"},{\"type\":\"object\",\"name\":\"WheelZoomTool\",\"id\":\"p1329\",\"attributes\":{\"renderers\":\"auto\"}},{\"type\":\"object\",\"name\":\"BoxZoomTool\",\"id\":\"p1330\",\"attributes\":{\"dimensions\":\"both\",\"overlay\":{\"type\":\"object\",\"name\":\"BoxAnnotation\",\"id\":\"p1331\",\"attributes\":{\"syncable\":false,\"line_color\":\"black\",\"line_alpha\":1.0,\"line_width\":2,\"line_dash\":[4,4],\"fill_color\":\"lightgrey\",\"fill_alpha\":0.5,\"level\":\"overlay\",\"visible\":false,\"left\":{\"type\":\"number\",\"value\":\"nan\"},\"right\":{\"type\":\"number\",\"value\":\"nan\"},\"top\":{\"type\":\"number\",\"value\":\"nan\"},\"bottom\":{\"type\":\"number\",\"value\":\"nan\"},\"left_units\":\"canvas\",\"right_units\":\"canvas\",\"top_units\":\"canvas\",\"bottom_units\":\"canvas\",\"handles\":{\"type\":\"object\",\"name\":\"BoxInteractionHandles\",\"id\":\"p1337\",\"attributes\":{\"all\":{\"type\":\"object\",\"name\":\"AreaVisuals\",\"id\":\"p1336\",\"attributes\":{\"fill_color\":\"white\",\"hover_fill_color\":\"lightgray\"}}}}}}}},{\"type\":\"object\",\"name\":\"SaveTool\",\"id\":\"p1338\"},{\"type\":\"object\",\"name\":\"ResetTool\",\"id\":\"p1339\"},{\"type\":\"object\",\"name\":\"HelpTool\",\"id\":\"p1340\"}]}},\"left\":[{\"type\":\"object\",\"name\":\"LinearAxis\",\"id\":\"p1323\",\"attributes\":{\"ticker\":{\"type\":\"object\",\"name\":\"BasicTicker\",\"id\":\"p1324\",\"attributes\":{\"mantissas\":[1,2,5]}},\"formatter\":{\"type\":\"object\",\"name\":\"BasicTickFormatter\",\"id\":\"p1325\"},\"axis_label\":\"PC2\",\"major_label_policy\":{\"type\":\"object\",\"name\":\"AllLabels\",\"id\":\"p1326\"}}}],\"below\":[{\"type\":\"object\",\"name\":\"LinearAxis\",\"id\":\"p1318\",\"attributes\":{\"ticker\":{\"type\":\"object\",\"name\":\"BasicTicker\",\"id\":\"p1319\",\"attributes\":{\"mantissas\":[1,2,5]}},\"formatter\":{\"type\":\"object\",\"name\":\"BasicTickFormatter\",\"id\":\"p1320\"},\"axis_label\":\"PC1\",\"major_label_policy\":{\"type\":\"object\",\"name\":\"AllLabels\",\"id\":\"p1321\"}}}],\"center\":[{\"type\":\"object\",\"name\":\"Grid\",\"id\":\"p1322\",\"attributes\":{\"axis\":{\"id\":\"p1318\"}}},{\"type\":\"object\",\"name\":\"Grid\",\"id\":\"p1327\",\"attributes\":{\"dimension\":1,\"axis\":{\"id\":\"p1323\"}}},{\"type\":\"object\",\"name\":\"Legend\",\"id\":\"p1354\",\"attributes\":{\"items\":[{\"type\":\"object\",\"name\":\"LegendItem\",\"id\":\"p1355\",\"attributes\":{\"label\":{\"type\":\"value\",\"value\":\"Compact\"},\"renderers\":[{\"id\":\"p1351\"}],\"index\":2}},{\"type\":\"object\",\"name\":\"LegendItem\",\"id\":\"p1356\",\"attributes\":{\"label\":{\"type\":\"value\",\"value\":\"Large\"},\"renderers\":[{\"id\":\"p1351\"}],\"index\":6}},{\"type\":\"object\",\"name\":\"LegendItem\",\"id\":\"p1357\",\"attributes\":{\"label\":{\"type\":\"value\",\"value\":\"Midsize\"},\"renderers\":[{\"id\":\"p1351\"}],\"index\":1}},{\"type\":\"object\",\"name\":\"LegendItem\",\"id\":\"p1358\",\"attributes\":{\"label\":{\"type\":\"value\",\"value\":\"Small\"},\"renderers\":[{\"id\":\"p1351\"}],\"index\":0}},{\"type\":\"object\",\"name\":\"LegendItem\",\"id\":\"p1359\",\"attributes\":{\"label\":{\"type\":\"value\",\"value\":\"Sporty\"},\"renderers\":[{\"id\":\"p1351\"}],\"index\":13}},{\"type\":\"object\",\"name\":\"LegendItem\",\"id\":\"p1360\",\"attributes\":{\"label\":{\"type\":\"value\",\"value\":\"Van\"},\"renderers\":[{\"id\":\"p1351\"}],\"index\":15}}]}},{\"type\":\"object\",\"name\":\"Arrow\",\"id\":\"p1362\",\"attributes\":{\"source\":{\"type\":\"object\",\"name\":\"ColumnDataSource\",\"id\":\"p1364\",\"attributes\":{\"selected\":{\"type\":\"object\",\"name\":\"Selection\",\"id\":\"p1365\",\"attributes\":{\"indices\":[],\"line_indices\":[]}},\"selection_policy\":{\"type\":\"object\",\"name\":\"UnionRenderers\",\"id\":\"p1366\"},\"data\":{\"type\":\"map\"}}},\"x_start\":{\"type\":\"value\",\"value\":0},\"y_start\":{\"type\":\"value\",\"value\":0},\"x_end\":{\"type\":\"value\",\"value\":1.194873755876356},\"y_end\":{\"type\":\"value\",\"value\":-0.15161857692406722},\"end\":{\"type\":\"object\",\"name\":\"VeeHead\",\"id\":\"p1361\",\"attributes\":{\"size\":{\"type\":\"value\",\"value\":10}}},\"line_width\":{\"type\":\"value\",\"value\":2}}},{\"type\":\"object\",\"name\":\"Arrow\",\"id\":\"p1377\",\"attributes\":{\"source\":{\"type\":\"object\",\"name\":\"ColumnDataSource\",\"id\":\"p1379\",\"attributes\":{\"selected\":{\"type\":\"object\",\"name\":\"Selection\",\"id\":\"p1380\",\"attributes\":{\"indices\":[],\"line_indices\":[]}},\"selection_policy\":{\"type\":\"object\",\"name\":\"UnionRenderers\",\"id\":\"p1381\"},\"data\":{\"type\":\"map\"}}},\"x_start\":{\"type\":\"value\",\"value\":0},\"y_start\":{\"type\":\"value\",\"value\":0},\"x_end\":{\"type\":\"value\",\"value\":-0.5564465889684417},\"y_end\":{\"type\":\"value\",\"value\":1.7651254467949138},\"end\":{\"type\":\"object\",\"name\":\"VeeHead\",\"id\":\"p1376\",\"attributes\":{\"size\":{\"type\":\"value\",\"value\":10}}},\"line_width\":{\"type\":\"value\",\"value\":2}}}]}}]}};\n  const render_items = [{\"docid\":\"1eaa7d5a-d3a7-4bdd-b431-b94e80113b4a\",\"roots\":{\"p1306\":\"b6aa0e22-0483-4450-9d19-5fd9b3e4471c\"},\"root_ids\":[\"p1306\"]}];\n  void root.Bokeh.embed.embed_items_notebook(docs_json, render_items);\n  }\n  if (root.Bokeh !== undefined) {\n    embed_document(root);\n  } else {\n    let attempts = 0;\n    const timer = setInterval(function(root) {\n      if (root.Bokeh !== undefined) {\n        clearInterval(timer);\n        embed_document(root);\n      } else {\n        attempts++;\n        if (attempts > 100) {\n          clearInterval(timer);\n          console.log(\"Bokeh: ERROR: Unable to run BokehJS code because BokehJS library is missing\");\n        }\n      }\n    }, 10, root)\n  }\n})(window);",
      "application/vnd.bokehjs_exec.v0+json": ""
     },
     "metadata": {
      "application/vnd.bokehjs_exec.v0+json": {
       "id": "p1306"
      }
     },
     "output_type": "display_data"
    }
   ],
   "source": [
    "import numpy as np\n",
    "import pandas as pd\n",
    "from bokeh.models import ColumnDataSource, Arrow, VeeHead\n",
    "from bokeh.plotting import figure, show\n",
    "from bokeh.transform import factor_cmap\n",
    "from bokeh.palettes import Category10\n",
    "from sklearn.decomposition import PCA\n",
    "from sklearn.preprocessing import StandardScaler\n",
    "\n",
    "# Extract the corresponding vectors\n",
    "arrows = [\n",
    "    components[:, pc1_idxs[0]], # (x,y) coordinates for the arrow\n",
    "    components[:, pc2_idxs[0]]\n",
    "]\n",
    "feature_labels = [\n",
    "    feature_names[pc1_idxs[0]],\n",
    "    feature_names[pc2_idxs[0]]\n",
    "]\n",
    "# feature_labels = [\n",
    "#     ', '.join([feature_names[idx] for idx in pc1_idxs[:3]]),\n",
    "#     ', '.join([feature_names[idx] for idx in pc2_idxs[:3]])\n",
    "# ]\n",
    "\n",
    "# Scale vectors for visualization\n",
    "scaling_factor = 4\n",
    "arrows = [vector * scaling_factor for vector in arrows]\n",
    "\n",
    "p = figure(width=600, height=600, title=\"Biplot: Projection with Top Features\")\n",
    "\n",
    "# Scatter plot\n",
    "p.scatter(\n",
    "    source=pca_cars, x='PC1', y='PC2', size=9, legend_group='label',\n",
    "    color=factor_cmap(field_name='label', palette=Category10[10], factors=factors)\n",
    ")\n",
    "\n",
    "# Add arrows for the top feature of PC1 and PC2\n",
    "for arrow, label in zip(arrows, feature_labels):\n",
    "    arrow_glyph = Arrow(end=VeeHead(size=10),\n",
    "                        x_start=0, y_start=0,\n",
    "                        x_end=arrow[0], y_end=arrow[1],\n",
    "                        line_width=2)\n",
    "    p.add_layout(arrow_glyph)\n",
    "    # Annotate feature names\n",
    "    p.text(x=[arrow[0]], y=[arrow[1]], text=[label], text_font_size=\"12pt\", text_font_style='bold')\n",
    "\n",
    "# Set axis labels\n",
    "p.xaxis.axis_label = 'PC1'\n",
    "p.yaxis.axis_label = 'PC2'\n",
    "\n",
    "show(p)\n"
   ]
  },
  {
   "cell_type": "markdown",
   "metadata": {
    "id": "62WxH7rGAd2A"
   },
   "source": [
    "From The Above Code Analysis:\n",
    "\n",
    "- The dominant features for PC1: [`Weight`, `Engine`, `Tank`]\n",
    "- The dominant features for PC2: [`RPM`, `MaxPrice`, `MidPrice`]\n",
    "\n",
    "<br/>\n",
    "\n",
    "**X-axis (PC1):** The dominant features contributing to PC1 are 'Weight', 'Engine', and 'Tank', which suggests that **this axis primarily represents the size and power of the car.**\n",
    "- Cars on the left (PC1 < 0) tend to be smaller, lighter, and have smaller engines and fuel tanks compared to the average.\n",
    "- In contrast, cars on the right (PC1 > 0) are larger, heavier, and have more powerful engines with greater tank capacity.\n",
    "\n",
    "<br/>\n",
    "\n",
    "**Y-Axis (PC2):** For the Y-axis (PC2): The dominant features for PC2 are 'RPM', 'MaxPrice', and 'MidPrice', indicating that **this axis is likely related to performance and cost.**\n",
    "- Cars at the top (PC2 > 0) tend to have higher RPM, suggesting sportier performance, and are also more expensive, indicating luxury or premium vehicles.\n",
    "- Cars at the bottom (PC2 < 0) are generally more affordable and have lower RPM, reflecting more economical or utilitarian models.\n",
    "\n",
    "**Observations:**\n",
    "- Cars at the bottom are cheaper than those at the top. (Price strongly contributes in PC2 the vertical axis).\n",
    "- Midsize (green) cars vary strongly in their price. (Their vertical variance is large)\n",
    "- Midsize (green) cars are in general the most expensive type of car\n",
    "- Large (orange) cars have a lower weight than small (red) cars."
   ]
  },
  {
   "cell_type": "markdown",
   "metadata": {
    "id": "U6qwCnU0Ad2A"
   },
   "source": [
    "<div class=\"alert alert-success\">\n",
    "\n",
    "**Characterize small cars**\n",
    "\n",
    "You already tried to characterize small cars using the scatterplot matrix. Now do the same again using the PCA-plot and the analyses you made about the axes. What can you say about small cars? (small cars are red in this plot!)\n",
    "    \n",
    "Show a scatterplot using two informative variables to distinguish small cars from other cars.\n",
    "    \n",
    "Which cars are hard to distinguish from small cars?\n",
    "</div>"
   ]
  },
  {
   "cell_type": "markdown",
   "metadata": {
    "id": "Pw1F3ffGRyA4"
   },
   "source": [
    "**Answer:**\n",
    "\n",
    "- Since small cars (red points) are the leftmost points on the PC1 axis, I can say that small cars have less power (smaller engine size and less tank capacity), since pc1 is most dominated by the 3 variables ['Weight', 'Engine', 'Tank'].\n",
    "\n",
    "- Since small cars are more vertically gathered, compressed, and centered near the zero-line of the PC2 axis, and since PC2 is most dominated by 3 variables: ['RPM', 'MaxPrice', and 'MidPrice'], I can tell that small cars are the cheapest in general. And there is no huge gap in their prices, since their distance from the zero-line is smaller compared to other types of cars like Midsize cars (green) for instance, which tend to be very sparse and have large vertical variance."
   ]
  },
  {
   "cell_type": "code",
   "execution_count": 26,
   "metadata": {
    "colab": {
     "base_uri": "https://localhost:8080/",
     "height": 661
    },
    "id": "KKB0Vo_4Ad2A",
    "outputId": "2226728d-c95b-4a92-9403-54fc6b39f28a"
   },
   "outputs": [
    {
     "data": {
      "text/html": [
       "\n",
       "  <div id=\"b6f8ad81-19bd-4873-b0a8-841e15ce65b4\" data-root-id=\"p1459\" style=\"display: contents;\"></div>\n"
      ]
     },
     "metadata": {},
     "output_type": "display_data"
    },
    {
     "data": {
      "application/javascript": "(function(root) {\n  function embed_document(root) {\n  const docs_json = {\"0efe0309-335b-49d6-8c93-93c12040dc0f\":{\"version\":\"3.7.0\",\"title\":\"Bokeh Application\",\"roots\":[{\"type\":\"object\",\"name\":\"Column\",\"id\":\"p1459\",\"attributes\":{\"children\":[{\"type\":\"object\",\"name\":\"Figure\",\"id\":\"p1408\",\"attributes\":{\"x_range\":{\"type\":\"object\",\"name\":\"DataRange1d\",\"id\":\"p1409\"},\"y_range\":{\"type\":\"object\",\"name\":\"DataRange1d\",\"id\":\"p1410\"},\"x_scale\":{\"type\":\"object\",\"name\":\"LinearScale\",\"id\":\"p1418\"},\"y_scale\":{\"type\":\"object\",\"name\":\"LinearScale\",\"id\":\"p1419\"},\"title\":{\"type\":\"object\",\"name\":\"Title\",\"id\":\"p1411\",\"attributes\":{\"text\":\"Weight vs MidPrice: Distinguishing Small Cars\"}},\"renderers\":[{\"type\":\"object\",\"name\":\"GlyphRenderer\",\"id\":\"p1453\",\"attributes\":{\"data_source\":{\"type\":\"object\",\"name\":\"ColumnDataSource\",\"id\":\"p1444\",\"attributes\":{\"selected\":{\"type\":\"object\",\"name\":\"Selection\",\"id\":\"p1445\",\"attributes\":{\"indices\":[],\"line_indices\":[]}},\"selection_policy\":{\"type\":\"object\",\"name\":\"UnionRenderers\",\"id\":\"p1446\"},\"data\":{\"type\":\"map\",\"entries\":[[\"index\",{\"type\":\"ndarray\",\"array\":{\"type\":\"bytes\",\"data\":\"AAAAAAEAAAACAAAAAwAAAAQAAAAFAAAABgAAAAcAAAAIAAAACQAAAAoAAAALAAAADAAAAA0AAAAOAAAADwAAABAAAAARAAAAEgAAABMAAAAUAAAAFQAAABYAAAAXAAAAGAAAABkAAAAaAAAAGwAAABwAAAAdAAAAHgAAAB8AAAAgAAAAIQAAACIAAAAjAAAAJAAAACUAAAAmAAAAJwAAACgAAAApAAAAKgAAACsAAAAsAAAALQAAAC4AAAAvAAAAMAAAADEAAAAyAAAAMwAAADQAAAA1AAAANgAAADcAAAA4AAAAOQAAADoAAAA7AAAAPAAAAD0AAAA+AAAAPwAAAEAAAABBAAAAQgAAAEMAAABEAAAARQAAAEYAAABHAAAASAAAAEkAAABKAAAASwAAAEwAAABNAAAATgAAAE8AAABQAAAAUQAAAFIAAABTAAAAVAAAAFUAAABWAAAAVwAAAFgAAABZAAAAWgAAAA==\"},\"shape\":[91],\"dtype\":\"int32\",\"order\":\"little\"}],[\"Manufacturer\",{\"type\":\"ndarray\",\"array\":[\"Acura\",\"Acura\",\"Audi\",\"Audi\",\"BMW\",\"Buick\",\"Buick\",\"Buick\",\"Buick\",\"Cadillac\",\"Cadillac\",\"Chevrolet\",\"Chevrolet\",\"Chevrolet\",\"Chevrolet\",\"Chevrolet\",\"Chevrolet\",\"Chevrolet\",\"Chrylser\",\"Chrysler\",\"Chrysler\",\"Dodge\",\"Dodge\",\"Dodge\",\"Dodge\",\"Dodge\",\"Dodge\",\"Eagle\",\"Eagle\",\"Ford\",\"Ford\",\"Ford\",\"Ford\",\"Ford\",\"Ford\",\"Ford\",\"Ford\",\"Geo\",\"Geo\",\"Honda\",\"Honda\",\"Honda\",\"Hyundai\",\"Hyundai\",\"Hyundai\",\"Hyundai\",\"Infiniti\",\"Lexus\",\"Lexus\",\"Lincoln\",\"Lincoln\",\"Mazda\",\"Mazda\",\"Mazda\",\"Mazda\",\"Mercedes-Benz\",\"Mercedes-Benz\",\"Mercury\",\"Mercury\",\"Mitsubishi\",\"Mitsubishi\",\"Nissan\",\"Nissan\",\"Nissan\",\"Nissan\",\"Oldsmobile\",\"Oldsmobile\",\"Oldsmobile\",\"Oldsmobile\",\"Plymouth\",\"Pontiac\",\"Pontiac\",\"Pontiac\",\"Pontiac\",\"Pontiac\",\"Saab\",\"Saturn\",\"Subaru\",\"Subaru\",\"Subaru\",\"Suzuki\",\"Toyota\",\"Toyota\",\"Toyota\",\"Toyota\",\"Volkswagen\",\"Volkswagen\",\"Volkswagen\",\"Volkswagen\",\"Volvo\",\"Volvo\"],\"shape\":[91],\"dtype\":\"object\",\"order\":\"little\"}],[\"Model\",{\"type\":\"ndarray\",\"array\":[\"Integra\",\"Legend\",\"90\",\"100\",\"535i\",\"Century\",\"LeSabre\",\"Roadmaster\",\"Riviera\",\"DeVille\",\"Seville\",\"Cavalier\",\"Corsica\",\"Camaro\",\"Lumina\",\"Lumina_APV\",\"Astro\",\"Caprice\",\"Concorde\",\"LeBaron\",\"Imperial\",\"Colt\",\"Shadow\",\"Spirit\",\"Caravan\",\"Dynasty\",\"Stealth\",\"Summit\",\"Vision\",\"Festiva\",\"Escort\",\"Tempo\",\"Mustang\",\"Probe\",\"Aerostar\",\"Taurus\",\"Crown_Victoria\",\"Metro\",\"Storm\",\"Prelude\",\"Civic\",\"Accord\",\"Excel\",\"Elantra\",\"Scoupe\",\"Sonata\",\"Q45\",\"ES300\",\"SC300\",\"Continental\",\"Town_Car\",\"323\",\"Protege\",\"626\",\"MPV\",\"190E\",\"300E\",\"Capri\",\"Cougar\",\"Mirage\",\"Diamante\",\"Sentra\",\"Altima\",\"Quest\",\"Maxima\",\"Achieva\",\"Cutlass_Ciera\",\"Silhouette\",\"Eighty-Eight\",\"Laser\",\"LeMans\",\"Sunbird\",\"Firebird\",\"Grand_Prix\",\"Bonneville\",\"900\",\"SL\",\"Justy\",\"Loyale\",\"Legacy\",\"Swift\",\"Tercel\",\"Celica\",\"Camry\",\"Previa\",\"Fox\",\"Eurovan\",\"Passat\",\"Corrado\",\"240\",\"850\"],\"shape\":[91],\"dtype\":\"object\",\"order\":\"little\"}],[\"Type\",{\"type\":\"ndarray\",\"array\":[\"Small\",\"Midsize\",\"Compact\",\"Midsize\",\"Midsize\",\"Midsize\",\"Large\",\"Large\",\"Midsize\",\"Large\",\"Midsize\",\"Compact\",\"Compact\",\"Sporty\",\"Midsize\",\"Van\",\"Van\",\"Large\",\"Large\",\"Compact\",\"Large\",\"Small\",\"Small\",\"Compact\",\"Van\",\"Midsize\",\"Sporty\",\"Small\",\"Large\",\"Small\",\"Small\",\"Compact\",\"Sporty\",\"Sporty\",\"Van\",\"Midsize\",\"Large\",\"Small\",\"Sporty\",\"Sporty\",\"Small\",\"Compact\",\"Small\",\"Small\",\"Sporty\",\"Midsize\",\"Midsize\",\"Midsize\",\"Midsize\",\"Midsize\",\"Large\",\"Small\",\"Small\",\"Compact\",\"Van\",\"Compact\",\"Midsize\",\"Sporty\",\"Midsize\",\"Small\",\"Midsize\",\"Small\",\"Compact\",\"Van\",\"Midsize\",\"Compact\",\"Midsize\",\"Van\",\"Large\",\"Sporty\",\"Small\",\"Compact\",\"Sporty\",\"Midsize\",\"Large\",\"Compact\",\"Small\",\"Small\",\"Small\",\"Compact\",\"Small\",\"Small\",\"Sporty\",\"Midsize\",\"Van\",\"Small\",\"Van\",\"Compact\",\"Sporty\",\"Compact\",\"Midsize\"],\"shape\":[91],\"dtype\":\"object\",\"order\":\"little\"}],[\"MinPrice\",{\"type\":\"ndarray\",\"array\":{\"type\":\"bytes\",\"data\":\"zczMzMzMKUAzMzMzMzM9QGZmZmZm5jlAzczMzMzMPkAzMzMzM7M3QGZmZmZmZixAZmZmZmbmM0CamZmZmZk2QM3MzMzMTDpAAAAAAACAQEAAAAAAAMBCQAAAAAAAACFAzczMzMzMJkDNzMzMzMwqQM3MzMzMzCpAZmZmZmZmLUBmZmZmZmYtQAAAAAAAADJAZmZmZmZmMkAAAAAAAAAtQAAAAAAAgD1AmpmZmZmZH0DNzMzMzMwgQM3MzMzMzCdAMzMzMzMzK0CamZmZmZktQAAAAAAAgDJAmpmZmZmZH0AAAAAAAIAxQJqZmZmZmRtAzczMzMzMIEDNzMzMzMwkQJqZmZmZmSVAmpmZmZmZKUAAAAAAAAAtQDMzMzMzMy9AmpmZmZkZNEDNzMzMzMwaQAAAAAAAACdAAAAAAAAAMUDNzMzMzMwgQJqZmZmZmStAMzMzMzMzG0AAAAAAAAAiQDMzMzMzMyJAzczMzMzMKEAzMzMzM7NGQAAAAAAAgDtAmpmZmZlZQUBmZmZmZqZAQDMzMzMzM0FAmpmZmZmZHUDNzMzMzMwlQJqZmZmZmSxAmpmZmZmZMEAAAAAAAAA9QGZmZmZm5kVAmpmZmZmZKkDNzMzMzMwtQM3MzMzMzB5AZmZmZmZmNkBmZmZmZmYhQAAAAAAAACpAMzMzMzOzMEAAAAAAAAA1QAAAAAAAACpAZmZmZmZmLEAAAAAAAIAzQAAAAAAAgDNAzczMzMzMJkBmZmZmZmYgQM3MzMzMzCJAAAAAAAAALEDNzMzMzMwuQGZmZmZmZjNAzczMzMxMNEBmZmZmZmYiQDMzMzMzMx1AAAAAAAAAJUDNzMzMzEwwQDMzMzMzMx1AMzMzMzMzH0BmZmZmZmYsQGZmZmZmZi5AZmZmZmbmMkBmZmZmZmYhQJqZmZmZmTBAmpmZmZmZMUBmZmZmZuY2QM3MzMzMzDVAzczMzMzMOEA=\"},\"shape\":[91],\"dtype\":\"float64\",\"order\":\"little\"}],[\"MidPrice\",{\"type\":\"ndarray\",\"array\":{\"type\":\"bytes\",\"data\":\"zczMzMzML0AzMzMzM/NAQJqZmZmZGT1AmpmZmZnZQkAAAAAAAAA+QGZmZmZmZi9AzczMzMzMNEAzMzMzM7M3QM3MzMzMTDpAmpmZmZlZQUDNzMzMzAxEQM3MzMzMzCpAzczMzMzMJkAzMzMzMzMuQM3MzMzMzC9AzczMzMxMMECamZmZmZkwQM3MzMzMzDJAZmZmZmZmMkCamZmZmZkvQAAAAAAAgD1AZmZmZmZmIkCamZmZmZkmQJqZmZmZmSpAAAAAAAAAM0AzMzMzMzMvQM3MzMzMzDlAZmZmZmZmKEDNzMzMzEwzQJqZmZmZmR1AMzMzMzMzJECamZmZmZkmQM3MzMzMzC9AAAAAAAAALEBmZmZmZuYzQDMzMzMzMzRAZmZmZmbmNEDNzMzMzMwgQAAAAAAAAClAzczMzMzMM0AzMzMzMzMoQAAAAAAAgDFAAAAAAAAAIEAAAAAAAAAkQAAAAAAAACRAzczMzMzMK0AzMzMzM/NHQAAAAAAAADxAmpmZmZmZQUBmZmZmZiZBQM3MzMzMDEJAmpmZmZmZIEAzMzMzMzMnQAAAAAAAgDBAmpmZmZkZM0BmZmZmZuY/QDMzMzMz805AMzMzMzMzLEDNzMzMzMwtQJqZmZmZmSRAmpmZmZkZOkCamZmZmZknQGZmZmZmZi9AmpmZmZkZM0AAAAAAAIA1QAAAAAAAACtAzczMzMxMMEAAAAAAAIAzQDMzMzMzszRAzczMzMzMLEAAAAAAAAAiQDMzMzMzMyZAMzMzMzOzMUAAAAAAAIAyQGZmZmZmZjhAMzMzMzOzPEAzMzMzMzMmQM3MzMzMzCBAzczMzMzMJUAAAAAAAIAzQDMzMzMzMyFAmpmZmZmZI0BmZmZmZmYyQDMzMzMzMzJAMzMzMzOzNkAzMzMzMzMiQDMzMzMzszNAAAAAAAAANEDNzMzMzEw3QDMzMzMzszZAMzMzMzOzOkA=\"},\"shape\":[91],\"dtype\":\"float64\",\"order\":\"little\"}],[\"MaxPrice\",{\"type\":\"ndarray\",\"array\":{\"type\":\"bytes\",\"data\":\"zczMzMzMMkCamZmZmVlDQGZmZmZmJkBAzczMzMxMRkCamZmZmRlCQM3MzMzMTDFAMzMzMzOzNUBmZmZmZuY4QM3MzMzMTDpAZmZmZmYmQkCamZmZmVlFQM3MzMzMTDJAzczMzMzMJkDNzMzMzMwwQGZmZmZmZjJAAAAAAAAAMkCamZmZmZkyQJqZmZmZmTNAZmZmZmZmMkCamZmZmRkxQAAAAAAAgD1AMzMzMzMzJUBmZmZmZmYsQGZmZmZmZi1AZmZmZmZmOEBmZmZmZmYwQM3MzMzMjEBAAAAAAACAMEAzMzMzMzM1QJqZmZmZmR9AzczMzMzMJ0BmZmZmZmYoQAAAAAAAADVAZmZmZmZmLkDNzMzMzEw5QM3MzMzMzDhAMzMzMzOzNUAAAAAAAAAkQAAAAAAAACtAMzMzMzOzNkCamZmZmZkvQDMzMzMzMzVAZmZmZmZmIkAAAAAAAAAmQAAAAAAAACZAmpmZmZmZLkAzMzMzMzNJQGZmZmZmZjxAzczMzMzMQUBmZmZmZqZBQGZmZmZm5kJAMzMzMzMzIkCamZmZmZkoQDMzMzMzszJAMzMzMzOzNUAzMzMzM3NBQAAAAAAAAFRAAAAAAAAALkDNzMzMzMwtQM3MzMzMzClAZmZmZmbmPUDNzMzMzMwtQM3MzMzMTDJAAAAAAACANUAAAAAAAAA2QAAAAAAAACxAZmZmZmZmMkAAAAAAAIAzQGZmZmZm5jVAZmZmZmZmMUDNzMzMzMwjQJqZmZmZmSlAZmZmZmZmNUCamZmZmZk1QGZmZmZmZj1AzczMzMyMQkDNzMzMzMwpQAAAAAAAACNAmpmZmZmZJkAzMzMzM7M2QAAAAAAAACRAmpmZmZmZJ0CamZmZmZk2QDMzMzMzMzVAmpmZmZmZOkAAAAAAAAAjQDMzMzMzszZAZmZmZmZmNkAzMzMzM7M3QAAAAAAAgDdAAAAAAACAPEA=\"},\"shape\":[91],\"dtype\":\"float64\",\"order\":\"little\"}],[\"CityMpg\",{\"type\":\"ndarray\",\"array\":{\"type\":\"bytes\",\"data\":\"GQAAABIAAAAUAAAAEwAAABYAAAAWAAAAEwAAABAAAAATAAAAEAAAABAAAAAZAAAAGQAAABMAAAAVAAAAEgAAAA8AAAARAAAAFAAAABcAAAAUAAAAHQAAABcAAAAWAAAAEQAAABUAAAASAAAAHQAAABQAAAAfAAAAFwAAABYAAAAWAAAAGAAAAA8AAAAVAAAAEgAAAC4AAAAeAAAAGAAAACoAAAAYAAAAHQAAABYAAAAaAAAAFAAAABEAAAASAAAAEgAAABEAAAASAAAAHQAAABwAAAAaAAAAEgAAABQAAAATAAAAFwAAABMAAAAdAAAAEgAAAB0AAAAYAAAAEQAAABUAAAAYAAAAFwAAABIAAAATAAAAFwAAAB8AAAAXAAAAEwAAABMAAAATAAAAFAAAABwAAAAhAAAAGQAAABcAAAAnAAAAIAAAABkAAAAWAAAAEgAAABkAAAARAAAAFQAAABIAAAAVAAAAFAAAAA==\"},\"shape\":[91],\"dtype\":\"int32\",\"order\":\"little\"}],[\"HighwayMpg\",{\"type\":\"ndarray\",\"array\":{\"type\":\"bytes\",\"data\":\"HwAAABkAAAAaAAAAGgAAAB4AAAAfAAAAHAAAABkAAAAbAAAAGQAAABkAAAAkAAAAIgAAABwAAAAdAAAAFwAAABQAAAAaAAAAHAAAABwAAAAaAAAAIQAAAB0AAAAbAAAAFQAAABsAAAAYAAAAIQAAABwAAAAhAAAAHgAAABsAAAAdAAAAHgAAABQAAAAeAAAAGgAAADIAAAAkAAAAHwAAAC4AAAAfAAAAIQAAAB0AAAAiAAAAGwAAABYAAAAYAAAAFwAAABoAAAAaAAAAJQAAACQAAAAiAAAAGAAAAB0AAAAZAAAAGgAAABoAAAAhAAAAGAAAACEAAAAeAAAAFwAAABoAAAAfAAAAHwAAABcAAAAcAAAAHgAAACkAAAAfAAAAHAAAABsAAAAcAAAAGgAAACYAAAAlAAAAHgAAAB4AAAArAAAAJQAAACAAAAAdAAAAFgAAACEAAAAVAAAAHgAAABkAAAAcAAAAHAAAAA==\"},\"shape\":[91],\"dtype\":\"int32\",\"order\":\"little\"}],[\"AirBags\",{\"type\":\"ndarray\",\"array\":{\"type\":\"bytes\",\"data\":\"AAAAAAIAAAABAAAAAgAAAAEAAAABAAAAAQAAAAEAAAABAAAAAQAAAAIAAAAAAAAAAQAAAAIAAAAAAAAAAAAAAAAAAAABAAAAAgAAAAIAAAABAAAAAAAAAAEAAAABAAAAAQAAAAEAAAABAAAAAAAAAAIAAAAAAAAAAAAAAAAAAAABAAAAAQAAAAEAAAABAAAAAQAAAAAAAAABAAAAAgAAAAEAAAACAAAAAAAAAAAAAAAAAAAAAAAAAAEAAAABAAAAAgAAAAIAAAACAAAAAAAAAAAAAAABAAAAAAAAAAEAAAACAAAAAQAAAAAAAAAAAAAAAQAAAAEAAAABAAAAAAAAAAEAAAAAAAAAAQAAAAAAAAABAAAAAAAAAAAAAAAAAAAAAgAAAAAAAAACAAAAAQAAAAEAAAAAAAAAAAAAAAEAAAAAAAAAAQAAAAEAAAABAAAAAQAAAAAAAAAAAAAAAAAAAAAAAAABAAAAAgAAAA==\"},\"shape\":[91],\"dtype\":\"int32\",\"order\":\"little\"}],[\"DriveTrainType\",{\"type\":\"ndarray\",\"array\":{\"type\":\"bytes\",\"data\":\"AQAAAAEAAAABAAAAAQAAAAAAAAABAAAAAQAAAAAAAAABAAAAAQAAAAEAAAABAAAAAQAAAAAAAAABAAAAAQAAAAIAAAAAAAAAAQAAAAEAAAABAAAAAQAAAAEAAAABAAAAAgAAAAEAAAACAAAAAQAAAAEAAAABAAAAAQAAAAEAAAAAAAAAAQAAAAIAAAABAAAAAAAAAAEAAAABAAAAAQAAAAEAAAABAAAAAQAAAAEAAAABAAAAAQAAAAAAAAABAAAAAAAAAAEAAAAAAAAAAQAAAAEAAAABAAAAAgAAAAAAAAAAAAAAAQAAAAAAAAABAAAAAQAAAAEAAAABAAAAAQAAAAEAAAABAAAAAQAAAAEAAAABAAAAAgAAAAEAAAABAAAAAAAAAAEAAAABAAAAAQAAAAEAAAACAAAAAgAAAAIAAAABAAAAAQAAAAEAAAABAAAAAgAAAAEAAAABAAAAAQAAAAEAAAAAAAAAAQAAAA==\"},\"shape\":[91],\"dtype\":\"int32\",\"order\":\"little\"}],[\"Cylinders\",{\"type\":\"ndarray\",\"array\":{\"type\":\"bytes\",\"data\":\"AAAAAAAAEEAAAAAAAAAYQAAAAAAAABhAAAAAAAAAGEAAAAAAAAAQQAAAAAAAABBAAAAAAAAAGEAAAAAAAAAYQAAAAAAAABhAAAAAAAAAIEAAAAAAAAAgQAAAAAAAABBAAAAAAAAAEEAAAAAAAAAYQAAAAAAAABBAAAAAAAAAGEAAAAAAAAAYQAAAAAAAACBAAAAAAAAAGEAAAAAAAAAQQAAAAAAAABhAAAAAAAAAEEAAAAAAAAAQQAAAAAAAABBAAAAAAAAAGEAAAAAAAAAQQAAAAAAAABhAAAAAAAAAEEAAAAAAAAAYQAAAAAAAABBAAAAAAAAAEEAAAAAAAAAQQAAAAAAAABBAAAAAAAAAEEAAAAAAAAAYQAAAAAAAABhAAAAAAAAAIEAAAAAAAAAIQAAAAAAAABBAAAAAAAAAEEAAAAAAAAAQQAAAAAAAABBAAAAAAAAAEEAAAAAAAAAQQAAAAAAAABBAAAAAAAAAEEAAAAAAAAAgQAAAAAAAABhAAAAAAAAAGEAAAAAAAAAYQAAAAAAAACBAAAAAAAAAEEAAAAAAAAAQQAAAAAAAABBAAAAAAAAAGEAAAAAAAAAQQAAAAAAAABhAAAAAAAAAEEAAAAAAAAAYQAAAAAAAABBAAAAAAAAAGEAAAAAAAAAQQAAAAAAAABBAAAAAAAAAGEAAAAAAAAAYQAAAAAAAABBAAAAAAAAAEEAAAAAAAAAYQAAAAAAAABhAAAAAAAAAEEAAAAAAAAAQQAAAAAAAABBAAAAAAAAAGEAAAAAAAAAYQAAAAAAAABhAAAAAAAAAEEAAAAAAAAAQQAAAAAAAAAhAAAAAAAAAEEAAAAAAAAAQQAAAAAAAAAhAAAAAAAAAEEAAAAAAAAAQQAAAAAAAABBAAAAAAAAAEEAAAAAAAAAQQAAAAAAAABRAAAAAAAAAEEAAAAAAAAAYQAAAAAAAABBAAAAAAAAAFEA=\"},\"shape\":[91],\"dtype\":\"float64\",\"order\":\"little\"}],[\"Engine\",{\"type\":\"ndarray\",\"array\":{\"type\":\"bytes\",\"data\":\"zczMzMzM/D+amZmZmZkJQGZmZmZmZgZAZmZmZmZmBkAAAAAAAAAMQJqZmZmZmQFAZmZmZmZmDkDNzMzMzMwWQGZmZmZmZg5AmpmZmZmZE0BmZmZmZmYSQJqZmZmZmQFAmpmZmZmZAUAzMzMzMzMLQJqZmZmZmQFAZmZmZmZmDkAzMzMzMzMRQAAAAAAAABRAZmZmZmZmCkAAAAAAAAAIQGZmZmZmZgpAAAAAAAAA+D+amZmZmZkBQAAAAAAAAARAAAAAAAAACEAAAAAAAAAEQAAAAAAAAAhAAAAAAAAA+D8AAAAAAAAMQM3MzMzMzPQ/zczMzMzM/D9mZmZmZmYCQGZmZmZmZgJAAAAAAAAAAEAAAAAAAAAIQAAAAAAAAAhAZmZmZmZmEkAAAAAAAADwP5qZmZmZmfk/ZmZmZmZmAkAAAAAAAAD4P5qZmZmZmQFAAAAAAAAA+D/NzMzMzMz8PwAAAAAAAPg/AAAAAAAAAEAAAAAAAAASQAAAAAAAAAhAAAAAAAAACEBmZmZmZmYOQGZmZmZmZhJAmpmZmZmZ+T/NzMzMzMz8PwAAAAAAAARAAAAAAAAACEBmZmZmZmYCQJqZmZmZmQlAmpmZmZmZ+T9mZmZmZmYOQAAAAAAAAPg/AAAAAAAACECamZmZmZn5PzMzMzMzMwNAAAAAAAAACEAAAAAAAAAIQGZmZmZmZgJAmpmZmZmZAUBmZmZmZmYOQGZmZmZmZg5AzczMzMzM/D+amZmZmZn5PwAAAAAAAABAMzMzMzMzC0AzMzMzMzMLQGZmZmZmZg5AzczMzMzMAEBmZmZmZmb+PzMzMzMzM/M/zczMzMzM/D+amZmZmZkBQM3MzMzMzPQ/AAAAAAAA+D+amZmZmZkBQJqZmZmZmQFAMzMzMzMzA0DNzMzMzMz8PwAAAAAAAARAAAAAAAAAAEBmZmZmZmYGQGZmZmZmZgJAMzMzMzMzA0A=\"},\"shape\":[91],\"dtype\":\"float64\",\"order\":\"little\"}],[\"Horsepower\",{\"type\":\"ndarray\",\"array\":{\"type\":\"bytes\",\"data\":\"jAAAAMgAAACsAAAArAAAANAAAABuAAAAqgAAALQAAACqAAAAyAAAACcBAABuAAAAbgAAAKAAAABuAAAAqgAAAKUAAACqAAAAmQAAAI0AAACTAAAAXAAAAF0AAABkAAAAjgAAAGQAAAAsAQAAXAAAANYAAAA/AAAAfwAAAGAAAABpAAAAcwAAAJEAAACMAAAAvgAAADcAAABaAAAAoAAAAGYAAACMAAAAUQAAAHwAAABcAAAAgAAAABYBAAC5AAAA4QAAAKAAAADSAAAAUgAAAGcAAACkAAAAmwAAAIIAAADZAAAAZAAAAIwAAABcAAAAygAAAG4AAACWAAAAlwAAAKAAAACbAAAAbgAAAKoAAACqAAAAXAAAAEoAAABuAAAAoAAAAMgAAACqAAAAjAAAAFUAAABJAAAAWgAAAIIAAABGAAAAUgAAAIcAAACCAAAAigAAAFEAAABtAAAAhgAAALIAAAByAAAAqAAAAA==\"},\"shape\":[91],\"dtype\":\"int32\",\"order\":\"little\"}],[\"RPM\",{\"type\":\"ndarray\",\"array\":{\"type\":\"bytes\",\"data\":\"nBgAAHwVAAB8FQAAfBUAAEQWAABQFAAAwBIAAKAPAADAEgAABBAAAHAXAABQFAAAUBQAAPgRAABQFAAAwBIAAKAPAABoEAAAtBQAAIgTAADAEgAAcBcAAMASAADAEgAAiBMAAMASAABwFwAAcBcAAKgWAACIEwAAZBkAAGgQAAD4EQAAfBUAAMASAADAEgAAaBAAAEQWAAAYFQAAqBYAAAwXAADgFQAAfBUAAHAXAACuFQAAcBcAAHAXAABQFAAAcBcAADARAAD4EQAAiBMAAHwVAADgFQAAiBMAAOwTAAB8FQAAdhYAANgOAABwFwAAcBcAAHAXAADgFQAAwBIAAFAUAABwFwAAUBQAAMASAADAEgAAiBMAAOAVAABQFAAA+BEAAIgTAADAEgAAcBcAAIgTAADgFQAAUBQAAOAVAABwFwAAUBQAABgVAAAYFQAAiBMAAHwVAACUEQAAqBYAAKgWAAAYFQAAOBgAAA==\"},\"shape\":[91],\"dtype\":\"int32\",\"order\":\"little\"}],[\"EngineRev\",{\"type\":\"ndarray\",\"array\":{\"type\":\"bytes\",\"data\":\"SgsAAB8JAADoCAAA5wkAAPEJAAAFCgAAIgYAACgFAACaBgAA5gUAAMEHAABMCQAAaQoAAA0HAAAjCgAAmgYAAP4GAABGBQAAxgcAACoIAAD5BgAA1QwAACMKAADnCQAAsgcAAKEJAABICAAAyQkAALwHAABODAAAagkAAPUKAADtCAAAJAkAACAIAABdBwAAhwUAAKsOAACyDAAAJwsAAFoKAAAyCgAAlgoAALkKAADsCQAAHwkAAKMHAAAVCQAAzgkAACsHAAAwBwAAQgkAAKwIAADJCQAAwAgAAHkJAACsCAAAqwkAAMIGAADJCQAAoggAAIMJAABSCAAAEQgAAP0HAABMCQAABQoAAJoGAAAiBgAAOAkAADoMAABpCgAADQcAAGIHAAAdBgAAXgsAAGEIAAA7CwAALw0AABoJAAAgDQAAsQ0AAGUJAAAkCQAA0wkAAPYJAABjCwAAfQoAAFEJAACnCAAABgkAAA==\"},\"shape\":[91],\"dtype\":\"int32\",\"order\":\"little\"}],[\"ManTrans\",{\"type\":\"ndarray\",\"array\":{\"type\":\"bytes\",\"data\":\"AQAAAAEAAAABAAAAAQAAAAEAAAAAAAAAAAAAAAAAAAAAAAAAAAAAAAAAAAABAAAAAQAAAAEAAAAAAAAAAAAAAAAAAAAAAAAAAAAAAAAAAAAAAAAAAQAAAAEAAAABAAAAAAAAAAAAAAABAAAAAQAAAAAAAAABAAAAAQAAAAEAAAABAAAAAQAAAAEAAAAAAAAAAAAAAAEAAAABAAAAAQAAAAEAAAABAAAAAQAAAAEAAAABAAAAAQAAAAAAAAABAAAAAQAAAAAAAAAAAAAAAQAAAAEAAAABAAAAAAAAAAEAAAAAAAAAAQAAAAAAAAABAAAAAAAAAAEAAAABAAAAAAAAAAAAAAAAAAAAAAAAAAAAAAAAAAAAAQAAAAEAAAABAAAAAQAAAAEAAAAAAAAAAQAAAAEAAAABAAAAAQAAAAEAAAABAAAAAQAAAAEAAAABAAAAAQAAAAEAAAABAAAAAQAAAAEAAAABAAAAAQAAAA==\"},\"shape\":[91],\"dtype\":\"int32\",\"order\":\"little\"}],[\"Tank\",{\"type\":\"ndarray\",\"array\":{\"type\":\"bytes\",\"data\":\"ZmZmZmZmKkAAAAAAAAAyQGZmZmZm5jBAmpmZmZkZNUCamZmZmRk1QGZmZmZmZjBAAAAAAAAAMkAAAAAAAAA3QM3MzMzMzDJAAAAAAAAAMkAAAAAAAAA0QGZmZmZmZi5AMzMzMzMzL0AAAAAAAAAvQAAAAAAAgDBAAAAAAAAANEAAAAAAAAA7QAAAAAAAADdAAAAAAAAAMkAAAAAAAAAwQAAAAAAAADBAZmZmZmZmKkAAAAAAAAAsQAAAAAAAADBAAAAAAAAANEAAAAAAAAAwQM3MzMzMzDNAZmZmZmZmKkAAAAAAAAAyQAAAAAAAACRAZmZmZmZmKkDNzMzMzMwvQM3MzMzMzC5AAAAAAAAAL0AAAAAAAAA1QAAAAAAAADBAAAAAAAAANEAzMzMzMzMlQM3MzMzMzChAzczMzMzML0DNzMzMzMwnQAAAAAAAADFAzczMzMzMJ0BmZmZmZmYrQM3MzMzMzCdAMzMzMzMzMUAAAAAAAIA2QAAAAAAAgDJAmpmZmZmZNEBmZmZmZmYyQAAAAAAAADRAZmZmZmZmKkAAAAAAAAAtQAAAAAAAAC9AmpmZmZmZM0AAAAAAAAAtQAAAAAAAgDJAMzMzMzMzJkAAAAAAAAAyQGZmZmZmZipAAAAAAAAAM0BmZmZmZmYqQM3MzMzMzC9AAAAAAAAANEAAAAAAAIAyQGZmZmZmZi5AAAAAAACAMEAAAAAAAAA0QAAAAAAAADJAzczMzMzML0BmZmZmZmYqQGZmZmZmZi5AAAAAAAAAL0AAAAAAAIAwQAAAAAAAADJAAAAAAAAAMkCamZmZmZkpQGZmZmZmZiJAzczMzMzML0DNzMzMzMwvQDMzMzMzMyVAzczMzMzMJ0DNzMzMzMwvQAAAAAAAgDJAzczMzMzMM0DNzMzMzMwoQJqZmZmZGTVAAAAAAACAMkAAAAAAAIAyQJqZmZmZmS9AzczMzMxMM0A=\"},\"shape\":[91],\"dtype\":\"float64\",\"order\":\"little\"}],[\"Passenger\",{\"type\":\"ndarray\",\"array\":{\"type\":\"bytes\",\"data\":\"BQAAAAUAAAAFAAAABgAAAAQAAAAGAAAABgAAAAYAAAAFAAAABgAAAAUAAAAFAAAABQAAAAQAAAAGAAAABwAAAAgAAAAGAAAABgAAAAYAAAAGAAAABQAAAAUAAAAGAAAABwAAAAYAAAAEAAAABQAAAAYAAAAEAAAABQAAAAUAAAAEAAAABAAAAAcAAAAFAAAABgAAAAQAAAAEAAAABAAAAAQAAAAEAAAABQAAAAUAAAAEAAAABQAAAAUAAAAFAAAABAAAAAYAAAAGAAAABAAAAAUAAAAFAAAABwAAAAUAAAAFAAAABAAAAAUAAAAFAAAABQAAAAUAAAAFAAAABwAAAAUAAAAFAAAABQAAAAcAAAAGAAAABAAAAAQAAAAFAAAABAAAAAUAAAAGAAAABQAAAAUAAAAEAAAABQAAAAUAAAAEAAAABQAAAAQAAAAFAAAABwAAAAQAAAAHAAAABQAAAAQAAAAFAAAABQAAAA==\"},\"shape\":[91],\"dtype\":\"int32\",\"order\":\"little\"}],[\"Length\",{\"type\":\"ndarray\",\"array\":{\"type\":\"bytes\",\"data\":\"sQAAAMMAAAC0AAAAwQAAALoAAAC9AAAAyAAAANgAAADGAAAAzgAAAMwAAAC2AAAAuAAAAMEAAADGAAAAsgAAAMIAAADWAAAAywAAALcAAADLAAAArgAAAKwAAAC1AAAArwAAAMAAAAC0AAAArgAAAMoAAACNAAAAqwAAALEAAAC0AAAAswAAALAAAADAAAAA1AAAAJcAAACkAAAArwAAAK0AAAC5AAAAqAAAAKwAAACmAAAAuAAAAMgAAAC8AAAAvwAAAM0AAADbAAAApAAAAKwAAAC4AAAAvgAAAK8AAAC7AAAApgAAAMcAAACsAAAAvgAAAKoAAAC1AAAAvgAAALwAAAC8AAAAvgAAAMIAAADJAAAArQAAALEAAAC1AAAAxAAAAMMAAACxAAAAuAAAALAAAACSAAAArwAAALMAAAChAAAAogAAAK4AAAC8AAAAuwAAAKMAAAC7AAAAtAAAAJ8AAAC+AAAAuAAAAA==\"},\"shape\":[91],\"dtype\":\"int32\",\"order\":\"little\"}],[\"Wheelbase\",{\"type\":\"ndarray\",\"array\":{\"type\":\"bytes\",\"data\":\"ZgAAAHMAAABmAAAAagAAAG0AAABpAAAAbwAAAHQAAABsAAAAcgAAAG8AAABlAAAAZwAAAGUAAABsAAAAbgAAAG8AAAB0AAAAcQAAAGgAAABuAAAAYgAAAGEAAABoAAAAcAAAAGkAAABhAAAAYgAAAHEAAABaAAAAYgAAAGQAAABlAAAAZwAAAHcAAABqAAAAcgAAAF0AAABhAAAAZAAAAGcAAABrAAAAXgAAAGIAAABeAAAAaAAAAHEAAABnAAAAagAAAG0AAAB1AAAAYQAAAGIAAABnAAAAbgAAAGkAAABuAAAAXwAAAHEAAABiAAAAawAAAGAAAABnAAAAcAAAAGgAAABnAAAAaQAAAG4AAABvAAAAYQAAAGMAAABlAAAAZQAAAGwAAABvAAAAYwAAAGYAAABaAAAAYQAAAGYAAABdAAAAXgAAAGMAAABnAAAAcQAAAF0AAABzAAAAZwAAAGEAAABoAAAAaQAAAA==\"},\"shape\":[91],\"dtype\":\"int32\",\"order\":\"little\"}],[\"Width\",{\"type\":\"ndarray\",\"array\":{\"type\":\"bytes\",\"data\":\"RAAAAEcAAABDAAAARgAAAEUAAABFAAAASgAAAE4AAABJAAAASQAAAEoAAABCAAAARAAAAEoAAABHAAAASgAAAE4AAABNAAAASgAAAEQAAABFAAAAQgAAAEMAAABEAAAASAAAAEUAAABIAAAAQgAAAEoAAAA/AAAAQwAAAEQAAABEAAAARgAAAEgAAABHAAAATgAAAD8AAABDAAAARgAAAEMAAABDAAAAPwAAAEIAAABAAAAARQAAAEgAAABGAAAARwAAAEkAAABNAAAAQgAAAEIAAABFAAAASAAAAEMAAABFAAAAQQAAAEkAAABDAAAARgAAAEIAAABDAAAASgAAAEUAAABDAAAARgAAAEoAAABKAAAAQwAAAEIAAABCAAAASwAAAEgAAABKAAAAQwAAAEQAAAA8AAAAQQAAAEMAAAA/AAAAQQAAAEUAAABGAAAARwAAAD8AAABIAAAAQwAAAEIAAABDAAAARQAAAA==\"},\"shape\":[91],\"dtype\":\"int32\",\"order\":\"little\"}],[\"UTurn\",{\"type\":\"ndarray\",\"array\":{\"type\":\"bytes\",\"data\":\"JQAAACYAAAAlAAAAJQAAACcAAAApAAAAKgAAAC0AAAApAAAAKwAAACwAAAAmAAAAJwAAACsAAAAoAAAALAAAACoAAAAqAAAAKAAAACkAAAAsAAAAIAAAACYAAAAnAAAAKgAAACoAAAAoAAAAJAAAACgAAAAhAAAAJAAAACcAAAAoAAAAJgAAAC0AAAAoAAAAKwAAACIAAAAlAAAAJwAAACQAAAApAAAAIwAAACQAAAAiAAAAKQAAACoAAAAoAAAAJwAAACoAAAAtAAAAIgAAACQAAAAoAAAAJwAAACIAAAAlAAAAJAAAACYAAAAkAAAAKwAAACEAAAAoAAAAKQAAACkAAAAnAAAAKgAAACwAAAAqAAAAJwAAACMAAAAnAAAAKwAAACkAAAArAAAAJQAAACgAAAAgAAAAIwAAACUAAAAiAAAAJAAAACcAAAAmAAAAKQAAACIAAAAmAAAAIwAAACQAAAAlAAAAJgAAAA==\"},\"shape\":[91],\"dtype\":\"int32\",\"order\":\"little\"}],[\"RearSeatRoom\",{\"type\":\"ndarray\",\"array\":{\"type\":\"bytes\",\"data\":\"AAAAAACAOkAAAAAAAAA+QAAAAAAAADxAAAAAAAAAP0AAAAAAAAA7QAAAAAAAADxAAAAAAACAPkAAAAAAAIA+QAAAAAAAgDpAAAAAAACAQUAAAAAAAAA/QAAAAAAAADlAAAAAAAAAOkAAAAAAAAA5QAAAAAAAgDxAAAAAAACAPkAAAAAAAMBAQAAAAAAAgD1AAAAAAAAAP0AAAAAAAIA+QAAAAAAAAEJAAAAAAACAOkAAAAAAAIA6QAAAAAAAgD5AAAAAAACAOkAAAAAAAIA+QAAAAAAAADRAAAAAAACAOkAAAAAAAAA+QAAAAAAAADpAAAAAAAAAPEAAAAAAAIA7QAAAAAAAADhAAAAAAAAAN0AAAAAAAAA+QAAAAAAAgDtAAAAAAAAAPkAAAAAAAIA7QAAAAAAAgDhAAAAAAACAN0AAAAAAAAA8QAAAAAAAADxAAAAAAAAAOkAAAAAAAAA8QAAAAAAAgDdAAAAAAAAAP0AAAAAAAAA9QAAAAAAAgDtAAAAAAAAAOUAAAAAAAAA+QAAAAAAAgD9AAAAAAAAAO0AAAAAAAIA6QAAAAAAAgD1AAAAAAACAO0AAAAAAAAA6QAAAAAAAADtAAAAAAAAAM0AAAAAAAAA8QAAAAAAAADpAAAAAAACAO0AAAAAAAAA6QAAAAAAAgDxAAAAAAAAAO0AAAAAAAIA8QAAAAAAAADxAAAAAAAAAPEAAAAAAAIA+QAAAAAAAgD9AAAAAAACAOEAAAAAAAIA5QAAAAAAAADlAAAAAAAAAOUAAAAAAAIA8QAAAAAAAgD5AAAAAAACAOkAAAAAAAIA6QAAAAAAAgDdAAAAAAACAO0AAAAAAAAA7QAAAAAAAgDtAAAAAAAAAOEAAAAAAAAA3QAAAAAAAgDxAAAAAAACAQUAAAAAAAAA6QAAAAAAAAEFAAAAAAACAP0AAAAAAAAA6QAAAAAAAgD1AAAAAAAAAPkA=\"},\"shape\":[91],\"dtype\":\"float64\",\"order\":\"little\"}],[\"Weight\",{\"type\":\"ndarray\",\"array\":{\"type\":\"bytes\",\"data\":\"kQoAAOgNAAAvDQAATQ0AADgOAABACwAAjg0AAAkQAACnDQAAJA4AAF8PAAC6CQAA4QoAAKgMAAB7DAAAgw4AALkPAABGDwAAuw0AAA0MAADyDQAA3ggAAG4KAACaCwAAeQ4AAAgMAADdDgAA9wgAAKINAAA1BwAA4gkAAIIKAAAiCwAAlgoAAJcOAAD9DAAAbg8AAJ8GAACrCQAAMQsAAC4JAADgCwAAKQkAADwKAADtCAAARQsAAKAPAAC2DQAAuw0AAG8OAADXDwAAFQkAAIgJAACaCwAAlw4AAGgLAADFDQAAkgkAABoOAAD3CAAAkg4AAPEJAADqCwAABBAAAIAMAABeCwAASgsAAIMOAACODQAAUAoAAC4JAAAPCgAAqAwAAHoNAACnDQAA1woAAL8JAAD9BwAAugkAAA0MAACtBwAABwgAAIYLAADWCwAAyQ4AAMAIAAB4DwAAqQsAAPoKAACpCwAArQwAAA==\"},\"shape\":[91],\"dtype\":\"int32\",\"order\":\"little\"}],[\"Domestic\",{\"type\":\"ndarray\",\"array\":{\"type\":\"bytes\",\"data\":\"AAAAAAAAAAAAAAAAAAAAAAAAAAABAAAAAQAAAAEAAAABAAAAAQAAAAEAAAABAAAAAQAAAAEAAAABAAAAAQAAAAEAAAABAAAAAQAAAAEAAAABAAAAAQAAAAEAAAABAAAAAQAAAAEAAAABAAAAAQAAAAEAAAABAAAAAQAAAAEAAAABAAAAAQAAAAEAAAABAAAAAQAAAAAAAAAAAAAAAAAAAAAAAAAAAAAAAAAAAAAAAAAAAAAAAAAAAAAAAAAAAAAAAAAAAAEAAAABAAAAAAAAAAAAAAAAAAAAAAAAAAAAAAAAAAAAAQAAAAEAAAAAAAAAAAAAAAAAAAAAAAAAAAAAAAAAAAABAAAAAQAAAAEAAAABAAAAAQAAAAEAAAABAAAAAQAAAAEAAAABAAAAAAAAAAEAAAAAAAAAAAAAAAAAAAAAAAAAAAAAAAAAAAAAAAAAAAAAAAAAAAAAAAAAAAAAAAAAAAAAAAAAAAAAAA==\"},\"shape\":[91],\"dtype\":\"int32\",\"order\":\"little\"}]]}}},\"view\":{\"type\":\"object\",\"name\":\"CDSView\",\"id\":\"p1454\",\"attributes\":{\"filter\":{\"type\":\"object\",\"name\":\"AllIndices\",\"id\":\"p1455\"}}},\"glyph\":{\"type\":\"object\",\"name\":\"Scatter\",\"id\":\"p1450\",\"attributes\":{\"x\":{\"type\":\"field\",\"field\":\"Weight\"},\"y\":{\"type\":\"field\",\"field\":\"MidPrice\"},\"size\":{\"type\":\"value\",\"value\":9},\"line_color\":{\"type\":\"field\",\"field\":\"Type\",\"transform\":{\"type\":\"object\",\"name\":\"CategoricalColorMapper\",\"id\":\"p1443\",\"attributes\":{\"palette\":[\"#1f77b4\",\"#ff7f0e\",\"#2ca02c\",\"#d62728\",\"#9467bd\",\"#8c564b\"],\"factors\":[\"Compact\",\"Large\",\"Midsize\",\"Small\",\"Sporty\",\"Van\"]}}},\"fill_color\":{\"type\":\"field\",\"field\":\"Type\",\"transform\":{\"id\":\"p1443\"}},\"hatch_color\":{\"type\":\"field\",\"field\":\"Type\",\"transform\":{\"id\":\"p1443\"}}}},\"nonselection_glyph\":{\"type\":\"object\",\"name\":\"Scatter\",\"id\":\"p1451\",\"attributes\":{\"x\":{\"type\":\"field\",\"field\":\"Weight\"},\"y\":{\"type\":\"field\",\"field\":\"MidPrice\"},\"size\":{\"type\":\"value\",\"value\":9},\"line_color\":{\"type\":\"field\",\"field\":\"Type\",\"transform\":{\"id\":\"p1443\"}},\"line_alpha\":{\"type\":\"value\",\"value\":0.1},\"fill_color\":{\"type\":\"field\",\"field\":\"Type\",\"transform\":{\"id\":\"p1443\"}},\"fill_alpha\":{\"type\":\"value\",\"value\":0.1},\"hatch_color\":{\"type\":\"field\",\"field\":\"Type\",\"transform\":{\"id\":\"p1443\"}},\"hatch_alpha\":{\"type\":\"value\",\"value\":0.1}}},\"muted_glyph\":{\"type\":\"object\",\"name\":\"Scatter\",\"id\":\"p1452\",\"attributes\":{\"x\":{\"type\":\"field\",\"field\":\"Weight\"},\"y\":{\"type\":\"field\",\"field\":\"MidPrice\"},\"size\":{\"type\":\"value\",\"value\":9},\"line_color\":{\"type\":\"field\",\"field\":\"Type\",\"transform\":{\"id\":\"p1443\"}},\"line_alpha\":{\"type\":\"value\",\"value\":0.2},\"fill_color\":{\"type\":\"field\",\"field\":\"Type\",\"transform\":{\"id\":\"p1443\"}},\"fill_alpha\":{\"type\":\"value\",\"value\":0.2},\"hatch_color\":{\"type\":\"field\",\"field\":\"Type\",\"transform\":{\"id\":\"p1443\"}},\"hatch_alpha\":{\"type\":\"value\",\"value\":0.2}}}}}],\"toolbar\":{\"type\":\"object\",\"name\":\"Toolbar\",\"id\":\"p1417\",\"attributes\":{\"tools\":[{\"type\":\"object\",\"name\":\"PanTool\",\"id\":\"p1430\"},{\"type\":\"object\",\"name\":\"WheelZoomTool\",\"id\":\"p1431\",\"attributes\":{\"renderers\":\"auto\"}},{\"type\":\"object\",\"name\":\"BoxZoomTool\",\"id\":\"p1432\",\"attributes\":{\"dimensions\":\"both\",\"overlay\":{\"type\":\"object\",\"name\":\"BoxAnnotation\",\"id\":\"p1433\",\"attributes\":{\"syncable\":false,\"line_color\":\"black\",\"line_alpha\":1.0,\"line_width\":2,\"line_dash\":[4,4],\"fill_color\":\"lightgrey\",\"fill_alpha\":0.5,\"level\":\"overlay\",\"visible\":false,\"left\":{\"type\":\"number\",\"value\":\"nan\"},\"right\":{\"type\":\"number\",\"value\":\"nan\"},\"top\":{\"type\":\"number\",\"value\":\"nan\"},\"bottom\":{\"type\":\"number\",\"value\":\"nan\"},\"left_units\":\"canvas\",\"right_units\":\"canvas\",\"top_units\":\"canvas\",\"bottom_units\":\"canvas\",\"handles\":{\"type\":\"object\",\"name\":\"BoxInteractionHandles\",\"id\":\"p1439\",\"attributes\":{\"all\":{\"type\":\"object\",\"name\":\"AreaVisuals\",\"id\":\"p1438\",\"attributes\":{\"fill_color\":\"white\",\"hover_fill_color\":\"lightgray\"}}}}}}}},{\"type\":\"object\",\"name\":\"SaveTool\",\"id\":\"p1440\"},{\"type\":\"object\",\"name\":\"ResetTool\",\"id\":\"p1441\"},{\"type\":\"object\",\"name\":\"HelpTool\",\"id\":\"p1442\"}]}},\"left\":[{\"type\":\"object\",\"name\":\"LinearAxis\",\"id\":\"p1425\",\"attributes\":{\"ticker\":{\"type\":\"object\",\"name\":\"BasicTicker\",\"id\":\"p1426\",\"attributes\":{\"mantissas\":[1,2,5]}},\"formatter\":{\"type\":\"object\",\"name\":\"BasicTickFormatter\",\"id\":\"p1427\"},\"axis_label\":\"MidPrice\",\"major_label_policy\":{\"type\":\"object\",\"name\":\"AllLabels\",\"id\":\"p1428\"}}}],\"below\":[{\"type\":\"object\",\"name\":\"LinearAxis\",\"id\":\"p1420\",\"attributes\":{\"ticker\":{\"type\":\"object\",\"name\":\"BasicTicker\",\"id\":\"p1421\",\"attributes\":{\"mantissas\":[1,2,5]}},\"formatter\":{\"type\":\"object\",\"name\":\"BasicTickFormatter\",\"id\":\"p1422\"},\"axis_label\":\"Weight\",\"major_label_policy\":{\"type\":\"object\",\"name\":\"AllLabels\",\"id\":\"p1423\"}}}],\"center\":[{\"type\":\"object\",\"name\":\"Grid\",\"id\":\"p1424\",\"attributes\":{\"axis\":{\"id\":\"p1420\"}}},{\"type\":\"object\",\"name\":\"Grid\",\"id\":\"p1429\",\"attributes\":{\"dimension\":1,\"axis\":{\"id\":\"p1425\"}}},{\"type\":\"object\",\"name\":\"Legend\",\"id\":\"p1456\",\"attributes\":{\"location\":\"top_left\",\"title\":\"Car Type\",\"items\":[{\"type\":\"object\",\"name\":\"LegendItem\",\"id\":\"p1457\",\"attributes\":{\"label\":{\"type\":\"field\",\"field\":\"Type\"},\"renderers\":[{\"id\":\"p1453\"}]}}]}}]}},{\"type\":\"object\",\"name\":\"Div\",\"id\":\"p1458\",\"attributes\":{\"width\":600,\"text\":\"<p><strong>Figure:</strong> This plot visualizes the relationship between car Weight and MidPrice, categorized by car type. We can clearly notice that small cars are in general the lightest and the cheapest.</p>\"}}]}}]}};\n  const render_items = [{\"docid\":\"0efe0309-335b-49d6-8c93-93c12040dc0f\",\"roots\":{\"p1459\":\"b6f8ad81-19bd-4873-b0a8-841e15ce65b4\"},\"root_ids\":[\"p1459\"]}];\n  void root.Bokeh.embed.embed_items_notebook(docs_json, render_items);\n  }\n  if (root.Bokeh !== undefined) {\n    embed_document(root);\n  } else {\n    let attempts = 0;\n    const timer = setInterval(function(root) {\n      if (root.Bokeh !== undefined) {\n        clearInterval(timer);\n        embed_document(root);\n      } else {\n        attempts++;\n        if (attempts > 100) {\n          clearInterval(timer);\n          console.log(\"Bokeh: ERROR: Unable to run BokehJS code because BokehJS library is missing\");\n        }\n      }\n    }, 10, root)\n  }\n})(window);",
      "application/vnd.bokehjs_exec.v0+json": ""
     },
     "metadata": {
      "application/vnd.bokehjs_exec.v0+json": {
       "id": "p1459"
      }
     },
     "output_type": "display_data"
    }
   ],
   "source": [
    "from bokeh.plotting import figure, show\n",
    "from bokeh.models import ColumnDataSource, Div, Column\n",
    "from bokeh.transform import factor_cmap\n",
    "from bokeh.palettes import Category10\n",
    "from bokeh.layouts import column\n",
    "\n",
    "factors = sorted(cars['Type'].unique())\n",
    "palette = Category10[len(factors)]\n",
    "\n",
    "x, y = 'Weight', 'MidPrice'\n",
    "\n",
    "# Create scatterplot: Weight vs Price\n",
    "p = figure(title=f\"{x} vs {y}: Distinguishing Small Cars\", width=600, height=600)\n",
    "p.scatter(x=x, y=y, source=cars, size=9, legend_field='Type',\n",
    "          color=factor_cmap('Type', palette=palette, factors=factors))\n",
    "\n",
    "# Add axis labels\n",
    "p.xaxis.axis_label = x\n",
    "p.yaxis.axis_label = y\n",
    "\n",
    "# Customize legend\n",
    "p.legend.title = \"Car Type\"\n",
    "p.legend.location = \"top_left\"\n",
    "\n",
    "# Create the caption\n",
    "caption = Div(text=f\"<p><strong>Figure:</strong> This plot visualizes the relationship between car {x} and {y}, categorized by car type. \"\n",
    "                   \"We can clearly notice that small cars are in general the lightest and the cheapest.</p>\",\n",
    "              width=600)\n",
    "\n",
    "# Arrange the plot and caption together\n",
    "layout = column(p, caption)\n",
    "\n",
    "show(layout)\n",
    "\n"
   ]
  },
  {
   "cell_type": "markdown",
   "metadata": {
    "id": "yiv2MNCsAd2B"
   },
   "source": [
    "<div class=\"alert alert-success\">\n",
    "\n",
    "**Distinguish large cars and vans**\n",
    "\n",
    "Show a scatterplot that makes it easy to distinguish between large cars and vans. Which two variables do you pick?\n",
    "</div>"
   ]
  },
  {
   "cell_type": "code",
   "execution_count": 27,
   "metadata": {
    "colab": {
     "base_uri": "https://localhost:8080/",
     "height": 661
    },
    "id": "0dSSKxt8Ad2B",
    "outputId": "6f5648a4-2169-45d7-d451-33d929e01137"
   },
   "outputs": [
    {
     "data": {
      "text/html": [
       "\n",
       "  <div id=\"d8f3f1e8-c77d-4dd5-9d41-2361d5a06017\" data-root-id=\"p1534\" style=\"display: contents;\"></div>\n"
      ]
     },
     "metadata": {},
     "output_type": "display_data"
    },
    {
     "data": {
      "application/javascript": "(function(root) {\n  function embed_document(root) {\n  const docs_json = {\"3b0c2edc-0e9f-4202-85a3-0759ac16a5f0\":{\"version\":\"3.7.0\",\"title\":\"Bokeh Application\",\"roots\":[{\"type\":\"object\",\"name\":\"Column\",\"id\":\"p1534\",\"attributes\":{\"children\":[{\"type\":\"object\",\"name\":\"Figure\",\"id\":\"p1483\",\"attributes\":{\"x_range\":{\"type\":\"object\",\"name\":\"DataRange1d\",\"id\":\"p1484\"},\"y_range\":{\"type\":\"object\",\"name\":\"DataRange1d\",\"id\":\"p1485\"},\"x_scale\":{\"type\":\"object\",\"name\":\"LinearScale\",\"id\":\"p1493\"},\"y_scale\":{\"type\":\"object\",\"name\":\"LinearScale\",\"id\":\"p1494\"},\"title\":{\"type\":\"object\",\"name\":\"Title\",\"id\":\"p1486\",\"attributes\":{\"text\":\"Engine vs Tank: Distinguishing Large Cars and Vans\"}},\"renderers\":[{\"type\":\"object\",\"name\":\"GlyphRenderer\",\"id\":\"p1528\",\"attributes\":{\"data_source\":{\"type\":\"object\",\"name\":\"ColumnDataSource\",\"id\":\"p1519\",\"attributes\":{\"selected\":{\"type\":\"object\",\"name\":\"Selection\",\"id\":\"p1520\",\"attributes\":{\"indices\":[],\"line_indices\":[]}},\"selection_policy\":{\"type\":\"object\",\"name\":\"UnionRenderers\",\"id\":\"p1521\"},\"data\":{\"type\":\"map\",\"entries\":[[\"index\",{\"type\":\"ndarray\",\"array\":{\"type\":\"bytes\",\"data\":\"AAAAAAEAAAACAAAAAwAAAAQAAAAFAAAABgAAAAcAAAAIAAAACQAAAAoAAAALAAAADAAAAA0AAAAOAAAADwAAABAAAAARAAAAEgAAABMAAAAUAAAAFQAAABYAAAAXAAAAGAAAABkAAAAaAAAAGwAAABwAAAAdAAAAHgAAAB8AAAAgAAAAIQAAACIAAAAjAAAAJAAAACUAAAAmAAAAJwAAACgAAAApAAAAKgAAACsAAAAsAAAALQAAAC4AAAAvAAAAMAAAADEAAAAyAAAAMwAAADQAAAA1AAAANgAAADcAAAA4AAAAOQAAADoAAAA7AAAAPAAAAD0AAAA+AAAAPwAAAEAAAABBAAAAQgAAAEMAAABEAAAARQAAAEYAAABHAAAASAAAAEkAAABKAAAASwAAAEwAAABNAAAATgAAAE8AAABQAAAAUQAAAFIAAABTAAAAVAAAAFUAAABWAAAAVwAAAFgAAABZAAAAWgAAAA==\"},\"shape\":[91],\"dtype\":\"int32\",\"order\":\"little\"}],[\"Manufacturer\",{\"type\":\"ndarray\",\"array\":[\"Acura\",\"Acura\",\"Audi\",\"Audi\",\"BMW\",\"Buick\",\"Buick\",\"Buick\",\"Buick\",\"Cadillac\",\"Cadillac\",\"Chevrolet\",\"Chevrolet\",\"Chevrolet\",\"Chevrolet\",\"Chevrolet\",\"Chevrolet\",\"Chevrolet\",\"Chrylser\",\"Chrysler\",\"Chrysler\",\"Dodge\",\"Dodge\",\"Dodge\",\"Dodge\",\"Dodge\",\"Dodge\",\"Eagle\",\"Eagle\",\"Ford\",\"Ford\",\"Ford\",\"Ford\",\"Ford\",\"Ford\",\"Ford\",\"Ford\",\"Geo\",\"Geo\",\"Honda\",\"Honda\",\"Honda\",\"Hyundai\",\"Hyundai\",\"Hyundai\",\"Hyundai\",\"Infiniti\",\"Lexus\",\"Lexus\",\"Lincoln\",\"Lincoln\",\"Mazda\",\"Mazda\",\"Mazda\",\"Mazda\",\"Mercedes-Benz\",\"Mercedes-Benz\",\"Mercury\",\"Mercury\",\"Mitsubishi\",\"Mitsubishi\",\"Nissan\",\"Nissan\",\"Nissan\",\"Nissan\",\"Oldsmobile\",\"Oldsmobile\",\"Oldsmobile\",\"Oldsmobile\",\"Plymouth\",\"Pontiac\",\"Pontiac\",\"Pontiac\",\"Pontiac\",\"Pontiac\",\"Saab\",\"Saturn\",\"Subaru\",\"Subaru\",\"Subaru\",\"Suzuki\",\"Toyota\",\"Toyota\",\"Toyota\",\"Toyota\",\"Volkswagen\",\"Volkswagen\",\"Volkswagen\",\"Volkswagen\",\"Volvo\",\"Volvo\"],\"shape\":[91],\"dtype\":\"object\",\"order\":\"little\"}],[\"Model\",{\"type\":\"ndarray\",\"array\":[\"Integra\",\"Legend\",\"90\",\"100\",\"535i\",\"Century\",\"LeSabre\",\"Roadmaster\",\"Riviera\",\"DeVille\",\"Seville\",\"Cavalier\",\"Corsica\",\"Camaro\",\"Lumina\",\"Lumina_APV\",\"Astro\",\"Caprice\",\"Concorde\",\"LeBaron\",\"Imperial\",\"Colt\",\"Shadow\",\"Spirit\",\"Caravan\",\"Dynasty\",\"Stealth\",\"Summit\",\"Vision\",\"Festiva\",\"Escort\",\"Tempo\",\"Mustang\",\"Probe\",\"Aerostar\",\"Taurus\",\"Crown_Victoria\",\"Metro\",\"Storm\",\"Prelude\",\"Civic\",\"Accord\",\"Excel\",\"Elantra\",\"Scoupe\",\"Sonata\",\"Q45\",\"ES300\",\"SC300\",\"Continental\",\"Town_Car\",\"323\",\"Protege\",\"626\",\"MPV\",\"190E\",\"300E\",\"Capri\",\"Cougar\",\"Mirage\",\"Diamante\",\"Sentra\",\"Altima\",\"Quest\",\"Maxima\",\"Achieva\",\"Cutlass_Ciera\",\"Silhouette\",\"Eighty-Eight\",\"Laser\",\"LeMans\",\"Sunbird\",\"Firebird\",\"Grand_Prix\",\"Bonneville\",\"900\",\"SL\",\"Justy\",\"Loyale\",\"Legacy\",\"Swift\",\"Tercel\",\"Celica\",\"Camry\",\"Previa\",\"Fox\",\"Eurovan\",\"Passat\",\"Corrado\",\"240\",\"850\"],\"shape\":[91],\"dtype\":\"object\",\"order\":\"little\"}],[\"Type\",{\"type\":\"ndarray\",\"array\":[\"Small\",\"Midsize\",\"Compact\",\"Midsize\",\"Midsize\",\"Midsize\",\"Large\",\"Large\",\"Midsize\",\"Large\",\"Midsize\",\"Compact\",\"Compact\",\"Sporty\",\"Midsize\",\"Van\",\"Van\",\"Large\",\"Large\",\"Compact\",\"Large\",\"Small\",\"Small\",\"Compact\",\"Van\",\"Midsize\",\"Sporty\",\"Small\",\"Large\",\"Small\",\"Small\",\"Compact\",\"Sporty\",\"Sporty\",\"Van\",\"Midsize\",\"Large\",\"Small\",\"Sporty\",\"Sporty\",\"Small\",\"Compact\",\"Small\",\"Small\",\"Sporty\",\"Midsize\",\"Midsize\",\"Midsize\",\"Midsize\",\"Midsize\",\"Large\",\"Small\",\"Small\",\"Compact\",\"Van\",\"Compact\",\"Midsize\",\"Sporty\",\"Midsize\",\"Small\",\"Midsize\",\"Small\",\"Compact\",\"Van\",\"Midsize\",\"Compact\",\"Midsize\",\"Van\",\"Large\",\"Sporty\",\"Small\",\"Compact\",\"Sporty\",\"Midsize\",\"Large\",\"Compact\",\"Small\",\"Small\",\"Small\",\"Compact\",\"Small\",\"Small\",\"Sporty\",\"Midsize\",\"Van\",\"Small\",\"Van\",\"Compact\",\"Sporty\",\"Compact\",\"Midsize\"],\"shape\":[91],\"dtype\":\"object\",\"order\":\"little\"}],[\"MinPrice\",{\"type\":\"ndarray\",\"array\":{\"type\":\"bytes\",\"data\":\"zczMzMzMKUAzMzMzMzM9QGZmZmZm5jlAzczMzMzMPkAzMzMzM7M3QGZmZmZmZixAZmZmZmbmM0CamZmZmZk2QM3MzMzMTDpAAAAAAACAQEAAAAAAAMBCQAAAAAAAACFAzczMzMzMJkDNzMzMzMwqQM3MzMzMzCpAZmZmZmZmLUBmZmZmZmYtQAAAAAAAADJAZmZmZmZmMkAAAAAAAAAtQAAAAAAAgD1AmpmZmZmZH0DNzMzMzMwgQM3MzMzMzCdAMzMzMzMzK0CamZmZmZktQAAAAAAAgDJAmpmZmZmZH0AAAAAAAIAxQJqZmZmZmRtAzczMzMzMIEDNzMzMzMwkQJqZmZmZmSVAmpmZmZmZKUAAAAAAAAAtQDMzMzMzMy9AmpmZmZkZNEDNzMzMzMwaQAAAAAAAACdAAAAAAAAAMUDNzMzMzMwgQJqZmZmZmStAMzMzMzMzG0AAAAAAAAAiQDMzMzMzMyJAzczMzMzMKEAzMzMzM7NGQAAAAAAAgDtAmpmZmZlZQUBmZmZmZqZAQDMzMzMzM0FAmpmZmZmZHUDNzMzMzMwlQJqZmZmZmSxAmpmZmZmZMEAAAAAAAAA9QGZmZmZm5kVAmpmZmZmZKkDNzMzMzMwtQM3MzMzMzB5AZmZmZmZmNkBmZmZmZmYhQAAAAAAAACpAMzMzMzOzMEAAAAAAAAA1QAAAAAAAACpAZmZmZmZmLEAAAAAAAIAzQAAAAAAAgDNAzczMzMzMJkBmZmZmZmYgQM3MzMzMzCJAAAAAAAAALEDNzMzMzMwuQGZmZmZmZjNAzczMzMxMNEBmZmZmZmYiQDMzMzMzMx1AAAAAAAAAJUDNzMzMzEwwQDMzMzMzMx1AMzMzMzMzH0BmZmZmZmYsQGZmZmZmZi5AZmZmZmbmMkBmZmZmZmYhQJqZmZmZmTBAmpmZmZmZMUBmZmZmZuY2QM3MzMzMzDVAzczMzMzMOEA=\"},\"shape\":[91],\"dtype\":\"float64\",\"order\":\"little\"}],[\"MidPrice\",{\"type\":\"ndarray\",\"array\":{\"type\":\"bytes\",\"data\":\"zczMzMzML0AzMzMzM/NAQJqZmZmZGT1AmpmZmZnZQkAAAAAAAAA+QGZmZmZmZi9AzczMzMzMNEAzMzMzM7M3QM3MzMzMTDpAmpmZmZlZQUDNzMzMzAxEQM3MzMzMzCpAzczMzMzMJkAzMzMzMzMuQM3MzMzMzC9AzczMzMxMMECamZmZmZkwQM3MzMzMzDJAZmZmZmZmMkCamZmZmZkvQAAAAAAAgD1AZmZmZmZmIkCamZmZmZkmQJqZmZmZmSpAAAAAAAAAM0AzMzMzMzMvQM3MzMzMzDlAZmZmZmZmKEDNzMzMzEwzQJqZmZmZmR1AMzMzMzMzJECamZmZmZkmQM3MzMzMzC9AAAAAAAAALEBmZmZmZuYzQDMzMzMzMzRAZmZmZmbmNEDNzMzMzMwgQAAAAAAAAClAzczMzMzMM0AzMzMzMzMoQAAAAAAAgDFAAAAAAAAAIEAAAAAAAAAkQAAAAAAAACRAzczMzMzMK0AzMzMzM/NHQAAAAAAAADxAmpmZmZmZQUBmZmZmZiZBQM3MzMzMDEJAmpmZmZmZIEAzMzMzMzMnQAAAAAAAgDBAmpmZmZkZM0BmZmZmZuY/QDMzMzMz805AMzMzMzMzLEDNzMzMzMwtQJqZmZmZmSRAmpmZmZkZOkCamZmZmZknQGZmZmZmZi9AmpmZmZkZM0AAAAAAAIA1QAAAAAAAACtAzczMzMxMMEAAAAAAAIAzQDMzMzMzszRAzczMzMzMLEAAAAAAAAAiQDMzMzMzMyZAMzMzMzOzMUAAAAAAAIAyQGZmZmZmZjhAMzMzMzOzPEAzMzMzMzMmQM3MzMzMzCBAzczMzMzMJUAAAAAAAIAzQDMzMzMzMyFAmpmZmZmZI0BmZmZmZmYyQDMzMzMzMzJAMzMzMzOzNkAzMzMzMzMiQDMzMzMzszNAAAAAAAAANEDNzMzMzEw3QDMzMzMzszZAMzMzMzOzOkA=\"},\"shape\":[91],\"dtype\":\"float64\",\"order\":\"little\"}],[\"MaxPrice\",{\"type\":\"ndarray\",\"array\":{\"type\":\"bytes\",\"data\":\"zczMzMzMMkCamZmZmVlDQGZmZmZmJkBAzczMzMxMRkCamZmZmRlCQM3MzMzMTDFAMzMzMzOzNUBmZmZmZuY4QM3MzMzMTDpAZmZmZmYmQkCamZmZmVlFQM3MzMzMTDJAzczMzMzMJkDNzMzMzMwwQGZmZmZmZjJAAAAAAAAAMkCamZmZmZkyQJqZmZmZmTNAZmZmZmZmMkCamZmZmRkxQAAAAAAAgD1AMzMzMzMzJUBmZmZmZmYsQGZmZmZmZi1AZmZmZmZmOEBmZmZmZmYwQM3MzMzMjEBAAAAAAACAMEAzMzMzMzM1QJqZmZmZmR9AzczMzMzMJ0BmZmZmZmYoQAAAAAAAADVAZmZmZmZmLkDNzMzMzEw5QM3MzMzMzDhAMzMzMzOzNUAAAAAAAAAkQAAAAAAAACtAMzMzMzOzNkCamZmZmZkvQDMzMzMzMzVAZmZmZmZmIkAAAAAAAAAmQAAAAAAAACZAmpmZmZmZLkAzMzMzMzNJQGZmZmZmZjxAzczMzMzMQUBmZmZmZqZBQGZmZmZm5kJAMzMzMzMzIkCamZmZmZkoQDMzMzMzszJAMzMzMzOzNUAzMzMzM3NBQAAAAAAAAFRAAAAAAAAALkDNzMzMzMwtQM3MzMzMzClAZmZmZmbmPUDNzMzMzMwtQM3MzMzMTDJAAAAAAACANUAAAAAAAAA2QAAAAAAAACxAZmZmZmZmMkAAAAAAAIAzQGZmZmZm5jVAZmZmZmZmMUDNzMzMzMwjQJqZmZmZmSlAZmZmZmZmNUCamZmZmZk1QGZmZmZmZj1AzczMzMyMQkDNzMzMzMwpQAAAAAAAACNAmpmZmZmZJkAzMzMzM7M2QAAAAAAAACRAmpmZmZmZJ0CamZmZmZk2QDMzMzMzMzVAmpmZmZmZOkAAAAAAAAAjQDMzMzMzszZAZmZmZmZmNkAzMzMzM7M3QAAAAAAAgDdAAAAAAACAPEA=\"},\"shape\":[91],\"dtype\":\"float64\",\"order\":\"little\"}],[\"CityMpg\",{\"type\":\"ndarray\",\"array\":{\"type\":\"bytes\",\"data\":\"GQAAABIAAAAUAAAAEwAAABYAAAAWAAAAEwAAABAAAAATAAAAEAAAABAAAAAZAAAAGQAAABMAAAAVAAAAEgAAAA8AAAARAAAAFAAAABcAAAAUAAAAHQAAABcAAAAWAAAAEQAAABUAAAASAAAAHQAAABQAAAAfAAAAFwAAABYAAAAWAAAAGAAAAA8AAAAVAAAAEgAAAC4AAAAeAAAAGAAAACoAAAAYAAAAHQAAABYAAAAaAAAAFAAAABEAAAASAAAAEgAAABEAAAASAAAAHQAAABwAAAAaAAAAEgAAABQAAAATAAAAFwAAABMAAAAdAAAAEgAAAB0AAAAYAAAAEQAAABUAAAAYAAAAFwAAABIAAAATAAAAFwAAAB8AAAAXAAAAEwAAABMAAAATAAAAFAAAABwAAAAhAAAAGQAAABcAAAAnAAAAIAAAABkAAAAWAAAAEgAAABkAAAARAAAAFQAAABIAAAAVAAAAFAAAAA==\"},\"shape\":[91],\"dtype\":\"int32\",\"order\":\"little\"}],[\"HighwayMpg\",{\"type\":\"ndarray\",\"array\":{\"type\":\"bytes\",\"data\":\"HwAAABkAAAAaAAAAGgAAAB4AAAAfAAAAHAAAABkAAAAbAAAAGQAAABkAAAAkAAAAIgAAABwAAAAdAAAAFwAAABQAAAAaAAAAHAAAABwAAAAaAAAAIQAAAB0AAAAbAAAAFQAAABsAAAAYAAAAIQAAABwAAAAhAAAAHgAAABsAAAAdAAAAHgAAABQAAAAeAAAAGgAAADIAAAAkAAAAHwAAAC4AAAAfAAAAIQAAAB0AAAAiAAAAGwAAABYAAAAYAAAAFwAAABoAAAAaAAAAJQAAACQAAAAiAAAAGAAAAB0AAAAZAAAAGgAAABoAAAAhAAAAGAAAACEAAAAeAAAAFwAAABoAAAAfAAAAHwAAABcAAAAcAAAAHgAAACkAAAAfAAAAHAAAABsAAAAcAAAAGgAAACYAAAAlAAAAHgAAAB4AAAArAAAAJQAAACAAAAAdAAAAFgAAACEAAAAVAAAAHgAAABkAAAAcAAAAHAAAAA==\"},\"shape\":[91],\"dtype\":\"int32\",\"order\":\"little\"}],[\"AirBags\",{\"type\":\"ndarray\",\"array\":{\"type\":\"bytes\",\"data\":\"AAAAAAIAAAABAAAAAgAAAAEAAAABAAAAAQAAAAEAAAABAAAAAQAAAAIAAAAAAAAAAQAAAAIAAAAAAAAAAAAAAAAAAAABAAAAAgAAAAIAAAABAAAAAAAAAAEAAAABAAAAAQAAAAEAAAABAAAAAAAAAAIAAAAAAAAAAAAAAAAAAAABAAAAAQAAAAEAAAABAAAAAQAAAAAAAAABAAAAAgAAAAEAAAACAAAAAAAAAAAAAAAAAAAAAAAAAAEAAAABAAAAAgAAAAIAAAACAAAAAAAAAAAAAAABAAAAAAAAAAEAAAACAAAAAQAAAAAAAAAAAAAAAQAAAAEAAAABAAAAAAAAAAEAAAAAAAAAAQAAAAAAAAABAAAAAAAAAAAAAAAAAAAAAgAAAAAAAAACAAAAAQAAAAEAAAAAAAAAAAAAAAEAAAAAAAAAAQAAAAEAAAABAAAAAQAAAAAAAAAAAAAAAAAAAAAAAAABAAAAAgAAAA==\"},\"shape\":[91],\"dtype\":\"int32\",\"order\":\"little\"}],[\"DriveTrainType\",{\"type\":\"ndarray\",\"array\":{\"type\":\"bytes\",\"data\":\"AQAAAAEAAAABAAAAAQAAAAAAAAABAAAAAQAAAAAAAAABAAAAAQAAAAEAAAABAAAAAQAAAAAAAAABAAAAAQAAAAIAAAAAAAAAAQAAAAEAAAABAAAAAQAAAAEAAAABAAAAAgAAAAEAAAACAAAAAQAAAAEAAAABAAAAAQAAAAEAAAAAAAAAAQAAAAIAAAABAAAAAAAAAAEAAAABAAAAAQAAAAEAAAABAAAAAQAAAAEAAAABAAAAAQAAAAAAAAABAAAAAAAAAAEAAAAAAAAAAQAAAAEAAAABAAAAAgAAAAAAAAAAAAAAAQAAAAAAAAABAAAAAQAAAAEAAAABAAAAAQAAAAEAAAABAAAAAQAAAAEAAAABAAAAAgAAAAEAAAABAAAAAAAAAAEAAAABAAAAAQAAAAEAAAACAAAAAgAAAAIAAAABAAAAAQAAAAEAAAABAAAAAgAAAAEAAAABAAAAAQAAAAEAAAAAAAAAAQAAAA==\"},\"shape\":[91],\"dtype\":\"int32\",\"order\":\"little\"}],[\"Cylinders\",{\"type\":\"ndarray\",\"array\":{\"type\":\"bytes\",\"data\":\"AAAAAAAAEEAAAAAAAAAYQAAAAAAAABhAAAAAAAAAGEAAAAAAAAAQQAAAAAAAABBAAAAAAAAAGEAAAAAAAAAYQAAAAAAAABhAAAAAAAAAIEAAAAAAAAAgQAAAAAAAABBAAAAAAAAAEEAAAAAAAAAYQAAAAAAAABBAAAAAAAAAGEAAAAAAAAAYQAAAAAAAACBAAAAAAAAAGEAAAAAAAAAQQAAAAAAAABhAAAAAAAAAEEAAAAAAAAAQQAAAAAAAABBAAAAAAAAAGEAAAAAAAAAQQAAAAAAAABhAAAAAAAAAEEAAAAAAAAAYQAAAAAAAABBAAAAAAAAAEEAAAAAAAAAQQAAAAAAAABBAAAAAAAAAEEAAAAAAAAAYQAAAAAAAABhAAAAAAAAAIEAAAAAAAAAIQAAAAAAAABBAAAAAAAAAEEAAAAAAAAAQQAAAAAAAABBAAAAAAAAAEEAAAAAAAAAQQAAAAAAAABBAAAAAAAAAEEAAAAAAAAAgQAAAAAAAABhAAAAAAAAAGEAAAAAAAAAYQAAAAAAAACBAAAAAAAAAEEAAAAAAAAAQQAAAAAAAABBAAAAAAAAAGEAAAAAAAAAQQAAAAAAAABhAAAAAAAAAEEAAAAAAAAAYQAAAAAAAABBAAAAAAAAAGEAAAAAAAAAQQAAAAAAAABBAAAAAAAAAGEAAAAAAAAAYQAAAAAAAABBAAAAAAAAAEEAAAAAAAAAYQAAAAAAAABhAAAAAAAAAEEAAAAAAAAAQQAAAAAAAABBAAAAAAAAAGEAAAAAAAAAYQAAAAAAAABhAAAAAAAAAEEAAAAAAAAAQQAAAAAAAAAhAAAAAAAAAEEAAAAAAAAAQQAAAAAAAAAhAAAAAAAAAEEAAAAAAAAAQQAAAAAAAABBAAAAAAAAAEEAAAAAAAAAQQAAAAAAAABRAAAAAAAAAEEAAAAAAAAAYQAAAAAAAABBAAAAAAAAAFEA=\"},\"shape\":[91],\"dtype\":\"float64\",\"order\":\"little\"}],[\"Engine\",{\"type\":\"ndarray\",\"array\":{\"type\":\"bytes\",\"data\":\"zczMzMzM/D+amZmZmZkJQGZmZmZmZgZAZmZmZmZmBkAAAAAAAAAMQJqZmZmZmQFAZmZmZmZmDkDNzMzMzMwWQGZmZmZmZg5AmpmZmZmZE0BmZmZmZmYSQJqZmZmZmQFAmpmZmZmZAUAzMzMzMzMLQJqZmZmZmQFAZmZmZmZmDkAzMzMzMzMRQAAAAAAAABRAZmZmZmZmCkAAAAAAAAAIQGZmZmZmZgpAAAAAAAAA+D+amZmZmZkBQAAAAAAAAARAAAAAAAAACEAAAAAAAAAEQAAAAAAAAAhAAAAAAAAA+D8AAAAAAAAMQM3MzMzMzPQ/zczMzMzM/D9mZmZmZmYCQGZmZmZmZgJAAAAAAAAAAEAAAAAAAAAIQAAAAAAAAAhAZmZmZmZmEkAAAAAAAADwP5qZmZmZmfk/ZmZmZmZmAkAAAAAAAAD4P5qZmZmZmQFAAAAAAAAA+D/NzMzMzMz8PwAAAAAAAPg/AAAAAAAAAEAAAAAAAAASQAAAAAAAAAhAAAAAAAAACEBmZmZmZmYOQGZmZmZmZhJAmpmZmZmZ+T/NzMzMzMz8PwAAAAAAAARAAAAAAAAACEBmZmZmZmYCQJqZmZmZmQlAmpmZmZmZ+T9mZmZmZmYOQAAAAAAAAPg/AAAAAAAACECamZmZmZn5PzMzMzMzMwNAAAAAAAAACEAAAAAAAAAIQGZmZmZmZgJAmpmZmZmZAUBmZmZmZmYOQGZmZmZmZg5AzczMzMzM/D+amZmZmZn5PwAAAAAAAABAMzMzMzMzC0AzMzMzMzMLQGZmZmZmZg5AzczMzMzMAEBmZmZmZmb+PzMzMzMzM/M/zczMzMzM/D+amZmZmZkBQM3MzMzMzPQ/AAAAAAAA+D+amZmZmZkBQJqZmZmZmQFAMzMzMzMzA0DNzMzMzMz8PwAAAAAAAARAAAAAAAAAAEBmZmZmZmYGQGZmZmZmZgJAMzMzMzMzA0A=\"},\"shape\":[91],\"dtype\":\"float64\",\"order\":\"little\"}],[\"Horsepower\",{\"type\":\"ndarray\",\"array\":{\"type\":\"bytes\",\"data\":\"jAAAAMgAAACsAAAArAAAANAAAABuAAAAqgAAALQAAACqAAAAyAAAACcBAABuAAAAbgAAAKAAAABuAAAAqgAAAKUAAACqAAAAmQAAAI0AAACTAAAAXAAAAF0AAABkAAAAjgAAAGQAAAAsAQAAXAAAANYAAAA/AAAAfwAAAGAAAABpAAAAcwAAAJEAAACMAAAAvgAAADcAAABaAAAAoAAAAGYAAACMAAAAUQAAAHwAAABcAAAAgAAAABYBAAC5AAAA4QAAAKAAAADSAAAAUgAAAGcAAACkAAAAmwAAAIIAAADZAAAAZAAAAIwAAABcAAAAygAAAG4AAACWAAAAlwAAAKAAAACbAAAAbgAAAKoAAACqAAAAXAAAAEoAAABuAAAAoAAAAMgAAACqAAAAjAAAAFUAAABJAAAAWgAAAIIAAABGAAAAUgAAAIcAAACCAAAAigAAAFEAAABtAAAAhgAAALIAAAByAAAAqAAAAA==\"},\"shape\":[91],\"dtype\":\"int32\",\"order\":\"little\"}],[\"RPM\",{\"type\":\"ndarray\",\"array\":{\"type\":\"bytes\",\"data\":\"nBgAAHwVAAB8FQAAfBUAAEQWAABQFAAAwBIAAKAPAADAEgAABBAAAHAXAABQFAAAUBQAAPgRAABQFAAAwBIAAKAPAABoEAAAtBQAAIgTAADAEgAAcBcAAMASAADAEgAAiBMAAMASAABwFwAAcBcAAKgWAACIEwAAZBkAAGgQAAD4EQAAfBUAAMASAADAEgAAaBAAAEQWAAAYFQAAqBYAAAwXAADgFQAAfBUAAHAXAACuFQAAcBcAAHAXAABQFAAAcBcAADARAAD4EQAAiBMAAHwVAADgFQAAiBMAAOwTAAB8FQAAdhYAANgOAABwFwAAcBcAAHAXAADgFQAAwBIAAFAUAABwFwAAUBQAAMASAADAEgAAiBMAAOAVAABQFAAA+BEAAIgTAADAEgAAcBcAAIgTAADgFQAAUBQAAOAVAABwFwAAUBQAABgVAAAYFQAAiBMAAHwVAACUEQAAqBYAAKgWAAAYFQAAOBgAAA==\"},\"shape\":[91],\"dtype\":\"int32\",\"order\":\"little\"}],[\"EngineRev\",{\"type\":\"ndarray\",\"array\":{\"type\":\"bytes\",\"data\":\"SgsAAB8JAADoCAAA5wkAAPEJAAAFCgAAIgYAACgFAACaBgAA5gUAAMEHAABMCQAAaQoAAA0HAAAjCgAAmgYAAP4GAABGBQAAxgcAACoIAAD5BgAA1QwAACMKAADnCQAAsgcAAKEJAABICAAAyQkAALwHAABODAAAagkAAPUKAADtCAAAJAkAACAIAABdBwAAhwUAAKsOAACyDAAAJwsAAFoKAAAyCgAAlgoAALkKAADsCQAAHwkAAKMHAAAVCQAAzgkAACsHAAAwBwAAQgkAAKwIAADJCQAAwAgAAHkJAACsCAAAqwkAAMIGAADJCQAAoggAAIMJAABSCAAAEQgAAP0HAABMCQAABQoAAJoGAAAiBgAAOAkAADoMAABpCgAADQcAAGIHAAAdBgAAXgsAAGEIAAA7CwAALw0AABoJAAAgDQAAsQ0AAGUJAAAkCQAA0wkAAPYJAABjCwAAfQoAAFEJAACnCAAABgkAAA==\"},\"shape\":[91],\"dtype\":\"int32\",\"order\":\"little\"}],[\"ManTrans\",{\"type\":\"ndarray\",\"array\":{\"type\":\"bytes\",\"data\":\"AQAAAAEAAAABAAAAAQAAAAEAAAAAAAAAAAAAAAAAAAAAAAAAAAAAAAAAAAABAAAAAQAAAAEAAAAAAAAAAAAAAAAAAAAAAAAAAAAAAAAAAAAAAAAAAQAAAAEAAAABAAAAAAAAAAAAAAABAAAAAQAAAAAAAAABAAAAAQAAAAEAAAABAAAAAQAAAAEAAAAAAAAAAAAAAAEAAAABAAAAAQAAAAEAAAABAAAAAQAAAAEAAAABAAAAAQAAAAAAAAABAAAAAQAAAAAAAAAAAAAAAQAAAAEAAAABAAAAAAAAAAEAAAAAAAAAAQAAAAAAAAABAAAAAAAAAAEAAAABAAAAAAAAAAAAAAAAAAAAAAAAAAAAAAAAAAAAAQAAAAEAAAABAAAAAQAAAAEAAAAAAAAAAQAAAAEAAAABAAAAAQAAAAEAAAABAAAAAQAAAAEAAAABAAAAAQAAAAEAAAABAAAAAQAAAAEAAAABAAAAAQAAAA==\"},\"shape\":[91],\"dtype\":\"int32\",\"order\":\"little\"}],[\"Tank\",{\"type\":\"ndarray\",\"array\":{\"type\":\"bytes\",\"data\":\"ZmZmZmZmKkAAAAAAAAAyQGZmZmZm5jBAmpmZmZkZNUCamZmZmRk1QGZmZmZmZjBAAAAAAAAAMkAAAAAAAAA3QM3MzMzMzDJAAAAAAAAAMkAAAAAAAAA0QGZmZmZmZi5AMzMzMzMzL0AAAAAAAAAvQAAAAAAAgDBAAAAAAAAANEAAAAAAAAA7QAAAAAAAADdAAAAAAAAAMkAAAAAAAAAwQAAAAAAAADBAZmZmZmZmKkAAAAAAAAAsQAAAAAAAADBAAAAAAAAANEAAAAAAAAAwQM3MzMzMzDNAZmZmZmZmKkAAAAAAAAAyQAAAAAAAACRAZmZmZmZmKkDNzMzMzMwvQM3MzMzMzC5AAAAAAAAAL0AAAAAAAAA1QAAAAAAAADBAAAAAAAAANEAzMzMzMzMlQM3MzMzMzChAzczMzMzML0DNzMzMzMwnQAAAAAAAADFAzczMzMzMJ0BmZmZmZmYrQM3MzMzMzCdAMzMzMzMzMUAAAAAAAIA2QAAAAAAAgDJAmpmZmZmZNEBmZmZmZmYyQAAAAAAAADRAZmZmZmZmKkAAAAAAAAAtQAAAAAAAAC9AmpmZmZmZM0AAAAAAAAAtQAAAAAAAgDJAMzMzMzMzJkAAAAAAAAAyQGZmZmZmZipAAAAAAAAAM0BmZmZmZmYqQM3MzMzMzC9AAAAAAAAANEAAAAAAAIAyQGZmZmZmZi5AAAAAAACAMEAAAAAAAAA0QAAAAAAAADJAzczMzMzML0BmZmZmZmYqQGZmZmZmZi5AAAAAAAAAL0AAAAAAAIAwQAAAAAAAADJAAAAAAAAAMkCamZmZmZkpQGZmZmZmZiJAzczMzMzML0DNzMzMzMwvQDMzMzMzMyVAzczMzMzMJ0DNzMzMzMwvQAAAAAAAgDJAzczMzMzMM0DNzMzMzMwoQJqZmZmZGTVAAAAAAACAMkAAAAAAAIAyQJqZmZmZmS9AzczMzMxMM0A=\"},\"shape\":[91],\"dtype\":\"float64\",\"order\":\"little\"}],[\"Passenger\",{\"type\":\"ndarray\",\"array\":{\"type\":\"bytes\",\"data\":\"BQAAAAUAAAAFAAAABgAAAAQAAAAGAAAABgAAAAYAAAAFAAAABgAAAAUAAAAFAAAABQAAAAQAAAAGAAAABwAAAAgAAAAGAAAABgAAAAYAAAAGAAAABQAAAAUAAAAGAAAABwAAAAYAAAAEAAAABQAAAAYAAAAEAAAABQAAAAUAAAAEAAAABAAAAAcAAAAFAAAABgAAAAQAAAAEAAAABAAAAAQAAAAEAAAABQAAAAUAAAAEAAAABQAAAAUAAAAFAAAABAAAAAYAAAAGAAAABAAAAAUAAAAFAAAABwAAAAUAAAAFAAAABAAAAAUAAAAFAAAABQAAAAUAAAAFAAAABwAAAAUAAAAFAAAABQAAAAcAAAAGAAAABAAAAAQAAAAFAAAABAAAAAUAAAAGAAAABQAAAAUAAAAEAAAABQAAAAUAAAAEAAAABQAAAAQAAAAFAAAABwAAAAQAAAAHAAAABQAAAAQAAAAFAAAABQAAAA==\"},\"shape\":[91],\"dtype\":\"int32\",\"order\":\"little\"}],[\"Length\",{\"type\":\"ndarray\",\"array\":{\"type\":\"bytes\",\"data\":\"sQAAAMMAAAC0AAAAwQAAALoAAAC9AAAAyAAAANgAAADGAAAAzgAAAMwAAAC2AAAAuAAAAMEAAADGAAAAsgAAAMIAAADWAAAAywAAALcAAADLAAAArgAAAKwAAAC1AAAArwAAAMAAAAC0AAAArgAAAMoAAACNAAAAqwAAALEAAAC0AAAAswAAALAAAADAAAAA1AAAAJcAAACkAAAArwAAAK0AAAC5AAAAqAAAAKwAAACmAAAAuAAAAMgAAAC8AAAAvwAAAM0AAADbAAAApAAAAKwAAAC4AAAAvgAAAK8AAAC7AAAApgAAAMcAAACsAAAAvgAAAKoAAAC1AAAAvgAAALwAAAC8AAAAvgAAAMIAAADJAAAArQAAALEAAAC1AAAAxAAAAMMAAACxAAAAuAAAALAAAACSAAAArwAAALMAAAChAAAAogAAAK4AAAC8AAAAuwAAAKMAAAC7AAAAtAAAAJ8AAAC+AAAAuAAAAA==\"},\"shape\":[91],\"dtype\":\"int32\",\"order\":\"little\"}],[\"Wheelbase\",{\"type\":\"ndarray\",\"array\":{\"type\":\"bytes\",\"data\":\"ZgAAAHMAAABmAAAAagAAAG0AAABpAAAAbwAAAHQAAABsAAAAcgAAAG8AAABlAAAAZwAAAGUAAABsAAAAbgAAAG8AAAB0AAAAcQAAAGgAAABuAAAAYgAAAGEAAABoAAAAcAAAAGkAAABhAAAAYgAAAHEAAABaAAAAYgAAAGQAAABlAAAAZwAAAHcAAABqAAAAcgAAAF0AAABhAAAAZAAAAGcAAABrAAAAXgAAAGIAAABeAAAAaAAAAHEAAABnAAAAagAAAG0AAAB1AAAAYQAAAGIAAABnAAAAbgAAAGkAAABuAAAAXwAAAHEAAABiAAAAawAAAGAAAABnAAAAcAAAAGgAAABnAAAAaQAAAG4AAABvAAAAYQAAAGMAAABlAAAAZQAAAGwAAABvAAAAYwAAAGYAAABaAAAAYQAAAGYAAABdAAAAXgAAAGMAAABnAAAAcQAAAF0AAABzAAAAZwAAAGEAAABoAAAAaQAAAA==\"},\"shape\":[91],\"dtype\":\"int32\",\"order\":\"little\"}],[\"Width\",{\"type\":\"ndarray\",\"array\":{\"type\":\"bytes\",\"data\":\"RAAAAEcAAABDAAAARgAAAEUAAABFAAAASgAAAE4AAABJAAAASQAAAEoAAABCAAAARAAAAEoAAABHAAAASgAAAE4AAABNAAAASgAAAEQAAABFAAAAQgAAAEMAAABEAAAASAAAAEUAAABIAAAAQgAAAEoAAAA/AAAAQwAAAEQAAABEAAAARgAAAEgAAABHAAAATgAAAD8AAABDAAAARgAAAEMAAABDAAAAPwAAAEIAAABAAAAARQAAAEgAAABGAAAARwAAAEkAAABNAAAAQgAAAEIAAABFAAAASAAAAEMAAABFAAAAQQAAAEkAAABDAAAARgAAAEIAAABDAAAASgAAAEUAAABDAAAARgAAAEoAAABKAAAAQwAAAEIAAABCAAAASwAAAEgAAABKAAAAQwAAAEQAAAA8AAAAQQAAAEMAAAA/AAAAQQAAAEUAAABGAAAARwAAAD8AAABIAAAAQwAAAEIAAABDAAAARQAAAA==\"},\"shape\":[91],\"dtype\":\"int32\",\"order\":\"little\"}],[\"UTurn\",{\"type\":\"ndarray\",\"array\":{\"type\":\"bytes\",\"data\":\"JQAAACYAAAAlAAAAJQAAACcAAAApAAAAKgAAAC0AAAApAAAAKwAAACwAAAAmAAAAJwAAACsAAAAoAAAALAAAACoAAAAqAAAAKAAAACkAAAAsAAAAIAAAACYAAAAnAAAAKgAAACoAAAAoAAAAJAAAACgAAAAhAAAAJAAAACcAAAAoAAAAJgAAAC0AAAAoAAAAKwAAACIAAAAlAAAAJwAAACQAAAApAAAAIwAAACQAAAAiAAAAKQAAACoAAAAoAAAAJwAAACoAAAAtAAAAIgAAACQAAAAoAAAAJwAAACIAAAAlAAAAJAAAACYAAAAkAAAAKwAAACEAAAAoAAAAKQAAACkAAAAnAAAAKgAAACwAAAAqAAAAJwAAACMAAAAnAAAAKwAAACkAAAArAAAAJQAAACgAAAAgAAAAIwAAACUAAAAiAAAAJAAAACcAAAAmAAAAKQAAACIAAAAmAAAAIwAAACQAAAAlAAAAJgAAAA==\"},\"shape\":[91],\"dtype\":\"int32\",\"order\":\"little\"}],[\"RearSeatRoom\",{\"type\":\"ndarray\",\"array\":{\"type\":\"bytes\",\"data\":\"AAAAAACAOkAAAAAAAAA+QAAAAAAAADxAAAAAAAAAP0AAAAAAAAA7QAAAAAAAADxAAAAAAACAPkAAAAAAAIA+QAAAAAAAgDpAAAAAAACAQUAAAAAAAAA/QAAAAAAAADlAAAAAAAAAOkAAAAAAAAA5QAAAAAAAgDxAAAAAAACAPkAAAAAAAMBAQAAAAAAAgD1AAAAAAAAAP0AAAAAAAIA+QAAAAAAAAEJAAAAAAACAOkAAAAAAAIA6QAAAAAAAgD5AAAAAAACAOkAAAAAAAIA+QAAAAAAAADRAAAAAAACAOkAAAAAAAAA+QAAAAAAAADpAAAAAAAAAPEAAAAAAAIA7QAAAAAAAADhAAAAAAAAAN0AAAAAAAAA+QAAAAAAAgDtAAAAAAAAAPkAAAAAAAIA7QAAAAAAAgDhAAAAAAACAN0AAAAAAAAA8QAAAAAAAADxAAAAAAAAAOkAAAAAAAAA8QAAAAAAAgDdAAAAAAAAAP0AAAAAAAAA9QAAAAAAAgDtAAAAAAAAAOUAAAAAAAAA+QAAAAAAAgD9AAAAAAAAAO0AAAAAAAIA6QAAAAAAAgD1AAAAAAACAO0AAAAAAAAA6QAAAAAAAADtAAAAAAAAAM0AAAAAAAAA8QAAAAAAAADpAAAAAAACAO0AAAAAAAAA6QAAAAAAAgDxAAAAAAAAAO0AAAAAAAIA8QAAAAAAAADxAAAAAAAAAPEAAAAAAAIA+QAAAAAAAgD9AAAAAAACAOEAAAAAAAIA5QAAAAAAAADlAAAAAAAAAOUAAAAAAAIA8QAAAAAAAgD5AAAAAAACAOkAAAAAAAIA6QAAAAAAAgDdAAAAAAACAO0AAAAAAAAA7QAAAAAAAgDtAAAAAAAAAOEAAAAAAAAA3QAAAAAAAgDxAAAAAAACAQUAAAAAAAAA6QAAAAAAAAEFAAAAAAACAP0AAAAAAAAA6QAAAAAAAgD1AAAAAAAAAPkA=\"},\"shape\":[91],\"dtype\":\"float64\",\"order\":\"little\"}],[\"Weight\",{\"type\":\"ndarray\",\"array\":{\"type\":\"bytes\",\"data\":\"kQoAAOgNAAAvDQAATQ0AADgOAABACwAAjg0AAAkQAACnDQAAJA4AAF8PAAC6CQAA4QoAAKgMAAB7DAAAgw4AALkPAABGDwAAuw0AAA0MAADyDQAA3ggAAG4KAACaCwAAeQ4AAAgMAADdDgAA9wgAAKINAAA1BwAA4gkAAIIKAAAiCwAAlgoAAJcOAAD9DAAAbg8AAJ8GAACrCQAAMQsAAC4JAADgCwAAKQkAADwKAADtCAAARQsAAKAPAAC2DQAAuw0AAG8OAADXDwAAFQkAAIgJAACaCwAAlw4AAGgLAADFDQAAkgkAABoOAAD3CAAAkg4AAPEJAADqCwAABBAAAIAMAABeCwAASgsAAIMOAACODQAAUAoAAC4JAAAPCgAAqAwAAHoNAACnDQAA1woAAL8JAAD9BwAAugkAAA0MAACtBwAABwgAAIYLAADWCwAAyQ4AAMAIAAB4DwAAqQsAAPoKAACpCwAArQwAAA==\"},\"shape\":[91],\"dtype\":\"int32\",\"order\":\"little\"}],[\"Domestic\",{\"type\":\"ndarray\",\"array\":{\"type\":\"bytes\",\"data\":\"AAAAAAAAAAAAAAAAAAAAAAAAAAABAAAAAQAAAAEAAAABAAAAAQAAAAEAAAABAAAAAQAAAAEAAAABAAAAAQAAAAEAAAABAAAAAQAAAAEAAAABAAAAAQAAAAEAAAABAAAAAQAAAAEAAAABAAAAAQAAAAEAAAABAAAAAQAAAAEAAAABAAAAAQAAAAEAAAABAAAAAQAAAAAAAAAAAAAAAAAAAAAAAAAAAAAAAAAAAAAAAAAAAAAAAAAAAAAAAAAAAAAAAAAAAAEAAAABAAAAAAAAAAAAAAAAAAAAAAAAAAAAAAAAAAAAAQAAAAEAAAAAAAAAAAAAAAAAAAAAAAAAAAAAAAAAAAABAAAAAQAAAAEAAAABAAAAAQAAAAEAAAABAAAAAQAAAAEAAAABAAAAAAAAAAEAAAAAAAAAAAAAAAAAAAAAAAAAAAAAAAAAAAAAAAAAAAAAAAAAAAAAAAAAAAAAAAAAAAAAAAAAAAAAAA==\"},\"shape\":[91],\"dtype\":\"int32\",\"order\":\"little\"}]]}}},\"view\":{\"type\":\"object\",\"name\":\"CDSView\",\"id\":\"p1529\",\"attributes\":{\"filter\":{\"type\":\"object\",\"name\":\"AllIndices\",\"id\":\"p1530\"}}},\"glyph\":{\"type\":\"object\",\"name\":\"Scatter\",\"id\":\"p1525\",\"attributes\":{\"x\":{\"type\":\"field\",\"field\":\"Engine\"},\"y\":{\"type\":\"field\",\"field\":\"Tank\"},\"size\":{\"type\":\"value\",\"value\":9},\"line_color\":{\"type\":\"field\",\"field\":\"Type\",\"transform\":{\"type\":\"object\",\"name\":\"CategoricalColorMapper\",\"id\":\"p1518\",\"attributes\":{\"palette\":[\"#1f77b4\",\"#ff7f0e\",\"#2ca02c\",\"#d62728\",\"#9467bd\",\"#8c564b\"],\"factors\":[\"Compact\",\"Large\",\"Midsize\",\"Small\",\"Sporty\",\"Van\"]}}},\"fill_color\":{\"type\":\"field\",\"field\":\"Type\",\"transform\":{\"id\":\"p1518\"}},\"hatch_color\":{\"type\":\"field\",\"field\":\"Type\",\"transform\":{\"id\":\"p1518\"}}}},\"nonselection_glyph\":{\"type\":\"object\",\"name\":\"Scatter\",\"id\":\"p1526\",\"attributes\":{\"x\":{\"type\":\"field\",\"field\":\"Engine\"},\"y\":{\"type\":\"field\",\"field\":\"Tank\"},\"size\":{\"type\":\"value\",\"value\":9},\"line_color\":{\"type\":\"field\",\"field\":\"Type\",\"transform\":{\"id\":\"p1518\"}},\"line_alpha\":{\"type\":\"value\",\"value\":0.1},\"fill_color\":{\"type\":\"field\",\"field\":\"Type\",\"transform\":{\"id\":\"p1518\"}},\"fill_alpha\":{\"type\":\"value\",\"value\":0.1},\"hatch_color\":{\"type\":\"field\",\"field\":\"Type\",\"transform\":{\"id\":\"p1518\"}},\"hatch_alpha\":{\"type\":\"value\",\"value\":0.1}}},\"muted_glyph\":{\"type\":\"object\",\"name\":\"Scatter\",\"id\":\"p1527\",\"attributes\":{\"x\":{\"type\":\"field\",\"field\":\"Engine\"},\"y\":{\"type\":\"field\",\"field\":\"Tank\"},\"size\":{\"type\":\"value\",\"value\":9},\"line_color\":{\"type\":\"field\",\"field\":\"Type\",\"transform\":{\"id\":\"p1518\"}},\"line_alpha\":{\"type\":\"value\",\"value\":0.2},\"fill_color\":{\"type\":\"field\",\"field\":\"Type\",\"transform\":{\"id\":\"p1518\"}},\"fill_alpha\":{\"type\":\"value\",\"value\":0.2},\"hatch_color\":{\"type\":\"field\",\"field\":\"Type\",\"transform\":{\"id\":\"p1518\"}},\"hatch_alpha\":{\"type\":\"value\",\"value\":0.2}}}}}],\"toolbar\":{\"type\":\"object\",\"name\":\"Toolbar\",\"id\":\"p1492\",\"attributes\":{\"tools\":[{\"type\":\"object\",\"name\":\"PanTool\",\"id\":\"p1505\"},{\"type\":\"object\",\"name\":\"WheelZoomTool\",\"id\":\"p1506\",\"attributes\":{\"renderers\":\"auto\"}},{\"type\":\"object\",\"name\":\"BoxZoomTool\",\"id\":\"p1507\",\"attributes\":{\"dimensions\":\"both\",\"overlay\":{\"type\":\"object\",\"name\":\"BoxAnnotation\",\"id\":\"p1508\",\"attributes\":{\"syncable\":false,\"line_color\":\"black\",\"line_alpha\":1.0,\"line_width\":2,\"line_dash\":[4,4],\"fill_color\":\"lightgrey\",\"fill_alpha\":0.5,\"level\":\"overlay\",\"visible\":false,\"left\":{\"type\":\"number\",\"value\":\"nan\"},\"right\":{\"type\":\"number\",\"value\":\"nan\"},\"top\":{\"type\":\"number\",\"value\":\"nan\"},\"bottom\":{\"type\":\"number\",\"value\":\"nan\"},\"left_units\":\"canvas\",\"right_units\":\"canvas\",\"top_units\":\"canvas\",\"bottom_units\":\"canvas\",\"handles\":{\"type\":\"object\",\"name\":\"BoxInteractionHandles\",\"id\":\"p1514\",\"attributes\":{\"all\":{\"type\":\"object\",\"name\":\"AreaVisuals\",\"id\":\"p1513\",\"attributes\":{\"fill_color\":\"white\",\"hover_fill_color\":\"lightgray\"}}}}}}}},{\"type\":\"object\",\"name\":\"SaveTool\",\"id\":\"p1515\"},{\"type\":\"object\",\"name\":\"ResetTool\",\"id\":\"p1516\"},{\"type\":\"object\",\"name\":\"HelpTool\",\"id\":\"p1517\"}]}},\"left\":[{\"type\":\"object\",\"name\":\"LinearAxis\",\"id\":\"p1500\",\"attributes\":{\"ticker\":{\"type\":\"object\",\"name\":\"BasicTicker\",\"id\":\"p1501\",\"attributes\":{\"mantissas\":[1,2,5]}},\"formatter\":{\"type\":\"object\",\"name\":\"BasicTickFormatter\",\"id\":\"p1502\"},\"axis_label\":\"Tank\",\"major_label_policy\":{\"type\":\"object\",\"name\":\"AllLabels\",\"id\":\"p1503\"}}}],\"below\":[{\"type\":\"object\",\"name\":\"LinearAxis\",\"id\":\"p1495\",\"attributes\":{\"ticker\":{\"type\":\"object\",\"name\":\"BasicTicker\",\"id\":\"p1496\",\"attributes\":{\"mantissas\":[1,2,5]}},\"formatter\":{\"type\":\"object\",\"name\":\"BasicTickFormatter\",\"id\":\"p1497\"},\"axis_label\":\"Engine\",\"major_label_policy\":{\"type\":\"object\",\"name\":\"AllLabels\",\"id\":\"p1498\"}}}],\"center\":[{\"type\":\"object\",\"name\":\"Grid\",\"id\":\"p1499\",\"attributes\":{\"axis\":{\"id\":\"p1495\"}}},{\"type\":\"object\",\"name\":\"Grid\",\"id\":\"p1504\",\"attributes\":{\"dimension\":1,\"axis\":{\"id\":\"p1500\"}}},{\"type\":\"object\",\"name\":\"Legend\",\"id\":\"p1531\",\"attributes\":{\"location\":\"top_left\",\"title\":\"Car Type\",\"items\":[{\"type\":\"object\",\"name\":\"LegendItem\",\"id\":\"p1532\",\"attributes\":{\"label\":{\"type\":\"field\",\"field\":\"Type\"},\"renderers\":[{\"id\":\"p1528\"}]}}]}}]}},{\"type\":\"object\",\"name\":\"Div\",\"id\":\"p1533\",\"attributes\":{\"width\":600,\"text\":\"<p><strong>Figure:</strong> This plot visualizes the relationship between Engine and Tank, categorized by car type. Lerge cars have larger engine size than Vans</p>\"}}]}}]}};\n  const render_items = [{\"docid\":\"3b0c2edc-0e9f-4202-85a3-0759ac16a5f0\",\"roots\":{\"p1534\":\"d8f3f1e8-c77d-4dd5-9d41-2361d5a06017\"},\"root_ids\":[\"p1534\"]}];\n  void root.Bokeh.embed.embed_items_notebook(docs_json, render_items);\n  }\n  if (root.Bokeh !== undefined) {\n    embed_document(root);\n  } else {\n    let attempts = 0;\n    const timer = setInterval(function(root) {\n      if (root.Bokeh !== undefined) {\n        clearInterval(timer);\n        embed_document(root);\n      } else {\n        attempts++;\n        if (attempts > 100) {\n          clearInterval(timer);\n          console.log(\"Bokeh: ERROR: Unable to run BokehJS code because BokehJS library is missing\");\n        }\n      }\n    }, 10, root)\n  }\n})(window);",
      "application/vnd.bokehjs_exec.v0+json": ""
     },
     "metadata": {
      "application/vnd.bokehjs_exec.v0+json": {
       "id": "p1534"
      }
     },
     "output_type": "display_data"
    }
   ],
   "source": [
    "from bokeh.plotting import figure, show\n",
    "from bokeh.models import ColumnDataSource, Div, Column\n",
    "from bokeh.transform import factor_cmap\n",
    "from bokeh.palettes import Category10\n",
    "from bokeh.layouts import column\n",
    "\n",
    "\n",
    "x, y = 'Engine', 'Tank'\n",
    "\n",
    "# Create scatterplot: Weight vs Price\n",
    "p = figure(title=f\"{x} vs {y}: Distinguishing Large Cars and Vans\", width=600, height=600)\n",
    "p.scatter(x=x, y=y, source=cars, size=9, legend_field='Type',\n",
    "          color=factor_cmap('Type', palette=palette, factors=factors))\n",
    "\n",
    "# Add axis labels\n",
    "p.xaxis.axis_label = x\n",
    "p.yaxis.axis_label = y\n",
    "\n",
    "# Customize legend\n",
    "p.legend.title = \"Car Type\"\n",
    "p.legend.location = \"top_left\"\n",
    "\n",
    "# Create the caption\n",
    "caption = Div(text=f\"<p><strong>Figure:</strong> This plot visualizes the relationship between {x} and {y}, categorized by car type. \"\n",
    "                   \"Lerge cars have larger engine size than Vans</p>\",\n",
    "              width=600)\n",
    "\n",
    "# Arrange the plot and caption together\n",
    "layout = column(p, caption)\n",
    "\n",
    "show(layout)\n",
    "\n"
   ]
  }
 ],
 "metadata": {
  "colab": {
   "provenance": []
  },
  "kernelspec": {
   "display_name": "venv",
   "language": "python",
   "name": "python3"
  },
  "language_info": {
   "codemirror_mode": {
    "name": "ipython",
    "version": 3
   },
   "file_extension": ".py",
   "mimetype": "text/x-python",
   "name": "python",
   "nbconvert_exporter": "python",
   "pygments_lexer": "ipython3",
   "version": "3.11.7"
  }
 },
 "nbformat": 4,
 "nbformat_minor": 0
}
